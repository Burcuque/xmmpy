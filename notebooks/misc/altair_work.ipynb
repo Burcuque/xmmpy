{
 "cells": [
  {
   "cell_type": "code",
   "execution_count": 2,
   "metadata": {},
   "outputs": [],
   "source": [
    "import pandas as pd\n",
    "import altair as alt\n",
    "import numpy as np"
   ]
  },
  {
   "cell_type": "code",
   "execution_count": 14,
   "metadata": {},
   "outputs": [
    {
     "data": {
      "text/html": [
       "<div>\n",
       "<style scoped>\n",
       "    .dataframe tbody tr th:only-of-type {\n",
       "        vertical-align: middle;\n",
       "    }\n",
       "\n",
       "    .dataframe tbody tr th {\n",
       "        vertical-align: top;\n",
       "    }\n",
       "\n",
       "    .dataframe thead th {\n",
       "        text-align: right;\n",
       "    }\n",
       "</style>\n",
       "<table border=\"1\" class=\"dataframe\">\n",
       "  <thead>\n",
       "    <tr style=\"text-align: right;\">\n",
       "      <th></th>\n",
       "      <th>id</th>\n",
       "      <th>a1</th>\n",
       "      <th>a2</th>\n",
       "      <th>a3</th>\n",
       "      <th>b1</th>\n",
       "      <th>b2</th>\n",
       "      <th>b3</th>\n",
       "    </tr>\n",
       "  </thead>\n",
       "  <tbody>\n",
       "    <tr>\n",
       "      <th>0</th>\n",
       "      <td>0</td>\n",
       "      <td>0.000000</td>\n",
       "      <td>1.000000</td>\n",
       "      <td>2.000000</td>\n",
       "      <td>5.000000</td>\n",
       "      <td>10.000000</td>\n",
       "      <td>20.000000</td>\n",
       "    </tr>\n",
       "    <tr>\n",
       "      <th>1</th>\n",
       "      <td>1</td>\n",
       "      <td>0.555556</td>\n",
       "      <td>1.555556</td>\n",
       "      <td>2.555556</td>\n",
       "      <td>4.444444</td>\n",
       "      <td>8.888889</td>\n",
       "      <td>17.777778</td>\n",
       "    </tr>\n",
       "    <tr>\n",
       "      <th>2</th>\n",
       "      <td>2</td>\n",
       "      <td>1.111111</td>\n",
       "      <td>2.111111</td>\n",
       "      <td>3.111111</td>\n",
       "      <td>3.888889</td>\n",
       "      <td>7.777778</td>\n",
       "      <td>15.555556</td>\n",
       "    </tr>\n",
       "    <tr>\n",
       "      <th>3</th>\n",
       "      <td>3</td>\n",
       "      <td>1.666667</td>\n",
       "      <td>2.666667</td>\n",
       "      <td>3.666667</td>\n",
       "      <td>3.333333</td>\n",
       "      <td>6.666667</td>\n",
       "      <td>13.333333</td>\n",
       "    </tr>\n",
       "    <tr>\n",
       "      <th>4</th>\n",
       "      <td>4</td>\n",
       "      <td>2.222222</td>\n",
       "      <td>3.222222</td>\n",
       "      <td>4.222222</td>\n",
       "      <td>2.777778</td>\n",
       "      <td>5.555556</td>\n",
       "      <td>11.111111</td>\n",
       "    </tr>\n",
       "    <tr>\n",
       "      <th>5</th>\n",
       "      <td>5</td>\n",
       "      <td>2.777778</td>\n",
       "      <td>3.777778</td>\n",
       "      <td>4.777778</td>\n",
       "      <td>2.222222</td>\n",
       "      <td>4.444444</td>\n",
       "      <td>8.888889</td>\n",
       "    </tr>\n",
       "    <tr>\n",
       "      <th>6</th>\n",
       "      <td>6</td>\n",
       "      <td>3.333333</td>\n",
       "      <td>4.333333</td>\n",
       "      <td>5.333333</td>\n",
       "      <td>1.666667</td>\n",
       "      <td>3.333333</td>\n",
       "      <td>6.666667</td>\n",
       "    </tr>\n",
       "    <tr>\n",
       "      <th>7</th>\n",
       "      <td>7</td>\n",
       "      <td>3.888889</td>\n",
       "      <td>4.888889</td>\n",
       "      <td>5.888889</td>\n",
       "      <td>1.111111</td>\n",
       "      <td>2.222222</td>\n",
       "      <td>4.444444</td>\n",
       "    </tr>\n",
       "    <tr>\n",
       "      <th>8</th>\n",
       "      <td>8</td>\n",
       "      <td>4.444444</td>\n",
       "      <td>5.444444</td>\n",
       "      <td>6.444444</td>\n",
       "      <td>0.555556</td>\n",
       "      <td>1.111111</td>\n",
       "      <td>2.222222</td>\n",
       "    </tr>\n",
       "    <tr>\n",
       "      <th>9</th>\n",
       "      <td>9</td>\n",
       "      <td>5.000000</td>\n",
       "      <td>6.000000</td>\n",
       "      <td>7.000000</td>\n",
       "      <td>0.000000</td>\n",
       "      <td>0.000000</td>\n",
       "      <td>0.000000</td>\n",
       "    </tr>\n",
       "  </tbody>\n",
       "</table>\n",
       "</div>"
      ],
      "text/plain": [
       "   id        a1        a2        a3        b1         b2         b3\n",
       "0   0  0.000000  1.000000  2.000000  5.000000  10.000000  20.000000\n",
       "1   1  0.555556  1.555556  2.555556  4.444444   8.888889  17.777778\n",
       "2   2  1.111111  2.111111  3.111111  3.888889   7.777778  15.555556\n",
       "3   3  1.666667  2.666667  3.666667  3.333333   6.666667  13.333333\n",
       "4   4  2.222222  3.222222  4.222222  2.777778   5.555556  11.111111\n",
       "5   5  2.777778  3.777778  4.777778  2.222222   4.444444   8.888889\n",
       "6   6  3.333333  4.333333  5.333333  1.666667   3.333333   6.666667\n",
       "7   7  3.888889  4.888889  5.888889  1.111111   2.222222   4.444444\n",
       "8   8  4.444444  5.444444  6.444444  0.555556   1.111111   2.222222\n",
       "9   9  5.000000  6.000000  7.000000  0.000000   0.000000   0.000000"
      ]
     },
     "execution_count": 14,
     "metadata": {},
     "output_type": "execute_result"
    }
   ],
   "source": [
    "df = pd.DataFrame({'id': np.arange(10)},dtype=np.int8)\n",
    "df['a1'] = np.linspace(0,5,10)\n",
    "df['a2'] = df['a1'] + 1\n",
    "df['a3'] = df['a1'] + 2\n",
    "#\n",
    "df['b1'] = np.linspace(5,0,10)\n",
    "df['b2'] = df['b1']*2\n",
    "df['b3'] = df['b1']*4\n",
    "df"
   ]
  },
  {
   "cell_type": "code",
   "execution_count": 38,
   "metadata": {},
   "outputs": [
    {
     "data": {
      "application/vnd.vegalite.v3+json": {
       "$schema": "https://vega.github.io/schema/vega-lite/v3.4.0.json",
       "config": {
        "mark": {
         "tooltip": null
        },
        "view": {
         "height": 300,
         "width": 400
        }
       },
       "data": {
        "name": "data-6ce0f020200d7e5cba481afd38b253f3"
       },
       "datasets": {
        "data-6ce0f020200d7e5cba481afd38b253f3": [
         {
          "a1": 0,
          "a2": 1,
          "a3": 2,
          "b1": 5,
          "b2": 10,
          "b3": 20,
          "id": 0
         },
         {
          "a1": 0.5555555555555556,
          "a2": 1.5555555555555556,
          "a3": 2.5555555555555554,
          "b1": 4.444444444444445,
          "b2": 8.88888888888889,
          "b3": 17.77777777777778,
          "id": 1
         },
         {
          "a1": 1.1111111111111112,
          "a2": 2.111111111111111,
          "a3": 3.111111111111111,
          "b1": 3.888888888888889,
          "b2": 7.777777777777778,
          "b3": 15.555555555555555,
          "id": 2
         },
         {
          "a1": 1.6666666666666667,
          "a2": 2.666666666666667,
          "a3": 3.666666666666667,
          "b1": 3.333333333333333,
          "b2": 6.666666666666666,
          "b3": 13.333333333333332,
          "id": 3
         },
         {
          "a1": 2.2222222222222223,
          "a2": 3.2222222222222223,
          "a3": 4.222222222222222,
          "b1": 2.7777777777777777,
          "b2": 5.555555555555555,
          "b3": 11.11111111111111,
          "id": 4
         },
         {
          "a1": 2.7777777777777777,
          "a2": 3.7777777777777777,
          "a3": 4.777777777777778,
          "b1": 2.2222222222222223,
          "b2": 4.444444444444445,
          "b3": 8.88888888888889,
          "id": 5
         },
         {
          "a1": 3.3333333333333335,
          "a2": 4.333333333333334,
          "a3": 5.333333333333334,
          "b1": 1.6666666666666665,
          "b2": 3.333333333333333,
          "b3": 6.666666666666666,
          "id": 6
         },
         {
          "a1": 3.8888888888888893,
          "a2": 4.888888888888889,
          "a3": 5.888888888888889,
          "b1": 1.1111111111111107,
          "b2": 2.2222222222222214,
          "b3": 4.444444444444443,
          "id": 7
         },
         {
          "a1": 4.444444444444445,
          "a2": 5.444444444444445,
          "a3": 6.444444444444445,
          "b1": 0.5555555555555554,
          "b2": 1.1111111111111107,
          "b3": 2.2222222222222214,
          "id": 8
         },
         {
          "a1": 5,
          "a2": 6,
          "a3": 7,
          "b1": 0,
          "b2": 0,
          "b3": 0,
          "id": 9
         }
        ]
       },
       "vconcat": [
        {
         "encoding": {
          "color": {
           "condition": {
            "field": "a1",
            "legend": null,
            "selection": "selector045",
            "type": "quantitative"
           },
           "value": "lightgray"
          },
          "tooltip": [
           {
            "field": "id",
            "type": "quantitative"
           }
          ],
          "x": {
           "axis": {
            "title": "Index"
           },
           "field": "id",
           "type": "nominal"
          },
          "y": {
           "axis": {
            "title": "Ratio (b3-b2)/(a3-a2)"
           },
           "field": "ratio",
           "type": "quantitative"
          }
         },
         "height": 200,
         "mark": {
          "filled": true,
          "size": 50,
          "type": "point"
         },
         "selection": {
          "selector045": {
           "empty": "all",
           "fields": [
            "id"
           ],
           "type": "single"
          },
          "selector046": {
           "bind": "scales",
           "encodings": [
            "x",
            "y"
           ],
           "type": "interval"
          }
         },
         "title": "Test",
         "transform": [
          {
           "as": [
            "key1",
            "value1"
           ],
           "fold": [
            "a1",
            "a2",
            "a3"
           ]
          },
          {
           "as": [
            "key2",
            "value2"
           ],
           "fold": [
            "b1",
            "b2",
            "b3"
           ]
          },
          {
           "as": "ratio",
           "calculate": "(datum.b3-datum.b2)/(datum.a3-datum.a2)"
          }
         ],
         "width": 800
        },
        {
         "encoding": {
          "x": {
           "field": "key2",
           "type": "nominal"
          },
          "y": {
           "field": "value2",
           "type": "quantitative"
          }
         },
         "height": 200,
         "mark": {
          "point": true,
          "type": "line"
         },
         "selection": {
          "selector045": {
           "empty": "all",
           "fields": [
            "id"
           ],
           "type": "single"
          }
         },
         "title": "Test",
         "transform": [
          {
           "as": [
            "key1",
            "value1"
           ],
           "fold": [
            "a1",
            "a2",
            "a3"
           ]
          },
          {
           "as": [
            "key2",
            "value2"
           ],
           "fold": [
            "b1",
            "b2",
            "b3"
           ]
          },
          {
           "filter": {
            "selection": "selector045"
           }
          }
         ],
         "width": 800
        }
       ]
      },
      "image/png": "[encoded data removed]",
      "text/plain": [
       "<VegaLite 3 object>\n",
       "\n",
       "If you see this message, it means the renderer has not been properly enabled\n",
       "for the frontend that you are using. For more information, see\n",
       "https://altair-viz.github.io/user_guide/troubleshooting.html\n"
      ]
     },
     "execution_count": 38,
     "metadata": {},
     "output_type": "execute_result"
    }
   ],
   "source": [
    "selector = alt.selection_single(empty='all', fields=['id'])\n",
    "\n",
    "base = alt.Chart(df).properties(\n",
    "    title=\"Test\",width=800,height=200).add_selection(selector).transform_fold(\n",
    "    ['a1','a2','a3'],\n",
    "    as_=[\"key1\",\"value1\"]).transform_fold(\n",
    "    ['b1','b2','b3'],\n",
    "    as_=[\"key2\",\"value2\"])\n",
    "\n",
    "points = base.mark_point(filled=True, size=50).encode(\n",
    "    x=alt.X(\n",
    "        'id:N',\n",
    "        axis=alt.Axis(title='Index')\n",
    "    ),\n",
    "    y=alt.Y(\n",
    "        'ratio:Q',\n",
    "        axis=alt.Axis(title=\"Ratio (b3-b2)/(a3-a2)\")\n",
    "    ),\n",
    "    color=alt.condition(selector, 'a1', alt.value('lightgray'), legend=None),\n",
    "    tooltip=['id']\n",
    ").transform_calculate(\n",
    "    ratio=\"(datum.b3-datum.b2)/(datum.a3-datum.a2)\").interactive()\n",
    "\n",
    "sed1 = base.mark_line(point=True).encode(\n",
    "    x='key2:N',\n",
    "    y='value2:Q',\n",
    "#    y2='value2:Q'\n",
    ").transform_filter(\n",
    "    selector\n",
    "    )\n",
    "#sed1 = base.mark_line(point=True).encode(\n",
    "#    x='key1:N',\n",
    "#    y=alt.Y(\n",
    "#        'value1:Q',\n",
    "#        axis=alt.Axis(title='Y-axis'))).transform_filter(\n",
    "#    selector\n",
    "#    )\n",
    "\n",
    "#sed2 = base.mark_line(point=True).encode(\n",
    "#    x='key1:N',\n",
    "#    y=alt.Y(\n",
    "#        'value2:Q')).transform_filter(\n",
    "#    selector\n",
    "#    )\n",
    "\n",
    "\n",
    "alt.vconcat(points,sed1)\n"
   ]
  },
  {
   "cell_type": "code",
   "execution_count": null,
   "metadata": {},
   "outputs": [],
   "source": []
  }
 ],
 "metadata": {
  "kernelspec": {
   "display_name": "Python 3",
   "language": "python",
   "name": "python3"
  },
  "language_info": {
   "codemirror_mode": {
    "name": "ipython",
    "version": 3
   },
   "file_extension": ".py",
   "mimetype": "text/x-python",
   "name": "python",
   "nbconvert_exporter": "python",
   "pygments_lexer": "ipython3",
   "version": "3.6.7"
  }
 },
 "nbformat": 4,
 "nbformat_minor": 4
}
