{
 "cells": [
  {
   "cell_type": "markdown",
   "metadata": {},
   "source": [
    "# Illustrating the use of DS9 throug `pyds9`\n",
    "\n",
    "Install `pyds9` with `pip install pyds9`. It installs the module but I see an error message:\n",
    "\n",
    "\"error: can't copy 'xpa/libxpa.so': doesn't exist or not a regular file\"\n",
    "\n",
    "Nevertheless it seems to work.\n",
    "\n",
    "Pyds9 documentation is [here](https://hea-www.harvard.edu/RD/pyds9/).\n",
    "\n",
    "The `set` and `get` commands should match the `ds9` commmands line options, these are listed [here](http://ds9.si.edu/doc/ref/command.html).\n"
   ]
  },
  {
   "cell_type": "code",
   "execution_count": 2,
   "metadata": {},
   "outputs": [],
   "source": [
    "import pyds9                                                                 "
   ]
  },
  {
   "cell_type": "code",
   "execution_count": 3,
   "metadata": {},
   "outputs": [],
   "source": [
    "d = pyds9.DS9()"
   ]
  },
  {
   "cell_type": "code",
   "execution_count": 4,
   "metadata": {},
   "outputs": [],
   "source": [
    "filename = '/lhome/ivaltchanov/XMM-clusters/A1795/0097820101/proc/pn_image_500_7000.fits'"
   ]
  },
  {
   "cell_type": "code",
   "execution_count": 8,
   "metadata": {},
   "outputs": [
    {
     "data": {
      "text/plain": [
       "1"
      ]
     },
     "execution_count": 8,
     "metadata": {},
     "output_type": "execute_result"
    }
   ],
   "source": [
    "d.set(\"height 600\")\n",
    "d.set(\"width 600\")\n",
    "d.set(f\"file {filename}\")\n",
    "d.set(\"zoom to fit\")\n",
    "d.set(\"scale log\")\n",
    "d.set(\"cmap heat\")\n",
    "#d.set(\"scale limits 0.0 0.02\")\n",
    "#d.set(\"cmap invert yes\")\n",
    "#d.set(\"regions load %s\"%regFile)"
   ]
  },
  {
   "cell_type": "markdown",
   "metadata": {},
   "source": [
    "Next, try to create a region file in the displayed image. Add as many regions with different shapes and also excluded regions. Then we'll list them.\n",
    "\n",
    "If you need the regions in image coordinates (e.g. to use in XMM-SAS event selection expression) then set the region system to image."
   ]
  },
  {
   "cell_type": "code",
   "execution_count": 13,
   "metadata": {},
   "outputs": [
    {
     "name": "stdout",
     "output_type": "stream",
     "text": [
      "# Region file format: DS9 version 4.1\n",
      "global color=green dashlist=8 3 width=1 font=\"helvetica 10 normal roman\" select=1 highlite=1 dash=0 fixed=0 edit=1 move=1 delete=1 include=1 source=1\n",
      "image\n",
      "-circle(395.30833,281.73333,21.633333)\n",
      "annulus(329.32667,348.79667,119.003,145.68632)\n"
     ]
    }
   ],
   "source": [
    "d.set('regions system image')\n",
    "reg = d.get('regions list close')\n",
    "print (reg)"
   ]
  },
  {
   "cell_type": "code",
   "execution_count": null,
   "metadata": {},
   "outputs": [],
   "source": []
  }
 ],
 "metadata": {
  "kernelspec": {
   "display_name": "Python 3",
   "language": "python",
   "name": "python3"
  },
  "language_info": {
   "codemirror_mode": {
    "name": "ipython",
    "version": 3
   },
   "file_extension": ".py",
   "mimetype": "text/x-python",
   "name": "python",
   "nbconvert_exporter": "python",
   "pygments_lexer": "ipython3",
   "version": "3.6.7"
  }
 },
 "nbformat": 4,
 "nbformat_minor": 2
}
