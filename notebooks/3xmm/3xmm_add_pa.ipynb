{
 "cells": [
  {
   "cell_type": "markdown",
   "metadata": {},
   "source": [
    "# Adding the missing position angle to the 3XMM-DR8 observation table"
   ]
  },
  {
   "cell_type": "code",
   "execution_count": 248,
   "metadata": {},
   "outputs": [],
   "source": [
    "import os\n",
    "\n",
    "import numpy as np\n",
    "from astropy.coordinates import SkyCoord\n",
    "import astropy.units as u\n",
    "from astropy.table import Table, join\n",
    "from astropy.io import fits\n",
    "\n",
    "import pandas as pd\n",
    "import altair as alt\n",
    "\n",
    "%matplotlib inline\n",
    "import matplotlib.pylab as plt\n",
    "import matplotlib.mlab as mlab\n",
    "import matplotlib.cm as cm\n",
    "#\n",
    "import seaborn as sns\n",
    "sns.set(style=\"white\")\n",
    "\n",
    "plt.rc('text', usetex=False)\n",
    "plt.rc('font', family='serif')\n",
    "\n",
    "home = os.path.expanduser('~')"
   ]
  },
  {
   "cell_type": "code",
   "execution_count": 6,
   "metadata": {},
   "outputs": [],
   "source": [
    "wdir = f'{home}/XMM/3XMM'frame=\"icrs\", unit=\"deg\"\n",
    "t3xmm = Table.read(f'{wdir}/3xmmdr8_obslist.fits')\n",
    "t3xmm.info()"
   ]
  },
  {
   "cell_type": "markdown",
   "metadata": {},
   "source": [
    "The `OBS_ID` column in this 3XMM table is bytesXX type, I will convert it to integer in order to match it with the observation log dump."
   ]
  },
  {
   "cell_type": "code",
   "execution_count": 17,
   "metadata": {},
   "outputs": [],
   "source": [
    "obsid = [int(x) for x in t3xmm['OBS_ID']]\n",
    "t3xmm['OBS_ID'] = obsid"
   ]
  },
  {
   "cell_type": "markdown",
   "metadata": {},
   "source": [
    "Now read the observation log dump with the `observation_id` and position angle. The `observation_id` column needs renaming for the table inner join operation.\n",
    "\n",
    "**NOTE:** For some stupid reason, the dumped RA is in hours. Need correcting."
   ]
  },
  {
   "cell_type": "code",
   "execution_count": 42,
   "metadata": {},
   "outputs": [],
   "source": [
    "tdump = Table.read(f'{wdir}/exp_dump_16901.csv',delimiter=';')\n",
    "tdump.rename_column('observation_id','OBS_ID')\n",
    "del tdump['col4']\n",
    "tdump['ra1'] = tdump['ra1']*15.0"
   ]
  },
  {
   "cell_type": "code",
   "execution_count": 43,
   "metadata": {},
   "outputs": [
    {
     "name": "stdout",
     "output_type": "stream",
     "text": [
      "<Table masked=True length=10242>\n",
      "   name    dtype  n_bad\n",
      "--------- ------- -----\n",
      "  REVOLUT  bytes4     0\n",
      "   OBS_ID   int64     0\n",
      " ODF_VERS  bytes3     0\n",
      "       RA float32     0\n",
      "      DEC float32     0\n",
      "   TARGET bytes28     0\n",
      "OBS_CLASS   int16     0\n",
      "     NDET   int16     0\n",
      " NDETGOOD   int16     0\n",
      "  PN_NEXP   int16  1924\n",
      "  PN_FILT  bytes3     0\n",
      "  PN_MODE  bytes5     0\n",
      "  PN_TEXP   int32     0\n",
      "  M1_NEXP   int16   407\n",
      "  M1_FILT  bytes3     0\n",
      "  M1_MODE  bytes5     0\n",
      "  M1_TEXP   int32     0\n",
      "  M2_NEXP   int16   351\n",
      "  M2_FILT  bytes3     0\n",
      "  M2_MODE  bytes5     0\n",
      "  M2_TEXP   int32     0\n",
      "<Table masked=True length=33170>\n",
      " name   dtype \n",
      "------ -------\n",
      "OBS_ID   int64\n",
      "   ra1 float64\n",
      "  dec1 float64\n",
      "    pa float64\n"
     ]
    }
   ],
   "source": [
    "t3xmm.info()\n",
    "tdump.info()"
   ]
  },
  {
   "cell_type": "code",
   "execution_count": 44,
   "metadata": {},
   "outputs": [],
   "source": [
    "tout = join(t3xmm,tdump,keys='OBS_ID')"
   ]
  },
  {
   "cell_type": "code",
   "execution_count": 45,
   "metadata": {},
   "outputs": [
    {
     "name": "stdout",
     "output_type": "stream",
     "text": [
      "<Table masked=True length=9420>\n",
      "   name    dtype  n_bad\n",
      "--------- ------- -----\n",
      "  REVOLUT  bytes4     0\n",
      "   OBS_ID   int64     0\n",
      " ODF_VERS  bytes3     0\n",
      "       RA float32     0\n",
      "      DEC float32     0\n",
      "   TARGET bytes28     0\n",
      "OBS_CLASS   int16     0\n",
      "     NDET   int16     0\n",
      " NDETGOOD   int16     0\n",
      "  PN_NEXP   int16  1769\n",
      "  PN_FILT  bytes3     0\n",
      "  PN_MODE  bytes5     0\n",
      "  PN_TEXP   int32     0\n",
      "  M1_NEXP   int16   244\n",
      "  M1_FILT  bytes3     0\n",
      "  M1_MODE  bytes5     0\n",
      "  M1_TEXP   int32     0\n",
      "  M2_NEXP   int16   208\n",
      "  M2_FILT  bytes3     0\n",
      "  M2_MODE  bytes5     0\n",
      "  M2_TEXP   int32     0\n",
      "      ra1 float64     0\n",
      "     dec1 float64     0\n",
      "       pa float64     0\n"
     ]
    }
   ],
   "source": [
    "tout.info()"
   ]
  },
  {
   "cell_type": "code",
   "execution_count": 46,
   "metadata": {},
   "outputs": [],
   "source": [
    "#\n",
    "# consistency checks\n",
    "#\n",
    "\n",
    "c1 = SkyCoord(ra=tout['RA'],dec=tout['DEC'], frame=\"icrs\", unit=\"deg\")\n",
    "c2 = SkyCoord(ra=tout['ra1'],dec=tout['dec1'], frame=\"icrs\", unit=\"deg\")"
   ]
  },
  {
   "cell_type": "code",
   "execution_count": 62,
   "metadata": {},
   "outputs": [],
   "source": [
    "#\n",
    "n = len(c1)\n",
    "diff = np.empty(n,dtype=np.float)\n",
    "\n",
    "diff = c1.separation(c2).arcsec"
   ]
  },
  {
   "cell_type": "code",
   "execution_count": 63,
   "metadata": {},
   "outputs": [
    {
     "name": "stdout",
     "output_type": "stream",
     "text": [
      "0.22159580206672458 200008.8615734346\n"
     ]
    }
   ],
   "source": [
    "print (np.min(diff),np.max(diff))"
   ]
  },
  {
   "cell_type": "code",
   "execution_count": 64,
   "metadata": {},
   "outputs": [],
   "source": [
    "# add the diff as a new column\n",
    "tout['offset'] = diff"
   ]
  },
  {
   "cell_type": "code",
   "execution_count": 65,
   "metadata": {},
   "outputs": [],
   "source": [
    "df = tout.to_pandas()"
   ]
  },
  {
   "cell_type": "code",
   "execution_count": 308,
   "metadata": {},
   "outputs": [
    {
     "data": {
      "text/html": [
       "<i>Table masked=True length=9420</i>\n",
       "<table id=\"table140096773070800\" class=\"table-striped table-bordered table-condensed\">\n",
       "<thead><tr><th>OBS_ID</th><th>RA</th><th>DEC</th><th>NDET</th><th>ra1</th><th>dec1</th><th>pa</th><th>offset</th></tr></thead>\n",
       "<thead><tr><th>int64</th><th>float32</th><th>float32</th><th>int16</th><th>float64</th><th>float64</th><th>float64</th><th>float64</th></tr></thead>\n",
       "<tr><td>110101</td><td>64.89763</td><td>56.02272</td><td>30</td><td>64.92541666665001</td><td>55.9994444444</td><td>88.2561944444</td><td>100.74222854553096</td></tr>\n",
       "<tr><td>1730201</td><td>263.65793</td><td>-32.556</td><td>102</td><td>263.6749999995</td><td>-32.5816666667</td><td>91.9195277778</td><td>105.9250971860247</td></tr>\n",
       "<tr><td>1730601</td><td>99.36542</td><td>6.1115</td><td>79</td><td>99.34999999995</td><td>6.13527777778</td><td>267.86975</td><td>101.84783341988394</td></tr>\n",
       "<tr><td>1930101</td><td>6.5532084</td><td>10.673528</td><td>78</td><td>6.529166666669999</td><td>10.6891666667</td><td>245.126888889</td><td>101.9974090048439</td></tr>\n",
       "<tr><td>1930301</td><td>193.49612</td><td>10.215167</td><td>98</td><td>193.5</td><td>10.1863888889</td><td>114.473583333</td><td>104.50715744776305</td></tr>\n",
       "<tr><td>2740101</td><td>58.45729</td><td>23.414083</td><td>47</td><td>58.47958333335</td><td>23.39375</td><td>77.6548333333</td><td>103.84161333409898</td></tr>\n",
       "<tr><td>2740301</td><td>187.05229</td><td>-15.758583</td><td>43</td><td>187.0575</td><td>-15.7863888889</td><td>112.982333333</td><td>101.71318166484711</td></tr>\n",
       "<tr><td>2740501</td><td>167.09784</td><td>-77.61408</td><td>56</td><td>166.9704166665</td><td>-77.6155555556</td><td>210.688222222</td><td>98.53049465254449</td></tr>\n",
       "<tr><td>2940101</td><td>196.76967</td><td>-23.647583</td><td>38</td><td>196.774583334</td><td>-23.6766666667</td><td>110.991444444</td><td>105.944341220499</td></tr>\n",
       "<tr><td>2940701</td><td>121.03321</td><td>5.086472</td><td>22</td><td>121.0245833334</td><td>5.11388888889</td><td>285.014833333</td><td>103.43526501789208</td></tr>\n",
       "<tr><td>...</td><td>...</td><td>...</td><td>...</td><td>...</td><td>...</td><td>...</td><td>...</td></tr>\n",
       "<tr><td>794580101</td><td>114.18491</td><td>-69.53995</td><td>154</td><td>114.10816666664999</td><td>-69.5486666667</td><td>192.921083333</td><td>101.53475773890814</td></tr>\n",
       "<tr><td>794580301</td><td>266.1242</td><td>-28.715889</td><td>90</td><td>266.137875</td><td>-28.7408333333</td><td>96.0</td><td>99.6347146271707</td></tr>\n",
       "<tr><td>794580601</td><td>49.565876</td><td>-66.51439</td><td>106</td><td>49.5833333334</td><td>-66.4863888889</td><td>315.644555556</td><td>103.87250972792413</td></tr>\n",
       "<tr><td>794580701</td><td>334.457</td><td>-8.334361</td><td>45</td><td>334.4807500005</td><td>-8.35108333333</td><td>67.6472222222</td><td>103.82699598423052</td></tr>\n",
       "<tr><td>794580801</td><td>155.95517</td><td>0.6167778</td><td>58</td><td>155.948708334</td><td>0.644666666667</td><td>289.231222222</td><td>103.05901593455113</td></tr>\n",
       "<tr><td>794580901</td><td>155.95529</td><td>0.6166667</td><td>69</td><td>155.948708334</td><td>0.644666666667</td><td>289.231222222</td><td>103.54835013674031</td></tr>\n",
       "<tr><td>794581101</td><td>292.03845</td><td>19.570833</td><td>26</td><td>292.065</td><td>19.5559444444</td><td>61.97875</td><td>104.79936635381867</td></tr>\n",
       "<tr><td>794581201</td><td>308.6297</td><td>60.20233</td><td>166</td><td>308.68433333400003</td><td>60.1933055556</td><td>51.2701944444</td><td>103.0116283212987</td></tr>\n",
       "<tr><td>795710101</td><td>126.57283</td><td>-50.985943</td><td>102</td><td>126.5991666666</td><td>-50.9620833333</td><td>336.442805556</td><td>104.60204874413715</td></tr>\n",
       "<tr><td>795712401</td><td>349.3948</td><td>7.0754724</td><td>63</td><td>349.36150000050003</td><td>7.07955555556</td><td>234.0</td><td>119.89220052377573</td></tr>\n",
       "</table>"
      ],
      "text/plain": [
       "<Table masked=True length=9420>\n",
       "  OBS_ID      RA       DEC     ...       pa            offset      \n",
       "  int64    float32   float32   ...    float64         float64      \n",
       "--------- --------- ---------- ... ------------- ------------------\n",
       "   110101  64.89763   56.02272 ... 88.2561944444 100.74222854553096\n",
       "  1730201 263.65793    -32.556 ... 91.9195277778  105.9250971860247\n",
       "  1730601  99.36542     6.1115 ...     267.86975 101.84783341988394\n",
       "  1930101 6.5532084  10.673528 ... 245.126888889  101.9974090048439\n",
       "  1930301 193.49612  10.215167 ... 114.473583333 104.50715744776305\n",
       "  2740101  58.45729  23.414083 ... 77.6548333333 103.84161333409898\n",
       "  2740301 187.05229 -15.758583 ... 112.982333333 101.71318166484711\n",
       "  2740501 167.09784  -77.61408 ... 210.688222222  98.53049465254449\n",
       "  2940101 196.76967 -23.647583 ... 110.991444444   105.944341220499\n",
       "  2940701 121.03321   5.086472 ... 285.014833333 103.43526501789208\n",
       "      ...       ...        ... ...           ...                ...\n",
       "794580101 114.18491  -69.53995 ... 192.921083333 101.53475773890814\n",
       "794580301  266.1242 -28.715889 ...          96.0   99.6347146271707\n",
       "794580601 49.565876  -66.51439 ... 315.644555556 103.87250972792413\n",
       "794580701   334.457  -8.334361 ... 67.6472222222 103.82699598423052\n",
       "794580801 155.95517  0.6167778 ... 289.231222222 103.05901593455113\n",
       "794580901 155.95529  0.6166667 ... 289.231222222 103.54835013674031\n",
       "794581101 292.03845  19.570833 ...      61.97875 104.79936635381867\n",
       "794581201  308.6297   60.20233 ... 51.2701944444  103.0116283212987\n",
       "795710101 126.57283 -50.985943 ... 336.442805556 104.60204874413715\n",
       "795712401  349.3948  7.0754724 ...         234.0 119.89220052377573"
      ]
     },
     "execution_count": 308,
     "metadata": {},
     "output_type": "execute_result"
    }
   ],
   "source": [
    "tout[\"OBS_ID\",\"RA\",\"DEC\",\"NDET\",\"ra1\",\"dec1\",\"pa\",\"offset\"]"
   ]
  },
  {
   "cell_type": "code",
   "execution_count": 94,
   "metadata": {},
   "outputs": [
    {
     "data": {
      "text/html": [
       "<i>Table masked=True length=5</i>\n",
       "<table id=\"table140097044057504\" class=\"table-striped table-bordered table-condensed\">\n",
       "<thead><tr><th>REVOLUT</th><th>OBS_ID</th><th>ODF_VERS</th><th>RA</th><th>DEC</th><th>TARGET</th><th>OBS_CLASS</th><th>NDET</th><th>NDETGOOD</th><th>PN_NEXP</th><th>PN_FILT</th><th>PN_MODE</th><th>PN_TEXP</th><th>M1_NEXP</th><th>M1_FILT</th><th>M1_MODE</th><th>M1_TEXP</th><th>M2_NEXP</th><th>M2_FILT</th><th>M2_MODE</th><th>M2_TEXP</th><th>ra1</th><th>dec1</th><th>pa</th><th>offset</th></tr></thead>\n",
       "<thead><tr><th>bytes4</th><th>int64</th><th>bytes3</th><th>float32</th><th>float32</th><th>bytes28</th><th>int16</th><th>int16</th><th>int16</th><th>int16</th><th>bytes3</th><th>bytes5</th><th>int32</th><th>int16</th><th>bytes3</th><th>bytes5</th><th>int32</th><th>int16</th><th>bytes3</th><th>bytes5</th><th>int32</th><th>float64</th><th>float64</th><th>float64</th><th>float64</th></tr></thead>\n",
       "<tr><td>0441</td><td>83960101</td><td>005</td><td>208.19383</td><td>69.29297</td><td>Mkn 279</td><td>3</td><td>79</td><td>66</td><td>1</td><td>Med</td><td>PFW</td><td>12353</td><td>1</td><td>Med</td><td>PFW</td><td>18619</td><td>1</td><td>Med</td><td>PFW</td><td>19604</td><td>208.26416666699998</td><td>69.3083333333</td><td>0.357444444444</td><td>105.21759483825768</td></tr>\n",
       "<tr><td>0439</td><td>84960101</td><td>005</td><td>49.985416</td><td>-62.455612</td><td>Galactic Halo</td><td>0</td><td>34</td><td>34</td><td>1</td><td>Tn1</td><td>PFW</td><td>1896</td><td>1</td><td>Med</td><td>PFW</td><td>7361</td><td>1</td><td>Med</td><td>PFW</td><td>8034</td><td>50.04095833335</td><td>-62.4413611111</td><td>2.89588888889</td><td>105.7615410448297</td></tr>\n",
       "<tr><td>0439</td><td>84960201</td><td>004</td><td>53.17275</td><td>-63.478416</td><td>Galactic Halo</td><td>1</td><td>66</td><td>62</td><td>1</td><td>Tn1</td><td>PFW</td><td>9800</td><td>1</td><td>Med</td><td>PFW</td><td>12275</td><td>1</td><td>Med</td><td>PFW</td><td>12272</td><td>53.22887500005</td><td>-63.4639722222</td><td>1.35677777778</td><td>104.15935285124058</td></tr>\n",
       "<tr><td>0307</td><td>109470601</td><td>004</td><td>160.27776</td><td>-59.692223</td><td>WR 22</td><td>5</td><td>42</td><td>0</td><td>1</td><td>Tck</td><td>PFW</td><td>5500</td><td>1</td><td>Tck</td><td>PFW</td><td>7875</td><td>1</td><td>Tck</td><td>PFW</td><td>7901</td><td>160.3249999995</td><td>-59.6769444444</td><td>0.709583333333</td><td>101.95019792854306</td></tr>\n",
       "<tr><td>0460</td><td>112231801</td><td>004</td><td>250.0632</td><td>46.695946</td><td>A2219</td><td>2</td><td>19</td><td>16</td><td>1</td><td>Tn1</td><td>PFWE</td><td>3401</td><td>1</td><td>Tn1</td><td>PFW</td><td>2311</td><td>1</td><td>Tn1</td><td>PFW</td><td>2441</td><td>250.0999999995</td><td>46.71</td><td>1.90494444444</td><td>103.99034076532992</td></tr>\n",
       "</table>"
      ],
      "text/plain": [
       "<Table masked=True length=5>\n",
       "REVOLUT   OBS_ID  ODF_VERS ...      dec1            pa             offset      \n",
       " bytes4   int64    bytes3  ...    float64        float64          float64      \n",
       "------- --------- -------- ... -------------- -------------- ------------------\n",
       "   0441  83960101      005 ...  69.3083333333 0.357444444444 105.21759483825768\n",
       "   0439  84960101      005 ... -62.4413611111  2.89588888889  105.7615410448297\n",
       "   0439  84960201      004 ... -63.4639722222  1.35677777778 104.15935285124058\n",
       "   0307 109470601      004 ... -59.6769444444 0.709583333333 101.95019792854306\n",
       "   0460 112231801      004 ...          46.71  1.90494444444 103.99034076532992"
      ]
     },
     "execution_count": 94,
     "metadata": {},
     "output_type": "execute_result"
    }
   ],
   "source": [
    "mmm = tout['pa'] < 5.0\n",
    "immm = np.where(mmm)[0]\n",
    "tout[immm][0:5]"
   ]
  },
  {
   "cell_type": "code",
   "execution_count": 71,
   "metadata": {},
   "outputs": [
    {
     "data": {
      "text/plain": [
       "(array([6.000e+00, 1.000e+00, 1.000e+00, 1.000e+00, 2.000e+00, 5.000e+00,\n",
       "        8.354e+03, 1.029e+03, 9.000e+00, 0.000e+00, 0.000e+00, 4.000e+00,\n",
       "        0.000e+00, 0.000e+00, 0.000e+00, 2.000e+00, 0.000e+00, 2.000e+00,\n",
       "        0.000e+00, 0.000e+00]),\n",
       " array([  0.,  15.,  30.,  45.,  60.,  75.,  90., 105., 120., 135., 150.,\n",
       "        165., 180., 195., 210., 225., 240., 255., 270., 285., 300.]),\n",
       " <a list of 20 Patch objects>)"
      ]
     },
     "execution_count": 71,
     "metadata": {},
     "output_type": "execute_result"
    },
    {
     "data": {
      "image/png": "[encoded data removed]",
      "text/plain": [
       "<Figure size 432x288 with 1 Axes>"
      ]
     },
     "metadata": {
      "needs_background": "light"
     },
     "output_type": "display_data"
    }
   ],
   "source": [
    "fig, ax = plt.subplots()\n",
    "ax.hist(diff,range=(0,300),bins=20)"
   ]
  },
  {
   "cell_type": "code",
   "execution_count": 72,
   "metadata": {},
   "outputs": [
    {
     "name": "stderr",
     "output_type": "stream",
     "text": [
      "WARNING: UnitsWarning: 'erg/cm**2/s' contains multiple slashes, which is discouraged by the FITS standard [astropy.units.format.generic]\n"
     ]
    }
   ],
   "source": [
    "t3 = Table.read(f'{wdir}/3XMM_DR8cat_v1.0.fits.gz')"
   ]
  },
  {
   "cell_type": "code",
   "execution_count": 338,
   "metadata": {},
   "outputs": [
    {
     "data": {
      "text/plain": [
       "(array([688365, 688587, 688666, 688829, 688909, 688952, 688976, 688987,\n",
       "        689154, 689155, 689168, 689211, 689230, 689291, 689297, 689329,\n",
       "        689386, 689415, 689449, 689460, 689488, 689494, 689523, 689529,\n",
       "        689544, 689547, 689573, 689579, 689593, 689609, 689626, 689676,\n",
       "        689689, 689701, 689702, 689720, 689727, 689738, 689747, 689754,\n",
       "        689761, 689765, 689774, 689785, 689792, 689804, 689825, 689844,\n",
       "        689846, 689851, 689865, 689916, 689922, 689949, 689959, 689980,\n",
       "        689995, 690001, 690008, 690041, 690047, 690060, 690067, 690085,\n",
       "        690098, 690101, 690123, 690148, 690163, 690173, 690174, 690193,\n",
       "        690221, 690231, 690238, 690245, 690256, 690262, 690272, 690273,\n",
       "        690274, 690280, 690294, 690309, 690319, 690332, 690335, 690339,\n",
       "        690347, 690348, 690356, 690375, 690391, 690401, 690416, 690426,\n",
       "        690434, 690440, 690470, 690473, 690477, 690491, 690492, 690496,\n",
       "        690506, 690516, 690532, 690542, 690549, 690562, 690574, 690582,\n",
       "        690597, 690609, 690612, 690620, 690633, 690639, 690649, 690657,\n",
       "        690662, 690665, 690673, 690679, 690692, 690705, 690717, 690729,\n",
       "        690736, 690753, 690756, 690761, 690781, 690782, 690787, 690789,\n",
       "        690795, 690802, 690809, 690819, 690824, 690833, 690841, 690842,\n",
       "        690851, 690865, 690872, 690879, 690885, 690892, 690898, 690904,\n",
       "        690911, 690919, 690929, 690941, 690966, 690969, 690986, 690987,\n",
       "        691008, 691013, 691026, 691041, 691068, 691077]),)"
      ]
     },
     "execution_count": 338,
     "metadata": {},
     "output_type": "execute_result"
    }
   ],
   "source": [
    "#obsid = '0083960101' # PA=2.0\n",
    "#obsid = '0794580101' # PA=192\n",
    "obsid = '0794581201' # PA=51\n",
    "mask = t3['OBS_ID'] == obsid\n",
    "ix = np.where(mask)\n",
    "ix"
   ]
  },
  {
   "cell_type": "code",
   "execution_count": 339,
   "metadata": {},
   "outputs": [],
   "source": [
    "tq = t3[ix]"
   ]
  },
  {
   "cell_type": "code",
   "execution_count": 340,
   "metadata": {},
   "outputs": [],
   "source": [
    "#isort = np.argsort(tq['EP_8_CTS'])[::-1]"
   ]
  },
  {
   "cell_type": "code",
   "execution_count": null,
   "metadata": {},
   "outputs": [],
   "source": []
  },
  {
   "cell_type": "code",
   "execution_count": 341,
   "metadata": {},
   "outputs": [
    {
     "data": {
      "text/html": [
       "<i>Table masked=True length=166</i>\n",
       "<table id=\"table140096758755280\" class=\"table-striped table-bordered table-condensed\">\n",
       "<thead><tr><th>RA</th><th>DEC</th><th>CCDM1</th><th>M1_RAWX</th><th>M1_RAWY</th></tr></thead>\n",
       "<thead><tr><th>deg</th><th>deg</th><th></th><th></th><th></th></tr></thead>\n",
       "<thead><tr><th>float64</th><th>float64</th><th>int16</th><th>int16</th><th>int16</th></tr></thead>\n",
       "<tr><td>308.18256759146</td><td>60.23814150221</td><td>--</td><td>--</td><td>--</td></tr>\n",
       "<tr><td>308.22088821331</td><td>60.233054841103</td><td>7</td><td>222</td><td>51</td></tr>\n",
       "<tr><td>308.23233292768</td><td>60.206963282241</td><td>7</td><td>259</td><td>130</td></tr>\n",
       "<tr><td>308.26434846027</td><td>60.054198984501</td><td>7</td><td>521</td><td>559</td></tr>\n",
       "<tr><td>308.27312869833</td><td>60.272352320207</td><td>--</td><td>--</td><td>--</td></tr>\n",
       "<tr><td>308.28034876274</td><td>60.182678116687</td><td>7</td><td>245</td><td>241</td></tr>\n",
       "<tr><td>308.28310428531</td><td>60.264639037732</td><td>7</td><td>79</td><td>30</td></tr>\n",
       "<tr><td>308.28555479738</td><td>60.335417265591</td><td>6</td><td>542</td><td>151</td></tr>\n",
       "<tr><td>308.31386171047</td><td>60.064977409901</td><td>7</td><td>435</td><td>580</td></tr>\n",
       "<tr><td>...</td><td>...</td><td>...</td><td>...</td><td>...</td></tr>\n",
       "<tr><td>309.00380641931</td><td>60.105960267527</td><td>3</td><td>548</td><td>349</td></tr>\n",
       "<tr><td>309.00605634982</td><td>60.265904351411</td><td>4</td><td>259</td><td>462</td></tr>\n",
       "<tr><td>309.03767744756</td><td>60.099458146431</td><td>3</td><td>580</td><td>299</td></tr>\n",
       "<tr><td>309.0379210595</td><td>60.173997138081</td><td>4</td><td>121</td><td>190</td></tr>\n",
       "<tr><td>309.05994178524</td><td>60.176920179957</td><td>4</td><td>155</td><td>176</td></tr>\n",
       "<tr><td>309.06082491879</td><td>60.125806868601</td><td>4</td><td>56</td><td>41</td></tr>\n",
       "<tr><td>309.06963047042</td><td>60.283850583251</td><td>4</td><td>377</td><td>448</td></tr>\n",
       "<tr><td>309.07959944598</td><td>60.112608105753</td><td>--</td><td>--</td><td>--</td></tr>\n",
       "<tr><td>309.12023031013</td><td>60.120831357309</td><td>--</td><td>--</td><td>--</td></tr>\n",
       "<tr><td>309.12582268029</td><td>60.161620617062</td><td>4</td><td>211</td><td>72</td></tr>\n",
       "</table>"
      ],
      "text/plain": [
       "<Table masked=True length=166>\n",
       "       RA             DEC       CCDM1 M1_RAWX M1_RAWY\n",
       "      deg             deg                            \n",
       "    float64         float64     int16  int16   int16 \n",
       "--------------- --------------- ----- ------- -------\n",
       "308.18256759146  60.23814150221    --      --      --\n",
       "308.22088821331 60.233054841103     7     222      51\n",
       "308.23233292768 60.206963282241     7     259     130\n",
       "308.26434846027 60.054198984501     7     521     559\n",
       "308.27312869833 60.272352320207    --      --      --\n",
       "308.28034876274 60.182678116687     7     245     241\n",
       "308.28310428531 60.264639037732     7      79      30\n",
       "308.28555479738 60.335417265591     6     542     151\n",
       "308.31386171047 60.064977409901     7     435     580\n",
       "            ...             ...   ...     ...     ...\n",
       "309.00380641931 60.105960267527     3     548     349\n",
       "309.00605634982 60.265904351411     4     259     462\n",
       "309.03767744756 60.099458146431     3     580     299\n",
       " 309.0379210595 60.173997138081     4     121     190\n",
       "309.05994178524 60.176920179957     4     155     176\n",
       "309.06082491879 60.125806868601     4      56      41\n",
       "309.06963047042 60.283850583251     4     377     448\n",
       "309.07959944598 60.112608105753    --      --      --\n",
       "309.12023031013 60.120831357309    --      --      --\n",
       "309.12582268029 60.161620617062     4     211      72"
      ]
     },
     "execution_count": 341,
     "metadata": {},
     "output_type": "execute_result"
    }
   ],
   "source": [
    "twork = tq['RA','DEC','CCDM1','M1_RAWX','M1_RAWY']\n",
    "twork"
   ]
  },
  {
   "cell_type": "code",
   "execution_count": 342,
   "metadata": {},
   "outputs": [],
   "source": [
    "fout = open(f'{wdir}/{obsid}_run_ecord.sh','w')\n",
    "m1_image = f'{wdir}/{obsid}/pps/P{obsid}M1S001IMAGE_2000.FTZ'\n",
    "nt = len(twork)\n",
    "for j in np.arange(nt):\n",
    "    ccdnr = twork[\"CCDM1\"].data[j]\n",
    "    if (not ccdnr):\n",
    "        continue\n",
    "    print (f'ecoordconv imageset={m1_image} x={twork[\"M1_RAWX\"].data[j]} y={twork[\"M1_RAWY\"].data[j]} coordtype=\"raw\" ccdno={ccdnr}',file=fout)\n",
    "fout.close()\n",
    "#"
   ]
  },
  {
   "cell_type": "code",
   "execution_count": 343,
   "metadata": {},
   "outputs": [],
   "source": [
    "source = SkyCoord(ra=twork['RA'],dec=twork['DEC'],unit='deg')\n",
    "hdu = fits.open(m1_image)\n",
    "centre1 = SkyCoord(ra=hdu[0].header['RA_OBJ'],dec=hdu[0].header['DEC_OBJ'],unit='deg')\n",
    "centre2 = SkyCoord(ra=hdu[0].header['RA_PNT'],dec=hdu[0].header['DEC_PNT'],unit='deg')\n",
    "#centre2 = SkyCoord(ra=6.55321,dec=10.67353,unit='deg')\n",
    "pa1 = source.position_angle(centre1).degree\n",
    "pa2 = source.position_angle(centre2).degree\n",
    "obs_pa = hdu[0].header['PA_PNT']"
   ]
  },
  {
   "cell_type": "code",
   "execution_count": 344,
   "metadata": {},
   "outputs": [],
   "source": [
    "#xpa1 = 360 - pa1 + 180.0\n",
    "#xpa2 = 360.0 - pa2 + 180.0"
   ]
  },
  {
   "cell_type": "code",
   "execution_count": 345,
   "metadata": {},
   "outputs": [],
   "source": [
    "with open(f'{wdir}/{obsid}_ecoord_output.txt','r') as fin:\n",
    "    lines = fin.readlines()\n",
    "#"
   ]
  },
  {
   "cell_type": "code",
   "execution_count": 346,
   "metadata": {},
   "outputs": [
    {
     "data": {
      "text/plain": [
       "52.9392204284668"
      ]
     },
     "execution_count": 346,
     "metadata": {},
     "output_type": "execute_result"
    }
   ],
   "source": [
    "obs_pa = hdu[0].header['PA_PNT']\n",
    "obs_pa"
   ]
  },
  {
   "cell_type": "code",
   "execution_count": 347,
   "metadata": {},
   "outputs": [],
   "source": [
    "#\n",
    "# now parse the file\n",
    "#\n",
    "rad2deg = 180.0/np.pi\n",
    "#\n",
    "xphi = []\n",
    "xtheta = []\n",
    "xra = []\n",
    "xdec = []\n",
    "for line in lines:\n",
    "    if ('Theta' in line):\n",
    "        xx = line.split()\n",
    "        xtheta.append(float(xx[2]))\n",
    "        xphi.append(float(xx[3])*rad2deg)\n",
    "    if ('DEC' in line):\n",
    "        xx = line.split()\n",
    "        xra.append(float(xx[2]))\n",
    "        xdec.append(float(xx[3]))\n",
    "#\n"
   ]
  },
  {
   "cell_type": "markdown",
   "metadata": {},
   "source": [
    "## Calculating the azymuthal angle\n",
    "\n",
    "We calculate the azymuthal angle using the source `RA`, `Dec` and the nominal telescope position of the boresight, as encoded in the FITS header keywords `RA_NOM` and `DEC_NOM`.\n",
    "\n",
    "This is a two step process: \n",
    "1. We calculate the position angle of the source with resect to the boresight. This gives us the sky position angle measured East of North.\n",
    "2. The position angle in the focal plane is calculated by subtracting the focal plane position angle (`PA_PNT` keyword)\n",
    "3. And finally we swap the angle aroung 180 deg to match zero azymuth direction, and to match the output from `ecoordconv`.\n",
    "\n",
    "We did a number of tests with `OBS_ID` at different focal plane position angles, in order to validate the method throug a comparison with the output frmo `ecoordconv` XMM-SAS task."
   ]
  },
  {
   "cell_type": "code",
   "execution_count": 348,
   "metadata": {},
   "outputs": [],
   "source": [
    "xsource = SkyCoord(ra=xra,dec=xdec,unit='deg')\n",
    "qxpa1 = (xsource.position_angle(centre1).degree - obs_pa) % 360.0\n",
    "qxpa2 = (xsource.position_angle(centre2).degree - obs_pa) % 360.0\n",
    "#i1 = np.where(qxpa1 >= 180)[0]\n",
    "#qxpa1[i1] = 360.0 - qxpa1[i1] + 180.0\n",
    "#i1 = np.where(qxpa1 < 180)[0]\n",
    "#qxpa1[i1] = 180 - qxpa1[i1]\n",
    "qxpa1 = (180.0 - qxpa1) % 360.0\n",
    "qxpa2 = (180.0 - qxpa2) % 360.0\n",
    "#\n",
    "#i1 = np.where(qxpa2 >= 180)[0]\n",
    "#qxpa2[i1] = 360.0 - qxpa2[i1] + 180.0\n",
    "#i1 = np.where(qxpa2 < 180)[0]\n",
    "#qxpa2[i1] = 180 - qxpa2[i1]\n",
    "#qxpa2 = 360.0 - qxpa2 + 180.0\n",
    "delta1 = qxpa1 - xphi\n",
    "#i1 = np.where(delta1 >= 360.0)[0]\n",
    "#delta1[i1] -= 360.0\n",
    "delta2 = qxpa2 - xphi\n",
    "#i1 = np.where(delta2 >= 360.0)[0]\n",
    "#delta2[i1] -= 360.0\n"
   ]
  },
  {
   "cell_type": "code",
   "execution_count": 349,
   "metadata": {},
   "outputs": [
    {
     "data": {
      "image/png": "[encoded data removed]",
      "text/plain": [
       "<Figure size 1080x720 with 1 Axes>"
      ]
     },
     "metadata": {},
     "output_type": "display_data"
    }
   ],
   "source": [
    "fig, ax = plt.subplots(figsize=(15,10))\n",
    "ax.plot(xphi,delta1,'ro',label='RA_OBJ, DEC_OBJ')\n",
    "ax.plot(xphi,delta2,'bo',label='RA_PNT, DEC_PNT')\n",
    "ax.set_ylim((-10,10))\n",
    "ax.set_xlabel(\"Azymuthal angle (deg) from ecoorconv\")\n",
    "ax.set_ylabel(\"Difference with mine (deg)\")\n",
    "ax.set_title(f'Observation {hdu[0].header[\"OBS_ID\"]} at PA={hdu[0].header[\"PA_PNT\"]:.1f} deg')\n",
    "ax.grid()\n",
    "ax.legend();"
   ]
  },
  {
   "cell_type": "markdown",
   "metadata": {},
   "source": [
    "## Conclusions:\n",
    "\n",
    "Using `RA_NOM`, `DEC_NOM` provides the best match for the azymuthal angle with the output from `ecoordconv`, although there is still some difference at a level of +/- 2 deg. This is possibly due to the fact that the nominal boresight pointing is not the optical axis.\n",
    "\n",
    "Using `RA_PNT`, `DEC_PNT` does not work well, although the keyword description says it's the optical axis.\n",
    "\n",
    "* There are some outliers at differences greater than 5 deg, these need investigation.\n"
   ]
  },
  {
   "cell_type": "code",
   "execution_count": 154,
   "metadata": {},
   "outputs": [
    {
     "name": "stdout",
     "output_type": "stream",
     "text": [
      "117.18460944251629 126.58280347730775\n",
      "565.6338737707233 601.3013760605025 8.366126229276688 -27.301376060502548\n"
     ]
    }
   ],
   "source": [
    "source = SkyCoord(ra=6.57809,dec=10.83876,unit='deg')\n",
    "centre1 = SkyCoord(ra=6.52917,dec=10.68917,unit='deg')\n",
    "centre2 = SkyCoord(ra=6.55321,dec=10.67353,unit='deg')\n",
    "pa1 = source.position_angle(centre1).degree\n",
    "pa2 = source.position_angle(centre2).degree\n",
    "off1 = source.separation(centre1).arcsec\n",
    "off2 = source.separation(centre2).arcsec\n",
    "print (360.0-pa1-45.0,360.0-pa2-45)\n",
    "print (off1,off2,574.0-off1,574-off2)"
   ]
  },
  {
   "cell_type": "code",
   "execution_count": null,
   "metadata": {},
   "outputs": [],
   "source": []
  },
  {
   "cell_type": "code",
   "execution_count": 235,
   "metadata": {},
   "outputs": [
    {
     "name": "stdout",
     "output_type": "stream",
     "text": [
      "305.1762636801468 290.3105117710635 234.8237363198532 249.6894882289365\n"
     ]
    }
   ],
   "source": [
    "source = SkyCoord(ra=208.47122,dec=69.25689,unit='deg')\n",
    "#source = SkyCoord(ra=208.67494,dec=69.30459,unit='deg')\n",
    "#source = SkyCoord(ra=208.718068,dec=69.287955,unit='deg')\n",
    "#source = SkyCoord(ra=208.76576,dec=69.40051,unit='deg')\n",
    "centre1 = SkyCoord(ra=208.264165,dec=69.30833,unit='deg')\n",
    "centre2 = SkyCoord(ra=208.19383,dec=69.29297,unit='deg')\n",
    "pa1 = source.position_angle(centre1).degree\n",
    "pa2 = source.position_angle(centre2).degree\n",
    "off1 = source.separation(centre1).arcsec\n",
    "off2 = source.separation(centre2).arcsec\n",
    "print (pa1,pa2,360-pa1+180,360-pa2+180)\n",
    "#print (off1,off2,334-off1,334-off2)"
   ]
  },
  {
   "cell_type": "code",
   "execution_count": 151,
   "metadata": {},
   "outputs": [
    {
     "data": {
      "text/plain": [
       "238.19513263523595"
      ]
     },
     "execution_count": 151,
     "metadata": {},
     "output_type": "execute_result"
    }
   ],
   "source": []
  },
  {
   "cell_type": "code",
   "execution_count": 224,
   "metadata": {},
   "outputs": [
    {
     "data": {
      "text/plain": [
       "299.29425602825864"
      ]
     },
     "execution_count": 224,
     "metadata": {},
     "output_type": "execute_result"
    }
   ],
   "source": [
    "\n",
    "#180*4.7249712/np.pi\n",
    "#180.0*4.7042566/np.pi\n",
    "180.0*0.5070985/np.pi\n",
    "180.0*3.5895813/np.pi\n",
    "180*5.827349/np.pi\n",
    "180*0.45519997/np.pi\n",
    "180*2.6770188/np.pi\n",
    "180*1.5616601/np.pi\n",
    "#180.0*4.1558104/np.pi\n",
    "180*4.7249712/np.pi\n",
    "180*4.6275644/np.pi\n",
    "180*2.7625884/np.pi\n",
    "180*5.2236702/np.pi\n"
   ]
  },
  {
   "cell_type": "code",
   "execution_count": 227,
   "metadata": {},
   "outputs": [
    {
     "data": {
      "text/plain": [
       "56.309932474020215"
      ]
     },
     "execution_count": 227,
     "metadata": {},
     "output_type": "execute_result"
    }
   ],
   "source": [
    "# CCD 1\n",
    "#xx=563\n",
    "#yy=132\n",
    "# on CCD 3\n",
    "#xx=311\n",
    "#yy=411\n",
    "#xx=259\n",
    "#yy=359\n",
    "# CCD#4\n",
    "xx=24\n",
    "yy=16\n",
    "#\n",
    "# this is the correct way to get the azymuthal angle for CCD 1\n",
    "#\n",
    "#360.0 - np.arctan2(xx,yy)*180.0/np.pi - 45.0\n",
    "np.arctan2(xx,yy)*180.0/np.pi\n",
    "#az\n",
    "#360-270.7 - np.arctan2(xx,yy)*180.0/np.pi"
   ]
  },
  {
   "cell_type": "code",
   "execution_count": 196,
   "metadata": {},
   "outputs": [
    {
     "data": {
      "image/png": "[encoded data removed]",
      "text/plain": [
       "<Figure size 720x720 with 1 Axes>"
      ]
     },
     "metadata": {
      "needs_background": "light"
     },
     "output_type": "display_data"
    }
   ],
   "source": [
    "#\n",
    "# derived from OBS_ID 0083960101 at PA approx zero (0.357 deg)\n",
    "#\n",
    "test = {'1':[11.333116,0.5070985], \n",
    "        '2':[740.874,3.5895813],\n",
    "        '3':[658.75213,4.7042566],\n",
    "        '4':[736.20138,5.827349],\n",
    "        '5':[741.53297,0.45519997],\n",
    "        '6':[664.35682,1.5616601],\n",
    "        '7':[740.37648,2.6770188]}\n",
    "#\n",
    "# these are independent of the position angle of the  observation!\n",
    "#\n",
    "labs = [x for x in test.keys()]\n",
    "rr = [test[x][0] for x in test.keys()]\n",
    "theta = [test[x][1] for x in test.keys()]\n",
    "\n",
    "import matplotlib.transforms as mtransforms\n",
    "\n",
    "fig = plt.figure(figsize=(10,10))\n",
    "\n",
    "# offset_copy works for polar plots also.\n",
    "ax = plt.subplot(1, 1, 1, projection='polar')\n",
    "\n",
    "trans_offset = mtransforms.offset_copy(ax.transData, fig=fig,\n",
    "                                       y=6, units='dots')\n",
    "ax.plot(theta,rr,'ro')\n",
    "\n",
    "for x, y,txt in zip(theta, rr, labs):\n",
    "    ax.text(x,y,txt,\n",
    "             transform=trans_offset,\n",
    "             horizontalalignment='center',\n",
    "             verticalalignment='bottom')\n",
    "plt.show()\n",
    "\n",
    "#plt.polar(theta,rr,'o')\n",
    "#plt.text(theta,rr,labs)"
   ]
  },
  {
   "cell_type": "code",
   "execution_count": 198,
   "metadata": {},
   "outputs": [
    {
     "name": "stdout",
     "output_type": "stream",
     "text": [
      "1 29.05460384741478\n",
      "2 205.66785870908342\n",
      "3 269.53404892656226\n",
      "4 333.88250344978076\n",
      "5 26.08103711548169\n",
      "6 89.47653276397808\n",
      "7 153.38187891717624\n"
     ]
    }
   ],
   "source": [
    "for kk in test.keys():\n",
    "    print (kk,test[kk][1]*180.0/np.pi)"
   ]
  },
  {
   "cell_type": "code",
   "execution_count": 202,
   "metadata": {},
   "outputs": [
    {
     "data": {
      "text/plain": [
       "4.529999999999973"
      ]
     },
     "execution_count": 202,
     "metadata": {},
     "output_type": "execute_result"
    }
   ],
   "source": [
    "269.53 - 265.0"
   ]
  },
  {
   "cell_type": "code",
   "execution_count": null,
   "metadata": {},
   "outputs": [],
   "source": []
  }
 ],
 "metadata": {
  "kernelspec": {
   "display_name": "Python 3",
   "language": "python",
   "name": "python3"
  },
  "language_info": {
   "codemirror_mode": {
    "name": "ipython",
    "version": 3
   },
   "file_extension": ".py",
   "mimetype": "text/x-python",
   "name": "python",
   "nbconvert_exporter": "python",
   "pygments_lexer": "ipython3",
   "version": "3.6.7"
  }
 },
 "nbformat": 4,
 "nbformat_minor": 4
}
