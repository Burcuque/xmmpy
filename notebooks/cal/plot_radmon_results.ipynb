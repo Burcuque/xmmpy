{
 "cells": [
  {
   "cell_type": "markdown",
   "metadata": {},
   "source": [
    "# Visualising the radiation monitor for XMM EPIC-PN observations\n",
    "\n",
    "## Covering rev [2500,3500]\n",
    "\n",
    "The method uses the radiation monitor file from Pedro Rodriguez and finds the mean background within the start and end time of each observation.\n"
   ]
  },
  {
   "cell_type": "code",
   "execution_count": 17,
   "metadata": {},
   "outputs": [],
   "source": [
    "import os\n",
    "import pandas as pd\n",
    "import altair as alt\n",
    "\n",
    "home = os.path.expanduser('~')\n",
    "wdir = f\"{home}/IVAN/Cu-line\"\n",
    "file_in = f\"{wdir}/PN_high_background.csv\"\n",
    "\n",
    "trad = pd.read_csv(file_in)"
   ]
  },
  {
   "cell_type": "code",
   "execution_count": 22,
   "metadata": {},
   "outputs": [
    {
     "data": {
      "application/vnd.vegalite.v2+json": {
       "$schema": "https://vega.github.io/schema/vega-lite/v2.6.0.json",
       "config": {
        "view": {
         "height": 300,
         "width": 400
        }
       },
       "data": {
        "name": "data-a3f61a2c12f2cf601412c1088b1b2f47"
       },
       "datasets": {
        "data-a3f61a2c12f2cf601412c1088b1b2f47": [
         {
          "expo": 74039,
          "mean_bkg": 2.734115600585937,
          "mode": " Full Frame",
          "obsid": 720090301,
          "rev": 2500,
          "std_bkg": 0.20760224759578705
         },
         {
          "expo": 93780,
          "mean_bkg": 70.6523208618164,
          "mode": " Full Frame",
          "obsid": 720090501,
          "rev": 2501,
          "std_bkg": 448.77728271484375
         },
         {
          "expo": 50039,
          "mean_bkg": 162.1470947265625,
          "mode": " Full Frame",
          "obsid": 723450101,
          "rev": 2502,
          "std_bkg": 3559.586669921875
         },
         {
          "expo": 64029,
          "mean_bkg": 2.6675245761871342,
          "mode": " Full Frame",
          "obsid": 720090601,
          "rev": 2503,
          "std_bkg": 0.1660871058702469
         },
         {
          "expo": 102169,
          "mean_bkg": 2.6571414470672607,
          "mode": " Small Window",
          "obsid": 690870501,
          "rev": 2504,
          "std_bkg": 0.1647561490535736
         },
         {
          "expo": 51744,
          "mean_bkg": 684.1007690429688,
          "mode": " Extended Full Frame",
          "obsid": 723801101,
          "rev": 2505,
          "std_bkg": 15431.5048828125
         },
         {
          "expo": 50039,
          "mean_bkg": 356.48468017578125,
          "mode": " Full Frame",
          "obsid": 721430101,
          "rev": 2507,
          "std_bkg": 7862.71484375
         },
         {
          "expo": 109126,
          "mean_bkg": 25.011587142944336,
          "mode": " Full Frame",
          "obsid": 722320101,
          "rev": 2509,
          "std_bkg": 114.02581787109376
         },
         {
          "expo": 130640,
          "mean_bkg": 52.2534065246582,
          "mode": " Full Frame",
          "obsid": 720700101,
          "rev": 2510,
          "std_bkg": 322.3807678222656
         },
         {
          "expo": 137255,
          "mean_bkg": 22.34939956665039,
          "mode": " Small Window",
          "obsid": 722190101,
          "rev": 2511,
          "std_bkg": 153.72315979003906
         },
         {
          "expo": 107880,
          "mean_bkg": 47.8637809753418,
          "mode": " Large Window",
          "obsid": 721010201,
          "rev": 2512,
          "std_bkg": 374.6115417480469
         },
         {
          "expo": 50244,
          "mean_bkg": 441.32269287109375,
          "mode": " Extended Full Frame",
          "obsid": 723801201,
          "rev": 2513,
          "std_bkg": 9788.8447265625
         },
         {
          "expo": 50039,
          "mean_bkg": 142.1526336669922,
          "mode": " Full Frame",
          "obsid": 720690101,
          "rev": 2513,
          "std_bkg": 3125.676025390625
         },
         {
          "expo": 55588,
          "mean_bkg": 2.7567970752716064,
          "mode": " Full Frame",
          "obsid": 724210201,
          "rev": 2514,
          "std_bkg": 0.3964686095714569
         },
         {
          "expo": 52206,
          "mean_bkg": 140.52720642089844,
          "mode": " Extended Full Frame",
          "obsid": 510781201,
          "rev": 2514,
          "std_bkg": 571.1781616210938
         },
         {
          "expo": 108470,
          "mean_bkg": 5.595843315124512,
          "mode": " Small Window",
          "obsid": 724820101,
          "rev": 2516,
          "std_bkg": 32.689178466796875
         },
         {
          "expo": 110180,
          "mean_bkg": 28.126161575317386,
          "mode": " Large Window",
          "obsid": 721010301,
          "rev": 2517,
          "std_bkg": 221.34283447265625
         },
         {
          "expo": 89039,
          "mean_bkg": 4.144200801849365,
          "mode": " Full Frame",
          "obsid": 722430101,
          "rev": 2520,
          "std_bkg": 9.832742691040039
         },
         {
          "expo": 70870,
          "mean_bkg": 24.741416931152344,
          "mode": " Small Window",
          "obsid": 727760101,
          "rev": 2521,
          "std_bkg": 173.49365234375
         },
         {
          "expo": 117180,
          "mean_bkg": 2.6804215908050537,
          "mode": " Large Window",
          "obsid": 721010401,
          "rev": 2522,
          "std_bkg": 0.5528320670127869
         },
         {
          "expo": 108780,
          "mean_bkg": 238.213623046875,
          "mode": " Large Window",
          "obsid": 721010501,
          "rev": 2524,
          "std_bkg": 2869.759765625
         },
         {
          "expo": 77844,
          "mean_bkg": 66.49407196044922,
          "mode": " Extended Full Frame",
          "obsid": 723290101,
          "rev": 2531,
          "std_bkg": 471.7572326660156
         },
         {
          "expo": 58331,
          "mean_bkg": 3.082129955291748,
          "mode": " Full Frame",
          "obsid": 722090101,
          "rev": 2532,
          "std_bkg": 0.21923474967479706
         },
         {
          "expo": 67270,
          "mean_bkg": 2.866202116012573,
          "mode": " Small Window",
          "obsid": 561380601,
          "rev": 2533,
          "std_bkg": 0.17988137900829315
         },
         {
          "expo": 78283,
          "mean_bkg": 3.1190919876098637,
          "mode": " Full Frame",
          "obsid": 721960101,
          "rev": 2535,
          "std_bkg": 0.4477142095565796
         },
         {
          "expo": 100543,
          "mean_bkg": 2.8221492767333984,
          "mode": " Small Window",
          "obsid": 724820201,
          "rev": 2537,
          "std_bkg": 0.2131679654121399
         },
         {
          "expo": 103924,
          "mean_bkg": 8.14500904083252,
          "mode": " Extended Full Frame",
          "obsid": 721630101,
          "rev": 2538,
          "std_bkg": 57.69750213623047
         },
         {
          "expo": 106744,
          "mean_bkg": 821.84912109375,
          "mode": " Extended Full Frame",
          "obsid": 721630201,
          "rev": 2539,
          "std_bkg": 26750.037109375
         },
         {
          "expo": 51039,
          "mean_bkg": 3.691938877105713,
          "mode": " Full Frame",
          "obsid": 724150101,
          "rev": 2540,
          "std_bkg": 3.978848695755005
         },
         {
          "expo": 51270,
          "mean_bkg": 4.691296100616455,
          "mode": " Small Window",
          "obsid": 159361501,
          "rev": 2540,
          "std_bkg": 8.8197660446167
         },
         {
          "expo": 102663,
          "mean_bkg": 2.8243100643157963,
          "mode": " Extended Full Frame",
          "obsid": 721630301,
          "rev": 2541,
          "std_bkg": 0.4375591278076172
         },
         {
          "expo": 85849,
          "mean_bkg": 3.477070569992065,
          "mode": " Full Frame",
          "obsid": 727770101,
          "rev": 2542,
          "std_bkg": 0.2786025106906891
         },
         {
          "expo": 77539,
          "mean_bkg": 20.69217872619629,
          "mode": " Full Frame",
          "obsid": 725070101,
          "rev": 2543,
          "std_bkg": 8.493609428405763
         },
         {
          "expo": 68839,
          "mean_bkg": 5.407683372497559,
          "mode": " Full Frame",
          "obsid": 721620101,
          "rev": 2544,
          "std_bkg": 3.3840758800506587
         },
         {
          "expo": 63039,
          "mean_bkg": 3.100090742111206,
          "mode": " Full Frame",
          "obsid": 728980201,
          "rev": 2547,
          "std_bkg": 0.17800769209861755
         },
         {
          "expo": 57039,
          "mean_bkg": 3.998815298080444,
          "mode": " Full Frame",
          "obsid": 412991101,
          "rev": 2549,
          "std_bkg": 0.4059448838233948
         },
         {
          "expo": 128375,
          "mean_bkg": 3.928943634033203,
          "mode": " Timing",
          "obsid": 720030101,
          "rev": 2550,
          "std_bkg": 0.7587835788726807
         },
         {
          "expo": 91339,
          "mean_bkg": 5.101676940917969,
          "mode": " Full Frame",
          "obsid": 722700201,
          "rev": 2551,
          "std_bkg": 23.632610321044922
         },
         {
          "expo": 52039,
          "mean_bkg": 2.942613363265991,
          "mode": " Full Frame",
          "obsid": 720390601,
          "rev": 2552,
          "std_bkg": 0.4951106607913971
         },
         {
          "expo": 51539,
          "mean_bkg": 54.86927795410156,
          "mode": " Full Frame",
          "obsid": 720390701,
          "rev": 2553,
          "std_bkg": 243.0322113037109
         },
         {
          "expo": 61744,
          "mean_bkg": 4.105884075164795,
          "mode": " Extended Full Frame",
          "obsid": 723800801,
          "rev": 2554,
          "std_bkg": 6.703587532043457
         },
         {
          "expo": 63639,
          "mean_bkg": 3.891477108001709,
          "mode": " Full Frame",
          "obsid": 722310201,
          "rev": 2554,
          "std_bkg": 0.6929934620857239
         },
         {
          "expo": 129039,
          "mean_bkg": 116.46141052246094,
          "mode": " Full Frame",
          "obsid": 722700101,
          "rev": 2556,
          "std_bkg": 4061.00048828125
         },
         {
          "expo": 103639,
          "mean_bkg": 3.899001359939575,
          "mode": " Full Frame",
          "obsid": 722360301,
          "rev": 2558,
          "std_bkg": 38.45835494995117
         },
         {
          "expo": 130570,
          "mean_bkg": 2.7062671184539795,
          "mode": " Small Window",
          "obsid": 725200301,
          "rev": 2559,
          "std_bkg": 0.18597382307052607
         },
         {
          "expo": 58339,
          "mean_bkg": 2.621823787689209,
          "mode": " Full Frame",
          "obsid": 722830101,
          "rev": 2560,
          "std_bkg": 0.16428011655807495
         },
         {
          "expo": 63470,
          "mean_bkg": 3.2982544898986816,
          "mode": " Small Window",
          "obsid": 722860701,
          "rev": 2561,
          "std_bkg": 2.491273641586304
         },
         {
          "expo": 79939,
          "mean_bkg": 278.49417114257807,
          "mode": " Full Frame",
          "obsid": 720890101,
          "rev": 2562,
          "std_bkg": 7762.16748046875
         },
         {
          "expo": 79939,
          "mean_bkg": 113.19740295410156,
          "mode": " Full Frame",
          "obsid": 720890201,
          "rev": 2563,
          "std_bkg": 3102.9130859375
         },
         {
          "expo": 51818,
          "mean_bkg": 3.0020086765289307,
          "mode": " Small Window",
          "obsid": 723100301,
          "rev": 2564,
          "std_bkg": 2.3890786170959477
         },
         {
          "expo": 105470,
          "mean_bkg": 3.817418336868286,
          "mode": " Small Window",
          "obsid": 722860201,
          "rev": 2565,
          "std_bkg": 8.657991409301758
         },
         {
          "expo": 107739,
          "mean_bkg": 3.708596229553223,
          "mode": " Small Window",
          "obsid": 722860301,
          "rev": 2566,
          "std_bkg": 5.834933280944824
         },
         {
          "expo": 60732,
          "mean_bkg": 4.280194282531738,
          "mode": " Timing",
          "obsid": 721130101,
          "rev": 2567,
          "std_bkg": 1.1810202598571775
         },
         {
          "expo": 53728,
          "mean_bkg": 2.665059328079224,
          "mode": " Extended Full Frame",
          "obsid": 721820301,
          "rev": 2568,
          "std_bkg": 0.3687117099761963
         },
         {
          "expo": 60152,
          "mean_bkg": 2.6812191009521484,
          "mode": " Small Window",
          "obsid": 721110101,
          "rev": 2569,
          "std_bkg": 0.7009513974189758
         },
         {
          "expo": 55270,
          "mean_bkg": 450.6391906738281,
          "mode": " Small Window",
          "obsid": 720111501,
          "rev": 2570,
          "std_bkg": 7680.64208984375
         },
         {
          "expo": 53080,
          "mean_bkg": 2.602122068405152,
          "mode": " Large Window",
          "obsid": 721730301,
          "rev": 2570,
          "std_bkg": 0.17754679918289185
         },
         {
          "expo": 56039,
          "mean_bkg": 4.882888317108153,
          "mode": " Full Frame",
          "obsid": 724150201,
          "rev": 2571,
          "std_bkg": 16.739219665527347
         },
         {
          "expo": 99029,
          "mean_bkg": 2.68636417388916,
          "mode": " Small Window",
          "obsid": 722860401,
          "rev": 2572,
          "std_bkg": 0.4926966428756714
         },
         {
          "expo": 107038,
          "mean_bkg": 3.5076727867126465,
          "mode": " Full Frame",
          "obsid": 729160301,
          "rev": 2573,
          "std_bkg": 0.3635053038597107
         },
         {
          "expo": 70039,
          "mean_bkg": 6.840126514434815,
          "mode": " Full Frame",
          "obsid": 722670101,
          "rev": 2574,
          "std_bkg": 2.0512657165527344
         },
         {
          "expo": 70038,
          "mean_bkg": 2.8412179946899414,
          "mode": " Full Frame",
          "obsid": 722670201,
          "rev": 2575,
          "std_bkg": 0.19144852459430692
         },
         {
          "expo": 73039,
          "mean_bkg": 106.87859344482422,
          "mode": " Full Frame",
          "obsid": 724840301,
          "rev": 2576,
          "std_bkg": 2812.204833984375
         },
         {
          "expo": 50644,
          "mean_bkg": 30.25446891784668,
          "mode": " Extended Full Frame",
          "obsid": 722900101,
          "rev": 2580,
          "std_bkg": 38.10439682006836
         },
         {
          "expo": 55039,
          "mean_bkg": 8.97061824798584,
          "mode": " Full Frame",
          "obsid": 723450201,
          "rev": 2581,
          "std_bkg": 0.8862752914428711
         },
         {
          "expo": 74939,
          "mean_bkg": 117.8335418701172,
          "mode": " Full Frame",
          "obsid": 723380101,
          "rev": 2581,
          "std_bkg": 3046.777587890625
         },
         {
          "expo": 65325,
          "mean_bkg": 12.15068817138672,
          "mode": " Large Window",
          "obsid": 723100401,
          "rev": 2582,
          "std_bkg": 58.27160263061523
         },
         {
          "expo": 127439,
          "mean_bkg": 159.1047821044922,
          "mode": " Full Frame",
          "obsid": 722360201,
          "rev": 2583,
          "std_bkg": 5450.7802734375
         },
         {
          "expo": 83744,
          "mean_bkg": 2.7167325019836426,
          "mode": " Extended Full Frame",
          "obsid": 723800201,
          "rev": 2584,
          "std_bkg": 0.16612136363983154
         },
         {
          "expo": 114344,
          "mean_bkg": 2.678659200668335,
          "mode": " Extended Full Frame",
          "obsid": 723801501,
          "rev": 2585,
          "std_bkg": 0.17289894819259646
         },
         {
          "expo": 76744,
          "mean_bkg": 3.078908443450928,
          "mode": " Extended Full Frame",
          "obsid": 723800101,
          "rev": 2586,
          "std_bkg": 0.4005477130413056
         },
         {
          "expo": 80470,
          "mean_bkg": 3.178788423538208,
          "mode": " Small Window",
          "obsid": 721220101,
          "rev": 2587,
          "std_bkg": 1.956699013710022
         },
         {
          "expo": 82470,
          "mean_bkg": 3.1484158039093018,
          "mode": " Small Window",
          "obsid": 721220301,
          "rev": 2588,
          "std_bkg": 1.8048697710037231
         },
         {
          "expo": 93278,
          "mean_bkg": 160.05992126464844,
          "mode": " Full Frame",
          "obsid": 724940101,
          "rev": 2589,
          "std_bkg": 4788.3349609375
         },
         {
          "expo": 77731,
          "mean_bkg": 2.9670217037200928,
          "mode": " Full Frame",
          "obsid": 720700301,
          "rev": 2590,
          "std_bkg": 1.7709013223648071
         },
         {
          "expo": 66791,
          "mean_bkg": 587.1805419921875,
          "mode": " Mosaic",
          "obsid": 747190301,
          "rev": 2591,
          "std_bkg": 13546.369140625
         },
         {
          "expo": 86444,
          "mean_bkg": 2.6661901473999023,
          "mode": " Extended Full Frame",
          "obsid": 723800401,
          "rev": 2592,
          "std_bkg": 0.16380438208580014
         },
         {
          "expo": 55470,
          "mean_bkg": 2.715719223022461,
          "mode": " Small Window",
          "obsid": 720111601,
          "rev": 2593,
          "std_bkg": 0.2733762562274933
         },
         {
          "expo": 59570,
          "mean_bkg": 2.6687695980072017,
          "mode": " Small Window",
          "obsid": 414180601,
          "rev": 2593,
          "std_bkg": 0.2598462700843811
         },
         {
          "expo": 81902,
          "mean_bkg": 2.609341859817505,
          "mode": " Extended Full Frame",
          "obsid": 723800501,
          "rev": 2594,
          "std_bkg": 0.1827992796897888
         },
         {
          "expo": 104139,
          "mean_bkg": 2.585310935974121,
          "mode": " Full Frame",
          "obsid": 720700201,
          "rev": 2595,
          "std_bkg": 0.1951678693294525
         },
         {
          "expo": 131939,
          "mean_bkg": 3.2528982162475586,
          "mode": " Full Frame",
          "obsid": 724620301,
          "rev": 2598,
          "std_bkg": 0.5502020120620728
         },
         {
          "expo": 128424,
          "mean_bkg": 410.991943359375,
          "mode": " Small Window",
          "obsid": 722190201,
          "rev": 2603,
          "std_bkg": 12180.4375
         },
         {
          "expo": 137311,
          "mean_bkg": 208.3699493408203,
          "mode": " Large Window",
          "obsid": 721010601,
          "rev": 2604,
          "std_bkg": 6739.76513671875
         },
         {
          "expo": 52039,
          "mean_bkg": 69.42317199707031,
          "mode": " Full Frame",
          "obsid": 723410301,
          "rev": 2605,
          "std_bkg": 11.24893569946289
         },
         {
          "expo": 110216,
          "mean_bkg": 16.76352882385254,
          "mode": " Small Window",
          "obsid": 740830201,
          "rev": 2606,
          "std_bkg": 24.903188705444336
         },
         {
          "expo": 81733,
          "mean_bkg": 3.1097354888916016,
          "mode": " Timing",
          "obsid": 729560401,
          "rev": 2608,
          "std_bkg": 0.21412990987300876
         },
         {
          "expo": 50830,
          "mean_bkg": 2.807241916656494,
          "mode": " Extended Full Frame",
          "obsid": 745130201,
          "rev": 2609,
          "std_bkg": 0.16772954165935516
         },
         {
          "expo": 54039,
          "mean_bkg": 2.7024834156036377,
          "mode": " Full Frame",
          "obsid": 723410401,
          "rev": 2610,
          "std_bkg": 0.1619471162557602
         },
         {
          "expo": 50039,
          "mean_bkg": 91.9705810546875,
          "mode": " Full Frame",
          "obsid": 721400301,
          "rev": 2611,
          "std_bkg": 2008.384765625
         },
         {
          "expo": 89644,
          "mean_bkg": 409.4881896972656,
          "mode": " Extended Full Frame",
          "obsid": 723270101,
          "rev": 2613,
          "std_bkg": 11702.2421875
         },
         {
          "expo": 131170,
          "mean_bkg": 211.5461883544922,
          "mode": " Small Window",
          "obsid": 721600201,
          "rev": 2614,
          "std_bkg": 5180.44287109375
         },
         {
          "expo": 130269,
          "mean_bkg": 12.948527336120605,
          "mode": " Small Window",
          "obsid": 721600301,
          "rev": 2615,
          "std_bkg": 55.53664779663086
         },
         {
          "expo": 130983,
          "mean_bkg": 93.04518127441406,
          "mode": " Small Window",
          "obsid": 721600401,
          "rev": 2616,
          "std_bkg": 1947.947998046875
         },
         {
          "expo": 131770,
          "mean_bkg": 81.15730285644531,
          "mode": " Small Window",
          "obsid": 721600501,
          "rev": 2617,
          "std_bkg": 2422.70703125
         },
         {
          "expo": 73470,
          "mean_bkg": 3.563675165176392,
          "mode": " Small Window",
          "obsid": 727760201,
          "rev": 2618,
          "std_bkg": 1.4212861061096191
         },
         {
          "expo": 55734,
          "mean_bkg": 54.92911911010742,
          "mode": " Full Frame",
          "obsid": 721400201,
          "rev": 2618,
          "std_bkg": 162.9024658203125
         },
         {
          "expo": 59807,
          "mean_bkg": 69.93765258789061,
          "mode": " Full Frame",
          "obsid": 723410501,
          "rev": 2621,
          "std_bkg": 180.7235107421875
         },
         {
          "expo": 83539,
          "mean_bkg": 3.2245492935180664,
          "mode": " Full Frame",
          "obsid": 690441801,
          "rev": 2622,
          "std_bkg": 1.3223739862442017
         },
         {
          "expo": 70644,
          "mean_bkg": 16.586532592773438,
          "mode": " Extended Full Frame",
          "obsid": 721570101,
          "rev": 2623,
          "std_bkg": 36.86124801635742
         },
         {
          "expo": 115538,
          "mean_bkg": 71.4651107788086,
          "mode": " Full Frame",
          "obsid": 724270101,
          "rev": 2629,
          "std_bkg": 2336.33740234375
         },
         {
          "expo": 68239,
          "mean_bkg": 23.690052032470703,
          "mode": " Full Frame",
          "obsid": 724270201,
          "rev": 2630,
          "std_bkg": 9.466898918151855
         },
         {
          "expo": 86639,
          "mean_bkg": 2.8834235668182373,
          "mode": " Full Frame",
          "obsid": 727770501,
          "rev": 2631,
          "std_bkg": 0.4270139038562775
         },
         {
          "expo": 63470,
          "mean_bkg": 3.7036149501800537,
          "mode": " Small Window",
          "obsid": 727770901,
          "rev": 2633,
          "std_bkg": 1.934154748916626
         },
         {
          "expo": 86909,
          "mean_bkg": 2.7153773307800293,
          "mode": " Full Frame",
          "obsid": 744300101,
          "rev": 2637,
          "std_bkg": 0.4133401215076447
         },
         {
          "expo": 52044,
          "mean_bkg": 2.815699815750122,
          "mode": " Extended Full Frame",
          "obsid": 744400101,
          "rev": 2638,
          "std_bkg": 0.4284330904483795
         },
         {
          "expo": 132270,
          "mean_bkg": 60.8000373840332,
          "mode": " Small Window",
          "obsid": 741330101,
          "rev": 2640,
          "std_bkg": 271.22882080078125
         },
         {
          "expo": 92602,
          "mean_bkg": 3.618537425994873,
          "mode": " Mosaic",
          "obsid": 747590101,
          "rev": 2641,
          "std_bkg": 1.893430233001709
         },
         {
          "expo": 121744,
          "mean_bkg": 35.78257369995117,
          "mode": " Extended Full Frame",
          "obsid": 744400501,
          "rev": 2645,
          "std_bkg": 108.98806762695312
         },
         {
          "expo": 100525,
          "mean_bkg": 2.7304575443267822,
          "mode": " Extended Full Frame",
          "obsid": 741300401,
          "rev": 2646,
          "std_bkg": 0.18274547159671786
         },
         {
          "expo": 119722,
          "mean_bkg": 167.10206604003906,
          "mode": " Extended Full Frame",
          "obsid": 744401301,
          "rev": 2647,
          "std_bkg": 629.3284912109375
         },
         {
          "expo": 100039,
          "mean_bkg": 177.65408325195312,
          "mode": " Full Frame",
          "obsid": 741820101,
          "rev": 2649,
          "std_bkg": 5529.09375
         },
         {
          "expo": 83680,
          "mean_bkg": 2.7048351764678955,
          "mode": " Large Window",
          "obsid": 745110101,
          "rev": 2652,
          "std_bkg": 0.3742440342903137
         },
         {
          "expo": 122717,
          "mean_bkg": 56.269775390625,
          "mode": " Extended Full Frame",
          "obsid": 744400401,
          "rev": 2653,
          "std_bkg": 214.06033325195312
         },
         {
          "expo": 50539,
          "mean_bkg": 67.44938659667969,
          "mode": " Full Frame",
          "obsid": 743220201,
          "rev": 2654,
          "std_bkg": 182.56280517578125
         },
         {
          "expo": 115464,
          "mean_bkg": 495.7822265625,
          "mode": " Timing",
          "obsid": 742610101,
          "rev": 2656,
          "std_bkg": 9838.923828125
         },
         {
          "expo": 69273,
          "mean_bkg": 71.36441040039062,
          "mode": " Timing",
          "obsid": 742930101,
          "rev": 2658,
          "std_bkg": 239.376220703125
         },
         {
          "expo": 100680,
          "mean_bkg": 85.57783508300781,
          "mode": " Large Window",
          "obsid": 745110201,
          "rev": 2659,
          "std_bkg": 2625.033447265625
         },
         {
          "expo": 130776,
          "mean_bkg": 5.940135002136231,
          "mode": " Large Window",
          "obsid": 743470201,
          "rev": 2660,
          "std_bkg": 9.812968254089355
         },
         {
          "expo": 99180,
          "mean_bkg": 131.21563720703122,
          "mode": " Large Window",
          "obsid": 745110301,
          "rev": 2661,
          "std_bkg": 3969.209228515625
         },
         {
          "expo": 96680,
          "mean_bkg": 185.73878479003903,
          "mode": " Large Window",
          "obsid": 745110401,
          "rev": 2663,
          "std_bkg": 5622.7001953125
         },
         {
          "expo": 54680,
          "mean_bkg": 217.8409423828125,
          "mode": " Large Window",
          "obsid": 745110501,
          "rev": 2664,
          "std_bkg": 5008.94775390625
         },
         {
          "expo": 91980,
          "mean_bkg": 2.526205062866211,
          "mode": " Large Window",
          "obsid": 745110601,
          "rev": 2666,
          "std_bkg": 0.1595172882080078
         },
         {
          "expo": 107322,
          "mean_bkg": 54.19604110717773,
          "mode": " Small Window",
          "obsid": 741260101,
          "rev": 2667,
          "std_bkg": 238.90647888183597
         },
         {
          "expo": 136302,
          "mean_bkg": 2.87600326538086,
          "mode": " Mosaic",
          "obsid": 742830101,
          "rev": 2668,
          "std_bkg": 1.5651785135269165
         },
         {
          "expo": 60038,
          "mean_bkg": 2.603076219558716,
          "mode": " Full Frame",
          "obsid": 742590301,
          "rev": 2669,
          "std_bkg": 0.16360324621200562
         },
         {
          "expo": 95680,
          "mean_bkg": 2.6429924964904785,
          "mode": " Large Window",
          "obsid": 745110701,
          "rev": 2670,
          "std_bkg": 0.16723601520061493
         },
         {
          "expo": 62467,
          "mean_bkg": 31.245834350585934,
          "mode": " Small Window",
          "obsid": 740060201,
          "rev": 2671,
          "std_bkg": 88.068359375
         },
         {
          "expo": 133701,
          "mean_bkg": 98.10298919677734,
          "mode": " Mosaic",
          "obsid": 747390101,
          "rev": 2672,
          "std_bkg": 3417.64208984375
         },
         {
          "expo": 138679,
          "mean_bkg": 6.393944263458253,
          "mode": " Large Window",
          "obsid": 744450101,
          "rev": 2673,
          "std_bkg": 22.915773391723636
         },
         {
          "expo": 67680,
          "mean_bkg": 6.4154133796691895,
          "mode": " Large Window",
          "obsid": 744450401,
          "rev": 2674,
          "std_bkg": 38.1201171875
         },
         {
          "expo": 51150,
          "mean_bkg": 6.155437469482423,
          "mode": " Full Frame",
          "obsid": 744450401,
          "rev": 2674,
          "std_bkg": 8.519292831420897
         },
         {
          "expo": 56070,
          "mean_bkg": 2.6026923656463623,
          "mode": " Small Window",
          "obsid": 740060301,
          "rev": 2675,
          "std_bkg": 0.1697559505701065
         },
         {
          "expo": 139702,
          "mean_bkg": 2.62985634803772,
          "mode": " Mosaic",
          "obsid": 747400101,
          "rev": 2676,
          "std_bkg": 0.1668323129415512
         },
         {
          "expo": 139770,
          "mean_bkg": 6.480165958404541,
          "mode": " Mosaic",
          "obsid": 747430101,
          "rev": 2677,
          "std_bkg": 37.73870468139648
         },
         {
          "expo": 127944,
          "mean_bkg": 75.05999755859375,
          "mode": " Extended Full Frame",
          "obsid": 741930101,
          "rev": 2679,
          "std_bkg": 2575.89453125
         },
         {
          "expo": 110470,
          "mean_bkg": 830.3097534179688,
          "mode": " Small Window",
          "obsid": 744800101,
          "rev": 2681,
          "std_bkg": 26389.849609375
         },
         {
          "expo": 83239,
          "mean_bkg": 2.7390799522399902,
          "mode": " Full Frame",
          "obsid": 744240101,
          "rev": 2682,
          "std_bkg": 0.17096395790576935
         },
         {
          "expo": 132333,
          "mean_bkg": 2.898087501525879,
          "mode": " Timing",
          "obsid": 744210101,
          "rev": 2683,
          "std_bkg": 0.8983262181282043
         },
         {
          "expo": 139691,
          "mean_bkg": 84.31099700927734,
          "mode": " Mosaic",
          "obsid": 747440101,
          "rev": 2684,
          "std_bkg": 2371.26904296875
         },
         {
          "expo": 125423,
          "mean_bkg": 13.27981948852539,
          "mode": " Full Frame",
          "obsid": 741440101,
          "rev": 2685,
          "std_bkg": 97.4479522705078
         },
         {
          "expo": 52470,
          "mean_bkg": 2.8171212673187256,
          "mode": " Small Window",
          "obsid": 740060401,
          "rev": 2691,
          "std_bkg": 0.1635209321975708
         },
         {
          "expo": 59882,
          "mean_bkg": 24.52377510070801,
          "mode": " Full Frame",
          "obsid": 740610201,
          "rev": 2691,
          "std_bkg": 128.16615295410156
         },
         {
          "expo": 60719,
          "mean_bkg": 5.400081157684326,
          "mode": " Full Frame",
          "obsid": 742390101,
          "rev": 2692,
          "std_bkg": 11.52532196044922
         },
         {
          "expo": 92470,
          "mean_bkg": 2.90769362449646,
          "mode": " Small Window",
          "obsid": 742270201,
          "rev": 2693,
          "std_bkg": 0.1788720339536667
         },
         {
          "expo": 113939,
          "mean_bkg": 532.7784423828125,
          "mode": " Full Frame",
          "obsid": 744050101,
          "rev": 2695,
          "std_bkg": 17251.556640625
         },
         {
          "expo": 65719,
          "mean_bkg": 2.955271005630493,
          "mode": " Full Frame",
          "obsid": 743610101,
          "rev": 2696,
          "std_bkg": 0.17930251359939575
         },
         {
          "expo": 74744,
          "mean_bkg": 9.04951286315918,
          "mode": " Extended Full Frame",
          "obsid": 744870201,
          "rev": 2698,
          "std_bkg": 1.282212734222412
         },
         {
          "expo": 92439,
          "mean_bkg": 10.091466903686523,
          "mode": " Full Frame",
          "obsid": 740970101,
          "rev": 2699,
          "std_bkg": 0.44249090552330017
         },
         {
          "expo": 86644,
          "mean_bkg": 3.7225279808044434,
          "mode": " Extended Full Frame",
          "obsid": 741300301,
          "rev": 2705,
          "std_bkg": 8.33895206451416
         },
         {
          "expo": 78470,
          "mean_bkg": 3.020108461380005,
          "mode": " Small Window",
          "obsid": 727760301,
          "rev": 2706,
          "std_bkg": 0.654449462890625
         },
         {
          "expo": 136832,
          "mean_bkg": 6.862560749053955,
          "mode": " Timing",
          "obsid": 724400501,
          "rev": 2708,
          "std_bkg": 30.47477531433105
         },
         {
          "expo": 78733,
          "mean_bkg": 121.09339904785156,
          "mode": " Timing",
          "obsid": 724401901,
          "rev": 2709,
          "std_bkg": 3293.333740234375
         },
         {
          "expo": 91839,
          "mean_bkg": 3.5732998847961426,
          "mode": " Full Frame",
          "obsid": 743940201,
          "rev": 2710,
          "std_bkg": 0.29379841685295105
         },
         {
          "expo": 75039,
          "mean_bkg": 3.250553846359253,
          "mode": " Full Frame",
          "obsid": 742620101,
          "rev": 2712,
          "std_bkg": 0.18691794574260712
         },
         {
          "expo": 50739,
          "mean_bkg": 160.49447631835938,
          "mode": " Full Frame",
          "obsid": 744070101,
          "rev": 2712,
          "std_bkg": 3380.946533203125
         },
         {
          "expo": 53939,
          "mean_bkg": 3.0267105102539062,
          "mode": " Full Frame",
          "obsid": 728990101,
          "rev": 2714,
          "std_bkg": 0.18471691012382507
         },
         {
          "expo": 60039,
          "mean_bkg": 267.7242431640625,
          "mode": " Full Frame",
          "obsid": 741590101,
          "rev": 2715,
          "std_bkg": 6485.8681640625
         },
         {
          "expo": 56997,
          "mean_bkg": 2.958968162536621,
          "mode": " Mosaic",
          "obsid": 748590101,
          "rev": 2715,
          "std_bkg": 0.3273596167564392
         },
         {
          "expo": 112620,
          "mean_bkg": 13.44092845916748,
          "mode": " Extended Full Frame",
          "obsid": 744340101,
          "rev": 2716,
          "std_bkg": 91.3266143798828
         },
         {
          "expo": 138570,
          "mean_bkg": 4.009479522705078,
          "mode": " Small Window",
          "obsid": 744420101,
          "rev": 2718,
          "std_bkg": 9.677938461303713
         },
         {
          "expo": 79744,
          "mean_bkg": 7.018599510192871,
          "mode": " Extended Full Frame",
          "obsid": 743020201,
          "rev": 2720,
          "std_bkg": 26.543399810791016
         },
         {
          "expo": 67039,
          "mean_bkg": 3.048975944519043,
          "mode": " Full Frame",
          "obsid": 412991201,
          "rev": 2725,
          "std_bkg": 0.5691599249839783
         },
         {
          "expo": 60739,
          "mean_bkg": 2.9649715423583984,
          "mode": " Full Frame",
          "obsid": 740610101,
          "rev": 2725,
          "std_bkg": 0.4619444608688354
         },
         {
          "expo": 90639,
          "mean_bkg": 151.4660186767578,
          "mode": " Full Frame",
          "obsid": 727771301,
          "rev": 2726,
          "std_bkg": 4471.04248046875
         },
         {
          "expo": 90601,
          "mean_bkg": 2.867460966110229,
          "mode": " Full Frame",
          "obsid": 743940101,
          "rev": 2727,
          "std_bkg": 0.2259102612733841
         },
         {
          "expo": 67039,
          "mean_bkg": 2.8779485225677486,
          "mode": " Full Frame",
          "obsid": 743950101,
          "rev": 2728,
          "std_bkg": 0.19895608723163605
         },
         {
          "expo": 58939,
          "mean_bkg": 5.7046570777893075,
          "mode": " Full Frame",
          "obsid": 743950201,
          "rev": 2729,
          "std_bkg": 0.7224910855293274
         },
         {
          "expo": 60039,
          "mean_bkg": 166.9488983154297,
          "mode": " Full Frame",
          "obsid": 743950301,
          "rev": 2730,
          "std_bkg": 3983.52978515625
         },
         {
          "expo": 70532,
          "mean_bkg": 2.902256488800049,
          "mode": " Timing",
          "obsid": 743060101,
          "rev": 2732,
          "std_bkg": 0.16989293694496155
         },
         {
          "expo": 53270,
          "mean_bkg": 2.7682015895843506,
          "mode": " Small Window",
          "obsid": 740000101,
          "rev": 2733,
          "std_bkg": 0.17653623223304749
         },
         {
          "expo": 102439,
          "mean_bkg": 3.2132344245910645,
          "mode": " Full Frame",
          "obsid": 740040301,
          "rev": 2736,
          "std_bkg": 0.8506632447242737
         },
         {
          "expo": 129944,
          "mean_bkg": 3.286376953125,
          "mode": " Extended Full Frame",
          "obsid": 745120101,
          "rev": 2737,
          "std_bkg": 0.3405730724334717
         },
         {
          "expo": 54039,
          "mean_bkg": 3.2494139671325684,
          "mode": " Full Frame",
          "obsid": 743950401,
          "rev": 2738,
          "std_bkg": 0.24091599881649015
         },
         {
          "expo": 59039,
          "mean_bkg": 3.0803451538085938,
          "mode": " Full Frame",
          "obsid": 743950501,
          "rev": 2739,
          "std_bkg": 0.18241827189922333
         },
         {
          "expo": 60039,
          "mean_bkg": 3.027972221374512,
          "mode": " Full Frame",
          "obsid": 743950601,
          "rev": 2740,
          "std_bkg": 0.18539519608020785
         },
         {
          "expo": 57369,
          "mean_bkg": 3.0818407535552983,
          "mode": " Full Frame",
          "obsid": 743950701,
          "rev": 2741,
          "std_bkg": 0.1859809458255768
         },
         {
          "expo": 77739,
          "mean_bkg": 3.0968663692474365,
          "mode": " Full Frame",
          "obsid": 743790101,
          "rev": 2742,
          "std_bkg": 0.17939512431621552
         },
         {
          "expo": 51544,
          "mean_bkg": 3.6006863117218018,
          "mode": " Extended Full Frame",
          "obsid": 744460101,
          "rev": 2743,
          "std_bkg": 1.7546980381011963
         },
         {
          "expo": 130120,
          "mean_bkg": 338.95379638671875,
          "mode": " Large Window",
          "obsid": 744490401,
          "rev": 2744,
          "std_bkg": 12112.619140625
         },
         {
          "expo": 92139,
          "mean_bkg": 482.01898193359375,
          "mode": " Full Frame",
          "obsid": 740960101,
          "rev": 2745,
          "std_bkg": 14467.025390625
         },
         {
          "expo": 65980,
          "mean_bkg": 122.3524169921875,
          "mode": " Large Window",
          "obsid": 744490501,
          "rev": 2746,
          "std_bkg": 2836.11181640625
         },
         {
          "expo": 93469,
          "mean_bkg": 3.704548597335816,
          "mode": " Small Window",
          "obsid": 722480201,
          "rev": 2747,
          "std_bkg": 2.528714179992676
         },
         {
          "expo": 52300,
          "mean_bkg": 2.8958868980407715,
          "mode": " Large Window",
          "obsid": 744490601,
          "rev": 2749,
          "std_bkg": 0.2047247290611267
         },
         {
          "expo": 68344,
          "mean_bkg": 3.184144735336304,
          "mode": " Extended Full Frame",
          "obsid": 741980101,
          "rev": 2749,
          "std_bkg": 0.3639708161354065
         },
         {
          "expo": 122039,
          "mean_bkg": 4.678582668304443,
          "mode": " Full Frame",
          "obsid": 744640101,
          "rev": 2750,
          "std_bkg": 13.18308925628662
         },
         {
          "expo": 54039,
          "mean_bkg": 3.288388729095459,
          "mode": " Full Frame",
          "obsid": 745320101,
          "rev": 2751,
          "std_bkg": 0.23805607855319974
         },
         {
          "expo": 106644,
          "mean_bkg": 3.82735276222229,
          "mode": " Extended Full Frame",
          "obsid": 743850101,
          "rev": 2752,
          "std_bkg": 0.2534025013446808
         },
         {
          "expo": 117969,
          "mean_bkg": 9.500346183776855,
          "mode": " Small Window",
          "obsid": 744440101,
          "rev": 2753,
          "std_bkg": 4.036605358123778
         },
         {
          "expo": 118470,
          "mean_bkg": 140.72735595703122,
          "mode": " Small Window",
          "obsid": 744440201,
          "rev": 2754,
          "std_bkg": 4423.0576171875
         },
         {
          "expo": 120470,
          "mean_bkg": 6.432868480682372,
          "mode": " Small Window",
          "obsid": 744440301,
          "rev": 2755,
          "std_bkg": 6.686827182769775
         },
         {
          "expo": 126970,
          "mean_bkg": 6.444779396057129,
          "mode": " Small Window",
          "obsid": 744440401,
          "rev": 2756,
          "std_bkg": 3.086026430130005
         },
         {
          "expo": 51970,
          "mean_bkg": 4.292037963867188,
          "mode": " Small Window",
          "obsid": 744010101,
          "rev": 2757,
          "std_bkg": 0.2536405324935913
         },
         {
          "expo": 50039,
          "mean_bkg": 3.01656436920166,
          "mode": " Full Frame",
          "obsid": 748391101,
          "rev": 2762,
          "std_bkg": 0.17968356609344482
         },
         {
          "expo": 77639,
          "mean_bkg": 325.2157287597656,
          "mode": " Full Frame",
          "obsid": 748190101,
          "rev": 2762,
          "std_bkg": 8967.83203125
         },
         {
          "expo": 137939,
          "mean_bkg": 6.578618049621582,
          "mode": " Full Frame",
          "obsid": 743700201,
          "rev": 2763,
          "std_bkg": 111.79474639892578
         },
         {
          "expo": 137370,
          "mean_bkg": 147.89776611328125,
          "mode": " Small Window",
          "obsid": 743830501,
          "rev": 2765,
          "std_bkg": 5251.78857421875
         },
         {
          "expo": 118570,
          "mean_bkg": 3.6174707412719727,
          "mode": " Small Window",
          "obsid": 744440501,
          "rev": 2766,
          "std_bkg": 3.333523988723755
         },
         {
          "expo": 64844,
          "mean_bkg": 3.1769597530364986,
          "mode": " Extended Full Frame",
          "obsid": 744930401,
          "rev": 2767,
          "std_bkg": 0.2700495421886444
         },
         {
          "expo": 127802,
          "mean_bkg": 75.33356475830078,
          "mode": " Mosaic",
          "obsid": 747410101,
          "rev": 2770,
          "std_bkg": 2575.88623046875
         },
         {
          "expo": 120470,
          "mean_bkg": 3.275662899017334,
          "mode": " Small Window",
          "obsid": 743830601,
          "rev": 2771,
          "std_bkg": 0.18619100749492645
         },
         {
          "expo": 130707,
          "mean_bkg": 7.316043376922607,
          "mode": " Mosaic",
          "obsid": 747420101,
          "rev": 2772,
          "std_bkg": 27.036081314086914
         },
         {
          "expo": 137680,
          "mean_bkg": 84.80300903320312,
          "mode": " Large Window",
          "obsid": 744450301,
          "rev": 2773,
          "std_bkg": 2361.296142578125
         },
         {
          "expo": 56700,
          "mean_bkg": 4.067595958709717,
          "mode": " Full Frame",
          "obsid": 748591101,
          "rev": 2774,
          "std_bkg": 0.9980831146240234
         },
         {
          "expo": 53070,
          "mean_bkg": 3.8311760425567623,
          "mode": " Small Window",
          "obsid": 740060501,
          "rev": 2775,
          "std_bkg": 0.2944857180118561
         },
         {
          "expo": 120261,
          "mean_bkg": 4.098820686340332,
          "mode": " Full Frame",
          "obsid": 747190801,
          "rev": 2776,
          "std_bkg": 1.5243147611618042
         },
         {
          "expo": 97039,
          "mean_bkg": 18.944997787475586,
          "mode": " Full Frame",
          "obsid": 742430301,
          "rev": 2777,
          "std_bkg": 83.66654205322266
         },
         {
          "expo": 83944,
          "mean_bkg": 16.328067779541016,
          "mode": " Extended Full Frame",
          "obsid": 744400201,
          "rev": 2778,
          "std_bkg": 95.34314727783205
         },
         {
          "expo": 50039,
          "mean_bkg": 392.22802734375,
          "mode": " Full Frame",
          "obsid": 761920101,
          "rev": 2779,
          "std_bkg": 8692.482421875
         },
         {
          "expo": 55039,
          "mean_bkg": 7.128715991973878,
          "mode": " Full Frame",
          "obsid": 761920201,
          "rev": 2779,
          "std_bkg": 18.693687438964844
         },
         {
          "expo": 57039,
          "mean_bkg": 3.714629411697388,
          "mode": " Full Frame",
          "obsid": 761920301,
          "rev": 2780,
          "std_bkg": 2.5770702362060547
         },
         {
          "expo": 118644,
          "mean_bkg": 499.7485656738281,
          "mode": " Extended Full Frame",
          "obsid": 741300201,
          "rev": 2781,
          "std_bkg": 16936.35546875
         },
         {
          "expo": 71939,
          "mean_bkg": 1266.9637451171875,
          "mode": " Full Frame",
          "obsid": 761920401,
          "rev": 2782,
          "std_bkg": 32611.076171875
         },
         {
          "expo": 86579,
          "mean_bkg": 22.36208152770996,
          "mode": " Full Frame",
          "obsid": 761920501,
          "rev": 2783,
          "std_bkg": 104.45516967773438
         },
         {
          "expo": 126061,
          "mean_bkg": 2.998539447784424,
          "mode": " Small Window",
          "obsid": 740770101,
          "rev": 2784,
          "std_bkg": 0.3243573904037476
         },
         {
          "expo": 90644,
          "mean_bkg": 3.0494906902313232,
          "mode": " Extended Full Frame",
          "obsid": 744400301,
          "rev": 2785,
          "std_bkg": 0.5796232223510742
         },
         {
          "expo": 95470,
          "mean_bkg": 207.2245941162109,
          "mode": " Small Window",
          "obsid": 744290201,
          "rev": 2786,
          "std_bkg": 6296.57568359375
         },
         {
          "expo": 80639,
          "mean_bkg": 6.635258674621582,
          "mode": " Full Frame",
          "obsid": 761920601,
          "rev": 2787,
          "std_bkg": 25.75701904296875
         },
         {
          "expo": 50039,
          "mean_bkg": 4.0560970306396475,
          "mode": " Full Frame",
          "obsid": 740620301,
          "rev": 2788,
          "std_bkg": 1.2607944011688232
         },
         {
          "expo": 98870,
          "mean_bkg": 447.00537109375,
          "mode": " Small Window",
          "obsid": 744290101,
          "rev": 2789,
          "std_bkg": 13927.7021484375
         },
         {
          "expo": 99227,
          "mean_bkg": 41.29872131347656,
          "mode": " Timing",
          "obsid": 748391301,
          "rev": 2790,
          "std_bkg": 261.355224609375
         },
         {
          "expo": 137938,
          "mean_bkg": 6.785972595214844,
          "mode": " Full Frame",
          "obsid": 742050101,
          "rev": 2792,
          "std_bkg": 24.62089538574219
         },
         {
          "expo": 80939,
          "mean_bkg": 37.18768310546875,
          "mode": " Full Frame",
          "obsid": 743030101,
          "rev": 2793,
          "std_bkg": 169.45828247070312
         },
         {
          "expo": 74070,
          "mean_bkg": 3.510687828063965,
          "mode": " Small Window",
          "obsid": 727760401,
          "rev": 2794,
          "std_bkg": 0.34049469232559204
         },
         {
          "expo": 62940,
          "mean_bkg": 3.520033359527588,
          "mode": " Extended Full Frame",
          "obsid": 740640101,
          "rev": 2795,
          "std_bkg": 1.698462724685669
         },
         {
          "expo": 52339,
          "mean_bkg": 1710.7147216796875,
          "mode": " Full Frame",
          "obsid": 740570201,
          "rev": 2795,
          "std_bkg": 38206.77734375
         },
         {
          "expo": 68929,
          "mean_bkg": 2.917802095413208,
          "mode": " Full Frame",
          "obsid": 764800101,
          "rev": 2797,
          "std_bkg": 1.3288050889968872
         },
         {
          "expo": 134720,
          "mean_bkg": 61.33113479614258,
          "mode": " Full Frame",
          "obsid": 744600101,
          "rev": 2798,
          "std_bkg": 267.3626708984375
         },
         {
          "expo": 77533,
          "mean_bkg": 7.1817307472229,
          "mode": " Timing",
          "obsid": 744170201,
          "rev": 2799,
          "std_bkg": 25.635499954223636
         },
         {
          "expo": 87239,
          "mean_bkg": 3.435194730758667,
          "mode": " Full Frame",
          "obsid": 741450101,
          "rev": 2800,
          "std_bkg": 1.006985068321228
         },
         {
          "expo": 57039,
          "mean_bkg": 3.690061092376709,
          "mode": " Full Frame",
          "obsid": 764800301,
          "rev": 2801,
          "std_bkg": 1.2693623304367063
         },
         {
          "expo": 73181,
          "mean_bkg": 62.99842834472656,
          "mode": " Timing",
          "obsid": 770580301,
          "rev": 2801,
          "std_bkg": 246.49575805664062
         },
         {
          "expo": 70632,
          "mean_bkg": 715.6875610351562,
          "mode": " Timing",
          "obsid": 742980101,
          "rev": 2802,
          "std_bkg": 13895.19921875
         },
         {
          "expo": 100039,
          "mean_bkg": 2.7064077854156494,
          "mode": " Full Frame",
          "obsid": 742490101,
          "rev": 2803,
          "std_bkg": 0.1978842169046402
         },
         {
          "expo": 65744,
          "mean_bkg": 2.717038631439209,
          "mode": " Extended Full Frame",
          "obsid": 743930101,
          "rev": 2805,
          "std_bkg": 0.2295338362455368
         },
         {
          "expo": 60039,
          "mean_bkg": 3.162606239318848,
          "mode": " Full Frame",
          "obsid": 764800501,
          "rev": 2807,
          "std_bkg": 0.9404551386833192
         },
         {
          "expo": 54939,
          "mean_bkg": 2.816336870193481,
          "mode": " Full Frame",
          "obsid": 764800601,
          "rev": 2808,
          "std_bkg": 0.6943166255950928
         },
         {
          "expo": 61539,
          "mean_bkg": 2.553226947784424,
          "mode": " Full Frame",
          "obsid": 742570101,
          "rev": 2808,
          "std_bkg": 0.16352041065692902
         },
         {
          "expo": 81193,
          "mean_bkg": 2.8622646331787114,
          "mode": " Timing",
          "obsid": 724490201,
          "rev": 2809,
          "std_bkg": 1.6408555507659912
         },
         {
          "expo": 75369,
          "mean_bkg": 163.6793670654297,
          "mode": " Full Frame",
          "obsid": 761020101,
          "rev": 2811,
          "std_bkg": 4478.14892578125
         },
         {
          "expo": 54539,
          "mean_bkg": 3.553816080093384,
          "mode": " Full Frame",
          "obsid": 764800801,
          "rev": 2813,
          "std_bkg": 2.217665195465088
         },
         {
          "expo": 110039,
          "mean_bkg": 67.52875518798828,
          "mode": " Full Frame",
          "obsid": 761090101,
          "rev": 2814,
          "std_bkg": 2115.3408203125
         },
         {
          "expo": 68181,
          "mean_bkg": 174.23843383789062,
          "mode": " Full Frame",
          "obsid": 761020301,
          "rev": 2815,
          "std_bkg": 440.64556884765625
         },
         {
          "expo": 50039,
          "mean_bkg": 2.976279020309448,
          "mode": " Full Frame",
          "obsid": 764800901,
          "rev": 2816,
          "std_bkg": 0.191966325044632
         },
         {
          "expo": 53639,
          "mean_bkg": 3.2314019203186035,
          "mode": " Full Frame",
          "obsid": 770180101,
          "rev": 2817,
          "std_bkg": 1.2950494289398191
         },
         {
          "expo": 56601,
          "mean_bkg": 209.9947509765625,
          "mode": " Small Window",
          "obsid": 561380701,
          "rev": 2817,
          "std_bkg": 599.0968017578125
         },
         {
          "expo": 97039,
          "mean_bkg": 97.67789459228516,
          "mode": " Full Frame",
          "obsid": 748391001,
          "rev": 2818,
          "std_bkg": 2953.22119140625
         },
         {
          "expo": 81139,
          "mean_bkg": 29.41933631896973,
          "mode": " Full Frame",
          "obsid": 761920801,
          "rev": 2819,
          "std_bkg": 93.44180297851562
         },
         {
          "expo": 59938,
          "mean_bkg": 202.44210815429688,
          "mode": " Full Frame",
          "obsid": 761920901,
          "rev": 2821,
          "std_bkg": 4792.36328125
         },
         {
          "expo": 121438,
          "mean_bkg": 60.89558029174805,
          "mode": " Large Window",
          "obsid": 761500201,
          "rev": 2822,
          "std_bkg": 200.5166015625
         },
         {
          "expo": 50039,
          "mean_bkg": 2.6590147018432617,
          "mode": " Full Frame",
          "obsid": 761921001,
          "rev": 2823,
          "std_bkg": 0.2467755824327469
         },
         {
          "expo": 59039,
          "mean_bkg": 3.0629680156707764,
          "mode": " Full Frame",
          "obsid": 761921201,
          "rev": 2824,
          "std_bkg": 1.1955360174179075
         },
         {
          "expo": 61233,
          "mean_bkg": 292.5081481933594,
          "mode": " Full Frame",
          "obsid": 761921101,
          "rev": 2824,
          "std_bkg": 1019.53662109375
         },
         {
          "expo": 70638,
          "mean_bkg": 5.918782711029053,
          "mode": " Full Frame",
          "obsid": 763090201,
          "rev": 2826,
          "std_bkg": 65.44636535644531
         },
         {
          "expo": 89639,
          "mean_bkg": 2.812429189682007,
          "mode": " Full Frame",
          "obsid": 742250601,
          "rev": 2827,
          "std_bkg": 0.3077060878276825
         },
         {
          "expo": 53244,
          "mean_bkg": 32.46480941772461,
          "mode": " Extended Full Frame",
          "obsid": 763670201,
          "rev": 2829,
          "std_bkg": 113.49112701416016
         },
         {
          "expo": 57039,
          "mean_bkg": 2.7830331325531006,
          "mode": " Full Frame",
          "obsid": 770180201,
          "rev": 2831,
          "std_bkg": 0.169114887714386
         },
         {
          "expo": 53839,
          "mean_bkg": 9.905574798583984,
          "mode": " Full Frame",
          "obsid": 762970401,
          "rev": 2831,
          "std_bkg": 21.60257339477539
         },
         {
          "expo": 100551,
          "mean_bkg": 31.39923095703125,
          "mode": " Extended Full Frame",
          "obsid": 761550101,
          "rev": 2832,
          "std_bkg": 123.26002502441406
         },
         {
          "expo": 108839,
          "mean_bkg": 12.071438789367676,
          "mode": " Full Frame",
          "obsid": 762470101,
          "rev": 2833,
          "std_bkg": 39.03965377807617
         },
         {
          "expo": 59039,
          "mean_bkg": 2.92056941986084,
          "mode": " Full Frame",
          "obsid": 764850201,
          "rev": 2834,
          "std_bkg": 0.1799708604812622
         },
         {
          "expo": 100844,
          "mean_bkg": 17.466583251953125,
          "mode": " Extended Full Frame",
          "obsid": 760940101,
          "rev": 2835,
          "std_bkg": 47.72396087646485
         },
         {
          "expo": 82938,
          "mean_bkg": 6.4349613189697275,
          "mode": " Full Frame",
          "obsid": 763820101,
          "rev": 2838,
          "std_bkg": 10.090968132019043
         },
         {
          "expo": 89270,
          "mean_bkg": 38.35655975341797,
          "mode": " Small Window",
          "obsid": 760350201,
          "rev": 2840,
          "std_bkg": 187.0309295654297
         },
         {
          "expo": 87370,
          "mean_bkg": 128.1484375,
          "mode": " Small Window",
          "obsid": 760330101,
          "rev": 2841,
          "std_bkg": 2700.431640625
         },
         {
          "expo": 56039,
          "mean_bkg": 243.7321929931641,
          "mode": " Full Frame",
          "obsid": 764800701,
          "rev": 2842,
          "std_bkg": 5690.84716796875
         },
         {
          "expo": 51038,
          "mean_bkg": 8.219414710998535,
          "mode": " Full Frame",
          "obsid": 770180401,
          "rev": 2843,
          "std_bkg": 1.3096126317977903
         },
         {
          "expo": 60544,
          "mean_bkg": 28539.923828125,
          "mode": " Extended Full Frame",
          "obsid": 764640101,
          "rev": 2843,
          "std_bkg": 260363.703125
         },
         {
          "expo": 67744,
          "mean_bkg": 8.602303504943848,
          "mode": " Extended Full Frame",
          "obsid": 741300501,
          "rev": 2846,
          "std_bkg": 2.7366909980773926
         },
         {
          "expo": 69744,
          "mean_bkg": 8.187750816345215,
          "mode": " Extended Full Frame",
          "obsid": 741300601,
          "rev": 2847,
          "std_bkg": 0.7046725749969482
         },
         {
          "expo": 111139,
          "mean_bkg": 13.191482543945312,
          "mode": " Full Frame",
          "obsid": 763120101,
          "rev": 2848,
          "std_bkg": 30.95715141296387
         },
         {
          "expo": 55794,
          "mean_bkg": 3.635586261749268,
          "mode": " Full Frame",
          "obsid": 770180301,
          "rev": 2850,
          "std_bkg": 0.2501073777675629
         },
         {
          "expo": 135351,
          "mean_bkg": 28.83798408508301,
          "mode": " Small Window",
          "obsid": 764170101,
          "rev": 2851,
          "std_bkg": 129.07467651367188
         },
         {
          "expo": 87744,
          "mean_bkg": 2.9507648944854736,
          "mode": " Extended Full Frame",
          "obsid": 760340201,
          "rev": 2852,
          "std_bkg": 0.3704341351985931
         },
         {
          "expo": 127874,
          "mean_bkg": 2301.583251953125,
          "mode": " Small Window",
          "obsid": 761220101,
          "rev": 2853,
          "std_bkg": 40173.7734375
         },
         {
          "expo": 74139,
          "mean_bkg": 4.606088161468506,
          "mode": " Full Frame",
          "obsid": 761790101,
          "rev": 2854,
          "std_bkg": 3.835329532623291
         },
         {
          "expo": 124932,
          "mean_bkg": 142.4482421875,
          "mode": " Extended Full Frame",
          "obsid": 762070101,
          "rev": 2855,
          "std_bkg": 4925.1708984375
         },
         {
          "expo": 70870,
          "mean_bkg": 3.0869016647338867,
          "mode": " Small Window",
          "obsid": 414191101,
          "rev": 2856,
          "std_bkg": 0.3717476427555084
         },
         {
          "expo": 103639,
          "mean_bkg": 6.120809555053711,
          "mode": " Full Frame",
          "obsid": 760540101,
          "rev": 2857,
          "std_bkg": 25.817466735839844
         },
         {
          "expo": 94039,
          "mean_bkg": 2.899378061294556,
          "mode": " Full Frame",
          "obsid": 761090201,
          "rev": 2858,
          "std_bkg": 0.17793093621730804
         },
         {
          "expo": 90639,
          "mean_bkg": 2.948662281036377,
          "mode": " Full Frame",
          "obsid": 762520201,
          "rev": 2859,
          "std_bkg": 0.16981689631938934
         },
         {
          "expo": 118392,
          "mean_bkg": 76.82907104492188,
          "mode": " Full Frame",
          "obsid": 764460201,
          "rev": 2860,
          "std_bkg": 2541.56494140625
         },
         {
          "expo": 109939,
          "mean_bkg": 6.929938793182372,
          "mode": " Full Frame",
          "obsid": 762220101,
          "rev": 2861,
          "std_bkg": 29.0108585357666
         },
         {
          "expo": 65039,
          "mean_bkg": 2.910573720932007,
          "mode": " Full Frame",
          "obsid": 764460301,
          "rev": 2862,
          "std_bkg": 0.17603535950183868
         },
         {
          "expo": 72533,
          "mean_bkg": 2.970968008041382,
          "mode": " Timing",
          "obsid": 744840201,
          "rev": 2863,
          "std_bkg": 0.24037142097949984
         },
         {
          "expo": 135439,
          "mean_bkg": 2.975084066390991,
          "mode": " Full Frame",
          "obsid": 761100101,
          "rev": 2864,
          "std_bkg": 0.19995926320552826
         },
         {
          "expo": 54039,
          "mean_bkg": 137.33364868164062,
          "mode": " Full Frame",
          "obsid": 770180501,
          "rev": 2865,
          "std_bkg": 3127.704833984375
         },
         {
          "expo": 135939,
          "mean_bkg": 3.073370218276977,
          "mode": " Full Frame",
          "obsid": 761100201,
          "rev": 2866,
          "std_bkg": 0.3718065917491913
         },
         {
          "expo": 135939,
          "mean_bkg": 3.046897649765014,
          "mode": " Full Frame",
          "obsid": 761100301,
          "rev": 2867,
          "std_bkg": 0.24646532535552976
         },
         {
          "expo": 60039,
          "mean_bkg": 3.0559513568878174,
          "mode": " Full Frame",
          "obsid": 761620101,
          "rev": 2868,
          "std_bkg": 1.4109313488006592
         },
         {
          "expo": 135939,
          "mean_bkg": 6.820295333862305,
          "mode": " Full Frame",
          "obsid": 761100401,
          "rev": 2869,
          "std_bkg": 29.947551727294922
         },
         {
          "expo": 108739,
          "mean_bkg": 3.476794004440308,
          "mode": " Full Frame",
          "obsid": 763120301,
          "rev": 2870,
          "std_bkg": 3.2692837715148926
         },
         {
          "expo": 90680,
          "mean_bkg": 178.97120666503906,
          "mode": " Large Window",
          "obsid": 760530201,
          "rev": 2871,
          "std_bkg": 5281.03271484375
         },
         {
          "expo": 81280,
          "mean_bkg": 2.8841023445129395,
          "mode": " Large Window",
          "obsid": 760530301,
          "rev": 2872,
          "std_bkg": 0.1989330053329468
         },
         {
          "expo": 88470,
          "mean_bkg": 2.8857882022857666,
          "mode": " Small Window",
          "obsid": 761100701,
          "rev": 2873,
          "std_bkg": 0.17131680250167847
         },
         {
          "expo": 70039,
          "mean_bkg": 3.0919713973999023,
          "mode": " Full Frame",
          "obsid": 764460401,
          "rev": 2875,
          "std_bkg": 0.6496807932853699
         },
         {
          "expo": 55039,
          "mean_bkg": 2.9992051124572754,
          "mode": " Full Frame",
          "obsid": 770180701,
          "rev": 2876,
          "std_bkg": 0.18365663290023804
         },
         {
          "expo": 77580,
          "mean_bkg": 5.801104068756104,
          "mode": " Large Window",
          "obsid": 764670101,
          "rev": 2876,
          "std_bkg": 11.726045608520508
         },
         {
          "expo": 111538,
          "mean_bkg": 2.893004894256592,
          "mode": " Full Frame",
          "obsid": 761090301,
          "rev": 2878,
          "std_bkg": 0.17237402498722074
         },
         {
          "expo": 136039,
          "mean_bkg": 3.067826747894287,
          "mode": " Full Frame",
          "obsid": 761101001,
          "rev": 2880,
          "std_bkg": 0.21743175387382507
         },
         {
          "expo": 67039,
          "mean_bkg": 3.085711002349853,
          "mode": " Full Frame",
          "obsid": 770180601,
          "rev": 2881,
          "std_bkg": 0.18850736320018768
         },
         {
          "expo": 84039,
          "mean_bkg": 3.073226928710937,
          "mode": " Full Frame",
          "obsid": 770180801,
          "rev": 2882,
          "std_bkg": 0.18599221110343933
         },
         {
          "expo": 61639,
          "mean_bkg": 480.9094543457031,
          "mode": " Full Frame",
          "obsid": 761040101,
          "rev": 2883,
          "std_bkg": 11773.7763671875
         },
         {
          "expo": 96464,
          "mean_bkg": 3.2859172821044917,
          "mode": " Extended Full Frame",
          "obsid": 762750201,
          "rev": 2885,
          "std_bkg": 1.353691577911377
         },
         {
          "expo": 72727,
          "mean_bkg": 3.143383026123047,
          "mode": " Full Frame",
          "obsid": 770190401,
          "rev": 2886,
          "std_bkg": 1.3946068286895752
         },
         {
          "expo": 96333,
          "mean_bkg": 5.015284538269043,
          "mode": " Timing",
          "obsid": 762210201,
          "rev": 2888,
          "std_bkg": 21.256669998168945
         },
         {
          "expo": 52269,
          "mean_bkg": 3.4130001068115234,
          "mode": " Small Window",
          "obsid": 760646601,
          "rev": 2889,
          "std_bkg": 1.6827518939971924
         },
         {
          "expo": 128470,
          "mean_bkg": 4.818154335021973,
          "mode": " Small Window",
          "obsid": 762890101,
          "rev": 2890,
          "std_bkg": 2.7906951904296875
         },
         {
          "expo": 57639,
          "mean_bkg": 3.0254874229431152,
          "mode": " Full Frame",
          "obsid": 727760701,
          "rev": 2892,
          "std_bkg": 0.18139292299747467
         },
         {
          "expo": 111039,
          "mean_bkg": 3.1002628803253174,
          "mode": " Full Frame",
          "obsid": 762250301,
          "rev": 2894,
          "std_bkg": 0.1842060089111328
         },
         {
          "expo": 139870,
          "mean_bkg": 5.931319713592528,
          "mode": " Small Window",
          "obsid": 761870201,
          "rev": 2896,
          "std_bkg": 15.663740158081055
         },
         {
          "expo": 81470,
          "mean_bkg": 4.123980522155762,
          "mode": " Small Window",
          "obsid": 727760501,
          "rev": 2897,
          "std_bkg": 4.3131985664367685
         },
         {
          "expo": 51539,
          "mean_bkg": 3.1095454692840576,
          "mode": " Full Frame",
          "obsid": 763700301,
          "rev": 2897,
          "std_bkg": 0.1827276945114136
         },
         {
          "expo": 53773,
          "mean_bkg": 3.4269914627075195,
          "mode": " Timing",
          "obsid": 764860101,
          "rev": 2898,
          "std_bkg": 0.7620355486869812
         },
         {
          "expo": 65039,
          "mean_bkg": 5.7339115142822275,
          "mode": " Full Frame",
          "obsid": 764820201,
          "rev": 2899,
          "std_bkg": 6.4500389099121085
         },
         {
          "expo": 80470,
          "mean_bkg": 10.097875595092773,
          "mode": " Small Window",
          "obsid": 763100101,
          "rev": 2900,
          "std_bkg": 44.88475799560547
         },
         {
          "expo": 72939,
          "mean_bkg": 5.555685520172119,
          "mode": " Full Frame",
          "obsid": 761210101,
          "rev": 2901,
          "std_bkg": 11.785889625549315
         },
         {
          "expo": 50039,
          "mean_bkg": 3.2065138816833496,
          "mode": " Full Frame",
          "obsid": 770190601,
          "rev": 2903,
          "std_bkg": 0.4948440492153168
         },
         {
          "expo": 56139,
          "mean_bkg": 3.1002068519592285,
          "mode": " Full Frame",
          "obsid": 770190701,
          "rev": 2904,
          "std_bkg": 0.35499611496925354
         },
         {
          "expo": 59939,
          "mean_bkg": 3.074519157409668,
          "mode": " Full Frame",
          "obsid": 761730501,
          "rev": 2904,
          "std_bkg": 0.34005650877952576
         },
         {
          "expo": 54239,
          "mean_bkg": 4.536944389343262,
          "mode": " Full Frame",
          "obsid": 770190801,
          "rev": 2905,
          "std_bkg": 26.80231475830078
         },
         {
          "expo": 50680,
          "mean_bkg": 3.214986085891724,
          "mode": " Large Window",
          "obsid": 764420101,
          "rev": 2905,
          "std_bkg": 0.4277243614196777
         },
         {
          "expo": 60039,
          "mean_bkg": 1518.79345703125,
          "mode": " Full Frame",
          "obsid": 764910201,
          "rev": 2907,
          "std_bkg": 35698.3828125
         },
         {
          "expo": 50039,
          "mean_bkg": 3.117928504943848,
          "mode": " Full Frame",
          "obsid": 722370201,
          "rev": 2909,
          "std_bkg": 0.16949515044689178
         },
         {
          "expo": 60239,
          "mean_bkg": 3.2713744640350337,
          "mode": " Full Frame",
          "obsid": 412991401,
          "rev": 2911,
          "std_bkg": 0.18597882986068728
         },
         {
          "expo": 130139,
          "mean_bkg": 3.5012521743774414,
          "mode": " Full Frame",
          "obsid": 760870101,
          "rev": 2912,
          "std_bkg": 2.6642637252807617
         },
         {
          "expo": 88939,
          "mean_bkg": 3.6361491680145264,
          "mode": " Full Frame",
          "obsid": 763500201,
          "rev": 2913,
          "std_bkg": 1.3615020513534546
         },
         {
          "expo": 75312,
          "mean_bkg": 3.0573244094848637,
          "mode": " Full Frame",
          "obsid": 764370201,
          "rev": 2914,
          "std_bkg": 0.20854276418685916
         },
         {
          "expo": 98339,
          "mean_bkg": 6.395920753479004,
          "mode": " Full Frame",
          "obsid": 762520301,
          "rev": 2915,
          "std_bkg": 8.85132122039795
         },
         {
          "expo": 64039,
          "mean_bkg": 3.0037076473236084,
          "mode": " Full Frame",
          "obsid": 763620101,
          "rev": 2918,
          "std_bkg": 0.1725931167602539
         },
         {
          "expo": 101844,
          "mean_bkg": 3.1593599319458012,
          "mode": " Extended Full Frame",
          "obsid": 761550201,
          "rev": 2920,
          "std_bkg": 0.2171000838279724
         },
         {
          "expo": 83670,
          "mean_bkg": 3.3418843746185303,
          "mode": " Small Window",
          "obsid": 760350301,
          "rev": 2923,
          "std_bkg": 0.2817710638046265
         },
         {
          "expo": 56439,
          "mean_bkg": 3.559864044189453,
          "mode": " Full Frame",
          "obsid": 761910201,
          "rev": 2925,
          "std_bkg": 1.1409436464309692
         },
         {
          "expo": 84339,
          "mean_bkg": 3.672842741012573,
          "mode": " Full Frame",
          "obsid": 762360101,
          "rev": 2926,
          "std_bkg": 0.7553766965866089
         },
         {
          "expo": 75168,
          "mean_bkg": 3.386234998703003,
          "mode": " Large Window",
          "obsid": 790180101,
          "rev": 2927,
          "std_bkg": 0.1959441155195236
         },
         {
          "expo": 71939,
          "mean_bkg": 164.56936645507812,
          "mode": " Full Frame",
          "obsid": 764770101,
          "rev": 2928,
          "std_bkg": 4328.9765625
         },
         {
          "expo": 131339,
          "mean_bkg": 5.3151445388793945,
          "mode": " Full Frame",
          "obsid": 764010101,
          "rev": 2929,
          "std_bkg": 22.87917137145996
         },
         {
          "expo": 94970,
          "mean_bkg": 161.96530151367188,
          "mode": " Small Window",
          "obsid": 770980101,
          "rev": 2931,
          "std_bkg": 4809.1748046875
         },
         {
          "expo": 84370,
          "mean_bkg": 7.960743427276611,
          "mode": " Small Window",
          "obsid": 760350401,
          "rev": 2933,
          "std_bkg": 30.532236099243164
         },
         {
          "expo": 139369,
          "mean_bkg": 3.2418315410614014,
          "mode": " Small Window",
          "obsid": 763850101,
          "rev": 2936,
          "std_bkg": 0.36225780844688416
         },
         {
          "expo": 89370,
          "mean_bkg": 3.438861846923828,
          "mode": " Small Window",
          "obsid": 760350501,
          "rev": 2937,
          "std_bkg": 0.3072917461395264
         },
         {
          "expo": 91326,
          "mean_bkg": 3.4485888481140137,
          "mode": " Small Window",
          "obsid": 760350601,
          "rev": 2938,
          "std_bkg": 0.19266949594020846
         },
         {
          "expo": 96470,
          "mean_bkg": 3.5230715274810787,
          "mode": " Small Window",
          "obsid": 760350701,
          "rev": 2939,
          "std_bkg": 0.2426658719778061
         },
         {
          "expo": 100070,
          "mean_bkg": 203.6656494140625,
          "mode": " Small Window",
          "obsid": 760350801,
          "rev": 2940,
          "std_bkg": 6158.79638671875
         },
         {
          "expo": 135398,
          "mean_bkg": 4.454143524169922,
          "mode": " Full Frame",
          "obsid": 741280201,
          "rev": 2941,
          "std_bkg": 1.6479206085205078
         },
         {
          "expo": 111939,
          "mean_bkg": 11.411747932434082,
          "mode": " Full Frame",
          "obsid": 763120401,
          "rev": 2942,
          "std_bkg": 17.338691711425778
         },
         {
          "expo": 79939,
          "mean_bkg": 8.485533714294434,
          "mode": " Full Frame",
          "obsid": 761020201,
          "rev": 2943,
          "std_bkg": 31.86077880859375
         },
         {
          "expo": 115039,
          "mean_bkg": 64.41041564941406,
          "mode": " Full Frame",
          "obsid": 761630101,
          "rev": 2944,
          "std_bkg": 2064.9150390625
         },
         {
          "expo": 112407,
          "mean_bkg": 3.4371628761291504,
          "mode": " Full Frame",
          "obsid": 761630201,
          "rev": 2945,
          "std_bkg": 0.3091172277927399
         },
         {
          "expo": 114039,
          "mean_bkg": 3.4680840969085693,
          "mode": " Full Frame",
          "obsid": 761630301,
          "rev": 2946,
          "std_bkg": 0.491459459066391
         },
         {
          "expo": 51219,
          "mean_bkg": 3.32851791381836,
          "mode": " Full Frame",
          "obsid": 762520101,
          "rev": 2948,
          "std_bkg": 0.1815514415502548
         },
         {
          "expo": 139539,
          "mean_bkg": 3.3957223892211914,
          "mode": " Full Frame",
          "obsid": 763220201,
          "rev": 2950,
          "std_bkg": 0.23418404161930084
         },
         {
          "expo": 56744,
          "mean_bkg": 3.2792913913726807,
          "mode": " Extended Full Frame",
          "obsid": 762870901,
          "rev": 2951,
          "std_bkg": 0.18224406242370605
         },
         {
          "expo": 72939,
          "mean_bkg": 30.2393798828125,
          "mode": " Full Frame",
          "obsid": 761620201,
          "rev": 2951,
          "std_bkg": 728.5681762695312
         },
         {
          "expo": 112039,
          "mean_bkg": 11.353510856628418,
          "mode": " Full Frame",
          "obsid": 763120201,
          "rev": 2952,
          "std_bkg": 68.60494232177734
         },
         {
          "expo": 99679,
          "mean_bkg": 3.7168760299682617,
          "mode": " Large Window",
          "obsid": 763480101,
          "rev": 2954,
          "std_bkg": 0.19618037343025208
         },
         {
          "expo": 60896,
          "mean_bkg": 3.6869828701019287,
          "mode": " Full Frame",
          "obsid": 761720101,
          "rev": 2955,
          "std_bkg": 0.2213115096092224
         },
         {
          "expo": 110039,
          "mean_bkg": 4.3181371688842765,
          "mode": " Full Frame",
          "obsid": 764110101,
          "rev": 2956,
          "std_bkg": 4.374008655548097
         },
         {
          "expo": 69840,
          "mean_bkg": 3.699320077896118,
          "mode": " Full Frame",
          "obsid": 764550101,
          "rev": 2957,
          "std_bkg": 1.0248638391494749
         },
         {
          "expo": 97467,
          "mean_bkg": 259.4760131835937,
          "mode": " Full Frame",
          "obsid": 760750101,
          "rev": 2958,
          "std_bkg": 7991.2216796875
         },
         {
          "expo": 52539,
          "mean_bkg": 3.5855250358581543,
          "mode": " Full Frame",
          "obsid": 763160201,
          "rev": 2959,
          "std_bkg": 0.2929646074771881
         },
         {
          "expo": 79939,
          "mean_bkg": 7.916135787963867,
          "mode": " Full Frame",
          "obsid": 770990101,
          "rev": 2960,
          "std_bkg": 26.51995086669922
         },
         {
          "expo": 55038,
          "mean_bkg": 3.71045446395874,
          "mode": " Full Frame",
          "obsid": 762630101,
          "rev": 2962,
          "std_bkg": 0.3568531572818756
         },
         {
          "expo": 59939,
          "mean_bkg": 3.5641176700592037,
          "mode": " Full Frame",
          "obsid": 764460501,
          "rev": 2962,
          "std_bkg": 0.19015368819236755
         },
         {
          "expo": 131780,
          "mean_bkg": 3.5918891429901123,
          "mode": " Large Window",
          "obsid": 764530101,
          "rev": 2963,
          "std_bkg": 0.4247760772705078
         },
         {
          "expo": 56270,
          "mean_bkg": 3.4977056980133057,
          "mode": " Small Window",
          "obsid": 414180801,
          "rev": 2964,
          "std_bkg": 0.1811617761850357
         },
         {
          "expo": 108544,
          "mean_bkg": 15.789775848388672,
          "mode": " Extended Full Frame",
          "obsid": 761070101,
          "rev": 2966,
          "std_bkg": 126.50269317626952
         },
         {
          "expo": 110444,
          "mean_bkg": 5.957825183868407,
          "mode": " Extended Full Frame",
          "obsid": 761070201,
          "rev": 2967,
          "std_bkg": 14.767333030700685
         },
         {
          "expo": 138939,
          "mean_bkg": 3.6662082672119136,
          "mode": " Full Frame",
          "obsid": 760900101,
          "rev": 2968,
          "std_bkg": 0.25796690583229065
         },
         {
          "expo": 53980,
          "mean_bkg": 6.288406848907472,
          "mode": " Large Window",
          "obsid": 790180201,
          "rev": 2970,
          "std_bkg": 11.388582229614258
         },
         {
          "expo": 79439,
          "mean_bkg": 105.96761322021484,
          "mode": " Full Frame",
          "obsid": 770990201,
          "rev": 2971,
          "std_bkg": 2833.34375
         },
         {
          "expo": 104250,
          "mean_bkg": 3.8999631404876713,
          "mode": " Full Frame",
          "obsid": 763720401,
          "rev": 2972,
          "std_bkg": 3.911887884140015
         },
         {
          "expo": 58833,
          "mean_bkg": 3.7365038394927983,
          "mode": " Timing",
          "obsid": 743960201,
          "rev": 2975,
          "std_bkg": 0.655674934387207
         },
         {
          "expo": 76470,
          "mean_bkg": 10.822521209716797,
          "mode": " Small Window",
          "obsid": 727760601,
          "rev": 2977,
          "std_bkg": 98.10746002197266
         },
         {
          "expo": 139334,
          "mean_bkg": 3.622836828231812,
          "mode": " Timing",
          "obsid": 783540201,
          "rev": 2978,
          "std_bkg": 0.2391193211078644
         },
         {
          "expo": 136338,
          "mean_bkg": 8.001567840576174,
          "mode": " Timing",
          "obsid": 783540301,
          "rev": 2979,
          "std_bkg": 40.51535415649414
         },
         {
          "expo": 79091,
          "mean_bkg": 3.851608991622925,
          "mode": " Full Frame",
          "obsid": 761950201,
          "rev": 2980,
          "std_bkg": 0.7820742726325989
         },
         {
          "expo": 108840,
          "mean_bkg": 412.7503356933594,
          "mode": " Full Frame",
          "obsid": 763720301,
          "rev": 2982,
          "std_bkg": 13251.2001953125
         },
         {
          "expo": 62036,
          "mean_bkg": 4.712419509887695,
          "mode": " Timing",
          "obsid": 744361701,
          "rev": 2983,
          "std_bkg": 12.91060733795166
         },
         {
          "expo": 55580,
          "mean_bkg": 7.858047485351562,
          "mode": " Large Window",
          "obsid": 790180501,
          "rev": 2984,
          "std_bkg": 18.029769897460934
         },
         {
          "expo": 107040,
          "mean_bkg": 3.645301103591919,
          "mode": " Full Frame",
          "obsid": 762980101,
          "rev": 2985,
          "std_bkg": 2.0528850555419917
         },
         {
          "expo": 120982,
          "mean_bkg": 122.28333282470705,
          "mode": " Extended Full Frame",
          "obsid": 760970101,
          "rev": 2986,
          "std_bkg": 2609.404296875
         },
         {
          "expo": 91470,
          "mean_bkg": 3.870355129241944,
          "mode": " Small Window",
          "obsid": 764020101,
          "rev": 2987,
          "std_bkg": 0.7338516116142273
         },
         {
          "expo": 90960,
          "mean_bkg": 56.70979309082031,
          "mode": " Full Frame",
          "obsid": 763140101,
          "rev": 2988,
          "std_bkg": 326.3419494628906
         },
         {
          "expo": 67999,
          "mean_bkg": 30.74844741821289,
          "mode": " Small Window",
          "obsid": 561380901,
          "rev": 2989,
          "std_bkg": 135.00534057617188
         },
         {
          "expo": 129270,
          "mean_bkg": 4.207067012786865,
          "mode": " Small Window",
          "obsid": 763880101,
          "rev": 2990,
          "std_bkg": 12.121010780334473
         },
         {
          "expo": 127980,
          "mean_bkg": 8.269407272338867,
          "mode": " Large Window",
          "obsid": 764620101,
          "rev": 2991,
          "std_bkg": 26.92963790893555
         },
         {
          "expo": 105039,
          "mean_bkg": 4.091989040374757,
          "mode": " Full Frame",
          "obsid": 782430101,
          "rev": 2993,
          "std_bkg": 2.377931833267212
         },
         {
          "expo": 105039,
          "mean_bkg": 871.2208251953125,
          "mode": " Full Frame",
          "obsid": 782430201,
          "rev": 2994,
          "std_bkg": 27011.955078125
         },
         {
          "expo": 74344,
          "mean_bkg": 10.063979148864746,
          "mode": " Extended Full Frame",
          "obsid": 783881001,
          "rev": 2996,
          "std_bkg": 20.15262222290039
         },
         {
          "expo": 113839,
          "mean_bkg": 4.294113159179688,
          "mode": " Full Frame",
          "obsid": 781690101,
          "rev": 2997,
          "std_bkg": 3.808129072189331
         },
         {
          "expo": 75170,
          "mean_bkg": 3.5816621780395512,
          "mode": " Small Window",
          "obsid": 781500101,
          "rev": 2998,
          "std_bkg": 0.26213908195495605
         },
         {
          "expo": 98239,
          "mean_bkg": 3.791797161102295,
          "mode": " Full Frame",
          "obsid": 782720301,
          "rev": 3001,
          "std_bkg": 0.594353973865509
         },
         {
          "expo": 69744,
          "mean_bkg": 6.415821552276611,
          "mode": " Extended Full Frame",
          "obsid": 783880501,
          "rev": 3003,
          "std_bkg": 6.154326438903809
         },
         {
          "expo": 50439,
          "mean_bkg": 84.81095123291016,
          "mode": " Full Frame",
          "obsid": 790630101,
          "rev": 3004,
          "std_bkg": 246.40293884277344
         },
         {
          "expo": 123870,
          "mean_bkg": 114.59217071533205,
          "mode": " Timing",
          "obsid": 784700201,
          "rev": 3006,
          "std_bkg": 496.5475158691406
         },
         {
          "expo": 63470,
          "mean_bkg": 4.932655334472656,
          "mode": " Small Window",
          "obsid": 790650101,
          "rev": 3009,
          "std_bkg": 2.5920310020446777
         },
         {
          "expo": 62171,
          "mean_bkg": 322.6622009277344,
          "mode": " Full Frame",
          "obsid": 784910101,
          "rev": 3010,
          "std_bkg": 3642.59375
         },
         {
          "expo": 50098,
          "mean_bkg": 4.0679283142089835,
          "mode": " Full Frame",
          "obsid": 781830301,
          "rev": 3011,
          "std_bkg": 0.6002649664878845
         },
         {
          "expo": 119337,
          "mean_bkg": 28.92770195007324,
          "mode": " Timing",
          "obsid": 745250201,
          "rev": 3016,
          "std_bkg": 152.9964141845703
         },
         {
          "expo": 137711,
          "mean_bkg": 181.3295440673828,
          "mode": " Timing",
          "obsid": 745250501,
          "rev": 3017,
          "std_bkg": 4237.88037109375
         },
         {
          "expo": 141117,
          "mean_bkg": 5.53062629699707,
          "mode": " Timing",
          "obsid": 745250601,
          "rev": 3018,
          "std_bkg": 9.081670761108398
         },
         {
          "expo": 107018,
          "mean_bkg": 3.896603345870972,
          "mode": " Timing",
          "obsid": 745250701,
          "rev": 3019,
          "std_bkg": 0.19038574397563932
         },
         {
          "expo": 77132,
          "mean_bkg": 4.387811183929443,
          "mode": " Full Frame",
          "obsid": 782330101,
          "rev": 3020,
          "std_bkg": 2.3918356895446777
         },
         {
          "expo": 131939,
          "mean_bkg": 4.213060379028319,
          "mode": " Full Frame",
          "obsid": 790181301,
          "rev": 3021,
          "std_bkg": 2.1070406436920166
         },
         {
          "expo": 81044,
          "mean_bkg": 6.571859359741211,
          "mode": " Extended Full Frame",
          "obsid": 783880201,
          "rev": 3023,
          "std_bkg": 25.92255783081055
         },
         {
          "expo": 85345,
          "mean_bkg": 2382.589111328125,
          "mode": " Extended Full Frame",
          "obsid": 783880101,
          "rev": 3025,
          "std_bkg": 6754.85302734375
         },
         {
          "expo": 79336,
          "mean_bkg": 447.2630615234375,
          "mode": " Extended Full Frame",
          "obsid": 783880901,
          "rev": 3026,
          "std_bkg": 12443.0576171875
         },
         {
          "expo": 105039,
          "mean_bkg": 4.00209379196167,
          "mode": " Full Frame",
          "obsid": 782330301,
          "rev": 3027,
          "std_bkg": 0.21784138679504395
         },
         {
          "expo": 67939,
          "mean_bkg": 3.9034748077392583,
          "mode": " Full Frame",
          "obsid": 782010101,
          "rev": 3028,
          "std_bkg": 0.19579091668128967
         },
         {
          "expo": 100694,
          "mean_bkg": 3.705123424530029,
          "mode": " Extended Full Frame",
          "obsid": 783880601,
          "rev": 3029,
          "std_bkg": 0.19165562093257904
         },
         {
          "expo": 56439,
          "mean_bkg": 4.232487678527832,
          "mode": " Full Frame",
          "obsid": 781100201,
          "rev": 3030,
          "std_bkg": 5.777297019958496
         },
         {
          "expo": 65670,
          "mean_bkg": 3.6707701683044434,
          "mode": " Small Window",
          "obsid": 414191201,
          "rev": 3031,
          "std_bkg": 0.26439011096954346
         },
         {
          "expo": 62439,
          "mean_bkg": 4.567712783813477,
          "mode": " Full Frame",
          "obsid": 790180701,
          "rev": 3032,
          "std_bkg": 3.4557342529296875
         },
         {
          "expo": 59880,
          "mean_bkg": 3.8499398231506343,
          "mode": " Full Frame",
          "obsid": 790181901,
          "rev": 3033,
          "std_bkg": 0.2981075644493103
         },
         {
          "expo": 86431,
          "mean_bkg": 5.564167499542236,
          "mode": " Large Window",
          "obsid": 780560101,
          "rev": 3037,
          "std_bkg": 16.544395446777347
         },
         {
          "expo": 134484,
          "mean_bkg": 3.7047743797302246,
          "mode": " Large Window",
          "obsid": 780561301,
          "rev": 3038,
          "std_bkg": 0.20207303762435916
         },
         {
          "expo": 129229,
          "mean_bkg": 6.299412250518799,
          "mode": " Large Window",
          "obsid": 780561401,
          "rev": 3039,
          "std_bkg": 35.5822868347168
         },
         {
          "expo": 140570,
          "mean_bkg": 5.371613025665283,
          "mode": " Small Window",
          "obsid": 784740101,
          "rev": 3040,
          "std_bkg": 25.82177543640137
         },
         {
          "expo": 70039,
          "mean_bkg": 3.568722009658813,
          "mode": " Full Frame",
          "obsid": 762550401,
          "rev": 3041,
          "std_bkg": 0.1811278760433197
         },
         {
          "expo": 137480,
          "mean_bkg": 4.137576103210448,
          "mode": " Large Window",
          "obsid": 780561501,
          "rev": 3043,
          "std_bkg": 0.7139341235160828
         },
         {
          "expo": 137480,
          "mean_bkg": 27.455232620239254,
          "mode": " Large Window",
          "obsid": 780561601,
          "rev": 3044,
          "std_bkg": 638.449951171875
         },
         {
          "expo": 137480,
          "mean_bkg": 3.9049770832061768,
          "mode": " Large Window",
          "obsid": 780561701,
          "rev": 3045,
          "std_bkg": 0.41753435134887695
         },
         {
          "expo": 137680,
          "mean_bkg": 88.73308563232422,
          "mode": " Large Window",
          "obsid": 792180101,
          "rev": 3046,
          "std_bkg": 3144.195068359375
         },
         {
          "expo": 137180,
          "mean_bkg": 667.2561645507812,
          "mode": " Large Window",
          "obsid": 792180201,
          "rev": 3048,
          "std_bkg": 23625.4609375
         },
         {
          "expo": 135126,
          "mean_bkg": 642.6851806640625,
          "mode": " Large Window",
          "obsid": 792180301,
          "rev": 3049,
          "std_bkg": 23615.880859375
         },
         {
          "expo": 137480,
          "mean_bkg": 5.2413411140441895,
          "mode": " Large Window",
          "obsid": 792180401,
          "rev": 3050,
          "std_bkg": 10.174276351928713
         },
         {
          "expo": 131771,
          "mean_bkg": 3.8563203811645512,
          "mode": " Large Window",
          "obsid": 792180501,
          "rev": 3052,
          "std_bkg": 0.2849544286727905
         },
         {
          "expo": 132680,
          "mean_bkg": 3.731134414672852,
          "mode": " Large Window",
          "obsid": 792180601,
          "rev": 3053,
          "std_bkg": 0.21070337295532227
         },
         {
          "expo": 80970,
          "mean_bkg": 3.804422855377197,
          "mode": " Small Window",
          "obsid": 743750201,
          "rev": 3058,
          "std_bkg": 0.19338858127593994
         },
         {
          "expo": 75744,
          "mean_bkg": 157.93939208984375,
          "mode": " Extended Full Frame",
          "obsid": 783880701,
          "rev": 3059,
          "std_bkg": 4237.24169921875
         },
         {
          "expo": 94044,
          "mean_bkg": 3.822157144546509,
          "mode": " Extended Full Frame",
          "obsid": 784980101,
          "rev": 3060,
          "std_bkg": 0.21865978837013245
         },
         {
          "expo": 60039,
          "mean_bkg": 131.25907897949222,
          "mode": " Full Frame",
          "obsid": 783520301,
          "rev": 3061,
          "std_bkg": 3109.72802734375
         },
         {
          "expo": 86539,
          "mean_bkg": 3.967681884765625,
          "mode": " Full Frame",
          "obsid": 781040101,
          "rev": 3062,
          "std_bkg": 0.2012094408273697
         },
         {
          "expo": 106508,
          "mean_bkg": 3.8913748264312735,
          "mode": " Full Frame",
          "obsid": 782080101,
          "rev": 3066,
          "std_bkg": 0.3394196033477783
         },
         {
          "expo": 95992,
          "mean_bkg": 4.268944263458252,
          "mode": " Full Frame",
          "obsid": 790580101,
          "rev": 3067,
          "std_bkg": 3.9057729244232178
         },
         {
          "expo": 56744,
          "mean_bkg": 3.8524575233459473,
          "mode": " Extended Full Frame",
          "obsid": 783880301,
          "rev": 3068,
          "std_bkg": 0.19904875755310056
         },
         {
          "expo": 55039,
          "mean_bkg": 3.9053249359130864,
          "mode": " Full Frame",
          "obsid": 790590101,
          "rev": 3070,
          "std_bkg": 0.2065252512693405
         },
         {
          "expo": 61633,
          "mean_bkg": 3.901645421981812,
          "mode": " Timing",
          "obsid": 790780101,
          "rev": 3070,
          "std_bkg": 0.21400447189807886
         },
         {
          "expo": 55039,
          "mean_bkg": 4.078024387359618,
          "mode": " Full Frame",
          "obsid": 790590201,
          "rev": 3071,
          "std_bkg": 0.991543471813202
         },
         {
          "expo": 74299,
          "mean_bkg": 3.995949268341065,
          "mode": " Full Frame",
          "obsid": 781780101,
          "rev": 3072,
          "std_bkg": 0.20392602682113647
         },
         {
          "expo": 70490,
          "mean_bkg": 735.3704833984375,
          "mode": " Small Window",
          "obsid": 727761001,
          "rev": 3075,
          "std_bkg": 16796.20703125
         },
         {
          "expo": 119290,
          "mean_bkg": 4.029844284057616,
          "mode": " Small Window",
          "obsid": 790810101,
          "rev": 3076,
          "std_bkg": 0.2897377014160156
         },
         {
          "expo": 75039,
          "mean_bkg": 4.714417934417725,
          "mode": " Full Frame",
          "obsid": 781760101,
          "rev": 3077,
          "std_bkg": 2.002935647964477
         },
         {
          "expo": 101574,
          "mean_bkg": 4.2610793113708505,
          "mode": " Full Frame",
          "obsid": 783160101,
          "rev": 3080,
          "std_bkg": 0.7820496559143066
         },
         {
          "expo": 88039,
          "mean_bkg": 4.173678398132323,
          "mode": " Full Frame",
          "obsid": 4290698668,
          "rev": 3083,
          "std_bkg": 0.28237998485565186
         },
         {
          "expo": 80039,
          "mean_bkg": 4.0740885734558105,
          "mode": " Full Frame",
          "obsid": 783890101,
          "rev": 3084,
          "std_bkg": 0.20145049691200256
         },
         {
          "expo": 70744,
          "mean_bkg": 3.983788967132568,
          "mode": " Extended Full Frame",
          "obsid": 792790101,
          "rev": 3085,
          "std_bkg": 0.21474397182464602
         },
         {
          "expo": 54039,
          "mean_bkg": 4.597050666809082,
          "mode": " Full Frame",
          "obsid": 784790101,
          "rev": 3088,
          "std_bkg": 1.520291805267334
         },
         {
          "expo": 55339,
          "mean_bkg": 4.2578678131103525,
          "mode": " Full Frame",
          "obsid": 782070201,
          "rev": 3090,
          "std_bkg": 0.3091298043727875
         },
         {
          "expo": 74641,
          "mean_bkg": 4.205909729003906,
          "mode": " Full Frame",
          "obsid": 781690201,
          "rev": 3093,
          "std_bkg": 1.0531181097030642
         },
         {
          "expo": 72439,
          "mean_bkg": 131.70318603515622,
          "mode": " Full Frame",
          "obsid": 783250201,
          "rev": 3095,
          "std_bkg": 3425.425048828125
         },
         {
          "expo": 92390,
          "mean_bkg": 4.058403491973877,
          "mode": " Small Window",
          "obsid": 790860101,
          "rev": 3096,
          "std_bkg": 0.2068440020084381
         },
         {
          "expo": 71600,
          "mean_bkg": 113.90786743164062,
          "mode": " Small Window",
          "obsid": 781870101,
          "rev": 3098,
          "std_bkg": 3263.561767578125
         },
         {
          "expo": 76378,
          "mean_bkg": 4.121685028076172,
          "mode": " Small Window",
          "obsid": 782520201,
          "rev": 3099,
          "std_bkg": 0.2523730397224426
         },
         {
          "expo": 53040,
          "mean_bkg": 5.463014602661133,
          "mode": " Full Frame",
          "obsid": 781410101,
          "rev": 3102,
          "std_bkg": 4.652909278869629
         },
         {
          "expo": 59798,
          "mean_bkg": 4.1452059745788565,
          "mode": " Full Frame",
          "obsid": 412991501,
          "rev": 3106,
          "std_bkg": 0.2168230712413788
         },
         {
          "expo": 66254,
          "mean_bkg": 682.9756469726562,
          "mode": " Small Window",
          "obsid": 782520301,
          "rev": 3107,
          "std_bkg": 17216.025390625
         },
         {
          "expo": 81120,
          "mean_bkg": 5.178668022155762,
          "mode": " Small Window",
          "obsid": 782520401,
          "rev": 3109,
          "std_bkg": 31.47203826904297
         },
         {
          "expo": 70987,
          "mean_bkg": 4.426163196563722,
          "mode": " Small Window",
          "obsid": 782520501,
          "rev": 3110,
          "std_bkg": 2.127392053604126
         },
         {
          "expo": 85090,
          "mean_bkg": 4.2210960388183585,
          "mode": " Small Window",
          "obsid": 782520601,
          "rev": 3112,
          "std_bkg": 0.21403802931308746
         },
         {
          "expo": 111003,
          "mean_bkg": 103.02173614501952,
          "mode": " Full Frame",
          "obsid": 782650101,
          "rev": 3113,
          "std_bkg": 3487.722412109375
         },
         {
          "expo": 80069,
          "mean_bkg": 4.277755260467528,
          "mode": " Small Window",
          "obsid": 782520701,
          "rev": 3114,
          "std_bkg": 0.35812851786613464
         },
         {
          "expo": 109889,
          "mean_bkg": 4.63625955581665,
          "mode": " Small Window",
          "obsid": 780860901,
          "rev": 3115,
          "std_bkg": 3.2375884056091313
         },
         {
          "expo": 135365,
          "mean_bkg": 54.72854614257813,
          "mode": " Full Frame",
          "obsid": 783380101,
          "rev": 3117,
          "std_bkg": 1849.3912353515625
         },
         {
          "expo": 135839,
          "mean_bkg": 674.6015014648438,
          "mode": " Full Frame",
          "obsid": 791010101,
          "rev": 3118,
          "std_bkg": 23747.087890625
         },
         {
          "expo": 79039,
          "mean_bkg": 134.76081848144528,
          "mode": " Full Frame",
          "obsid": 791010301,
          "rev": 3119,
          "std_bkg": 3557.02294921875
         },
         {
          "expo": 55490,
          "mean_bkg": 4.233622550964356,
          "mode": " Small Window",
          "obsid": 780861001,
          "rev": 3120,
          "std_bkg": 0.6082132458686829
         },
         {
          "expo": 113748,
          "mean_bkg": 138.51683044433594,
          "mode": " Timing",
          "obsid": 790800101,
          "rev": 3121,
          "std_bkg": 4530.73828125
         },
         {
          "expo": 55039,
          "mean_bkg": 4.627119541168213,
          "mode": " Full Frame",
          "obsid": 742240801,
          "rev": 3123,
          "std_bkg": 2.236804723739624
         },
         {
          "expo": 73939,
          "mean_bkg": 4.52456521987915,
          "mode": " Full Frame",
          "obsid": 784000201,
          "rev": 3123,
          "std_bkg": 1.4609842300415041
         },
         {
          "expo": 131339,
          "mean_bkg": 4.198871612548828,
          "mode": " Full Frame",
          "obsid": 781350101,
          "rev": 3124,
          "std_bkg": 0.3373662829399109
         },
         {
          "expo": 51244,
          "mean_bkg": 4.239287853240967,
          "mode": " Extended Full Frame",
          "obsid": 783881901,
          "rev": 3125,
          "std_bkg": 0.218302384018898
         },
         {
          "expo": 85039,
          "mean_bkg": 4.552838802337647,
          "mode": " Full Frame",
          "obsid": 783520501,
          "rev": 3131,
          "std_bkg": 0.31265172362327576
         },
         {
          "expo": 51839,
          "mean_bkg": 4.667558193206787,
          "mode": " Full Frame",
          "obsid": 790820101,
          "rev": 3132,
          "std_bkg": 1.031498670578003
         },
         {
          "expo": 67539,
          "mean_bkg": 224.1053466796875,
          "mode": " Full Frame",
          "obsid": 790980101,
          "rev": 3133,
          "std_bkg": 5655.857421875
         },
         {
          "expo": 60039,
          "mean_bkg": 12.10018539428711,
          "mode": " Full Frame",
          "obsid": 790830101,
          "rev": 3135,
          "std_bkg": 50.38578796386719
         },
         {
          "expo": 130039,
          "mean_bkg": 4.3958353996276855,
          "mode": " Full Frame",
          "obsid": 782150101,
          "rev": 3136,
          "std_bkg": 0.8289133906364441
         },
         {
          "expo": 109314,
          "mean_bkg": 2884.882080078125,
          "mode": " Small Window",
          "obsid": 781430101,
          "rev": 3137,
          "std_bkg": 45870.5625
         },
         {
          "expo": 57398,
          "mean_bkg": 4.308034420013429,
          "mode": " Full Frame",
          "obsid": 794580101,
          "rev": 3138,
          "std_bkg": 0.22069573402404785
         },
         {
          "expo": 69049,
          "mean_bkg": 4.574862003326416,
          "mode": " Full Frame",
          "obsid": 780760101,
          "rev": 3138,
          "std_bkg": 1.902518391609192
         },
         {
          "expo": 70039,
          "mean_bkg": 7.844923496246338,
          "mode": " Full Frame",
          "obsid": 780760201,
          "rev": 3139,
          "std_bkg": 17.319772720336914
         },
         {
          "expo": 135396,
          "mean_bkg": 176.1242218017578,
          "mode": " Full Frame",
          "obsid": 790380501,
          "rev": 3141,
          "std_bkg": 2467.678955078125
         },
         {
          "expo": 117039,
          "mean_bkg": 4.768280982971191,
          "mode": " Full Frame",
          "obsid": 784330201,
          "rev": 3142,
          "std_bkg": 1.4912000894546509
         },
         {
          "expo": 140239,
          "mean_bkg": 18.166431427001953,
          "mode": " Full Frame",
          "obsid": 790380601,
          "rev": 3143,
          "std_bkg": 92.5505142211914
         },
         {
          "expo": 140239,
          "mean_bkg": 17.023256301879886,
          "mode": " Full Frame",
          "obsid": 790380801,
          "rev": 3144,
          "std_bkg": 452.3584289550781
         },
         {
          "expo": 140239,
          "mean_bkg": 161.66810607910156,
          "mode": " Full Frame",
          "obsid": 790380901,
          "rev": 3146,
          "std_bkg": 4186.775390625
         },
         {
          "expo": 142739,
          "mean_bkg": 4.891827583312988,
          "mode": " Full Frame",
          "obsid": 790381401,
          "rev": 3147,
          "std_bkg": 3.0164499282836914
         },
         {
          "expo": 141393,
          "mean_bkg": 8.954423904418945,
          "mode": " Full Frame",
          "obsid": 790381501,
          "rev": 3148,
          "std_bkg": 40.93690490722656
         },
         {
          "expo": 71439,
          "mean_bkg": 69.29869842529297,
          "mode": " Full Frame",
          "obsid": 780760401,
          "rev": 3150,
          "std_bkg": 480.6382751464844
         },
         {
          "expo": 95491,
          "mean_bkg": 702.3441162109375,
          "mode": " Small Window",
          "obsid": 790381001,
          "rev": 3151,
          "std_bkg": 19155.388671875
         },
         {
          "expo": 60839,
          "mean_bkg": 4.43987512588501,
          "mode": " Full Frame",
          "obsid": 793183601,
          "rev": 3152,
          "std_bkg": 0.6147847771644592
         },
         {
          "expo": 71039,
          "mean_bkg": 27.713397979736328,
          "mode": " Full Frame",
          "obsid": 780760301,
          "rev": 3152,
          "std_bkg": 113.66471099853516
         },
         {
          "expo": 70839,
          "mean_bkg": 4.873218536376953,
          "mode": " Full Frame",
          "obsid": 780760501,
          "rev": 3153,
          "std_bkg": 2.1398684978485107
         },
         {
          "expo": 104539,
          "mean_bkg": 4.525254726409912,
          "mode": " Full Frame",
          "obsid": 784860101,
          "rev": 3155,
          "std_bkg": 1.5712403059005735
         },
         {
          "expo": 81674,
          "mean_bkg": 695.27734375,
          "mode": " Large Window",
          "obsid": 783230101,
          "rev": 3156,
          "std_bkg": 2974.39599609375
         },
         {
          "expo": 64553,
          "mean_bkg": 372.0888366699219,
          "mode": " Timing",
          "obsid": 784820101,
          "rev": 3157,
          "std_bkg": 2049.9853515625
         },
         {
          "expo": 50039,
          "mean_bkg": 4.543920993804932,
          "mode": " Full Frame",
          "obsid": 790660101,
          "rev": 3159,
          "std_bkg": 0.3109892010688782
         },
         {
          "expo": 78464,
          "mean_bkg": 69.57338714599611,
          "mode": " Full Frame",
          "obsid": 781210301,
          "rev": 3160,
          "std_bkg": 209.4618988037109
         },
         {
          "expo": 96022,
          "mean_bkg": 4.554017066955566,
          "mode": " Full Frame",
          "obsid": 782050101,
          "rev": 3161,
          "std_bkg": 0.31193554401397705
         },
         {
          "expo": 69390,
          "mean_bkg": 4.727841377258301,
          "mode": " Small Window",
          "obsid": 727761101,
          "rev": 3162,
          "std_bkg": 0.9155288934707642
         },
         {
          "expo": 122339,
          "mean_bkg": 4.685830116271973,
          "mode": " Full Frame",
          "obsid": 782400101,
          "rev": 3164,
          "std_bkg": 3.6783504486083984
         },
         {
          "expo": 76143,
          "mean_bkg": 188.36509704589844,
          "mode": " Large Window",
          "obsid": 780690201,
          "rev": 3166,
          "std_bkg": 829.3931884765625
         },
         {
          "expo": 86005,
          "mean_bkg": 4.623591423034668,
          "mode": " Large Window",
          "obsid": 780690301,
          "rev": 3167,
          "std_bkg": 0.603416383266449
         },
         {
          "expo": 62039,
          "mean_bkg": 6.2250099182128915,
          "mode": " Full Frame",
          "obsid": 793183501,
          "rev": 3168,
          "std_bkg": 8.134926795959473
         },
         {
          "expo": 82039,
          "mean_bkg": 1145.080810546875,
          "mode": " Full Frame",
          "obsid": 783080101,
          "rev": 3170,
          "std_bkg": 30522.04296875
         },
         {
          "expo": 101544,
          "mean_bkg": 4.773902893066406,
          "mode": " Extended Full Frame",
          "obsid": 782670201,
          "rev": 3171,
          "std_bkg": 1.0596420764923096
         },
         {
          "expo": 58990,
          "mean_bkg": 4.552275657653809,
          "mode": " Small Window",
          "obsid": 561381001,
          "rev": 3172,
          "std_bkg": 1.170168161392212
         },
         {
          "expo": 56216,
          "mean_bkg": 116.42705535888672,
          "mode": " Full Frame",
          "obsid": 803050801,
          "rev": 3174,
          "std_bkg": 638.464599609375
         },
         {
          "expo": 123739,
          "mean_bkg": 32.069076538085945,
          "mode": " Extended Full Frame",
          "obsid": 803050501,
          "rev": 3175,
          "std_bkg": 174.05284118652344
         },
         {
          "expo": 83439,
          "mean_bkg": 62.07063674926758,
          "mode": " Full Frame",
          "obsid": 784350101,
          "rev": 3181,
          "std_bkg": 369.8489074707031
         },
         {
          "expo": 53039,
          "mean_bkg": 7.00366735458374,
          "mode": " Full Frame",
          "obsid": 803050201,
          "rev": 3182,
          "std_bkg": 4.4557037353515625
         },
         {
          "expo": 70039,
          "mean_bkg": 13.180450439453125,
          "mode": " Full Frame",
          "obsid": 793183801,
          "rev": 3183,
          "std_bkg": 33.145626068115234
         },
         {
          "expo": 74539,
          "mean_bkg": 25.15907287597656,
          "mode": " Full Frame",
          "obsid": 801650301,
          "rev": 3186,
          "std_bkg": 71.56244659423828
         },
         {
          "expo": 135244,
          "mean_bkg": 17.038211822509766,
          "mode": " Extended Full Frame",
          "obsid": 803050101,
          "rev": 3188,
          "std_bkg": 55.43204879760742
         },
         {
          "expo": 127639,
          "mean_bkg": 4.760523319244385,
          "mode": " Full Frame",
          "obsid": 801310101,
          "rev": 3194,
          "std_bkg": 0.5995129942893982
         },
         {
          "expo": 54939,
          "mean_bkg": 5.515679836273193,
          "mode": " Full Frame",
          "obsid": 804670301,
          "rev": 3195,
          "std_bkg": 7.211581707000732
         },
         {
          "expo": 128416,
          "mean_bkg": 5.784970283508301,
          "mode": " Full Frame",
          "obsid": 803050301,
          "rev": 3196,
          "std_bkg": 6.832028865814209
         },
         {
          "expo": 63040,
          "mean_bkg": 4.243474006652832,
          "mode": " Full Frame",
          "obsid": 804050201,
          "rev": 3199,
          "std_bkg": 0.20566114783287048
         },
         {
          "expo": 105846,
          "mean_bkg": 139.69429016113278,
          "mode": " Full Frame",
          "obsid": 805080401,
          "rev": 3202,
          "std_bkg": 4437.58251953125
         },
         {
          "expo": 50680,
          "mean_bkg": 440.51641845703125,
          "mode": " Large Window",
          "obsid": 802560101,
          "rev": 3204,
          "std_bkg": 9759.46484375
         },
         {
          "expo": 82680,
          "mean_bkg": 4.607879638671875,
          "mode": " Large Window",
          "obsid": 760020401,
          "rev": 3206,
          "std_bkg": 0.2251826822757721
         },
         {
          "expo": 134139,
          "mean_bkg": 5.896847248077393,
          "mode": " Full Frame",
          "obsid": 803990101,
          "rev": 3208,
          "std_bkg": 7.93458080291748
         },
         {
          "expo": 59744,
          "mean_bkg": 249.2705841064453,
          "mode": " Extended Full Frame",
          "obsid": 803670601,
          "rev": 3209,
          "std_bkg": 5970.30126953125
         },
         {
          "expo": 83939,
          "mean_bkg": 4.472705364227295,
          "mode": " Full Frame",
          "obsid": 801930701,
          "rev": 3210,
          "std_bkg": 0.21356290578842166
         },
         {
          "expo": 129879,
          "mean_bkg": 4.576497077941895,
          "mode": " Full Frame",
          "obsid": 803990201,
          "rev": 3211,
          "std_bkg": 0.28341177105903625
         },
         {
          "expo": 75644,
          "mean_bkg": 4.475981712341309,
          "mode": " Extended Full Frame",
          "obsid": 803550101,
          "rev": 3213,
          "std_bkg": 0.27065443992614746
         },
         {
          "expo": 65490,
          "mean_bkg": 4.414259910583496,
          "mode": " Small Window",
          "obsid": 414191301,
          "rev": 3214,
          "std_bkg": 0.2472686916589737
         },
         {
          "expo": 129044,
          "mean_bkg": 684.4357299804688,
          "mode": " Extended Full Frame",
          "obsid": 803050401,
          "rev": 3215,
          "std_bkg": 24375.541015625
         },
         {
          "expo": 133790,
          "mean_bkg": 4.527840614318848,
          "mode": " Small Window",
          "obsid": 801510101,
          "rev": 3216,
          "std_bkg": 0.257253497838974
         },
         {
          "expo": 126744,
          "mean_bkg": 103.48275756835938,
          "mode": " Extended Full Frame",
          "obsid": 803670501,
          "rev": 3219,
          "std_bkg": 3512.4169921875
         },
         {
          "expo": 71144,
          "mean_bkg": 4.508610248565674,
          "mode": " Extended Full Frame",
          "obsid": 803050601,
          "rev": 3220,
          "std_bkg": 0.2094397991895676
         },
         {
          "expo": 137338,
          "mean_bkg": 4.527517795562744,
          "mode": " Full Frame",
          "obsid": 801930801,
          "rev": 3221,
          "std_bkg": 0.3119446039199829
         },
         {
          "expo": 93841,
          "mean_bkg": 85.6959228515625,
          "mode": " Full Frame",
          "obsid": 801930901,
          "rev": 3224,
          "std_bkg": 2484.8779296875
         },
         {
          "expo": 132339,
          "mean_bkg": 4.474846363067627,
          "mode": " Full Frame",
          "obsid": 763450301,
          "rev": 3225,
          "std_bkg": 0.21745717525482175
         },
         {
          "expo": 130539,
          "mean_bkg": 4.9054903984069815,
          "mode": " Full Frame",
          "obsid": 801950101,
          "rev": 3230,
          "std_bkg": 0.25044775009155273
         },
         {
          "expo": 130709,
          "mean_bkg": 4.5521416664123535,
          "mode": " Full Frame",
          "obsid": 801950201,
          "rev": 3231,
          "std_bkg": 0.2286006361246109
         },
         {
          "expo": 91293,
          "mean_bkg": 4.1142544746398935,
          "mode": " Full Frame",
          "obsid": 803910101,
          "rev": 3234,
          "std_bkg": 0.24219514429569244
         },
         {
          "expo": 58680,
          "mean_bkg": 4.17969274520874,
          "mode": " Large Window",
          "obsid": 803510201,
          "rev": 3235,
          "std_bkg": 0.19974614679813385
         },
         {
          "expo": 104939,
          "mean_bkg": 4.320732593536377,
          "mode": " Full Frame",
          "obsid": 800030801,
          "rev": 3238,
          "std_bkg": 0.2285453975200653
         },
         {
          "expo": 99889,
          "mean_bkg": 4.351843357086182,
          "mode": " Full Frame",
          "obsid": 800030901,
          "rev": 3239,
          "std_bkg": 0.22170598804950714
         },
         {
          "expo": 96954,
          "mean_bkg": 4.576648712158203,
          "mode": " Full Frame",
          "obsid": 800031001,
          "rev": 3240,
          "std_bkg": 1.0731338262557983
         },
         {
          "expo": 61380,
          "mean_bkg": 4.102517604827882,
          "mode": " Large Window",
          "obsid": 795600101,
          "rev": 3241,
          "std_bkg": 0.19931195676326752
         },
         {
          "expo": 89544,
          "mean_bkg": 4.146427631378174,
          "mode": " Extended Full Frame",
          "obsid": 801610101,
          "rev": 3243,
          "std_bkg": 0.20320013165473935
         },
         {
          "expo": 88339,
          "mean_bkg": 4.264963626861571,
          "mode": " Full Frame",
          "obsid": 802080201,
          "rev": 3245,
          "std_bkg": 0.19967052340507507
         },
         {
          "expo": 129780,
          "mean_bkg": 5.5720977783203125,
          "mode": " Full Frame",
          "obsid": 803990301,
          "rev": 3247,
          "std_bkg": 11.036945343017578
         },
         {
          "expo": 124901,
          "mean_bkg": 5.625430107116699,
          "mode": " Full Frame",
          "obsid": 803990401,
          "rev": 3248,
          "std_bkg": 5.059577941894531
         },
         {
          "expo": 74152,
          "mean_bkg": 28.91767120361328,
          "mode": " Full Frame",
          "obsid": 802080501,
          "rev": 3249,
          "std_bkg": 10.587057113647461
         },
         {
          "expo": 51490,
          "mean_bkg": 11.095913887023926,
          "mode": " Small Window",
          "obsid": 795690101,
          "rev": 3251,
          "std_bkg": 99.97618103027344
         },
         {
          "expo": 74090,
          "mean_bkg": 8.202499389648438,
          "mode": " Small Window",
          "obsid": 727761201,
          "rev": 3255,
          "std_bkg": 1.3293951749801636
         },
         {
          "expo": 51490,
          "mean_bkg": 5.925243377685548,
          "mode": " Small Window",
          "obsid": 795650101,
          "rev": 3256,
          "std_bkg": 0.331589013338089
         },
         {
          "expo": 129590,
          "mean_bkg": 234.7104339599609,
          "mode": " Small Window",
          "obsid": 803080201,
          "rev": 3257,
          "std_bkg": 8103.271484375
         },
         {
          "expo": 103598,
          "mean_bkg": 4.5236239433288565,
          "mode": " Full Frame",
          "obsid": 803990701,
          "rev": 3259,
          "std_bkg": 0.24767044186592105
         },
         {
          "expo": 94038,
          "mean_bkg": 13.057283401489258,
          "mode": " Full Frame",
          "obsid": 801100101,
          "rev": 3260,
          "std_bkg": 271.6422119140625
         },
         {
          "expo": 122439,
          "mean_bkg": 4.492369651794434,
          "mode": " Full Frame",
          "obsid": 795630101,
          "rev": 3262,
          "std_bkg": 1.4441468715667725
         },
         {
          "expo": 69539,
          "mean_bkg": 4.028836727142334,
          "mode": " Full Frame",
          "obsid": 795630201,
          "rev": 3263,
          "std_bkg": 0.2169455736875534
         },
         {
          "expo": 130290,
          "mean_bkg": 4.098866939544679,
          "mode": " Small Window",
          "obsid": 803080301,
          "rev": 3264,
          "std_bkg": 0.212474137544632
         },
         {
          "expo": 57133,
          "mean_bkg": 4.145491123199463,
          "mode": " Timing",
          "obsid": 795712201,
          "rev": 3266,
          "std_bkg": 0.21339312195777893
         },
         {
          "expo": 78739,
          "mean_bkg": 4.479660987854004,
          "mode": " Full Frame",
          "obsid": 804910101,
          "rev": 3268,
          "std_bkg": 1.5904481410980225
         },
         {
          "expo": 77539,
          "mean_bkg": 4.628945827484131,
          "mode": " Full Frame",
          "obsid": 804980201,
          "rev": 3269,
          "std_bkg": 1.983898997306824
         },
         {
          "expo": 80490,
          "mean_bkg": 4.4837799072265625,
          "mode": " Small Window",
          "obsid": 800880201,
          "rev": 3270,
          "std_bkg": 1.4302420616149902
         },
         {
          "expo": 53039,
          "mean_bkg": 4.284317493438722,
          "mode": " Full Frame",
          "obsid": 803460101,
          "rev": 3271,
          "std_bkg": 0.31467804312705994
         },
         {
          "expo": 130540,
          "mean_bkg": 4.493897438049316,
          "mode": " Full Frame",
          "obsid": 801950301,
          "rev": 3272,
          "std_bkg": 1.6301107406616209
         },
         {
          "expo": 52539,
          "mean_bkg": 4.920360565185547,
          "mode": " Full Frame",
          "obsid": 803360101,
          "rev": 3273,
          "std_bkg": 2.8874132633209233
         },
         {
          "expo": 60039,
          "mean_bkg": 4.24937915802002,
          "mode": " Full Frame",
          "obsid": 412991601,
          "rev": 3277,
          "std_bkg": 0.202434703707695
         },
         {
          "expo": 56738,
          "mean_bkg": 4.2973361015319815,
          "mode": " Full Frame",
          "obsid": 795680201,
          "rev": 3278,
          "std_bkg": 0.2030733972787857
         },
         {
          "expo": 62039,
          "mean_bkg": 209.3517608642578,
          "mode": " Full Frame",
          "obsid": 800040101,
          "rev": 3279,
          "std_bkg": 4169.7841796875
         },
         {
          "expo": 130639,
          "mean_bkg": 4.490965366363525,
          "mode": " Full Frame",
          "obsid": 801950401,
          "rev": 3281,
          "std_bkg": 1.367334008216858
         },
         {
          "expo": 62039,
          "mean_bkg": 8.229081153869629,
          "mode": " Full Frame",
          "obsid": 795712301,
          "rev": 3282,
          "std_bkg": 86.02680969238281
         },
         {
          "expo": 128066,
          "mean_bkg": 4.356912136077882,
          "mode": " Extended Full Frame",
          "obsid": 800380101,
          "rev": 3283,
          "std_bkg": 0.4452287256717682
         },
         {
          "expo": 53139,
          "mean_bkg": 4.926727771759033,
          "mode": " Full Frame",
          "obsid": 791781401,
          "rev": 3287,
          "std_bkg": 2.78474497795105
         },
         {
          "expo": 53389,
          "mean_bkg": 4.980737209320068,
          "mode": " Small Window",
          "obsid": 795620201,
          "rev": 3288,
          "std_bkg": 1.7348568439483645
         },
         {
          "expo": 50039,
          "mean_bkg": 4.534628391265869,
          "mode": " Full Frame",
          "obsid": 804670701,
          "rev": 3290,
          "std_bkg": 0.20513659715652466
         },
         {
          "expo": 57919,
          "mean_bkg": 1392.55712890625,
          "mode": " Full Frame",
          "obsid": 795712601,
          "rev": 3293,
          "std_bkg": 26014.23828125
         },
         {
          "expo": 70820,
          "mean_bkg": 4.552038669586182,
          "mode": " Full Frame",
          "obsid": 810600301,
          "rev": 3293,
          "std_bkg": 0.7632109522819519
         },
         {
          "expo": 125939,
          "mean_bkg": 4.457520484924316,
          "mode": " Full Frame",
          "obsid": 803990501,
          "rev": 3296,
          "std_bkg": 0.29593756794929504
         },
         {
          "expo": 125939,
          "mean_bkg": 4.48505449295044,
          "mode": " Full Frame",
          "obsid": 803990601,
          "rev": 3297,
          "std_bkg": 0.2558052241802216
         },
         {
          "expo": 71039,
          "mean_bkg": 4.485296726226807,
          "mode": " Full Frame",
          "obsid": 810600101,
          "rev": 3299,
          "std_bkg": 0.25987449288368225
         },
         {
          "expo": 57744,
          "mean_bkg": 4.522662162780762,
          "mode": " Extended Full Frame",
          "obsid": 803671001,
          "rev": 3300,
          "std_bkg": 0.21896170079708102
         },
         {
          "expo": 96539,
          "mean_bkg": 4.976398468017578,
          "mode": " Full Frame",
          "obsid": 800630101,
          "rev": 3302,
          "std_bkg": 11.725825309753418
         },
         {
          "expo": 77439,
          "mean_bkg": 4.723936557769775,
          "mode": " Full Frame",
          "obsid": 800580101,
          "rev": 3304,
          "std_bkg": 0.2940220534801483
         },
         {
          "expo": 126644,
          "mean_bkg": 929.0559692382812,
          "mode": " Extended Full Frame",
          "obsid": 803671101,
          "rev": 3305,
          "std_bkg": 25554.841796875
         },
         {
          "expo": 116580,
          "mean_bkg": 4.495880126953125,
          "mode": " Large Window",
          "obsid": 804680101,
          "rev": 3306,
          "std_bkg": 0.2994704842567444
         },
         {
          "expo": 116039,
          "mean_bkg": 4.49077844619751,
          "mode": " Full Frame",
          "obsid": 803910301,
          "rev": 3308,
          "std_bkg": 0.22358687222003934
         },
         {
          "expo": 114939,
          "mean_bkg": 4.490051746368408,
          "mode": " Full Frame",
          "obsid": 803910401,
          "rev": 3309,
          "std_bkg": 0.2226579189300537
         },
         {
          "expo": 84039,
          "mean_bkg": 4.522320747375488,
          "mode": " Full Frame",
          "obsid": 800580201,
          "rev": 3310,
          "std_bkg": 0.2319161891937256
         },
         {
          "expo": 62039,
          "mean_bkg": 81.73991394042969,
          "mode": " Full Frame",
          "obsid": 802890101,
          "rev": 3312,
          "std_bkg": 1928.5032958984373
         },
         {
          "expo": 65644,
          "mean_bkg": 4.729304313659668,
          "mode": " Extended Full Frame",
          "obsid": 800971001,
          "rev": 3318,
          "std_bkg": 0.37668439745903015
         },
         {
          "expo": 52544,
          "mean_bkg": 22.21384048461914,
          "mode": " Extended Full Frame",
          "obsid": 800970901,
          "rev": 3320,
          "std_bkg": 102.8442153930664
         },
         {
          "expo": 108539,
          "mean_bkg": 4.631966590881348,
          "mode": " Full Frame",
          "obsid": 811212701,
          "rev": 3321,
          "std_bkg": 0.2817501127719879
         },
         {
          "expo": 135633,
          "mean_bkg": 4.733292579650879,
          "mode": " Timing",
          "obsid": 800280101,
          "rev": 3322,
          "std_bkg": 1.7195028066635132
         },
         {
          "expo": 56745,
          "mean_bkg": 4.563397407531738,
          "mode": " Extended Full Frame",
          "obsid": 800971201,
          "rev": 3324,
          "std_bkg": 0.21364323794841766
         },
         {
          "expo": 65339,
          "mean_bkg": 4.630948543548584,
          "mode": " Full Frame",
          "obsid": 802080601,
          "rev": 3325,
          "std_bkg": 0.3788872063159943
         },
         {
          "expo": 84944,
          "mean_bkg": 113.46150970458984,
          "mode": " Full Frame",
          "obsid": 801960101,
          "rev": 3326,
          "std_bkg": 3164.11572265625
         },
         {
          "expo": 58122,
          "mean_bkg": 4.626706600189209,
          "mode": " Full Frame",
          "obsid": 804240201,
          "rev": 3327,
          "std_bkg": 0.22014261782169345
         },
         {
          "expo": 70008,
          "mean_bkg": 4.670161724090576,
          "mode": " Full Frame",
          "obsid": 820860101,
          "rev": 3328,
          "std_bkg": 0.26107990741729736
         },
         {
          "expo": 97539,
          "mean_bkg": 4.706571578979492,
          "mode": " Full Frame",
          "obsid": 802080101,
          "rev": 3329,
          "std_bkg": 0.22041192650794986
         },
         {
          "expo": 60039,
          "mean_bkg": 7.760154724121094,
          "mode": " Full Frame",
          "obsid": 805050101,
          "rev": 3330,
          "std_bkg": 8.101728439331055
         },
         {
          "expo": 69339,
          "mean_bkg": 4.7404141426086435,
          "mode": " Full Frame",
          "obsid": 804580201,
          "rev": 3331,
          "std_bkg": 0.27279070019721985
         },
         {
          "expo": 54039,
          "mean_bkg": 5.016902446746826,
          "mode": " Full Frame",
          "obsid": 801800201,
          "rev": 3332,
          "std_bkg": 1.0615522861480713
         },
         {
          "expo": 91790,
          "mean_bkg": 29.415910720825195,
          "mode": " Small Window",
          "obsid": 804250501,
          "rev": 3333,
          "std_bkg": 131.396240234375
         },
         {
          "expo": 56180,
          "mean_bkg": 4.7814459800720215,
          "mode": " Large Window",
          "obsid": 811213301,
          "rev": 3334,
          "std_bkg": 0.2450459748506546
         },
         {
          "expo": 57936,
          "mean_bkg": 41.671119689941406,
          "mode": " Full Frame",
          "obsid": 801830101,
          "rev": 3335,
          "std_bkg": 139.98544311523438
         },
         {
          "expo": 128390,
          "mean_bkg": 188.18841552734372,
          "mode": " Small Window",
          "obsid": 803080401,
          "rev": 3340,
          "std_bkg": 4621.5380859375
         },
         {
          "expo": 65039,
          "mean_bkg": 184.96902465820312,
          "mode": " Full Frame",
          "obsid": 800710101,
          "rev": 3342,
          "std_bkg": 4583.8251953125
         },
         {
          "expo": 50039,
          "mean_bkg": 9.96245574951172,
          "mode": " Full Frame",
          "obsid": 802790101,
          "rev": 3342,
          "std_bkg": 36.9193229675293
         },
         {
          "expo": 68108,
          "mean_bkg": 5.175132751464844,
          "mode": " Burst",
          "obsid": 830190201,
          "rev": 3346,
          "std_bkg": 1.3465255498886108
         },
         {
          "expo": 77744,
          "mean_bkg": 34.43917465209961,
          "mode": " Extended Full Frame",
          "obsid": 804300601,
          "rev": 3347,
          "std_bkg": 117.00373840332031
         },
         {
          "expo": 80544,
          "mean_bkg": 731.3015747070312,
          "mode": " Extended Full Frame",
          "obsid": 804300701,
          "rev": 3348,
          "std_bkg": 20569.65625
         },
         {
          "expo": 81544,
          "mean_bkg": 7.895139217376709,
          "mode": " Extended Full Frame",
          "obsid": 804301001,
          "rev": 3349,
          "std_bkg": 28.926889419555664
         },
         {
          "expo": 123944,
          "mean_bkg": 24.213096618652344,
          "mode": " Extended Full Frame",
          "obsid": 804300501,
          "rev": 3350,
          "std_bkg": 109.5063705444336
         },
         {
          "expo": 75644,
          "mean_bkg": 6.130824565887451,
          "mode": " Extended Full Frame",
          "obsid": 804300301,
          "rev": 3352,
          "std_bkg": 10.713150024414062
         },
         {
          "expo": 77444,
          "mean_bkg": 4.704142093658447,
          "mode": " Extended Full Frame",
          "obsid": 804300401,
          "rev": 3353,
          "std_bkg": 0.3279315233230591
         },
         {
          "expo": 100039,
          "mean_bkg": 4.651677131652832,
          "mode": " Full Frame",
          "obsid": 802410101,
          "rev": 3354,
          "std_bkg": 0.2637171447277069
         },
         {
          "expo": 138191,
          "mean_bkg": 5.917640686035156,
          "mode": " Small Window",
          "obsid": 803080501,
          "rev": 3355,
          "std_bkg": 8.145569801330566
         },
         {
          "expo": 61012,
          "mean_bkg": 61.0477180480957,
          "mode": " Full Frame",
          "obsid": 800910101,
          "rev": 3357,
          "std_bkg": 312.03814697265625
         },
         {
          "expo": 68661,
          "mean_bkg": 8.239025115966799,
          "mode": " Small Window",
          "obsid": 727761301,
          "rev": 3358,
          "std_bkg": 13.011886596679688
         },
         {
          "expo": 92460,
          "mean_bkg": 32.711658477783196,
          "mode": " Full Frame",
          "obsid": 802280101,
          "rev": 3359,
          "std_bkg": 121.28973388671876
         },
         {
          "expo": 85135,
          "mean_bkg": 8.02242374420166,
          "mode": " Small Window",
          "obsid": 804250401,
          "rev": 3360,
          "std_bkg": 12.167118072509766
         },
         {
          "expo": 64084,
          "mean_bkg": 10.768007278442383,
          "mode": " Small Window",
          "obsid": 561381101,
          "rev": 3361,
          "std_bkg": 37.71494674682617
         },
         {
          "expo": 53833,
          "mean_bkg": 4.6184401512146,
          "mode": " Full Frame",
          "obsid": 800100101,
          "rev": 3367,
          "std_bkg": 0.21670928597450256
         },
         {
          "expo": 75833,
          "mean_bkg": 4.688842296600342,
          "mode": " Full Frame",
          "obsid": 824420101,
          "rev": 3369,
          "std_bkg": 0.2223430871963501
         },
         {
          "expo": 68033,
          "mean_bkg": 4.790563583374023,
          "mode": " Full Frame",
          "obsid": 821520101,
          "rev": 3370,
          "std_bkg": 0.2550114691257477
         },
         {
          "expo": 136424,
          "mean_bkg": 70.40203094482422,
          "mode": " Full Frame",
          "obsid": 822960101,
          "rev": 3371,
          "std_bkg": 381.6351623535156
         },
         {
          "expo": 54333,
          "mean_bkg": 7.889434814453125,
          "mode": " Full Frame",
          "obsid": 824910101,
          "rev": 3372,
          "std_bkg": 20.48776054382324
         },
         {
          "expo": 76885,
          "mean_bkg": 1315.0733642578125,
          "mode": " Full Frame",
          "obsid": 822350201,
          "rev": 3372,
          "std_bkg": 31356.865234375
         },
         {
          "expo": 83833,
          "mean_bkg": 6.56758451461792,
          "mode": " Full Frame",
          "obsid": 824450801,
          "rev": 3374,
          "std_bkg": 50.01482772827149
         },
         {
          "expo": 74833,
          "mean_bkg": 4.712775230407715,
          "mode": " Full Frame",
          "obsid": 824450901,
          "rev": 3375,
          "std_bkg": 0.21781691908836365
         },
         {
          "expo": 50284,
          "mean_bkg": 170.54617309570312,
          "mode": " Small Window",
          "obsid": 820360101,
          "rev": 3376,
          "std_bkg": 3714.20947265625
         },
         {
          "expo": 89233,
          "mean_bkg": 11.93061351776123,
          "mode": " Full Frame",
          "obsid": 824450401,
          "rev": 3377,
          "std_bkg": 43.58475875854492
         },
         {
          "expo": 138433,
          "mean_bkg": 132.13873291015622,
          "mode": " Full Frame",
          "obsid": 823730101,
          "rev": 3378,
          "std_bkg": 4700.88330078125
         },
         {
          "expo": 56833,
          "mean_bkg": 4.579263210296631,
          "mode": " Full Frame",
          "obsid": 823360101,
          "rev": 3380,
          "std_bkg": 0.2191232293844223
         },
         {
          "expo": 92718,
          "mean_bkg": 4.632033824920653,
          "mode": " Full Frame",
          "obsid": 830191401,
          "rev": 3381,
          "std_bkg": 0.21861399710178372
         },
         {
          "expo": 79733,
          "mean_bkg": 5.9708123207092285,
          "mode": " Full Frame",
          "obsid": 824450601,
          "rev": 3383,
          "std_bkg": 5.67564582824707
         },
         {
          "expo": 67851,
          "mean_bkg": 4.716762065887451,
          "mode": " Full Frame",
          "obsid": 823200101,
          "rev": 3384,
          "std_bkg": 0.2256965637207031
         },
         {
          "expo": 139684,
          "mean_bkg": 662.79345703125,
          "mode": " Small Window",
          "obsid": 820830101,
          "rev": 3387,
          "std_bkg": 23483.54296875
         },
         {
          "expo": 59833,
          "mean_bkg": 4.9561800956726065,
          "mode": " Full Frame",
          "obsid": 830191501,
          "rev": 3390,
          "std_bkg": 0.24783003330230716
         },
         {
          "expo": 59833,
          "mean_bkg": 188.7395782470703,
          "mode": " Full Frame",
          "obsid": 830191601,
          "rev": 3391,
          "std_bkg": 4481.51025390625
         },
         {
          "expo": 56733,
          "mean_bkg": 17.704010009765625,
          "mode": " Full Frame",
          "obsid": 821290601,
          "rev": 3392,
          "std_bkg": 51.271400451660156
         },
         {
          "expo": 64527,
          "mean_bkg": 4.676079273223877,
          "mode": " Timing",
          "obsid": 764344301,
          "rev": 3394,
          "std_bkg": 0.21674920618534088
         },
         {
          "expo": 59833,
          "mean_bkg": 10320.751953125,
          "mode": " Full Frame",
          "obsid": 830190901,
          "rev": 3395,
          "std_bkg": 127710.4140625
         },
         {
          "expo": 92484,
          "mean_bkg": 72.75179290771484,
          "mode": " Small Window",
          "obsid": 800840201,
          "rev": 3397,
          "std_bkg": 2061.079345703125
         },
         {
          "expo": 115733,
          "mean_bkg": 4.952495098114014,
          "mode": " Full Frame",
          "obsid": 830191001,
          "rev": 3398,
          "std_bkg": 2.0540509223937993
         },
         {
          "expo": 86290,
          "mean_bkg": 4.868022918701172,
          "mode": " Extended Full Frame",
          "obsid": 823580101,
          "rev": 3400,
          "std_bkg": 0.4886040985584259
         },
         {
          "expo": 63337,
          "mean_bkg": 4.843638896942139,
          "mode": " Small Window",
          "obsid": 414191401,
          "rev": 3401,
          "std_bkg": 0.2199402153491974
         },
         {
          "expo": 111333,
          "mean_bkg": 4.905145645141602,
          "mode": " Full Frame",
          "obsid": 780500301,
          "rev": 3404,
          "std_bkg": 0.22285446524620056
         },
         {
          "expo": 108438,
          "mean_bkg": 129.95527648925778,
          "mode": " Extended Full Frame",
          "obsid": 823580301,
          "rev": 3405,
          "std_bkg": 2504.60693359375
         },
         {
          "expo": 52333,
          "mean_bkg": 4.790037155151367,
          "mode": " Full Frame",
          "obsid": 821530101,
          "rev": 3408,
          "std_bkg": 0.2305662482976913
         },
         {
          "expo": 111538,
          "mean_bkg": 116.92311096191406,
          "mode": " Extended Full Frame",
          "obsid": 823580501,
          "rev": 3409,
          "std_bkg": 3741.61865234375
         },
         {
          "expo": 71633,
          "mean_bkg": 4.918515205383301,
          "mode": " Full Frame",
          "obsid": 821240201,
          "rev": 3410,
          "std_bkg": 0.7247401475906372
         },
         {
          "expo": 71284,
          "mean_bkg": 4.756816864013672,
          "mode": " Small Window",
          "obsid": 830490101,
          "rev": 3411,
          "std_bkg": 0.21281658113002774
         },
         {
          "expo": 81240,
          "mean_bkg": 4.973015308380127,
          "mode": " Extended Full Frame",
          "obsid": 823580401,
          "rev": 3412,
          "std_bkg": 1.2042827606201172
         },
         {
          "expo": 55438,
          "mean_bkg": 4.880149841308594,
          "mode": " Extended Full Frame",
          "obsid": 827020701,
          "rev": 3413,
          "std_bkg": 0.2282126992940903
         },
         {
          "expo": 111438,
          "mean_bkg": 4.853772640228272,
          "mode": " Extended Full Frame",
          "obsid": 823580601,
          "rev": 3414,
          "std_bkg": 0.2255198955535889
         },
         {
          "expo": 136341,
          "mean_bkg": 4.916522979736328,
          "mode": " Small Window",
          "obsid": 824080301,
          "rev": 3416,
          "std_bkg": 0.7419863939285278
         },
         {
          "expo": 138584,
          "mean_bkg": 4.832395553588867,
          "mode": " Small Window",
          "obsid": 824080401,
          "rev": 3417,
          "std_bkg": 0.2307117730379105
         },
         {
          "expo": 134339,
          "mean_bkg": 10.503034591674805,
          "mode": " Small Window",
          "obsid": 824080501,
          "rev": 3418,
          "std_bkg": 195.6849365234375
         },
         {
          "expo": 107638,
          "mean_bkg": 4.802579879760742,
          "mode": " Extended Full Frame",
          "obsid": 823580201,
          "rev": 3419,
          "std_bkg": 0.2343079894781113
         },
         {
          "expo": 50624,
          "mean_bkg": 7.51054573059082,
          "mode": " Large Window",
          "obsid": 823780201,
          "rev": 3421,
          "std_bkg": 19.01304817199707
         },
         {
          "expo": 84938,
          "mean_bkg": 5.104683876037598,
          "mode": " Extended Full Frame",
          "obsid": 804300101,
          "rev": 3427,
          "std_bkg": 1.3790079355239868
         },
         {
          "expo": 53784,
          "mean_bkg": 5.639610290527344,
          "mode": " Small Window",
          "obsid": 830400101,
          "rev": 3429,
          "std_bkg": 3.121929168701172
         },
         {
          "expo": 58427,
          "mean_bkg": 7.338361740112305,
          "mode": " Burst",
          "obsid": 811022801,
          "rev": 3436,
          "std_bkg": 13.510638236999512
         },
         {
          "expo": 68977,
          "mean_bkg": 10.71565055847168,
          "mode": " Burst",
          "obsid": 811022901,
          "rev": 3436,
          "std_bkg": 29.40666007995605
         },
         {
          "expo": 50598,
          "mean_bkg": 7.7991294860839835,
          "mode": " Extended Full Frame",
          "obsid": 827010401,
          "rev": 3437,
          "std_bkg": 47.84283065795898
         },
         {
          "expo": 121094,
          "mean_bkg": 4.873720645904541,
          "mode": " Full Frame",
          "obsid": 824450301,
          "rev": 3438,
          "std_bkg": 0.2682555913925171
         },
         {
          "expo": 81574,
          "mean_bkg": 5.032050132751465,
          "mode": " Large Window",
          "obsid": 830390101,
          "rev": 3440,
          "std_bkg": 0.9826448559761048
         },
         {
          "expo": 131227,
          "mean_bkg": 5.422389507293701,
          "mode": " Timing",
          "obsid": 783540401,
          "rev": 3443,
          "std_bkg": 2.122732400894165
         },
         {
          "expo": 58733,
          "mean_bkg": 509.4757995605469,
          "mode": " Full Frame",
          "obsid": 824390101,
          "rev": 3445,
          "std_bkg": 12052.3251953125
         },
         {
          "expo": 106284,
          "mean_bkg": 5.085857391357422,
          "mode": " Small Window",
          "obsid": 820530401,
          "rev": 3447,
          "std_bkg": 1.3704439401626587
         },
         {
          "expo": 64833,
          "mean_bkg": 5.099026679992676,
          "mode": " Full Frame",
          "obsid": 822330101,
          "rev": 3448,
          "std_bkg": 1.3643310070037842
         },
         {
          "expo": 69233,
          "mean_bkg": 12.835809707641602,
          "mode": " Full Frame",
          "obsid": 822050101,
          "rev": 3449,
          "std_bkg": 58.4502944946289
         },
         {
          "expo": 132184,
          "mean_bkg": 119.19140625,
          "mode": " Small Window",
          "obsid": 822740301,
          "rev": 3450,
          "std_bkg": 4010.3828125
         },
         {
          "expo": 131228,
          "mean_bkg": 8.34984302520752,
          "mode": " Small Window",
          "obsid": 822740401,
          "rev": 3451,
          "std_bkg": 27.22026443481445
         },
         {
          "expo": 137184,
          "mean_bkg": 7.087638854980469,
          "mode": " Small Window",
          "obsid": 822740501,
          "rev": 3452,
          "std_bkg": 26.106977462768555
         },
         {
          "expo": 67984,
          "mean_bkg": 4.749156475067139,
          "mode": " Small Window",
          "obsid": 822740601,
          "rev": 3453,
          "std_bkg": 0.2412037849426269
         },
         {
          "expo": 97633,
          "mean_bkg": 4.79759693145752,
          "mode": " Full Frame",
          "obsid": 823570201,
          "rev": 3455,
          "std_bkg": 0.22421878576278687
         },
         {
          "expo": 136833,
          "mean_bkg": 5.969779968261719,
          "mode": " Full Frame",
          "obsid": 830450101,
          "rev": 3456,
          "std_bkg": 9.88358211517334
         },
         {
          "expo": 59333,
          "mean_bkg": 4.890606880187988,
          "mode": " Full Frame",
          "obsid": 810890101,
          "rev": 3457,
          "std_bkg": 0.2335665225982666
         },
         {
          "expo": 50633,
          "mean_bkg": 4.879855155944824,
          "mode": " Full Frame",
          "obsid": 820920101,
          "rev": 3458,
          "std_bkg": 0.2282643467187881
         },
         {
          "expo": 71784,
          "mean_bkg": 4.960102558135986,
          "mode": " Small Window",
          "obsid": 824030101,
          "rev": 3460,
          "std_bkg": 0.2961926162242889
         },
         {
          "expo": 106533,
          "mean_bkg": 4.9501004219055185,
          "mode": " Full Frame",
          "obsid": 822960201,
          "rev": 3461,
          "std_bkg": 0.221367821097374
         },
         {
          "expo": 116233,
          "mean_bkg": 5.105025291442871,
          "mode": " Full Frame",
          "obsid": 824450701,
          "rev": 3462,
          "std_bkg": 1.464846134185791
         },
         {
          "expo": 58538,
          "mean_bkg": 4.881989002227783,
          "mode": " Extended Full Frame",
          "obsid": 827320201,
          "rev": 3463,
          "std_bkg": 0.9274137020111084
         },
         {
          "expo": 69833,
          "mean_bkg": 4.901222229003906,
          "mode": " Full Frame",
          "obsid": 823050101,
          "rev": 3463,
          "std_bkg": 0.3146008551120758
         },
         {
          "expo": 79251,
          "mean_bkg": 16.567161560058597,
          "mode": " Small Window",
          "obsid": 830430201,
          "rev": 3464,
          "std_bkg": 59.35009384155274
         },
         {
          "expo": 83784,
          "mean_bkg": 7.016958236694336,
          "mode": " Small Window",
          "obsid": 830430801,
          "rev": 3465,
          "std_bkg": 14.527342796325685
         },
         {
          "expo": 51584,
          "mean_bkg": 7442.2548828125,
          "mode": " Small Window",
          "obsid": 820360201,
          "rev": 3467,
          "std_bkg": 90250.9375
         },
         {
          "expo": 54433,
          "mean_bkg": 4.746628284454347,
          "mode": " Full Frame",
          "obsid": 830192001,
          "rev": 3468,
          "std_bkg": 0.2248007208108902
         },
         {
          "expo": 118371,
          "mean_bkg": 4.797296524047852,
          "mode": " Full Frame",
          "obsid": 824570101,
          "rev": 3469,
          "std_bkg": 0.2164026647806168
         },
         {
          "expo": 77538,
          "mean_bkg": 4.830923557281494,
          "mode": " Extended Full Frame",
          "obsid": 821722201,
          "rev": 3470,
          "std_bkg": 0.2296909838914871
         },
         {
          "expo": 55827,
          "mean_bkg": 5.473082542419434,
          "mode": " Timing",
          "obsid": 820230101,
          "rev": 3472,
          "std_bkg": 3.3556442260742188
         },
         {
          "expo": 82633,
          "mean_bkg": 5.141441345214844,
          "mode": " Full Frame",
          "obsid": 822280101,
          "rev": 3473,
          "std_bkg": 1.3149406909942627
         },
         {
          "expo": 113184,
          "mean_bkg": 4.977285385131836,
          "mode": " Small Window",
          "obsid": 830540101,
          "rev": 3476,
          "std_bkg": 0.3636538088321686
         },
         {
          "expo": 112684,
          "mean_bkg": 12.222190856933596,
          "mode": " Small Window",
          "obsid": 830540201,
          "rev": 3477,
          "std_bkg": 53.20297241210938
         },
         {
          "expo": 130141,
          "mean_bkg": 4.9279212951660165,
          "mode": " Full Frame",
          "obsid": 821800101,
          "rev": 3478,
          "std_bkg": 0.7067334651947021
         },
         {
          "expo": 100333,
          "mean_bkg": 4.760522842407227,
          "mode": " Full Frame",
          "obsid": 824450501,
          "rev": 3479,
          "std_bkg": 0.27929529547691345
         },
         {
          "expo": 56078,
          "mean_bkg": 111.44041442871094,
          "mode": " Small Window",
          "obsid": 831790301,
          "rev": 3481,
          "std_bkg": 371.4734802246094
         },
         {
          "expo": 106933,
          "mean_bkg": 4.861018180847168,
          "mode": " Full Frame",
          "obsid": 824610101,
          "rev": 3482,
          "std_bkg": 0.31699132919311523
         },
         {
          "expo": 74474,
          "mean_bkg": 4.802069664001465,
          "mode": " Large Window",
          "obsid": 830470101,
          "rev": 3484,
          "std_bkg": 0.2165834754705429
         },
         {
          "expo": 113633,
          "mean_bkg": 4.867969989776611,
          "mode": " Full Frame",
          "obsid": 824610201,
          "rev": 3485,
          "std_bkg": 0.2616209387779236
         },
         {
          "expo": 60833,
          "mean_bkg": 4.939855575561523,
          "mode": " Full Frame",
          "obsid": 822600101,
          "rev": 3486,
          "std_bkg": 0.27601689100265503
         },
         {
          "expo": 52901,
          "mean_bkg": 8.592761993408201,
          "mode": " Full Frame",
          "obsid": 823680101,
          "rev": 3487,
          "std_bkg": 14.324492454528807
         },
         {
          "expo": 122713,
          "mean_bkg": 4.99382209777832,
          "mode": " Full Frame",
          "obsid": 821800201,
          "rev": 3488,
          "std_bkg": 0.3859815895557404
         },
         {
          "expo": 101833,
          "mean_bkg": 5.329738140106201,
          "mode": " Full Frame",
          "obsid": 824450201,
          "rev": 3490,
          "std_bkg": 2.556488275527954
         },
         {
          "expo": 110459,
          "mean_bkg": 5.027238845825195,
          "mode": " Full Frame",
          "obsid": 824610301,
          "rev": 3491,
          "std_bkg": 0.7669031620025635
         },
         {
          "expo": 112833,
          "mean_bkg": 4.891162395477295,
          "mode": " Full Frame",
          "obsid": 824610401,
          "rev": 3492,
          "std_bkg": 0.22142843902111053
         },
         {
          "expo": 64533,
          "mean_bkg": 4.884486198425293,
          "mode": " Full Frame",
          "obsid": 821240301,
          "rev": 3493,
          "std_bkg": 0.2258543968200684
         },
         {
          "expo": 131333,
          "mean_bkg": 145.66041564941406,
          "mode": " Full Frame",
          "obsid": 821800301,
          "rev": 3494,
          "std_bkg": 5100.212890625
         },
         {
          "expo": 114633,
          "mean_bkg": 99.46957397460938,
          "mode": " Full Frame",
          "obsid": 831790601,
          "rev": 3495,
          "std_bkg": 3040.65283203125
         },
         {
          "expo": 88833,
          "mean_bkg": 128.09828186035156,
          "mode": " Full Frame",
          "obsid": 825100101,
          "rev": 3497,
          "std_bkg": 3669.400146484375
         },
         {
          "expo": 53284,
          "mean_bkg": 7.5345940589904785,
          "mode": " Small Window",
          "obsid": 729161101,
          "rev": 3498,
          "std_bkg": 17.659387588500977
         },
         {
          "expo": 138233,
          "mean_bkg": 11.00852108001709,
          "mode": " Full Frame",
          "obsid": 831790701,
          "rev": 3499,
          "std_bkg": 51.9653434753418
         },
         {
          "expo": 86603,
          "mean_bkg": 96.647216796875,
          "mode": " Full Frame",
          "obsid": 822530101,
          "rev": 3500,
          "std_bkg": 2699.31494140625
         }
        ]
       },
       "encoding": {
        "color": {
         "field": "mode",
         "type": "nominal"
        },
        "tooltip": [
         {
          "field": "rev",
          "type": "quantitative"
         },
         {
          "field": "obsid",
          "type": "quantitative"
         },
         {
          "field": "mean_bkg",
          "type": "quantitative"
         },
         {
          "field": "mode",
          "type": "nominal"
         }
        ],
        "x": {
         "field": "rev",
         "scale": {
          "domain": [
           2500,
           3500
          ]
         },
         "type": "quantitative"
        },
        "y": {
         "field": "mean_bkg",
         "scale": {
          "type": "log"
         },
         "type": "quantitative"
        }
       },
       "height": 500,
       "mark": {
        "size": 60,
        "type": "circle"
       },
       "selection": {
        "selector016": {
         "bind": "scales",
         "encodings": [
          "x",
          "y"
         ],
         "mark": {
          "fill": "#333",
          "fillOpacity": 0.125,
          "stroke": "white"
         },
         "on": "[mousedown, window:mouseup] > window:mousemove!",
         "resolve": "global",
         "translate": "[mousedown, window:mouseup] > window:mousemove!",
         "type": "interval",
         "zoom": "wheel!"
        }
       },
       "title": "Mean radiation level per OBS_ID",
       "width": 800
      },
      "image/png": "[encoded data removed]",
      "text/plain": [
       "<VegaLite 2 object>\n",
       "\n",
       "If you see this message, it means the renderer has not been properly enabled\n",
       "for the frontend that you are using. For more information, see\n",
       "https://altair-viz.github.io/user_guide/troubleshooting.html\n"
      ]
     },
     "execution_count": 22,
     "metadata": {},
     "output_type": "execute_result"
    }
   ],
   "source": [
    "alt.Chart(trad[trad.mean_bkg >= 1.0],title=\"Mean radiation level per OBS_ID\",width=800,height=500).mark_circle(size=60).encode(\n",
    "    alt.X('rev',scale=alt.Scale(domain=(2500,3500))),\n",
    "    alt.Y('mean_bkg',scale=alt.Scale(type=\"log\")),\n",
    "    color='mode',\n",
    "    tooltip=['rev', 'obsid','mean_bkg', 'mode']\n",
    ").interactive()"
   ]
  },
  {
   "cell_type": "code",
   "execution_count": null,
   "metadata": {},
   "outputs": [],
   "source": []
  }
 ],
 "metadata": {
  "kernelspec": {
   "display_name": "Python 3",
   "language": "python",
   "name": "python3"
  },
  "language_info": {
   "codemirror_mode": {
    "name": "ipython",
    "version": 3
   },
   "file_extension": ".py",
   "mimetype": "text/x-python",
   "name": "python",
   "nbconvert_exporter": "python",
   "pygments_lexer": "ipython3",
   "version": "3.7.1"
  }
 },
 "nbformat": 4,
 "nbformat_minor": 2
}
