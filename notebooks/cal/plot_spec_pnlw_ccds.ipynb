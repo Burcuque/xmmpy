{
 "cells": [
  {
   "cell_type": "markdown",
   "metadata": {},
   "source": [
    "# Plot the extracted spectra for all CCDs\n"
   ]
  },
  {
   "cell_type": "code",
   "execution_count": 11,
   "metadata": {},
   "outputs": [],
   "source": [
    "import numpy as np\n",
    "import os\n",
    "\n",
    "from astropy.io import fits\n",
    "from astropy.convolution import convolve, Box1DKernel\n",
    "\n",
    "%matplotlib inline\n",
    "\n",
    "import matplotlib.pylab as plt\n",
    "import seaborn as sns\n",
    "sns.set(style=\"white\")\n",
    "\n",
    "plt.rc('text', usetex=False)\n",
    "plt.rc('font', family='serif')"
   ]
  },
  {
   "cell_type": "code",
   "execution_count": 12,
   "metadata": {},
   "outputs": [],
   "source": [
    "obsid = \"0721010401\"\n",
    "#obsid = \"0721010501\"\n",
    "\n",
    "home = os.path.expanduser('~')\n",
    "wdir = f\"{home}/IVAN/Cu-line\"\n",
    "\n",
    "specDir = f\"{wdir}/{obsid}/PN_LW\"\n",
    "expo = \"S003\"\n",
    "smooth = 7\n",
    "\n",
    "fig, axs = plt.subplots(2,6,sharex=True,sharey=True,figsize=(15,10))\n",
    "for j in np.arange(12):\n",
    "    ccd = j+1\n",
    "    #slices = glob.glob(f\"{specDir}/pn_{ccd:02}_180_spec5.fits\")\n",
    "    slices = f\"{specDir}/pn_{expo}_{ccd:02}_all_spec5.fits\"\n",
    "    if (not os.path.isfile(slices)):\n",
    "        raise FileNotFoundError\n",
    "    hdu = fits.open(slices)\n",
    "    spec = hdu['SPECTRUM']\n",
    "    channel = spec.data['CHANNEL']*5.0/1000.0\n",
    "    counts = spec.data['COUNTS']\n",
    "    y = convolve(counts, Box1DKernel(smooth))\n",
    "    k = j\n",
    "    kj = 0\n",
    "    if (j >= 6):\n",
    "        k = j - 6\n",
    "        kj = 1\n",
    "    axs[kj,k].plot(channel,counts,label=f'CCD #{ccd:02}')\n",
    "    axs[kj,k].plot(channel,y,label='')\n",
    "    axs[kj,k].set_xlim((7,9))\n",
    "    axs[kj,k].set_ylim((0,70))\n",
    "    axs[kj,k].grid(True)\n",
    "    axs[kj,k].legend()\n",
    "    #axs[kj,k].set_title(f\"CCD #{ccd}\")\n",
    "#\n",
    "plt.subplots_adjust(wspace=0, hspace=0)\n",
    "#plt.text(-13,-1,'Energy (keV)',ha='center', va='center')\n",
    "#plt.text(-36,10,'Counts',rotation='vertical',ha='center', va='center')\n",
    "#plt.tight_layout()\n",
    "#plt.show()\n",
    "plt.savefig(f\"{wdir}/{obsid}_{expo}_allccd_plot.png\",dpi=100)\n",
    "plt.close();"
   ]
  },
  {
   "cell_type": "code",
   "execution_count": null,
   "metadata": {},
   "outputs": [],
   "source": []
  }
 ],
 "metadata": {
  "kernelspec": {
   "display_name": "Python 3",
   "language": "python",
   "name": "python3"
  },
  "language_info": {
   "codemirror_mode": {
    "name": "ipython",
    "version": 3
   },
   "file_extension": ".py",
   "mimetype": "text/x-python",
   "name": "python",
   "nbconvert_exporter": "python",
   "pygments_lexer": "ipython3",
   "version": "3.7.1"
  }
 },
 "nbformat": 4,
 "nbformat_minor": 2
}
