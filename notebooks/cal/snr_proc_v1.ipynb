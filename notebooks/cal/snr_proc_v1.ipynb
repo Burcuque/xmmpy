{
 "cells": [
  {
   "cell_type": "markdown",
   "metadata": {},
   "source": [
    "# Processing steps for SNR observed in PN Large Window mode"
   ]
  },
  {
   "cell_type": "code",
   "execution_count": 1,
   "metadata": {},
   "outputs": [],
   "source": [
    "import os\n",
    "import subprocess\n",
    "import sys\n",
    "import glob\n",
    "import logging\n",
    "\n",
    "import numpy as np\n",
    "\n",
    "from astropy.io import fits\n",
    "from astropy.stats import mad_std\n",
    "\n",
    "%matplotlib inline\n",
    "import matplotlib.pylab as plt"
   ]
  },
  {
   "cell_type": "code",
   "execution_count": 2,
   "metadata": {},
   "outputs": [],
   "source": [
    "def run_command(command,verbose=True):\n",
    "    #\n",
    "    # Execute a shell command with the stdout and stderr being redirected to a log file \n",
    "    #\n",
    "    try:\n",
    "        result = subprocess.run(command, shell=True,stdout=subprocess.PIPE,stderr=subprocess.STDOUT)\n",
    "        retcode=result.returncode\n",
    "        if retcode < 0:\n",
    "            if (verbose):\n",
    "                print(f\"Execution of {command} was terminated by signal\", -retcode, file=sys.stderr)\n",
    "            logging.warning(\"Execution of {} was terminated by signal: {} \\n {}\".format(command,-retcode,result.stdout.decode()))\n",
    "        else:\n",
    "            if (verbose):\n",
    "                print(f\"Execution of {command} returned\", retcode, file=sys.stderr)\n",
    "            logging.info(\"Execution of {} returned {}, \\n {}\".format(command,retcode,result.stdout.decode()))\n",
    "    except OSError as e:\n",
    "        print(f\"Execution of {command} failed:\", e, file=sys.stderr)\n",
    "        logging.error(\"Execution of {} failed: {}\".format(command,e))\n",
    "    return retcode"
   ]
  },
  {
   "cell_type": "markdown",
   "metadata": {},
   "source": [
    "## Setting up XMM-SAS\n",
    "\n",
    "For some reason, running the ipython magic command `!. /home/xcaldata/setsas_161.sh`, does not propagate to the session, i.e. although it prints out that SAS is set up, it is not available after the execution of the shell command. So, I have to do it manually, by setting some environment variables.\n",
    "\n",
    "The last line in the next cell, `!sasversion` should work."
   ]
  },
  {
   "cell_type": "code",
   "execution_count": 3,
   "metadata": {},
   "outputs": [
    {
     "name": "stdout",
     "output_type": "stream",
     "text": [
      "sasversion:- Executing (routine): sasversion  -w 1 -V 4\n",
      "sasversion:- sasversion (sasversion-1.3)  [xmmsas_20190531_1155-18.0.0] started:  2019-06-28T10:54:11.000\n",
      "sasversion:- XMM-Newton SAS release and build information:\n",
      "\n",
      "SAS release: xmmsas_20190531_1155-18.0.0\n",
      "Compiled on: Sun Jun  2 14:11:08 CEST 2019\n",
      "Compiled by: sasbuild@sasbld01n.net4.lan\n",
      "Platform   : RHEL6.8 64\n",
      "\n",
      "SAS-related environment variables that are set:\n",
      "\n",
      "SAS_DIR = /sas/Linux/RHEL_6.9Workstation/64/sas18_0_0\n",
      "SAS_PATH = /sas/Linux/RHEL_6.9Workstation/64/sas18_0_0\n",
      "SAS_CCFPATH = /xdata/ccf/pub\n",
      "\n",
      "sasversion:- sasversion (sasversion-1.3)  [xmmsas_20190531_1155-18.0.0] ended:    2019-06-28T10:54:11.000\n"
     ]
    }
   ],
   "source": [
    "#\n",
    "# set up XMM-SAS\n",
    "#\n",
    "# the current one is 18.0 ==> /home/xcaldata/setsas_180.sh\n",
    "# tests with XMM-SAS 16.1 for the arfgen\n",
    "#!. /home/xcaldata/setsas_161.sh\n",
    "#\n",
    "sas_dir = \"/sas/Linux/RHEL_6.9Workstation/64/sas18_0_0\"\n",
    "#sas_dir = \"/sas/Linux/RHEL_6.9Workstation/64/sas16_1_0\"\n",
    "os.environ[\"SAS_DIR\"]= sas_dir\n",
    "os.environ[\"SAS_PATH\"]=os.environ[\"SAS_DIR\"]\n",
    "os.environ[\"SAS_VERBOSITY\"]=\"4\"\n",
    "os.environ[\"SAS_SUPPRESS_WARNING\"]=\"1\"\n",
    "path = os.environ[\"PATH\"]\n",
    "os.environ[\"PATH\"] = f\"{sas_dir}/bin:{sas_dir}/binextra:{path}\"\n",
    "ld_path = os.environ[\"LD_LIBRARY_PATH\"]\n",
    "lib_path = f\"{sas_dir}/lib:{sas_dir}/libextra:{sas_dir}/libsys:{ld_path}\"\n",
    "os.environ[\"LD_LIBRARY_PATH\"] = lib_path\n",
    "#\n",
    "# check\n",
    "#print (\"PATH = \",os.environ[\"PATH\"])\n",
    "#print (\"LF_LIBRARY_PATH = \",os.environ[\"LD_LIBRARY_PATH\"])\n",
    "#for ikey in os.environ.keys():\n",
    "#    if ('SAS' in ikey):\n",
    "#        print (ikey,\" = \",os.environ[ikey])\n",
    "!sasversion"
   ]
  },
  {
   "cell_type": "markdown",
   "metadata": {},
   "source": [
    "## Processing of a target\n",
    "\n",
    "Next cell sets up the target name, the XMM `OBS_ID` and the different paths. I usually keep the following structure in the `root_dir`:\n",
    "```\n",
    "<target>\n",
    "   <OBS_ID 1>\n",
    "       <proc>\n",
    "   <OBS_ID 2>\n",
    "       <proc>\n",
    "   ...\n",
    "```\n",
    "where in folders `<OBS_ID>` I keep the ODF files and the CCF file. While in `<proc>` I keep the processing products, like event lists, images etc. The spectral extraction regions are also kept in `<proc>` folder.\n",
    "\n",
    "For processing with different versions of SAS or calibration, I use different names for the `<proc>` folders."
   ]
  },
  {
   "cell_type": "code",
   "execution_count": 4,
   "metadata": {},
   "outputs": [
    {
     "name": "stdout",
     "output_type": "stream",
     "text": [
      "Found ODF folder: /xdata/xcaldata/XMM/IVAN/PN_LW/sources/PuppisA/0150150301.\n",
      "Will use /xdata/xcaldata/XMM/IVAN/PN_LW/sources/PuppisA/0150150301/proc_18 for the products.\n"
     ]
    }
   ],
   "source": [
    "#\n",
    "# set up the paths, the target and the OBS_ID\n",
    "#\n",
    "root_dir = \"/xdata/xcaldata/XMM/IVAN/PN_LW/sources\"\n",
    "#root_dir = \"/lhome/ivaltchanov/XMM-clusters\"\n",
    "target=\"PuppisA\"\n",
    "obsid=\"0150150301\"\n",
    "#target=\"A2029\"\n",
    "#obsid=\"0551780301\"\n",
    "#target=\"A3571\"\n",
    "#obsid=\"0086950201\"\n",
    "#target=\"Coma\"\n",
    "#obsid=\"0300530101\"\n",
    "\n",
    "# the output processing will be saved to a folder proc_161\n",
    "pps=\"proc_18\"\n",
    "odf_dir = f\"{root_dir}/{target}/{obsid}\"\n",
    "#\n",
    "if (not os.path.isdir(odf_dir)):\n",
    "    print (f\"{odf_dir} does not exist. Cannot continue.\")\n",
    "    raise FileNotFoundError\n",
    "else:\n",
    "    print (f\"Found ODF folder: {odf_dir}.\")\n",
    "#\n",
    "pps_dir = f\"{root_dir}/{target}/{obsid}/{pps}\"\n",
    "if (not os.path.isdir(pps_dir)):\n",
    "    print (f\"{pps_dir} does not exist. Will create it.\")\n",
    "    os.mkdir(pps_dir)\n",
    "else:\n",
    "    print (f\"Will use {pps_dir} for the products.\")\n",
    "#\n",
    "#\n",
    "# logging to file\n",
    "#\n",
    "logfile_name = f'{pps_dir}/{target}_{obsid}_{pps}.log'\n",
    "logging.basicConfig(level=logging.DEBUG,\n",
    "                    format='%(asctime)s %(levelname)s %(message)s',\n",
    "                    filename=logfile_name,\n",
    "                    filemode='w')\n",
    "#\n",
    "os.environ['SAS_ODF'] = odf_dir\n",
    "os.environ['SAS_CCFPATH'] = '/ccf/pub'"
   ]
  },
  {
   "cell_type": "code",
   "execution_count": 5,
   "metadata": {},
   "outputs": [
    {
     "name": "stdout",
     "output_type": "stream",
     "text": [
      "Found XMM-SAS.\n"
     ]
    },
    {
     "name": "stderr",
     "output_type": "stream",
     "text": [
      "Execution of sasversion returned 0\n"
     ]
    }
   ],
   "source": [
    "#\n",
    "# check for consistency the SAS version\n",
    "#\n",
    "status = run_command('sasversion')\n",
    "if (status != 0):\n",
    "    print ('XMM-SAS is not available. Cannot continue.')\n",
    "    raise Exception\n",
    "else:\n",
    "    print (\"Found XMM-SAS.\")\n",
    "#"
   ]
  },
  {
   "cell_type": "markdown",
   "metadata": {},
   "source": [
    "## Generating the current calibration file\n",
    "\n",
    "Presumably the ODF files for the `target` and `OBS_ID` are already downloaded and avalable in the `odf_dir`.\n",
    "\n",
    "Then we regenerate the current calibration files (CCF) and set the environment `SAS_CCF` to point to this file."
   ]
  },
  {
   "cell_type": "code",
   "execution_count": 7,
   "metadata": {},
   "outputs": [
    {
     "name": "stderr",
     "output_type": "stream",
     "text": [
      "Execution of cifbuild calindexset=/xdata/xcaldata/XMM/IVAN/PN_LW/sources/PuppisA/0150150301/proc_18/ccf.cif returned 0\n"
     ]
    }
   ],
   "source": [
    "# **Step 1:** Assuming the ODF is already available in odf_dir, then run cifbuild first\n",
    "os.chdir(odf_dir)\n",
    "#\n",
    "# For tests with XMM-SAS v16.1, set the corretc analysis date\n",
    "#\n",
    "cif_file = f\"{pps_dir}/ccf.cif\"\n",
    "comm = f\"cifbuild calindexset={cif_file}\"\n",
    "#comm = f\"cifbuild calindexset={cif_file} analysisdate=\\\"2017-07-20T00:00:00\\\"\"\n",
    "status = run_command(comm)\n",
    "if (status != 0):\n",
    "    raise Exception\n",
    "#\n",
    "os.environ['SAS_CCF'] = cif_file"
   ]
  },
  {
   "cell_type": "code",
   "execution_count": 8,
   "metadata": {},
   "outputs": [
    {
     "name": "stderr",
     "output_type": "stream",
     "text": [
      "Execution of odfingest returned 0\n"
     ]
    }
   ],
   "source": [
    "# **Step 2:** run odfingest\n",
    "os.chdir(odf_dir)\n",
    "comm = \"odfingest\"\n",
    "status = run_command(comm)\n",
    "if (status != 0):\n",
    "    raise Exception\n",
    "#"
   ]
  },
  {
   "cell_type": "markdown",
   "metadata": {},
   "source": [
    "## Create calibrated event lists\n",
    "\n",
    "I will use the `epproc/emproc` tasks in XMM-SAS"
   ]
  },
  {
   "cell_type": "code",
   "execution_count": 9,
   "metadata": {},
   "outputs": [
    {
     "name": "stdout",
     "output_type": "stream",
     "text": [
      "*** Running emproc\n"
     ]
    },
    {
     "name": "stderr",
     "output_type": "stream",
     "text": [
      "Execution of emproc returned 0\n"
     ]
    }
   ],
   "source": [
    "os.chdir(pps_dir)\n",
    "\n",
    "print (\"*** Running emproc\")\n",
    "command = f'emproc'\n",
    "status = run_command(command)\n",
    "if (status != 0):\n",
    "    print (f\"Command \\\"{command}\\\" failed\")\n",
    "    raise Exception"
   ]
  },
  {
   "cell_type": "code",
   "execution_count": 10,
   "metadata": {},
   "outputs": [
    {
     "name": "stdout",
     "output_type": "stream",
     "text": [
      "*** Running epproc\n"
     ]
    },
    {
     "name": "stderr",
     "output_type": "stream",
     "text": [
      "Execution of epproc returned 0\n"
     ]
    }
   ],
   "source": [
    "print (\"*** Running epproc\")\n",
    "command = f'epproc'\n",
    "status = run_command(command)\n",
    "if (status != 0):\n",
    "    print (f\"Command \\\"{command}\\\" failed\")\n",
    "    raise Exception"
   ]
  },
  {
   "cell_type": "markdown",
   "metadata": {},
   "source": [
    "## Generating lightcurves at high energy\n",
    "\n",
    "Some observations may suffer from periods of high backgrounds. The lightcurves at high energy (10-12 keV) are a good representation of the overall background behaviour during an observation."
   ]
  },
  {
   "cell_type": "code",
   "execution_count": 11,
   "metadata": {},
   "outputs": [
    {
     "name": "stdout",
     "output_type": "stream",
     "text": [
      "Found 3 calibrated event lists\n",
      "Generating lightcurve for 0649_0150150301_EMOS1_S001_ImagingEvts.ds\n"
     ]
    },
    {
     "name": "stderr",
     "output_type": "stream",
     "text": [
      "Execution of evselect table=0649_0150150301_EMOS1_S001_ImagingEvts.ds withrateset=Y rateset=rate_mos1_S001.fits maketimecolumn=Y timebinsize=100 makeratecolumn=Y expression='#XMMEA_EM && (PI>10000) && (PATTERN==0)' returned 0\n"
     ]
    },
    {
     "name": "stdout",
     "output_type": "stream",
     "text": [
      "Generating lightcurve for 0649_0150150301_EMOS2_S002_ImagingEvts.ds\n"
     ]
    },
    {
     "name": "stderr",
     "output_type": "stream",
     "text": [
      "Execution of evselect table=0649_0150150301_EMOS2_S002_ImagingEvts.ds withrateset=Y rateset=rate_mos2_S002.fits maketimecolumn=Y timebinsize=100 makeratecolumn=Y expression='#XMMEA_EM && (PI>10000) && (PATTERN==0)' returned 0\n"
     ]
    },
    {
     "name": "stdout",
     "output_type": "stream",
     "text": [
      "Generating lightcurve for 0649_0150150301_EPN_S003_ImagingEvts.ds\n"
     ]
    },
    {
     "name": "stderr",
     "output_type": "stream",
     "text": [
      "Execution of evselect table=0649_0150150301_EPN_S003_ImagingEvts.ds withrateset=Y rateset=rate_pn_S003.fits maketimecolumn=Y timebinsize=100 makeratecolumn=Y expression=' #XMMEA_EP && (PI>10000&&PI<12000) && (PATTERN==0)' returned 0\n"
     ]
    }
   ],
   "source": [
    "# **Step 2:** Genrerate the lightcurves\n",
    "#\n",
    "evlists = glob.glob(\"*ImagingEvts.ds\")\n",
    "nev = len(evlists)\n",
    "if (nev == 0):\n",
    "    print(f\"No ImagingEvts files found in folder {pps_dir}\")\n",
    "    raise FileNotFoundError\n",
    "else:\n",
    "    print (f\"Found {nev} calibrated event lists\")\n",
    "#\n",
    "for ev in evlists:\n",
    "    iev = os.path.basename(ev)\n",
    "    print (f\"Generating lightcurve for {iev}\")\n",
    "    # the exposure\n",
    "    expo = iev.split('_')[3]\n",
    "    if ('EMOS1' in iev):\n",
    "        rate = f'rate_mos1_{expo}.fits'\n",
    "        expr = '#XMMEA_EM && (PI>10000) && (PATTERN==0)'\n",
    "    elif ('EMOS2' in iev):\n",
    "        rate = f'rate_mos2_{expo}.fits'\n",
    "        expr = '#XMMEA_EM && (PI>10000) && (PATTERN==0)'\n",
    "    elif ('EPN' in iev):\n",
    "        rate = f'rate_pn_{expo}.fits'\n",
    "        expr = ' #XMMEA_EP && (PI>10000&&PI<12000) && (PATTERN==0)'        \n",
    "    #    \n",
    "    command = f'evselect table={iev} withrateset=Y rateset={rate}' + \\\n",
    "    ' maketimecolumn=Y timebinsize=100 makeratecolumn=Y' + \\\n",
    "    f' expression=\\'{expr}\\''\n",
    "    status = run_command(command)\n",
    "    if (status != 0):\n",
    "        print (f\"Command \\\"{command}\\\" failed\")\n",
    "        raise Exception\n",
    "#"
   ]
  },
  {
   "cell_type": "markdown",
   "metadata": {},
   "source": [
    "## Filtering for good time intervals (GTI)\n",
    "\n",
    "Based on the lightcurve count rates, we select the periods where the background is below a certain threshold in counts/s. The suggested default threshold for MOS detectors is 0.35 counts/s, while for pn it's 0.4 counts/s. If the median + 3 times the median absolute deviation of the observed rate is greater than the default values, then this is the new threshold for the filtering.\n",
    "\n",
    "At the end, some diagnostics are printed out, e.g. the fraction of the good-time-interval."
   ]
  },
  {
   "cell_type": "code",
   "execution_count": 29,
   "metadata": {},
   "outputs": [
    {
     "name": "stdout",
     "output_type": "stream",
     "text": [
      "rate_mos1_S001.fits: actual rate limit to use for GTI filtering: 0.35\n",
      "rate_mos2_S002.fits: actual rate limit to use for GTI filtering: 0.35\n",
      "rate_pn_S003.fits: actual rate limit to use for GTI filtering: 0.41\n",
      "rate_mos1_S001.fits: filtered GTI 9200.0 from exposure 8608.9, GTI fraction 1.069\n",
      "rate_mos2_S002.fits: filtered GTI 9500.0 from exposure 8074.4, GTI fraction 1.177\n",
      "rate_pn_S003.fits: filtered GTI 6700.0 from exposure 4514.0, GTI fraction 1.484\n",
      "\n"
     ]
    },
    {
     "name": "stderr",
     "output_type": "stream",
     "text": [
      "Execution of tabgtigen table=rate_mos1_S001.fits expression=\"RATE<=0.35\" gtiset=gti_mos1_S001.fits returned 0\n",
      "Execution of tabgtigen table=rate_mos2_S002.fits expression=\"RATE<=0.35\" gtiset=gti_mos2_S002.fits returned 0\n",
      "Execution of tabgtigen table=rate_pn_S003.fits expression=\"RATE<=0.41\" gtiset=gti_pn_S003.fits returned 0\n"
     ]
    }
   ],
   "source": [
    "# **Step 3:** use the rate curves and select the GTI, semi-automatic\n",
    "#\n",
    "t = {}\n",
    "time_min = 1.0e10\n",
    "# get the min time, to be used for relative time\n",
    "output = \"\"\n",
    "instruments = ['mos1','mos2','pn']\n",
    "use_limit = {'mos1': 0.0, 'mos2': 0.0, 'pn': 0.0}\n",
    "\n",
    "for inst in instruments:\n",
    "    #\n",
    "    ratefiles = glob.glob(f\"rate_{inst}*\")\n",
    "    for j in ratefiles:\n",
    "        rate_hdu = fits.open(j)\n",
    "        t = rate_hdu['RATE'].data\n",
    "        ontime0 = rate_hdu['RATE'].header['EXPOSURE']\n",
    "        #time_min = min(np.min(rate_hdu['RATE'].data['TIME']),time_min)\n",
    "        # find the count-rate limit for filtering\n",
    "        # median + 3*MAD\n",
    "        #\n",
    "        medrate = np.median(t[\"RATE\"])\n",
    "        xmad = mad_std(t['RATE'])\n",
    "        ulimit = medrate + 3*xmad\n",
    "        if ('mos' in inst):\n",
    "            rate_lim = 0.35\n",
    "        else:\n",
    "            rate_lim = 0.4\n",
    "        #\n",
    "        use_limit[inst] = max(ulimit,rate_lim)\n",
    "        print(f\"{j}: actual rate limit to use for GTI filtering: {use_limit[inst]:.2f}\")\n",
    "        #\n",
    "        gtiset = j.replace(\"rate\",\"gti\")\n",
    "        gti_command = f'tabgtigen table={j} expression=\"RATE<={use_limit[inst]:.2f}\" gtiset={gtiset}'\n",
    "        #\n",
    "        status = run_command(gti_command)\n",
    "        if (status != 0):\n",
    "            print (f\"Command {gti_command} failed\")\n",
    "            raise Exception\n",
    "        gti_hdu = fits.open(gtiset)\n",
    "        ontime = gti_hdu[1].header['ONTIME']\n",
    "        fraction = ontime/ontime0\n",
    "        output += f\"{j}: filtered GTI {ontime:.1f} from exposure {ontime0:.1f}, GTI fraction {fraction:.3f}\\n\"\n",
    "#\n",
    "print (output)\n",
    "logging.info(output)"
   ]
  },
  {
   "cell_type": "code",
   "execution_count": 34,
   "metadata": {},
   "outputs": [
    {
     "name": "stderr",
     "output_type": "stream",
     "text": [
      "Execution of gtimerge tables='gti_mos1_S001.fits gti_mos2_S002.fits gti_pn_S003.fits' withgtitable=yes gtitable=PuppisA_0150150301_gti_merged.fits mergemode=and returned 0\n"
     ]
    }
   ],
   "source": [
    "# step 3b\n",
    "# if needed, merge the three GTI\n",
    "#\n",
    "gti_list = \"\"\n",
    "#instruments = ['mos1','mos2','pn']\n",
    "#\n",
    "# find all the gti files, generated during the previous step, they should have names gti_{inst}_{expo}.fits\n",
    "#\n",
    "gtifiles = glob.glob(\"gti_*.fits\")\n",
    "if (len(gtifiles) < 1):\n",
    "    print (\"No GTI files found. Cannot continue with GTI merging.\")\n",
    "    logging.error (\"No GTI files found. Cannot continue with GTI merging.\")\n",
    "    raise FileNotFoundError\n",
    "#    \n",
    "gti_list = \"\"\n",
    "for g in gtifiles:\n",
    "    gti_list += f\"{g} \"\n",
    "#\n",
    "gti_merged = f\"{target}_{obsid}_gti_merged.fits\"\n",
    "gti_command = f'gtimerge tables=\\'{gti_list.strip()}\\'' + \\\n",
    "    f' withgtitable=yes gtitable={gti_merged} mergemode=and'\n",
    "status = run_command(gti_command)\n",
    "if (status != 0):\n",
    "    print (f\"Command \\\"{gti_command}\\\" failed\")\n",
    "    raise Exception"
   ]
  },
  {
   "cell_type": "code",
   "execution_count": 42,
   "metadata": {},
   "outputs": [
    {
     "name": "stdout",
     "output_type": "stream",
     "text": [
      "GTI Merged ONTIME 6645.46759593487\n",
      "0 rate_mos1_S001.fits\n",
      "1 rate_mos2_S002.fits\n",
      "2 rate_pn_S003.fits\n"
     ]
    },
    {
     "data": {
      "image/png": "[encoded data removed]",
      "text/plain": [
       "<Figure size 720x720 with 3 Axes>"
      ]
     },
     "metadata": {
      "needs_background": "light"
     },
     "output_type": "display_data"
    }
   ],
   "source": [
    "# step 3a\n",
    "#\n",
    "# plot the lightcurve and the GTI per detector and the merged one\n",
    "#\n",
    "f, ax = plt.subplots(3, sharex=True, sharey=True,figsize=(10,10))\n",
    "#\n",
    "# get the good time intervals\n",
    "#\n",
    "hdu = fits.open(gti_merged,hdu=1)\n",
    "start = hdu[1].data[\"START\"]\n",
    "end = hdu[1].data[\"STOP\"]\n",
    "mtime = hdu[1].header['ONTIME']\n",
    "print (f\"GTI Merged ONTIME {mtime}\")\n",
    "logging.info (f\"GTI Merged ONTIME {mtime}\")\n",
    "#\n",
    "ngti = len(start)\n",
    "#\n",
    "instruments = ['mos1','mos2','pn']\n",
    "\n",
    "ratefiles = glob.glob(f\"rate_*\")\n",
    "\n",
    "for i,j in enumerate(ratefiles):\n",
    "    if ('mos1' in j):\n",
    "        inst = 'mos1'\n",
    "    if ('mos2' in j):\n",
    "        inst = 'mos2'\n",
    "    if ('pn' in j):\n",
    "        inst = 'pn'\n",
    "    hdu = fits.open(j)\n",
    "    rate = hdu[1]\n",
    "    hdu = fits.open(j.replace('rate','gti'))\n",
    "    gti = hdu[1]\n",
    "    #\n",
    "    reltime = rate.data['TIME'] - time_min\n",
    "    ax[i].semilogy(reltime,rate.data['RATE'],label=inst)\n",
    "    if ('mos' in inst):\n",
    "        rate_lim = 0.35\n",
    "    else:\n",
    "        rate_lim = 0.4\n",
    "    #\n",
    "    ax[i].axhline(y=rate_lim,color='magenta',ls='solid',label='SAS')\n",
    "    #ax[i].axhline(y=medrate,color='r',ls='dashed',label='median')\n",
    "    #ax[i].axhline(y=prate,color='b',ls='dashed',label='{}%'.format(perc))\n",
    "    ax[i].axhline(y=use_limit[inst],color='k',ls='dashed',label='Adopted')\n",
    "    #ax1.set_ylim([med-15,med+15])\n",
    "    #ax[i].set_xlabel(\"Time (s)\")\n",
    "    #ax.set_ylabel(\"Count rate\")\n",
    "    ax[i].set_ylim((0.01,20.0))\n",
    "    ax[i].grid(True)\n",
    "    #if (i == 0):\n",
    "    ax[i].legend(loc=2)\n",
    "    #if (i == 0):\n",
    "    #    ax[i].legend(loc=2)\n",
    "    if (i == 1):\n",
    "        ax[i].set_ylabel(\"Count rate (cts/s)\")\n",
    "    #\n",
    "    # now the GTI bands\n",
    "    #\n",
    "    for jj in np.arange(ngti):\n",
    "        xx = (start[jj]-time_min,end[jj]-time_min)\n",
    "        yy1 = (0.01,0.01)\n",
    "        yy2 = (20.0,20.0)\n",
    "        ax[i].fill_between(xx,yy1,yy2,facecolor='yellow',alpha=0.3)\n",
    "f.subplots_adjust(hspace=0)\n",
    "plt.setp([a.get_xticklabels() for a in f.axes[:-1]], visible=False)\n",
    "plt.xlabel(\"Relative time (s)\")\n",
    "ax[0].set_title(f\"Merged GTI for {target}, {obsid}, ONTIME={mtime:.1f} s\")\n",
    "#\n",
    "#png_file = \"{}/{}_rates_gti.png\".format(ppsDir,obsid)\n",
    "#plt.savefig(png_file,dpi=100)\n",
    "plt.show()\n",
    "#logging.info(\"Saved GTI limits in figure: {}\".format(png_file))\n",
    "plt.close();\n"
   ]
  },
  {
   "cell_type": "markdown",
   "metadata": {},
   "source": [
    "## Create filtered event lists\n",
    "\n",
    "The filtering of the event lists is using the standard flags and either the user provided GTI file or the ones generated during the previous step. The GTI files can be per detector or a merged one."
   ]
  },
  {
   "cell_type": "code",
   "execution_count": 43,
   "metadata": {},
   "outputs": [
    {
     "name": "stdout",
     "output_type": "stream",
     "text": [
      "Filtering mos1 with GTI\n"
     ]
    },
    {
     "name": "stderr",
     "output_type": "stream",
     "text": [
      "Execution of evselect table=0649_0150150301_EMOS1_S001_ImagingEvts.ds withfilteredset=Y filteredset=mos1_evlist_clean.fits destruct=Y keepfilteroutput=T expression='#XMMEA_EM && gti(PuppisA_0150150301_gti_merged.fits,TIME) && (PI>150)' returned 0\n"
     ]
    },
    {
     "name": "stdout",
     "output_type": "stream",
     "text": [
      "Filtering mos2 with GTI\n"
     ]
    },
    {
     "name": "stderr",
     "output_type": "stream",
     "text": [
      "Execution of evselect table=0649_0150150301_EMOS2_S002_ImagingEvts.ds withfilteredset=Y filteredset=mos2_evlist_clean.fits destruct=Y keepfilteroutput=T expression='#XMMEA_EM && gti(PuppisA_0150150301_gti_merged.fits,TIME) && (PI>150)' returned 0\n"
     ]
    },
    {
     "name": "stdout",
     "output_type": "stream",
     "text": [
      "Filtering pn with GTI\n"
     ]
    },
    {
     "name": "stderr",
     "output_type": "stream",
     "text": [
      "Execution of evselect table=0649_0150150301_EPN_S003_ImagingEvts.ds withfilteredset=Y filteredset=pn_evlist_clean.fits destruct=Y keepfilteroutput=T expression='#XMMEA_EP && gti(PuppisA_0150150301_gti_merged.fits,TIME) && (PI>150)' returned 0\n"
     ]
    }
   ],
   "source": [
    "#**Step 4:** Create GTI filtered event lists, using the GTI file\n",
    "#\n",
    "# using the merged GTI\n",
    "gtifile = gti_merged\n",
    "#gtifile = f\"{root_dir}/{target}/{target}_GTI.fits\"\n",
    "#\n",
    "#skip_expo = [\"S011\",\"S012\",\"S013\"]\n",
    "for jl in evlists:\n",
    "    expo = jl.split('_')[3]\n",
    "    #if (expo in skip_expo):\n",
    "    #    print (f\"Skip exposure {expo}\")\n",
    "    #    logging.warning (f\"Skip exposure {expo}\")\n",
    "    #    continue\n",
    "    if ('_EMOS1' in jl):\n",
    "        if (gtifile == None):\n",
    "            expr = f\"#XMMEA_EM && gti(gti_mos1_{expo}.fits,TIME) && (PI>150)\"\n",
    "        else:\n",
    "            expr = f\"#XMMEA_EM && gti({gtifile},TIME) && (PI>150)\"\n",
    "        inst = 'mos1'\n",
    "    elif ('_EMOS2' in jl):\n",
    "        if (gtifile == None):\n",
    "            expr = f\"#XMMEA_EM && gti(gti_mos2_{expo}.fits,TIME) && (PI>150)\"\n",
    "        else:\n",
    "            expr = f\"#XMMEA_EM && gti({gtifile},TIME) && (PI>150)\"\n",
    "        inst = 'mos2'\n",
    "    elif ('_EPN' in jl):\n",
    "        if (gtifile == None):\n",
    "            expr = f\"#XMMEA_EP && gti(gti_pn_{expo}.fits,TIME) && (PI>150)\"\n",
    "        else:\n",
    "            expr = f\"#XMMEA_EP && gti({gtifile},TIME) && (PI>150)\"\n",
    "        inst = 'pn'\n",
    "    else:\n",
    "        raise Exception(f'Cannot identify the instrument in {jl}')\n",
    "    #\n",
    "    ev_command = f'evselect table={jl} withfilteredset=Y filteredset={inst}_evlist_clean.fits' +  \\\n",
    "        f' destruct=Y keepfilteroutput=T expression=\\'{expr}\\''\n",
    "    #\n",
    "    print (f\"Filtering {inst} with GTI\")\n",
    "    status = run_command(ev_command)\n",
    "    if (status != 0):\n",
    "        print (f\"Command \\\"{ev_command}\\\" failed.\")\n",
    "        raise Exception\n",
    "#"
   ]
  },
  {
   "cell_type": "markdown",
   "metadata": {},
   "source": [
    "## Generating images\n",
    "\n",
    "Once we have the clean event lists we can use them to generate images in user-provided energy ranges. There is a large flexibility in the choices for the event selection (patterns, flags etc) and the output image properties, e.g. the pixel size. "
   ]
  },
  {
   "cell_type": "code",
   "execution_count": 56,
   "metadata": {},
   "outputs": [
    {
     "name": "stdout",
     "output_type": "stream",
     "text": [
      "*** Generating images in band [500,7000] eV\n"
     ]
    },
    {
     "name": "stderr",
     "output_type": "stream",
     "text": [
      "Execution of evselect table=mos1_evlist_clean.fits xcolumn=X ycolumn=Y imagebinning=binSize ximagebinsize=80 yimagebinsize=80 expression='PI in [500:7000] &&  #XMMEA_EM && PATTERN in [0:12]' withimageset=true imageset=mos1_image_500_7000.fits returned 0\n",
      "Execution of evselect table=mos2_evlist_clean.fits xcolumn=X ycolumn=Y imagebinning=binSize ximagebinsize=80 yimagebinsize=80 expression='PI in [500:7000] &&  #XMMEA_EM && PATTERN in [0:12]' withimageset=true imageset=mos2_image_500_7000.fits returned 0\n",
      "Execution of evselect table=pn_evlist_clean.fits xcolumn=X ycolumn=Y imagebinning=binSize ximagebinsize=80 yimagebinsize=80 expression='PI in [500:7000] &&  FLAG==0 && PATTERN in [0:4]' withimageset=true imageset=pn_image_500_7000.fits returned 0\n"
     ]
    }
   ],
   "source": [
    "#**Step 5:** Generate images in user-selected energy range\n",
    "pi0 = 500\n",
    "pi1 = 7000\n",
    "# image binning, 80 means 4\" pixel\n",
    "bin_size = 80\n",
    "#\n",
    "print (f\"*** Generating images in band [{pi0},{pi1}] eV\")\n",
    "for inst in ['mos1','mos2','pn']:\n",
    "    evlist = f'{inst}_evlist_clean.fits'\n",
    "    if (not os.path.isfile(evlist)):\n",
    "        print(f\"Cannot find cleaned event lists for {inst}. Image will not be generated.\")\n",
    "        continue\n",
    "    image_name = f'{inst}_image_{pi0}_{pi1}.fits'\n",
    "    #\n",
    "    if ('mos' in inst):\n",
    "        expr = f'PI in [{pi0}:{pi1}] &&  #XMMEA_EM && PATTERN in [0:12]'\n",
    "    else:\n",
    "        expr = f'PI in [{pi0}:{pi1}] &&  FLAG==0 && PATTERN in [0:4]'\n",
    "    #    \n",
    "    ev_command = f'evselect table={evlist} xcolumn=X ycolumn=Y imagebinning=binSize' +  \\\n",
    "         f' ximagebinsize={bin_size} yimagebinsize={bin_size}' + \\\n",
    "         f' expression=\\'{expr}\\'' +  \\\n",
    "         f' withimageset=true imageset={image_name}'\n",
    "    status = run_command(ev_command)\n",
    "    if (status != 0):\n",
    "        raise Exception"
   ]
  },
  {
   "cell_type": "code",
   "execution_count": 57,
   "metadata": {},
   "outputs": [
    {
     "data": {
      "text/plain": [
       "1"
      ]
     },
     "execution_count": 57,
     "metadata": {},
     "output_type": "execute_result"
    }
   ],
   "source": [
    "#\n",
    "# Display the images using pyds9\n",
    "# \n",
    "import pyds9 \n",
    "\n",
    "d = pyds9.DS9('ds9run')\n",
    "\n",
    "imagefiles = glob.glob(\"*_image_*.fits\")\n",
    "d.set(\"height 600\")\n",
    "d.set(\"width 1800\")\n",
    "d.set(\"tile mode column\")\n",
    "#\n",
    "# region radius\n",
    "#\n",
    "radius = 0.5 # one arcmin\n",
    "#\n",
    "for k,j in enumerate(imagefiles):\n",
    "    hdu = fits.open(j)\n",
    "    ra_c = hdu[0].header['RA_OBJ']\n",
    "    dec_c = hdu[0].header['DEC_OBJ']\n",
    "    if (k > 0):\n",
    "        d.set(\"frame new\")\n",
    "        d.set(\"tile\")\n",
    "    d.set(f\"file {j}\")\n",
    "    #d.set(\"zoom to fit\")\n",
    "    d.set(\"zoom 1.5\")\n",
    "    d.set(\"scale asinh\")\n",
    "    d.set(\"cmap gray\")\n",
    "    d.set(f\"regions command \\\"fk5; circle ({ra_c},{dec_c},{radius}\\') # color=red\\\"\")\n",
    "d.set(\"match frames wcs\")\n",
    "#\n",
    "# allow to edit the regions (move, resize etc.)\n",
    "d.set(\"mode region\")"
   ]
  },
  {
   "cell_type": "code",
   "execution_count": 61,
   "metadata": {},
   "outputs": [
    {
     "name": "stdout",
     "output_type": "stream",
     "text": [
      "circle(25813.417,27938.997,600)\n"
     ]
    }
   ],
   "source": [
    "#\n",
    "# now print the regons in detector coorindates\n",
    "#\n",
    "d.set('regions system physical')\n",
    "reg = d.get('regions list close')\n",
    "for q in reg.split():\n",
    "    if ('circle' in q):\n",
    "        src_reg = q\n",
    "        break\n",
    "    #\n",
    "print (src_reg)"
   ]
  },
  {
   "cell_type": "markdown",
   "metadata": {},
   "source": [
    "## Generate exposure maps, count-rate and detector mask images(optional)\n",
    "\n",
    "This step is optional but it is needed in some cases, e.g. for combining MOS and pn images into a merged one you need the count-rate image."
   ]
  },
  {
   "cell_type": "code",
   "execution_count": 60,
   "metadata": {},
   "outputs": [
    {
     "name": "stdout",
     "output_type": "stream",
     "text": [
      "*** Generating exposure maps\n"
     ]
    },
    {
     "name": "stderr",
     "output_type": "stream",
     "text": [
      "Execution of eexpmap imageset=mos1_image_500_7000.fits attitudeset=0649_0150150301_AttHk.ds eventset=mos1_evlist_clean.fits expimageset=mos1_expimage_500_7000.fits pimin=500 pimax=7000 returned 0\n",
      "Execution of emask expimageset=mos1_expimage_500_7000.fits detmaskset=mos1_detmask_500_7000.fits threshold1=0.3 threshold2=0.5 returned 0\n",
      "Execution of eexpmap imageset=mos2_image_500_7000.fits attitudeset=0649_0150150301_AttHk.ds eventset=mos2_evlist_clean.fits expimageset=mos2_expimage_500_7000.fits pimin=500 pimax=7000 returned 0\n",
      "Execution of emask expimageset=mos2_expimage_500_7000.fits detmaskset=mos2_detmask_500_7000.fits threshold1=0.3 threshold2=0.5 returned 0\n",
      "Execution of eexpmap imageset=pn_image_500_7000.fits attitudeset=0649_0150150301_AttHk.ds eventset=pn_evlist_clean.fits expimageset=pn_expimage_500_7000.fits pimin=500 pimax=7000 returned 0\n",
      "Execution of emask expimageset=pn_expimage_500_7000.fits detmaskset=pn_detmask_500_7000.fits threshold1=0.3 threshold2=0.5 returned 0\n"
     ]
    }
   ],
   "source": [
    "# step 5b\n",
    "# generate the exposure image and the detector mask\n",
    "#\n",
    "cif_file = f\"{pps_dir}/ccf.cif\"\n",
    "if (not os.path.isfile(cif_file)):\n",
    "    print (f\"Cannot find CCF file {cif_file}. Please set it\")\n",
    "    logging.error (f\"Cannot find CCF file {cif_file}. Please set it\")\n",
    "    raise FileNotFoundError\n",
    "os.environ['SAS_CCF'] = cif_file\n",
    "#\n",
    "do_detmask = True\n",
    "do_crimage = True\n",
    "print (\"*** Generating exposure maps\")\n",
    "#\n",
    "# need the attitude file\n",
    "atthk = glob.glob(\"*_AttHk.ds\")\n",
    "if (not os.path.isfile(atthk[0])):\n",
    "    print(\"Cannot find Attitude HK file, cannot continue.\")\n",
    "    raise FileNotFoundError\n",
    "#\n",
    "for inst in ['mos1','mos2','pn']:\n",
    "    evlist = f'{inst}_evlist_clean.fits'\n",
    "    image_name = f'{inst}_image_{pi0}_{pi1}.fits'\n",
    "    if (not os.path.isfile(image_name)):\n",
    "        print(\"Cannot find image {image_name}, cannot produce exposure image and detector mask.\")\n",
    "        continue\n",
    "    #\n",
    "    expfile = f\"{inst}_expimage_{pi0}_{pi1}.fits\"\n",
    "    xcommand = f'eexpmap imageset={image_name} attitudeset={atthk[0]}' + \\\n",
    "    f' eventset={evlist} expimageset={expfile} pimin={pi0} pimax={pi1}'\n",
    "    status = run_command(xcommand)\n",
    "    if (status != 0):\n",
    "        raise Exception\n",
    "    #\n",
    "    # now the detector map\n",
    "    #\n",
    "    if (do_detmask):\n",
    "        detfile = f\"{inst}_detmask_{pi0}_{pi1}.fits\"\n",
    "        xcommand = f'emask expimageset={expfile} detmaskset={detfile}' + \\\n",
    "        ' threshold1=0.3 threshold2=0.5'\n",
    "        status = run_command(xcommand)\n",
    "        if (status != 0):\n",
    "            raise Exception\n",
    "    #\n",
    "    # now the count-rate image\n",
    "    #\n",
    "    if (do_crimage):\n",
    "        crfile = f\"{inst}_crimage_{pi0}_{pi1}.fits\"\n",
    "        hdu0 = fits.open(image_name)\n",
    "        hdu1 = fits.open(expfile)\n",
    "        # avoid division by zero \n",
    "        crdata = np.divide(hdu0[0].data,hdu1[0].data,where=(hdu1[0].data > 0.0))\n",
    "        # the count-rate image will have the same header as the original image\n",
    "        hdu0[0].data = crdata\n",
    "        hdu0.writeto(crfile)\n",
    "        hdu1.close()\n",
    "        hdu0.close()\n",
    "#"
   ]
  },
  {
   "cell_type": "markdown",
   "metadata": {},
   "source": [
    "## Instrument specific part, only processing EPIC-pn\n",
    "\n",
    "### Source spectrum extraction\n"
   ]
  },
  {
   "cell_type": "code",
   "execution_count": 62,
   "metadata": {},
   "outputs": [
    {
     "name": "stdout",
     "output_type": "stream",
     "text": [
      "circle(25813.417,27938.997,600)\n"
     ]
    },
    {
     "name": "stderr",
     "output_type": "stream",
     "text": [
      "Execution of evselect table=pn_evlist_clean.fits withspectrumset=yes spectrumset=PuppisA_0150150301_pn_spectrum_src.fits energycolumn=PI spectralbinsize=5 withspecranges=yes specchannelmin=0 specchannelmax=20479 expression='(FLAG==0) && (PATTERN<=4) && ((X,Y) IN circle(25813.417,27938.997,600))' returned 0\n"
     ]
    },
    {
     "name": "stdout",
     "output_type": "stream",
     "text": [
      "*** Backscale the source spectrum\n"
     ]
    },
    {
     "name": "stderr",
     "output_type": "stream",
     "text": [
      "Execution of backscale spectrumset=PuppisA_0150150301_pn_spectrum_src.fits badpixlocation=pn_evlist_clean.fits returned 0\n"
     ]
    }
   ],
   "source": [
    "#**Step 6:** Generate a spectrum from a user provided region file. This also runs `backscale` on the source spectrum.\n",
    "#\n",
    "# this is per instrument and we only process PN at this stage.\n",
    "#\n",
    "inst = \"pn\"\n",
    "#regfile = f\"{pps_dir}/../../{target}_{obsid}_region.reg\"\n",
    "#if (not os.path.isfile(regfile)):\n",
    "#    print (f\"Cannot find region file {regfile}. Cannot continue.\")\n",
    "#    logging.error (f\"Cannot find region file {regfile}. Cannot continue.\")\n",
    "#    raise FileNotFoundError\n",
    "##\n",
    "#with open(regfile) as reg:\n",
    "#    reg_line = reg.readline()\n",
    "#src_reg = reg_line.strip().split()[0]\n",
    "#\n",
    "print (src_reg)\n",
    "#\n",
    "evlist = f'{inst}_evlist_clean.fits'\n",
    "spec_name = f'{target}_{obsid}_{inst}_spectrum_src.fits'\n",
    "#\n",
    "if ('pn' in inst):\n",
    "    spec_chan_max = 20479\n",
    "    expr1 = \"(FLAG==0) && (PATTERN<=4)\"\n",
    "else:\n",
    "    spec_chan_max = 11999\n",
    "    expr1 = \"#XMMEA_EM && (PATTERN<=12)\"\n",
    "#\n",
    "ev_command = f\"evselect table={evlist} withspectrumset=yes spectrumset={spec_name}\" +  \\\n",
    "f\" energycolumn=PI spectralbinsize=5 withspecranges=yes specchannelmin=0 specchannelmax={spec_chan_max}\" +  \\\n",
    "f\" expression='{expr1} && ((X,Y) IN {src_reg})'\"\n",
    "status = run_command(ev_command)\n",
    "if (status != 0):\n",
    "    raise Exception\n",
    "#\n",
    "# Now backscale the source spectrum\n",
    "#\n",
    "print (\"*** Backscale the source spectrum\")\n",
    "xcommand = f\"backscale spectrumset={spec_name} badpixlocation={evlist}\"\n",
    "status = run_command(xcommand)\n",
    "if (status != 0):\n",
    "    raise Exception"
   ]
  },
  {
   "cell_type": "markdown",
   "metadata": {},
   "source": [
    "### Background spectrum extraction (optional)"
   ]
  },
  {
   "cell_type": "code",
   "execution_count": null,
   "metadata": {},
   "outputs": [],
   "source": [
    "#**Step 6b:** Generate the background spectrum from a user provided region file. This also runs `backscale` on the source spectrum.\n",
    "#\n",
    "# this is per instrument and we only process PN at this stage.\n",
    "#\n",
    "#inst = \"pn\"\n",
    "#regfile = f\"{pps_dir}/{target}_{obsid}_bkg_region.reg\"\n",
    "#with open(regfile,'r') as reg:\n",
    "#    reg_line = reg.readline()\n",
    "#src_reg = reg_line.strip().split()[0]\n",
    "#\n",
    "print (bkg_reg)\n",
    "#\n",
    "evlist = f'{inst}_evlist_clean.fits'\n",
    "spec_name = f'{target}_{obsid}_{inst}_spectrum_bkg.fits'\n",
    "#\n",
    "if ('pn' in inst):\n",
    "    spec_chan_max = 20479\n",
    "    expr1 = \"(FLAG==0) && (PATTERN<=4)\"\n",
    "else:\n",
    "    spec_chan_max = 11999\n",
    "    expr1 = \"#XMMEA_EM && (PATTERN<=12)\"\n",
    "#\n",
    "ev_command = f\"evselect table={evlist} withspectrumset=yes spectrumset={spec_name}\" +  \\\n",
    "f\" energycolumn=PI spectralbinsize=5 withspecranges=yes specchannelmin=0 specchannelmax={spec_chan_max}\" +  \\\n",
    "f\" expression='{expr1} && ((X,Y) IN {bkg_reg})'\"\n",
    "status = run_command(ev_command)\n",
    "if (status != 0):\n",
    "    raise Exception\n",
    "#\n",
    "# Now backscale the source spectrum\n",
    "#\n",
    "print (\"*** Backscale the source spectrum\")\n",
    "xcommand = f\"backscale spectrumset={spec_name} badpixlocation={evlist}\"\n",
    "status = run_command(xcommand)\n",
    "if (status != 0):\n",
    "    raise Exception"
   ]
  },
  {
   "cell_type": "code",
   "execution_count": 85,
   "metadata": {},
   "outputs": [
    {
     "data": {
      "image/png": "[encoded data removed]",
      "text/plain": [
       "<Figure size 1080x360 with 1 Axes>"
      ]
     },
     "metadata": {
      "needs_background": "light"
     },
     "output_type": "display_data"
    }
   ],
   "source": [
    "#\n",
    "# display the spectrum\n",
    "#\n",
    "#fig, ax = plt.subplots(figsize=(15,10))\n",
    "hdu = fits.open(spec_name)\n",
    "qrev = hdu[0].header['REVOLUT']\n",
    "qsubmode = hdu[0].header['SUBMODE']\n",
    "qfilt = hdu[0].header['FILTER']\n",
    "plot_title = f\"Target: {target}, {qrev}_{obsid}, {qsubmode}, {qfilt}, {src_reg}\"\n",
    "#\n",
    "spec = hdu['SPECTRUM']\n",
    "binsize = spec.header['SPECDELT']\n",
    "x = spec.data['CHANNEL']*binsize/1000.0\n",
    "y = spec.data['COUNTS']\n",
    "xlims  = (0.5, 8.0)\n",
    "#\n",
    "fig = plt.figure(figsize=(15,5))\n",
    "ax = fig.subplots()\n",
    "ax.loglog(x,y)\n",
    "#ax.step(a[1][1:],a[0],color='red')\n",
    "#ax.step(x,y,color='red')\n",
    "ax.set_xlim(xlims)\n",
    "ax.set_xlabel(\"Energy (keV)\")\n",
    "ax.set_ylabel(\"Counts\")\n",
    "ax.set_title(plot_title)\n",
    "ax.grid()\n",
    "plt.savefig(f\"{pps_dir}/{target}_{obsid}_src.png\",dpi=100)\n",
    "plt.show()\n",
    "plt.close();"
   ]
  },
  {
   "cell_type": "code",
   "execution_count": null,
   "metadata": {},
   "outputs": [],
   "source": []
  },
  {
   "cell_type": "markdown",
   "metadata": {},
   "source": [
    "### Generate the RMF for the source spectrum"
   ]
  },
  {
   "cell_type": "code",
   "execution_count": 63,
   "metadata": {},
   "outputs": [
    {
     "name": "stdout",
     "output_type": "stream",
     "text": [
      "*** Running rmfgen spectrumset=PuppisA_0150150301_pn_spectrum_src.fits rmfset=PuppisA_0150150301_pn_spectrum_src.rmf\n"
     ]
    },
    {
     "name": "stderr",
     "output_type": "stream",
     "text": [
      "Execution of rmfgen spectrumset=PuppisA_0150150301_pn_spectrum_src.fits rmfset=PuppisA_0150150301_pn_spectrum_src.rmf returned 0\n"
     ]
    }
   ],
   "source": [
    "#**Step 7:** Generate an RMF file for the source spectrum\n",
    "evlist = f'{inst}_evlist_clean.fits'\n",
    "if (not os.path.isfile(evlist)):\n",
    "    print(\"Cannot find cleaned event lists\")\n",
    "    raise FileNotFoundError\n",
    "spec_name = f'{target}_{obsid}_{inst}_spectrum_src.fits'\n",
    "if (not os.path.isfile(spec_name)):\n",
    "    print (f\"Cannot find source spectrum {spec_name}\")\n",
    "    raise FileNotFoundError\n",
    "#\n",
    "rmfset = f'{target}_{obsid}_{inst}_spectrum_src.rmf'\n",
    "#\n",
    "xcommand = f\"rmfgen spectrumset={spec_name} rmfset={rmfset}\"\n",
    "print (f\"*** Running {xcommand}\")\n",
    "status = run_command(xcommand)\n",
    "if (status != 0):\n",
    "    raise Exception"
   ]
  },
  {
   "cell_type": "markdown",
   "metadata": {},
   "source": [
    "### Generate the ARF for the source extraction region\n",
    "\n",
    "There wil be two calls to `arfgen`: one with the currently best way to get the ARF for extended source, using `badpixmaptype=dataset detmaptype=dataset` where the dataset is the MOS1 count-rate image (i.e. no vignetting).\n",
    "\n",
    "The other call is with no bad pixel correction and flat detector map. The output ARF in ths case will have `test0` in the name."
   ]
  },
  {
   "cell_type": "code",
   "execution_count": 20,
   "metadata": {},
   "outputs": [
    {
     "name": "stdout",
     "output_type": "stream",
     "text": [
      "*** Running arfgen spectrumset=Coma_0300530101_pn_spectrum_src.fits arfset=Coma_0300530101_pn_spectrum_src.arf withrmfset=yes rmfset=Coma_0300530101_pn_spectrum_src.rmf badpixlocation=pn_evlist_clean.fits detmaptype=flat extendedsource=yes\n"
     ]
    },
    {
     "name": "stderr",
     "output_type": "stream",
     "text": [
      "Execution of arfgen spectrumset=Coma_0300530101_pn_spectrum_src.fits arfset=Coma_0300530101_pn_spectrum_src.arf withrmfset=yes rmfset=Coma_0300530101_pn_spectrum_src.rmf badpixlocation=pn_evlist_clean.fits detmaptype=flat extendedsource=yes returned 0\n"
     ]
    }
   ],
   "source": [
    "#**Step 8:** Generate the ARF\n",
    "arfset = f'{target}_{obsid}_{inst}_spectrum_src.arf'\n",
    "# flat detector map (not good for extended sources), for SAS before 17 yo uhave to use this\n",
    "xcommand = f\"arfgen spectrumset={spec_name} arfset={arfset} withrmfset=yes rmfset={rmfset}\" + \\\n",
    "    f\" badpixlocation={evlist} detmaptype=flat extendedsource=yes\"\n",
    "#\n",
    "# MOS1 detector map (better for extended sources)\n",
    "#mos1file = \"mos1_crimage_500_7000.fits\"\n",
    "# better to have the MOS1 count-rate image, so that the vignetting is not applied twice!\n",
    "#\n",
    "#xcommand = f\"arfgen spectrumset={spec_name} arfset={arfset} withrmfset=yes rmfset={rmfset}\" + \\\n",
    "#    f\"  withbadpixcorr=yes badpixlocation={evlist} badpixmaptype=dataset detmaptype=dataset detmaparray={mos1file} extendedsource=yes\"\n",
    "print (f\"*** Running {xcommand}\")\n",
    "status = run_command(xcommand)\n",
    "if (status != 0):\n",
    "    raise Exception"
   ]
  },
  {
   "cell_type": "code",
   "execution_count": null,
   "metadata": {},
   "outputs": [],
   "source": [
    "# now the ARF with bad pixel correction and flat det\n",
    "arfset = f'{target}_{obsid}_{inst}_test1.arf'\n",
    "xcommand = f\"arfgen spectrumset={spec_name} arfset={arfset} withrmfset=yes rmfset={rmfset}\" + \\\n",
    "    f\"  withbadpixcorr=yes extendedsource=yes\"\n",
    "print (f\"*** Running {xcommand}\")\n",
    "status = run_command(xcommand)\n",
    "if (status != 0):\n",
    "    raise Exception"
   ]
  },
  {
   "cell_type": "code",
   "execution_count": null,
   "metadata": {},
   "outputs": [],
   "source": [
    "# now the ARF with no bad pixel correction\n",
    "arfset = f'{target}_{obsid}_{inst}_test0.arf'\n",
    "xcommand = f\"arfgen spectrumset={spec_name} arfset={arfset} withrmfset=yes rmfset={rmfset}\" + \\\n",
    "    f\"  withbadpixcorr=no extendedsource=yes\"\n",
    "print (f\"*** Running {xcommand}\")\n",
    "status = run_command(xcommand)\n",
    "if (status != 0):\n",
    "    raise Exception"
   ]
  },
  {
   "cell_type": "code",
   "execution_count": null,
   "metadata": {},
   "outputs": [],
   "source": [
    "# now the ARF with badpixel correction using a symtetic cluster image (generated with simulate_xmm_clusters)\n",
    "#\n",
    "arfset = f'{target}_{obsid}_{inst}_test2.arf'\n",
    "simimage = 'pn_image_500_7000_sim_nodet.fits'\n",
    "if (not os.path.isfile(simimage)):\n",
    "    print (f\"No detmaparray file {simimage} found. Please correct it.\")\n",
    "    logging.error(f\"No detmaparray file {simimage} found. Please correct it.\")\n",
    "    raise FileNotFoundError\n",
    "xcommand = f\"arfgen spectrumset={spec_name} arfset={arfset} withrmfset=yes rmfset={rmfset}\" + \\\n",
    "    f\"  withbadpixcorr=yes badpixlocation={evlist} badpixmaptype=dataset detmaptype=dataset detmaparray={simimage} extendedsource=yes\"\n",
    "print (f\"*** Running {xcommand}\")\n",
    "status = run_command(xcommand)\n",
    "if (status != 0):\n",
    "    raise Exception"
   ]
  },
  {
   "cell_type": "code",
   "execution_count": null,
   "metadata": {},
   "outputs": [],
   "source": [
    "#\n",
    "# do the 3 ratios of the ARFs\n",
    "#\n",
    "# 0 is baseline with no badpixcorr\n",
    "arf0 = fits.open(f'{target}_{obsid}_{inst}_test0.arf') \n",
    "# 1 is with MOS1 count-rate image\n",
    "arf1 = fits.open(f'{target}_{obsid}_{inst}_spectrum_src.arf')\n",
    "#arf1 = fits.open(f'{target}_{obsid}_{inst}_test1.arf')\n",
    "# 2 is with syntetic image\n",
    "#arf2 = fits.open(f'{target}_{obsid}_{inst}_test2.arf')\n",
    "#\n",
    "x0 = arf0['SPECRESP'].data[\"ENERG_LO\"]\n",
    "ix = np.where((x0 >= 0.5) & (x0 <= 2.0))[0]\n",
    "#\n",
    "y0 = arf0['SPECRESP'].data[\"SPECRESP\"]\n",
    "y1 = arf1['SPECRESP'].data[\"SPECRESP\"]\n",
    "#y2 = arf2['SPECRESP'].data[\"SPECRESP\"]\n",
    "#\n",
    "ratio10 = y1/y0\n",
    "ratio20 = y2/y0\n",
    "print (f\"{target}: Mean ratio 1/0 (MOS1CR): {np.mean(ratio10[ix]):.3f}, 2/0 (synthetic): {np.mean(ratio20[ix]):.3f}\")\n",
    "logging.info (f\"{target}: Mean ratio 1/0 (MOS1CR): {np.mean(ratio10[ix]):.3f}, 2/0 (synthetic): {np.mean(ratio20[ix]):.3f}\")\n",
    "#\n",
    "# parse the logfile for the geometric area in bad pixels:\n",
    "with open(f'{pps_dir}/{target}_{obsid}_{pps}.log','r') as xlog:\n",
    "    lines = xlog.readlines()\n",
    "for iline in lines:\n",
    "    if (\"chip gap fraction:\" in iline):\n",
    "        print (iline)"
   ]
  },
  {
   "cell_type": "code",
   "execution_count": null,
   "metadata": {},
   "outputs": [],
   "source": [
    "print (\"*** All done.\")\n",
    "logging.info (\"*** All done.\")"
   ]
  },
  {
   "cell_type": "code",
   "execution_count": null,
   "metadata": {},
   "outputs": [],
   "source": [
    "1-np.mean(ratio10[ix])"
   ]
  },
  {
   "cell_type": "code",
   "execution_count": null,
   "metadata": {},
   "outputs": [],
   "source": []
  }
 ],
 "metadata": {
  "kernelspec": {
   "display_name": "Python 3",
   "language": "python",
   "name": "python3"
  },
  "language_info": {
   "codemirror_mode": {
    "name": "ipython",
    "version": 3
   },
   "file_extension": ".py",
   "mimetype": "text/x-python",
   "name": "python",
   "nbconvert_exporter": "python",
   "pygments_lexer": "ipython3",
   "version": "3.6.7"
  }
 },
 "nbformat": 4,
 "nbformat_minor": 2
}
