{
 "cells": [
  {
   "cell_type": "markdown",
   "metadata": {},
   "source": [
    "# Processing thread for XMM-Newton EPIC observations\n",
    "\n",
    "## Step 01\n",
    "\n",
    "The first step does the following:\n",
    "\n",
    "1. Checks if XMM-SAS is available\n",
    "2. Sets the folders where the products will be downloaded and saved\n",
    "3. Downloads full ODF (tar file) from the XMM archive\n",
    "4. Untars the tar file and the internal .TAR file\n",
    "5. Runs the cifbuild to create the CCF file\n",
    "6. Runs odfingest"
   ]
  },
  {
   "cell_type": "code",
   "execution_count": 20,
   "metadata": {},
   "outputs": [],
   "source": [
    "#\n",
    "# imports\n",
    "#\n",
    "import os\n",
    "import tarfile\n",
    "import subprocess\n",
    "import sys\n",
    "import requests\n",
    "import logging"
   ]
  },
  {
   "cell_type": "code",
   "execution_count": 21,
   "metadata": {},
   "outputs": [],
   "source": [
    "# function to run shell process\n",
    "# get the SAS version, will be used for the output folder \n",
    "def run_command(command):\n",
    "    try:\n",
    "        result = subprocess.run([command], shell=True,stdout=subprocess.PIPE,stderr=subprocess.STDOUT)\n",
    "        retcode = result.returncode\n",
    "        if retcode < 0:\n",
    "            print(\"Warning: \\\"{}\\\" was terminated by signal {} \\n {}\".format(command,-retcode,result.stdout.decode()))\n",
    "            logging.warning(\"\\\"{}\\\" was terminated by signal {} \\n {}\".format(command,-retcode,result.stdout.decode()))\n",
    "        else:\n",
    "            print(\"Info: \\\"{}\\\" returned {} \\n {}\".format(command,retcode,result.stdout.decode()))\n",
    "            logging.info(\"\\\"{}\\\" returned {} \\n {}\".format(command,retcode,result.stdout.decode()))\n",
    "    except OSError as e:\n",
    "        print(\"Execution of \\\"{}\\\" failed:\".format(command), e, file=sys.stderr)\n",
    "        logging.error(\"Execution of \\\"{}\\\" failed:\".format(command), e, file=sys.stderr)\n",
    "    return retcode"
   ]
  },
  {
   "cell_type": "code",
   "execution_count": 22,
   "metadata": {},
   "outputs": [],
   "source": [
    "#\n",
    "# the OBS_ID to process\n",
    "#\n",
    "#obsid = \"0721010501\"\n",
    "# PNLW with high background, rev 2524, mean_bkg=238 +/- 2869\n",
    "obsid = \"0721010401\"\n",
    "# PNLW with low background, rev 2522, mean_bkg=2.68 +/- 0.55"
   ]
  },
  {
   "cell_type": "code",
   "execution_count": 23,
   "metadata": {},
   "outputs": [
    {
     "name": "stdout",
     "output_type": "stream",
     "text": [
      "Info: \"sasversion -v\" returned 0 \n",
      " sasversion (sasversion-1.3) [xmmsas_20180620_1732-17.0.0]\n",
      "\n"
     ]
    }
   ],
   "source": [
    "# environment\n",
    "os.environ['SAS_CCFPATH'] = '/xdata/ccf/pub'\n",
    "# check if XMM-SAS works\n",
    "comm = \"sasversion -v\"\n",
    "status = run_command(comm)\n",
    "if (status != 0):\n",
    "    print (\"No XMM-SAS available to notebook! Please activate the XMM-SAS in console and then start notebook.\")\n",
    "    raise Exception\n",
    "#\n",
    "# some folders\n",
    "#\n",
    "home = os.path.expanduser('~')\n",
    "wdir = f\"{home}/IVAN/Cu-line\"\n",
    "if (not os.path.isdir(wdir)):\n",
    "    print (f\"The input working folder {wdir} does not exist.\")\n",
    "    raise FileNotFoundError\n",
    "# the output directory, all files wil lbe saved there\n",
    "outputDir = os.path.join(wdir,obsid)\n",
    "if (not os.path.isdir(outputDir)):\n",
    "    os.mkdir(outputDir)\n",
    "#\n",
    "logging.basicConfig(level=logging.DEBUG,\n",
    "                    format='%(asctime)s %(levelname)s %(message)s',\n",
    "                    filename=f'{wdir}/{obsid}_proc.log',\n",
    "                    filemode='w')"
   ]
  },
  {
   "cell_type": "code",
   "execution_count": 24,
   "metadata": {},
   "outputs": [
    {
     "name": "stdout",
     "output_type": "stream",
     "text": [
      "No ODF tar file for OBS_ID 0721010401, downloading from NXSA\n"
     ]
    }
   ],
   "source": [
    "#\n",
    "# The XMM archive access\n",
    "#\n",
    "url = f\"http://nxsa.esac.esa.int/nxsa-sl/servlet/data-action-aio?obsno={obsid}&level=ODF\"\n",
    "#\n",
    "#\n",
    "tarFile = f\"{outputDir}/{obsid}_ODF.tar\"\n",
    "#\n",
    "if (not os.path.isfile(tarFile)):\n",
    "    print (f\"No ODF tar file for OBS_ID {obsid}, downloading from NXSA\")\n",
    "    logging.info (\"No ODF tar file for OBS_ID {obsid}, downloading from NXSA\")\n",
    "    with requests.post(url) as r:\n",
    "    #with requests.post(url, auth=('ivaltch', 'XXXX')) as r:\n",
    "        r.raise_for_status() # ensure we notice bad responses\n",
    "        with open(tarFile,\"wb\") as tmp:\n",
    "            tmp.write(r.content)\n",
    "else:\n",
    "    print (f\"ODF tar file {tarFile} found, will skip downloading it again\")\n",
    "    logging.info (f\"ODF tar file {tarFile} found, will skip downloading it again\")\n",
    "#"
   ]
  },
  {
   "cell_type": "code",
   "execution_count": 25,
   "metadata": {},
   "outputs": [
    {
     "name": "stdout",
     "output_type": "stream",
     "text": [
      "Extracting 2522_0721010401_SCX00000ATS.FIT\n",
      "Extracting 2522_0721010401_SCX00000TCS.FIT\n",
      "Extracting 2522_0721010401_SCX00000RAS.ASC\n",
      "Extracting 2522_0721010401_SCX00000ROS.ASC\n",
      "Extracting 2522_0721010401_SCX00000SUM.ASC\n",
      "Extracting MANIFEST.564376\n",
      "Extracting 2522_0721010401.TAR\n",
      "Extracting the content of 2522_0721010401.TAR\n",
      "Info: \"tar xf 2522_0721010401.TAR\" returned 0 \n",
      " \n"
     ]
    }
   ],
   "source": [
    "foundTar = False\n",
    "os.chdir(outputDir)\n",
    "#\n",
    "# untar the file\n",
    "#\n",
    "with tarfile.open(tarFile,'r') as tar:\n",
    "    for member in tar.getmembers():\n",
    "        # check member is already in folder\n",
    "        if (not os.path.isfile(f\"{outputDir}/{member.name}\")):\n",
    "            print (f\"Extracting {member.name}\")\n",
    "            f=tar.extract(member,path=outputDir)\n",
    "        else:\n",
    "            print (f\"File {member.name} already extracted, skipping\")\n",
    "        if (\"TAR\" in member.name):\n",
    "            foundTar = True\n",
    "            print (f\"Extracting the content of {member.name}\")\n",
    "            # will use the Linux tar, the one from python is problematic\n",
    "            tarcomm = f\"tar xf {member.name}\"\n",
    "            status = run_command(tarcomm)\n",
    "            if (status != 0):\n",
    "                raise Exception\n",
    "            # remove the TAR file, we already extracted its content\n",
    "            os.remove(f\"{outputDir}/{member.name}\")\n",
    "if (not foundTar):\n",
    "    raise FileNotFoundError\n",
    "    logging.error(\"TAR file not found\")\n"
   ]
  },
  {
   "cell_type": "code",
   "execution_count": 26,
   "metadata": {},
   "outputs": [
    {
     "name": "stdout",
     "output_type": "stream",
     "text": [
      "*** CIFBUILD\n",
      "Info: \"cifbuild\" returned 0 \n",
      " cifbuild:- Executing (routine): cifbuild calindexset=ccf.cif withccfpath=no usecanonicalname=no ccfpath=. recurse=no fileglob=*.ccf|*.CCF fullpath=no withobservationdate=no observationdate=now analysisdate=now category=XMMCCF ignorecategory=no masterindex=no withmasterindexset=no masterindexset=ccf.mif append=no  -w 1 -V 4\n",
      "cifbuild:- cifbuild (cifbuild-4.9)  [xmmsas_20180620_1732-17.0.0] started:  2019-02-07T16:27:31.000\n",
      "cifbuild:- Will ask the analysis date to the OAL.\n",
      "cifbuild:- Using the ODF 2522_0721010401 found in /home/ivaltchanov/IVAN/Cu-line/0721010401\n",
      "cifbuild:- Observation date: 2013-09-15T18:30:00.000\n",
      "cifbuild:- Analysis date: 2019-02-07T16:27:31.000\n",
      "cifbuild:- cifbuild (cifbuild-4.9)  [xmmsas_20180620_1732-17.0.0] ended:    2019-02-07T16:27:44.000\n",
      "\n"
     ]
    }
   ],
   "source": [
    "#\n",
    "# now the SAS processing, must initialise HEADAS and XMMSAS before running the code!\n",
    "#\n",
    "odfdir = outputDir\n",
    "os.chdir(odfdir)\n",
    "os.environ[\"SAS_ODF\"] = odfdir\n",
    "ccffile = f\"{odfdir}/ccf.cif\"\n",
    "logging.info(f\"Set SAS_ODF to {odfdir}\")\n",
    "#\n",
    "# cifbuild\n",
    "print (\"*** CIFBUILD\")\n",
    "comm = \"cifbuild\"\n",
    "status = run_command(comm)\n",
    "if (status != 0):\n",
    "    raise Exception\n",
    "#\n",
    "# add the CCF file to environment\n",
    "#\n",
    "os.environ[\"SAS_CCF\"] = ccffile\n",
    "logging.info(f\"Set SAS_CCF to {ccffile}\")"
   ]
  },
  {
   "cell_type": "code",
   "execution_count": 27,
   "metadata": {},
   "outputs": [
    {
     "name": "stdout",
     "output_type": "stream",
     "text": [
      "*** ODFINGEST\n",
      "Info: \"odfingest -V 1\" returned 0 \n",
      " odfingest:- Executing (routine): odfingest odfdir=. withodfdir=no outdir=. summaryfile=0000_0000000000_SCX000SUM.SAS usecanonicalname=yes writepath=yes findinstrumentmodes=yes usehousekeeping=yes oalcheck=no  -w 1 -V 1\n",
      "** odfingest: warning (TranslationNotAvailable), No look up possible [EPN Filter]It is not possible to translate FILTER. Its raw value is -nan\n",
      "** odfingest: warning (HousekeepingParameterMissing), PN/U002 NoAvailableRows: No rows match the expression (F1119 == \"STOPPED\") && (#ROW >= 15090 && #ROW <= 15089) in /home/ivaltchanov/IVAN/Cu-line/0721010401/2522_0721010401_PNX00000PMH.FIT:PNPMH1\n",
      "** odfingest: warning (SummaryOfWarnings), \n",
      "   warning HousekeepingParameterMissing silently occurred 7 times\n",
      "   warning TranslationNotAvailable silently occurred 7 times\n",
      "\n",
      "*** all done for 0721010401 and step #01\n"
     ]
    }
   ],
   "source": [
    "print (\"*** ODFINGEST\")\n",
    "comm = \"odfingest -V 1\"\n",
    "status = run_command(comm)\n",
    "if (status != 0):\n",
    "    raise Exception\n",
    "print (f\"*** all done for {obsid} and step #01\")\n",
    "logging.info (f\"*** all done for {obsid} and step #01\")"
   ]
  }
 ],
 "metadata": {
  "kernelspec": {
   "display_name": "Python 3",
   "language": "python",
   "name": "python3"
  },
  "language_info": {
   "codemirror_mode": {
    "name": "ipython",
    "version": 3
   },
   "file_extension": ".py",
   "mimetype": "text/x-python",
   "name": "python",
   "nbconvert_exporter": "python",
   "pygments_lexer": "ipython3",
   "version": "3.7.1"
  }
 },
 "nbformat": 4,
 "nbformat_minor": 2
}
