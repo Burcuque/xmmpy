{
 "cells": [
  {
   "cell_type": "markdown",
   "metadata": {},
   "source": [
    "# Processing steps for SNR observed in PN Large Window mode"
   ]
  },
  {
   "cell_type": "code",
   "execution_count": 1,
   "metadata": {},
   "outputs": [],
   "source": [
    "import os\n",
    "import subprocess\n",
    "import sys\n",
    "import glob\n",
    "import logging\n",
    "\n",
    "import numpy as np\n",
    "\n",
    "from astropy.io import fits\n",
    "from astropy.stats import mad_std\n",
    "\n",
    "%matplotlib inline\n",
    "import matplotlib.pylab as plt"
   ]
  },
  {
   "cell_type": "code",
   "execution_count": 2,
   "metadata": {},
   "outputs": [],
   "source": [
    "def run_command(command,verbose=True):\n",
    "    #\n",
    "    # Execute a shell command with the stdout and stderr being redirected to a log file \n",
    "    #\n",
    "    try:\n",
    "        result = subprocess.run(command, shell=True,stdout=subprocess.PIPE,stderr=subprocess.STDOUT)\n",
    "        retcode=result.returncode\n",
    "        if retcode < 0:\n",
    "            if (verbose):\n",
    "                print(f\"Execution of {command} was terminated by signal\", -retcode, file=sys.stderr)\n",
    "            logging.warning(\"Execution of {} was terminated by signal: {} \\n {}\".format(command,-retcode,result.stdout.decode()))\n",
    "        else:\n",
    "            if (verbose):\n",
    "                print(f\"Execution of {command} returned\", retcode, file=sys.stderr)\n",
    "            logging.info(\"Execution of {} returned {}, \\n {}\".format(command,retcode,result.stdout.decode()))\n",
    "    except OSError as e:\n",
    "        print(f\"Execution of {command} failed:\", e, file=sys.stderr)\n",
    "        logging.error(\"Execution of {} failed: {}\".format(command,e))\n",
    "    return retcode"
   ]
  },
  {
   "cell_type": "markdown",
   "metadata": {},
   "source": [
    "## Setting up XMM-SAS\n",
    "\n",
    "For some reason, running the ipython magic command `!. /home/xcaldata/setsas_161.sh`, does not propagate to the session, i.e. although it prints out that SAS is set up, it is not available after the execution of the shell command. So, I have to do it manually, by setting some environment variables.\n",
    "\n",
    "The last line in the next cell, `!sasversion` should work."
   ]
  },
  {
   "cell_type": "code",
   "execution_count": 3,
   "metadata": {},
   "outputs": [
    {
     "name": "stdout",
     "output_type": "stream",
     "text": [
      "sasversion:- Executing (routine): sasversion  -w 1 -V 4\n",
      "sasversion:- sasversion (sasversion-1.3)  [xmmsas_20190531_1155-18.0.0] started:  2019-07-09T08:55:09.000\n",
      "sasversion:- XMM-Newton SAS release and build information:\n",
      "\n",
      "SAS release: xmmsas_20190531_1155-18.0.0\n",
      "Compiled on: Sun Jun  2 14:11:08 CEST 2019\n",
      "Compiled by: sasbuild@sasbld01n.net4.lan\n",
      "Platform   : RHEL6.8 64\n",
      "\n",
      "SAS-related environment variables that are set:\n",
      "\n",
      "SAS_DIR = /sas/Linux/RHEL_6.9Workstation/64/sas18_0_0\n",
      "SAS_PATH = /sas/Linux/RHEL_6.9Workstation/64/sas18_0_0\n",
      "SAS_CCFPATH = /xdata/ccf/pub\n",
      "\n",
      "sasversion:- sasversion (sasversion-1.3)  [xmmsas_20190531_1155-18.0.0] ended:    2019-07-09T08:55:09.000\n"
     ]
    }
   ],
   "source": [
    "#\n",
    "# set up XMM-SAS\n",
    "#\n",
    "# the current one is 18.0 ==> /home/xcaldata/setsas_180.sh\n",
    "# tests with XMM-SAS 16.1 for the arfgen\n",
    "#!. /home/xcaldata/setsas_161.sh\n",
    "#\n",
    "sas_dir = \"/sas/Linux/RHEL_6.9Workstation/64/sas18_0_0\"\n",
    "#sas_dir = \"/sas/Linux/RHEL_6.9Workstation/64/sas16_1_0\"\n",
    "os.environ[\"SAS_DIR\"]= sas_dir\n",
    "os.environ[\"SAS_PATH\"]=os.environ[\"SAS_DIR\"]\n",
    "os.environ[\"SAS_VERBOSITY\"]=\"4\"\n",
    "os.environ[\"SAS_SUPPRESS_WARNING\"]=\"1\"\n",
    "path = os.environ[\"PATH\"]\n",
    "os.environ[\"PATH\"] = f\"{sas_dir}/bin:{sas_dir}/binextra:{path}\"\n",
    "ld_path = os.environ[\"LD_LIBRARY_PATH\"]\n",
    "lib_path = f\"{sas_dir}/lib:{sas_dir}/libextra:{sas_dir}/libsys:{ld_path}\"\n",
    "os.environ[\"LD_LIBRARY_PATH\"] = lib_path\n",
    "#\n",
    "# check\n",
    "#print (\"PATH = \",os.environ[\"PATH\"])\n",
    "#print (\"LF_LIBRARY_PATH = \",os.environ[\"LD_LIBRARY_PATH\"])\n",
    "#for ikey in os.environ.keys():\n",
    "#    if ('SAS' in ikey):\n",
    "#        print (ikey,\" = \",os.environ[ikey])\n",
    "!sasversion"
   ]
  },
  {
   "cell_type": "markdown",
   "metadata": {},
   "source": [
    "## Processing of a target\n",
    "\n",
    "Next cell sets up the target name, the XMM `OBS_ID` and the different paths. I usually keep the following structure in the `root_dir`:\n",
    "```\n",
    "<target>\n",
    "   <OBS_ID 1>\n",
    "       <proc>\n",
    "   <OBS_ID 2>\n",
    "       <proc>\n",
    "   ...\n",
    "```\n",
    "where in folders `<OBS_ID>` I keep the ODF files and the CCF file. While in `<proc>` I keep the processing products, like event lists, images etc. The spectral extraction regions are also kept in `<proc>` folder.\n",
    "\n",
    "For processing with different versions of SAS or calibration, I use different names for the `<proc>` folders."
   ]
  },
  {
   "cell_type": "code",
   "execution_count": 4,
   "metadata": {},
   "outputs": [
    {
     "name": "stdout",
     "output_type": "stream",
     "text": [
      "Found ODF folder: /xdata/xcaldata/XMM/IVAN/PN_LW/sources/Kepler/0084100101.\n",
      "Will use /xdata/xcaldata/XMM/IVAN/PN_LW/sources/Kepler/0084100101/proc_18 for the event lists and the output products.\n",
      "Will use /xdata/xcaldata/XMM/IVAN/PN_LW/sources/Kepler/0084100101/proc_18/ccf.cif CCF file.\n"
     ]
    }
   ],
   "source": [
    "#\n",
    "# set up the paths, the target and the OBS_ID\n",
    "#\n",
    "root_dir = \"/xdata/xcaldata/XMM/IVAN/PN_LW/sources\"\n",
    "#root_dir = \"/lhome/ivaltchanov/XMM-clusters\"\n",
    "target=\"Kepler\"\n",
    "obsid=\"0084100101\"\n",
    "#target=\"CasA_S\"\n",
    "#obsid=\"0110010201\"\n",
    "#target=\"PuppisA\"\n",
    "#obsid=\"0150150301\"\n",
    "#target=\"A2029\"\n",
    "#obsid=\"0551780301\"\n",
    "#target=\"A3571\"\n",
    "#obsid=\"0086950201\"\n",
    "#target=\"Coma\"\n",
    "#obsid=\"0300530101\"\n",
    "\n",
    "# the output processing is in folder proc_161\n",
    "pps=\"proc_18\"\n",
    "odf_dir = f\"{root_dir}/{target}/{obsid}\"\n",
    "#\n",
    "if (not os.path.isdir(odf_dir)):\n",
    "    print (f\"{odf_dir} does not exist. Cannot continue.\")\n",
    "    raise FileNotFoundError\n",
    "else:\n",
    "    print (f\"Found ODF folder: {odf_dir}.\")\n",
    "#\n",
    "pps_dir = f\"{root_dir}/{target}/{obsid}/{pps}\"\n",
    "if (not os.path.isdir(pps_dir)):\n",
    "    print (f\"{pps_dir} does not exist. Cannot continue.\")\n",
    "    raise FileNotFoundError\n",
    "else:\n",
    "    print (f\"Will use {pps_dir} for the event lists and the output products.\")\n",
    "#\n",
    "ccf_file = f\"{pps_dir}/ccf.cif\"\n",
    "if (not os.path.isfile(ccf_file)):\n",
    "    print (f\"CCF file {ccf_file} not found. Cannot continue.\")\n",
    "    raise FileNotFoundError\n",
    "else:\n",
    "    print (f\"Will use {ccf_file} CCF file.\")\n",
    "\n",
    "os.environ['SAS_ODF'] = odf_dir\n",
    "os.environ['SAS_CCFPATH'] = '/ccf/pub'\n",
    "os.environ['SAS_CCF'] = f\"{pps_dir}/ccf.cif\"\n",
    "#\n",
    "# logging to file\n",
    "#\n",
    "logfile_name = f'{pps_dir}/{target}_{obsid}_{pps}_specext.log'\n",
    "logging.basicConfig(level=logging.DEBUG,\n",
    "                    format='%(asctime)s %(levelname)s %(message)s',\n",
    "                    filename=logfile_name,\n",
    "                    filemode='w')\n",
    "os.chdir(pps_dir)"
   ]
  },
  {
   "cell_type": "code",
   "execution_count": 5,
   "metadata": {},
   "outputs": [
    {
     "name": "stdout",
     "output_type": "stream",
     "text": [
      "Found XMM-SAS.\n"
     ]
    },
    {
     "name": "stderr",
     "output_type": "stream",
     "text": [
      "Execution of sasversion returned 0\n"
     ]
    }
   ],
   "source": [
    "#\n",
    "# check for consistency the SAS version\n",
    "#\n",
    "status = run_command('sasversion')\n",
    "if (status != 0):\n",
    "    print ('XMM-SAS is not available. Cannot continue.')\n",
    "    raise Exception\n",
    "else:\n",
    "    print (\"Found XMM-SAS.\")\n",
    "#"
   ]
  },
  {
   "cell_type": "markdown",
   "metadata": {},
   "source": [
    "### Region files\n",
    "\n",
    "The region in DETXY will be stored in a dict with the instrument"
   ]
  },
  {
   "cell_type": "code",
   "execution_count": 19,
   "metadata": {},
   "outputs": [
    {
     "name": "stdout",
     "output_type": "stream",
     "text": [
      "mos1 circle(25012.415,23803.56,1200)\n",
      "\n",
      "mos2 circle(25012.415,23803.56,1200)\n",
      "\n",
      "pn circle(25012.415,23803.56,1200)\n",
      "\n"
     ]
    }
   ],
   "source": [
    "src_reg = {}\n",
    "for inst in [\"mos1\",\"mos2\",\"pn\"]:\n",
    "    src_file = f'kepler_{inst}_polygon_detxy_test3.reg'\n",
    "    if (not os.path.isfile(src_file)):\n",
    "        print (f\"Cannot find region file {src_file}\")\n",
    "        raise FileNotFoundError\n",
    "    #\n",
    "    with open(src_file,'r') as reg:\n",
    "        lines = reg.readlines()\n",
    "    for xline in lines:\n",
    "        if ('circle' in xline):\n",
    "        #if ('polygon' in xline):\n",
    "            src_reg[inst] = xline\n",
    "            break\n",
    "    print (inst,src_reg[inst])"
   ]
  },
  {
   "cell_type": "markdown",
   "metadata": {},
   "source": [
    "## Extract filtered event lists for the region\n",
    "\n",
    "This filtered event list will be used to assess the pile up"
   ]
  },
  {
   "cell_type": "code",
   "execution_count": 20,
   "metadata": {},
   "outputs": [
    {
     "name": "stderr",
     "output_type": "stream",
     "text": [
      "Execution of evselect table=mos1_evlist_clean.fits withfilteredset=yes filteredset=Kepler_0084100101_mos1_pileup_test3.fits keepfilteroutput=yes expression='((X,Y) IN circle(25012.415,23803.56,1200)\n",
      ")' returned 0\n",
      "Execution of evselect table=mos2_evlist_clean.fits withfilteredset=yes filteredset=Kepler_0084100101_mos2_pileup_test3.fits keepfilteroutput=yes expression='((X,Y) IN circle(25012.415,23803.56,1200)\n",
      ")' returned 0\n",
      "Execution of evselect table=pn_evlist_clean.fits withfilteredset=yes filteredset=Kepler_0084100101_pn_pileup_test3.fits keepfilteroutput=yes expression='((X,Y) IN circle(25012.415,23803.56,1200)\n",
      ")' returned 0\n"
     ]
    }
   ],
   "source": [
    "#\n",
    "for inst in [\"mos1\",\"mos2\",\"pn\"]:\n",
    "    evlist = f'{inst}_evlist_clean.fits'\n",
    "    out_name = f'{target}_{obsid}_{inst}_pileup_test3.fits'\n",
    "    ev_command = f\"evselect table={evlist} withfilteredset=yes filteredset={out_name}\" + \\\n",
    "    f\" keepfilteroutput=yes expression='((X,Y) IN {src_reg[inst]})'\"\n",
    "    status = run_command(ev_command)\n",
    "    if (status != 0):\n",
    "        raise Exception\n",
    "#"
   ]
  },
  {
   "cell_type": "markdown",
   "metadata": {},
   "source": [
    "## Extract source spectrum in user provided region\n"
   ]
  },
  {
   "cell_type": "code",
   "execution_count": 11,
   "metadata": {},
   "outputs": [
    {
     "name": "stderr",
     "output_type": "stream",
     "text": [
      "Execution of evselect table=mos1_evlist_clean.fits withspectrumset=yes spectrumset=Kepler_0084100101_mos1_spectrum_src_user.fits energycolumn=PI spectralbinsize=5 withspecranges=yes specchannelmin=0 specchannelmax=11999 expression='#XMMEA_EM && (PATTERN<=12) && ((X,Y) IN polygon(23258.483,25164.846,23779.635,25741.037,24507.264,26071.353,26193.83,26083.972,27085.513,24451.599,26509.326,24163.503,25768.352,24972.871,24615.942,25055.159,23491.181,24286.934)\n",
      ")' returned 0\n"
     ]
    },
    {
     "name": "stdout",
     "output_type": "stream",
     "text": [
      "*** Backscale the source spectrum\n"
     ]
    },
    {
     "name": "stderr",
     "output_type": "stream",
     "text": [
      "Execution of backscale spectrumset=Kepler_0084100101_mos1_spectrum_src_user.fits badpixlocation=mos1_evlist_clean.fits returned 0\n",
      "Execution of evselect table=mos2_evlist_clean.fits withspectrumset=yes spectrumset=Kepler_0084100101_mos2_spectrum_src_user.fits energycolumn=PI spectralbinsize=5 withspecranges=yes specchannelmin=0 specchannelmax=11999 expression='#XMMEA_EM && (PATTERN<=12) && ((X,Y) IN polygon(23258.483,25164.846,23779.635,25741.037,24507.264,26071.353,26193.83,26083.972,27085.513,24451.599,26509.326,24163.503,25768.352,24972.871,24615.942,25055.159,23491.181,24286.934)\n",
      ")' returned 0\n"
     ]
    },
    {
     "name": "stdout",
     "output_type": "stream",
     "text": [
      "*** Backscale the source spectrum\n"
     ]
    },
    {
     "name": "stderr",
     "output_type": "stream",
     "text": [
      "Execution of backscale spectrumset=Kepler_0084100101_mos2_spectrum_src_user.fits badpixlocation=mos2_evlist_clean.fits returned 0\n",
      "Execution of evselect table=pn_evlist_clean.fits withspectrumset=yes spectrumset=Kepler_0084100101_pn_spectrum_src_user.fits energycolumn=PI spectralbinsize=5 withspecranges=yes specchannelmin=0 specchannelmax=20479 expression='(FLAG==0) && (PATTERN<=4) && ((X,Y) IN polygon(23258.171,25164.879,23779.431,25741.013,24507.58,26071.356,26193.696,26083.958,27085.334,24451.588,26509.204,24163.52,25768.46,24972.845,24616.196,25055.145,23491.371,24286.965)\n",
      ")' returned 0\n"
     ]
    },
    {
     "name": "stdout",
     "output_type": "stream",
     "text": [
      "*** Backscale the source spectrum\n"
     ]
    },
    {
     "name": "stderr",
     "output_type": "stream",
     "text": [
      "Execution of backscale spectrumset=Kepler_0084100101_pn_spectrum_src_user.fits badpixlocation=pn_evlist_clean.fits returned 0\n"
     ]
    }
   ],
   "source": [
    "#\n",
    "for inst in [\"mos1\",\"mos2\",\"pn\"]:\n",
    "    evlist = f'{inst}_evlist_clean.fits'\n",
    "    spec_name = f'{target}_{obsid}_{inst}_spectrum_src_user.fits'\n",
    "    #\n",
    "    if ('pn' in inst):\n",
    "        spec_chan_max = 20479\n",
    "        expr1 = \"(FLAG==0) && (PATTERN<=4)\"\n",
    "    else:\n",
    "        spec_chan_max = 11999\n",
    "        expr1 = \"#XMMEA_EM && (PATTERN<=12)\"\n",
    "    #\n",
    "    ev_command = f\"evselect table={evlist} withspectrumset=yes spectrumset={spec_name}\" +  \\\n",
    "    f\" energycolumn=PI spectralbinsize=5 withspecranges=yes specchannelmin=0 specchannelmax={spec_chan_max}\" +  \\\n",
    "    f\" expression='{expr1} && ((X,Y) IN {src_reg[inst]})'\"\n",
    "    status = run_command(ev_command)\n",
    "    if (status != 0):\n",
    "        raise Exception\n",
    "    #\n",
    "    # Now backscale the source spectrum\n",
    "    #\n",
    "    print (\"*** Backscale the source spectrum\")\n",
    "    xcommand = f\"backscale spectrumset={spec_name} badpixlocation={evlist}\"\n",
    "    status = run_command(xcommand)\n",
    "    if (status != 0):\n",
    "        raise Exception"
   ]
  },
  {
   "cell_type": "markdown",
   "metadata": {},
   "source": [
    "## Plotting section"
   ]
  },
  {
   "cell_type": "code",
   "execution_count": 13,
   "metadata": {},
   "outputs": [
    {
     "data": {
      "text/plain": [
       "<matplotlib.legend.Legend at 0x7f4a0ceb8668>"
      ]
     },
     "execution_count": 13,
     "metadata": {},
     "output_type": "execute_result"
    },
    {
     "data": {
      "image/png": "[encoded data removed]",
      "text/plain": [
       "<Figure size 1080x360 with 1 Axes>"
      ]
     },
     "metadata": {
      "needs_background": "light"
     },
     "output_type": "display_data"
    }
   ],
   "source": [
    "os.chdir(pps_dir)\n",
    "fig = plt.figure(figsize=(15,5))\n",
    "ax = fig.subplots()\n",
    "\n",
    "for inst in [\"mos1\",\"mos2\",\"pn\"]:\n",
    "    spec_name = f'{target}_{obsid}_{inst}_spectrum_src_user.fits'\n",
    "    hdu = fits.open(spec_name)\n",
    "    qrev = hdu[0].header['REVOLUT']\n",
    "    qsubmode = hdu[0].header['SUBMODE']\n",
    "    qfilt = hdu[0].header['FILTER']\n",
    "    #plot_title = f\"Target: {target}, {qrev}_{obsid}, {qsubmode}, {qfilt}\"\n",
    "    #\n",
    "    spec = hdu['SPECTRUM']\n",
    "    binsize = spec.header['SPECDELT']\n",
    "    x = spec.data['CHANNEL']*binsize/1000.0\n",
    "    y = spec.data['COUNTS']\n",
    "    xlims  = (0.5, 8.0)\n",
    "    #\n",
    "    ax.loglog(x,y,label=f'{inst}')\n",
    "    #ax.step(a[1][1:],a[0],color='red')\n",
    "    #ax.step(x,y,color='red')\n",
    "ax.set_xlim(xlims)\n",
    "#ax.set_ylim((1.0e-2,))\n",
    "ax.set_xlabel(\"Energy (keV)\")\n",
    "ax.set_ylabel(\"Counts\")\n",
    "#ax.set_title(plot_title)\n",
    "ax.grid()\n",
    "ax.legend()\n",
    "#plt.savefig(f\"{pps_dir}/{target}_{obsid}_src_poly.png\",dpi=100)\n",
    "#plt.show()\n",
    "#plt.close();"
   ]
  },
  {
   "cell_type": "markdown",
   "metadata": {},
   "source": [
    "## MOS diagonal events\n",
    "\n",
    "To check the pile up spatial distribution with diagonal events (`PATTERN in [26:29]`)"
   ]
  },
  {
   "cell_type": "code",
   "execution_count": 22,
   "metadata": {},
   "outputs": [
    {
     "name": "stderr",
     "output_type": "stream",
     "text": [
      "Execution of evselect table=mos1_evlist_clean.fits xcolumn=X ycolumn=Y imagebinning=binSize ximagebinsize=80 yimagebinsize=80 expression='PATTERN <= 29 && PATTERN >= 26' withimageset=true imageset=mos1_image_patt_26_29.fits returned 0\n",
      "Execution of evselect table=mos2_evlist_clean.fits xcolumn=X ycolumn=Y imagebinning=binSize ximagebinsize=80 yimagebinsize=80 expression='PATTERN <= 29 && PATTERN >= 26' withimageset=true imageset=mos2_image_patt_26_29.fits returned 0\n"
     ]
    }
   ],
   "source": [
    "bin_size = 80\n",
    "#\n",
    "for inst in ['mos1','mos2']:\n",
    "    evlist = f'{inst}_evlist_clean.fits'\n",
    "    if (not os.path.isfile(evlist)):\n",
    "        print(f\"Cannot find cleaned event lists for {inst}. Image will not be generated.\")\n",
    "        continue\n",
    "    image_name = f'{inst}_image_patt_26_29.fits'\n",
    "    #\n",
    "    expr = f'PATTERN <= 29 && PATTERN >= 26'\n",
    "    #    \n",
    "    ev_command = f'evselect table={evlist} xcolumn=X ycolumn=Y imagebinning=binSize' +  \\\n",
    "         f' ximagebinsize={bin_size} yimagebinsize={bin_size}' + \\\n",
    "         f' expression=\\'{expr}\\'' +  \\\n",
    "         f' withimageset=true imageset={image_name}'\n",
    "    status = run_command(ev_command)\n",
    "    if (status != 0):\n",
    "        raise Exception"
   ]
  },
  {
   "cell_type": "code",
   "execution_count": null,
   "metadata": {},
   "outputs": [],
   "source": [
    "print (\"*** All done.\")\n",
    "logging.info (\"*** All done.\")"
   ]
  },
  {
   "cell_type": "code",
   "execution_count": null,
   "metadata": {},
   "outputs": [],
   "source": []
  }
 ],
 "metadata": {
  "kernelspec": {
   "display_name": "Python 3",
   "language": "python",
   "name": "python3"
  },
  "language_info": {
   "codemirror_mode": {
    "name": "ipython",
    "version": 3
   },
   "file_extension": ".py",
   "mimetype": "text/x-python",
   "name": "python",
   "nbconvert_exporter": "python",
   "pygments_lexer": "ipython3",
   "version": "3.6.7"
  }
 },
 "nbformat": 4,
 "nbformat_minor": 2
}
