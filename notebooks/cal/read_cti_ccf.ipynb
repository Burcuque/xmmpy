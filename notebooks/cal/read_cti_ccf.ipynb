{
 "cells": [
  {
   "cell_type": "code",
   "execution_count": 54,
   "metadata": {},
   "outputs": [],
   "source": [
    "import pandas as pd\n",
    "from astropy.io import fits\n",
    "from astropy.table import Table\n",
    "import numpy as np"
   ]
  },
  {
   "cell_type": "code",
   "execution_count": 121,
   "metadata": {},
   "outputs": [],
   "source": [
    "def read_cti_ccf(ccf_file,mode_id=2, energy_index=0):\n",
    "    #\n",
    "    # mode_id = 0 for PRIME_FULL_WINDOW\n",
    "    # mode_id = 1 for PRIME_FULL_WINDOW_EXTENDED\n",
    "    # mode_id = 2 for PRIME_LARGE_WINDOW\n",
    "    # mode_id = 3 for PRIME_SMALL_WINDOW\n",
    "    #\n",
    "    # energy_index = 0 is for Al Ka at 1.486\n",
    "    # energy_index = 1 is for Mn Ka at 5.8988\n",
    "    # energy_index = 2 is for Fe Ka at 6.4 keV\n",
    "    #\n",
    "    try:\n",
    "        t = Table.read(f'{ccf_file}',hdu='LONG_TERM_CTI')\n",
    "        tmp = Table.read(f'{ccf_file}',hdu='LTC_TIMES')\n",
    "        #times = tmp.data['TIME'][0].flatten()                           \n",
    "    except:\n",
    "        print (f\"Cannot read CCF file {ccf_file}, it must contain extension with name \\\"LONG_TERM_CTI\\\"\")\n",
    "        return None\n",
    "    times = tmp['TIME'][0]\n",
    "    tx = t.group_by('MODE_ID')\n",
    "    mmask = tx.groups.keys['MODE_ID'] == mode_id\n",
    "    tenergy = tx.groups[mmask].group_by('ENERGY')\n",
    "    ixxx = np.arange(len(tenergy.groups))\n",
    "    if (energy_index not in ixxx):\n",
    "        print (f\"The index for the energy {energy_index} is not available for this mode. Only indices: \", ixxx)\n",
    "        return None\n",
    "    grp = tenergy.groups[energy_index]\n",
    "    print (grp)\n",
    "    tout = {}\n",
    "    if (mode_id != 3):\n",
    "        for iccd in np.arange(1,13):\n",
    "            xmask = grp['CCD_ID'] == iccd\n",
    "            tcoeff = grp[xmask]['T_COEFF']\n",
    "            tout[iccd] = {'mode_id': mode_id, 'ccd': iccd, 'energy': grp['ENERGY'][0],\n",
    "                'times': times, 'tcoeff': tcoeff[0]}\n",
    "    else:\n",
    "        tcoeff = grp['T_COEFF']\n",
    "        tout[0] = {'mode_id': mode_id, 'ccd': 4, 'energy': grp['ENERGY'][0],\n",
    "            'times': times, 'tcoeff': tcoeff[0]}\n",
    "    return tout"
   ]
  },
  {
   "cell_type": "code",
   "execution_count": 124,
   "metadata": {},
   "outputs": [
    {
     "name": "stdout",
     "output_type": "stream",
     "text": [
      "The index for the energy 2 is not available for this mode. Only indices:  [0 1]\n"
     ]
    }
   ],
   "source": [
    "ccfdir = '/xdata/ccf/pub'\n",
    "xfile = f'{ccfdir}/EPN_CTI_0048.CCF'\n",
    "out = read_cti_ccf(xfile,energy_index=2,mode_id=3)\n",
    "out"
   ]
  },
  {
   "cell_type": "markdown",
   "metadata": {},
   "source": [
    "out"
   ]
  },
  {
   "cell_type": "code",
   "execution_count": null,
   "metadata": {},
   "outputs": [],
   "source": []
  }
 ],
 "metadata": {
  "kernelspec": {
   "display_name": "Python 3",
   "language": "python",
   "name": "python3"
  },
  "language_info": {
   "codemirror_mode": {
    "name": "ipython",
    "version": 3
   },
   "file_extension": ".py",
   "mimetype": "text/x-python",
   "name": "python",
   "nbconvert_exporter": "python",
   "pygments_lexer": "ipython3",
   "version": "3.6.7"
  }
 },
 "nbformat": 4,
 "nbformat_minor": 2
}
