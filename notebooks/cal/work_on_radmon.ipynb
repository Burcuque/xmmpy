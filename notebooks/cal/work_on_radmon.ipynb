{
 "cells": [
  {
   "cell_type": "markdown",
   "metadata": {},
   "source": [
    "# Work on background radiation estimates for XMM-Newton\n",
    "\n",
    "The idea is to identify observations where the radiation level is high, as those are likely to have strong Cu K$\\alpha$ line (8.04 keV).\n"
   ]
  },
  {
   "cell_type": "code",
   "execution_count": 1,
   "metadata": {},
   "outputs": [],
   "source": [
    "import os\n",
    "\n",
    "import numpy as np\n",
    "\n",
    "from astropy.table import Table\n",
    "import pandas as pd\n",
    "from datetime import datetime\n",
    "from scipy.interpolate import interp1d\n",
    "\n",
    "home = os.path.expanduser('~')"
   ]
  },
  {
   "cell_type": "markdown",
   "metadata": {},
   "source": [
    "The radiation levels are read from Pedro Rodriguez folder and file:"
   ]
  },
  {
   "cell_type": "code",
   "execution_count": 2,
   "metadata": {},
   "outputs": [],
   "source": [
    "#\n",
    "# read the radiation monitor files from Pedro Rodriguez folder:\n",
    "#\n",
    "radmondir = '/home/prodrigu/XMM/Radiation/RADMON'\n",
    "tx = Table.read(f'{radmondir}/rmle0bin.fits')\n",
    "# convert to pandas dataframe\n",
    "t = tx.to_pandas()\n",
    "#\n",
    "# interpolate the values\n",
    "#\n",
    "f = interp1d(t.TIME,t.RATE)\n",
    "#\n",
    "# the start date of the file is 1997-12-31T23:58:56Z\n",
    "t0 = datetime.strptime('1997-12-31T23:58:56Z','%Y-%m-%dT%H:%M:%SZ')\n",
    "min_time = t.TIME.min()\n",
    "#"
   ]
  },
  {
   "cell_type": "markdown",
   "metadata": {},
   "source": [
    "Now we read the list of XMM observations with revolution in [2500,3500], downloades as \"csv\" from [the internal observation log browser](http://xmm2.esac.esa.int/obs-cgi/obs_view.tcl)."
   ]
  },
  {
   "cell_type": "code",
   "execution_count": 3,
   "metadata": {},
   "outputs": [],
   "source": [
    "tx = Table.read(f'{home}/IVAN/obs_list_rev2500-3500.csv',delimiter=';')\n",
    "# convert to pandas\n",
    "tobs = tx.to_pandas()\n",
    "start = tobs['Exp Start Time']\n",
    "end = tobs['Exp End Time']\n",
    "rev = tobs['Revolution']\n",
    "expo = tobs['Perf Duration']\n",
    "mode = tobs['Mode']\n",
    "# convert times, using list comprehension\n",
    "time0 = [datetime.strptime(x,'%Y-%m-%d@%H:%M:%S') for x in start]\n",
    "time1 = [datetime.strptime(x,'%Y-%m-%d@%H:%M:%S') for x in end]\n",
    "#\n",
    "obsid = tobs['Observation ID']\n",
    "ncc = len(obsid)"
   ]
  },
  {
   "cell_type": "markdown",
   "metadata": {},
   "source": [
    "Now will select the radiation monitor data within each OBS_ID star and end time and calculate the mean and st.dev."
   ]
  },
  {
   "cell_type": "code",
   "execution_count": 4,
   "metadata": {},
   "outputs": [
    {
     "name": "stdout",
     "output_type": "stream",
     "text": [
      "No interval found for 0761920701, mode=Full Frame, 2015-05-03 13:07:34, 2015-05-04 10:06:03\n",
      "No interval found for 0770190301, mode=Full Frame, 2015-09-21 23:05:11, 2015-09-22 13:07:00\n",
      "No interval found for 0810840101, mode=Small Window, 2018-10-19 07:01:19, 2018-10-20 02:10:23\n",
      "No interval found for 0821722001, mode=Extended Full Frame, 2018-11-29 09:11:41, 2018-11-30 23:26:49\n",
      "All done\n"
     ]
    }
   ],
   "source": [
    "# file to save the results\n",
    "\n",
    "file_out = f'{home}/IVAN/Cu-line/PN_high_background.csv'\n",
    "fout = open(file_out,'w')\n",
    "print (\"obsid,rev,mode,expo,mean_bkg,std_bkg\",file=fout)\n",
    "#\n",
    "verbose = False\n",
    "for i in np.arange(ncc):\n",
    "    delta0 = (time0[i] - t0).total_seconds()\n",
    "    delta1 = (time1[i] - t0).total_seconds()\n",
    "    # pandas selection\n",
    "    ttx = t[(t.TIME <= delta1) & (t.TIME >= delta0)]\n",
    "    # if there is no match in the radiation file, then set to 0.0\n",
    "    if (len(ttx) < 1):\n",
    "        print (\"No interval found for {:010}, mode={}, {}, {}\".format(obsid[i],mode[i], time0[i],time1[i]))\n",
    "        bkg = 0.0\n",
    "        bkg_std = 0.0\n",
    "    else:\n",
    "        bkg = ttx.RATE.mean()\n",
    "        bkg_std = ttx.RATE.std()\n",
    "    print (\"{:010}, {}, {}, {}, {:.2f}, {:.2f}\".format(obsid[i],rev[i],mode[i],expo[i],bkg,bkg_std),file=fout)\n",
    "    if (verbose):\n",
    "        print (\"{:010}, {}, {}, {}, {:.2f}, {:.2f}\".format(obsid[i],rev[i],mode[i],expo[i],bkg,bkg_std))\n",
    "#\n",
    "fout.close()\n",
    "print (\"All done\")"
   ]
  },
  {
   "cell_type": "markdown",
   "metadata": {},
   "source": [
    "Now ploting with [altair](https://altair-viz.github.io), interactive plot."
   ]
  },
  {
   "cell_type": "code",
   "execution_count": 5,
   "metadata": {},
   "outputs": [],
   "source": [
    "import os\n",
    "import pandas as pd\n",
    "import altair as alt\n",
    "\n",
    "trad = pd.read_csv(file_out)"
   ]
  },
  {
   "cell_type": "code",
   "execution_count": null,
   "metadata": {},
   "outputs": [],
   "source": []
  },
  {
   "cell_type": "code",
   "execution_count": 9,
   "metadata": {},
   "outputs": [
    {
     "data": {
      "application/vnd.vegalite.v2+json": {
       "$schema": "https://vega.github.io/schema/vega-lite/v2.6.0.json",
       "config": {
        "view": {
         "height": 300,
         "width": 400
        }
       },
       "data": {
        "name": "data-088e7fcc8f80e2a692c2e49a1482793f"
       },
       "datasets": {
        "data-088e7fcc8f80e2a692c2e49a1482793f": [
         {
          "expo": 107880,
          "mean_bkg": 47.86,
          "mode": " Large Window",
          "obsid": 721010201,
          "rev": 2512,
          "std_bkg": 374.61
         },
         {
          "expo": 110180,
          "mean_bkg": 28.13,
          "mode": " Large Window",
          "obsid": 721010301,
          "rev": 2517,
          "std_bkg": 221.34
         },
         {
          "expo": 117180,
          "mean_bkg": 2.68,
          "mode": " Large Window",
          "obsid": 721010401,
          "rev": 2522,
          "std_bkg": 0.55
         },
         {
          "expo": 108780,
          "mean_bkg": 238.21,
          "mode": " Large Window",
          "obsid": 721010501,
          "rev": 2524,
          "std_bkg": 2869.76
         },
         {
          "expo": 53080,
          "mean_bkg": 2.6,
          "mode": " Large Window",
          "obsid": 721730301,
          "rev": 2570,
          "std_bkg": 0.18
         },
         {
          "expo": 65325,
          "mean_bkg": 12.15,
          "mode": " Large Window",
          "obsid": 723100401,
          "rev": 2582,
          "std_bkg": 58.27
         },
         {
          "expo": 137311,
          "mean_bkg": 208.37,
          "mode": " Large Window",
          "obsid": 721010601,
          "rev": 2604,
          "std_bkg": 6739.77
         },
         {
          "expo": 83680,
          "mean_bkg": 2.7,
          "mode": " Large Window",
          "obsid": 745110101,
          "rev": 2652,
          "std_bkg": 0.37
         },
         {
          "expo": 100680,
          "mean_bkg": 85.58,
          "mode": " Large Window",
          "obsid": 745110201,
          "rev": 2659,
          "std_bkg": 2625.03
         },
         {
          "expo": 130776,
          "mean_bkg": 5.94,
          "mode": " Large Window",
          "obsid": 743470201,
          "rev": 2660,
          "std_bkg": 9.81
         },
         {
          "expo": 99180,
          "mean_bkg": 131.22,
          "mode": " Large Window",
          "obsid": 745110301,
          "rev": 2661,
          "std_bkg": 3969.21
         },
         {
          "expo": 96680,
          "mean_bkg": 185.74,
          "mode": " Large Window",
          "obsid": 745110401,
          "rev": 2663,
          "std_bkg": 5622.7
         },
         {
          "expo": 54680,
          "mean_bkg": 217.84,
          "mode": " Large Window",
          "obsid": 745110501,
          "rev": 2664,
          "std_bkg": 5008.95
         },
         {
          "expo": 91980,
          "mean_bkg": 2.53,
          "mode": " Large Window",
          "obsid": 745110601,
          "rev": 2666,
          "std_bkg": 0.16
         },
         {
          "expo": 95680,
          "mean_bkg": 2.64,
          "mode": " Large Window",
          "obsid": 745110701,
          "rev": 2670,
          "std_bkg": 0.17
         },
         {
          "expo": 138679,
          "mean_bkg": 6.39,
          "mode": " Large Window",
          "obsid": 744450101,
          "rev": 2673,
          "std_bkg": 22.92
         },
         {
          "expo": 67680,
          "mean_bkg": 6.42,
          "mode": " Large Window",
          "obsid": 744450401,
          "rev": 2674,
          "std_bkg": 38.12
         },
         {
          "expo": 130120,
          "mean_bkg": 338.95,
          "mode": " Large Window",
          "obsid": 744490401,
          "rev": 2744,
          "std_bkg": 12112.62
         },
         {
          "expo": 65980,
          "mean_bkg": 122.35,
          "mode": " Large Window",
          "obsid": 744490501,
          "rev": 2746,
          "std_bkg": 2836.11
         },
         {
          "expo": 52300,
          "mean_bkg": 2.9,
          "mode": " Large Window",
          "obsid": 744490601,
          "rev": 2749,
          "std_bkg": 0.2
         },
         {
          "expo": 137680,
          "mean_bkg": 84.8,
          "mode": " Large Window",
          "obsid": 744450301,
          "rev": 2773,
          "std_bkg": 2361.3
         },
         {
          "expo": 121438,
          "mean_bkg": 60.9,
          "mode": " Large Window",
          "obsid": 761500201,
          "rev": 2822,
          "std_bkg": 200.52
         },
         {
          "expo": 90680,
          "mean_bkg": 178.97,
          "mode": " Large Window",
          "obsid": 760530201,
          "rev": 2871,
          "std_bkg": 5281.03
         },
         {
          "expo": 81280,
          "mean_bkg": 2.88,
          "mode": " Large Window",
          "obsid": 760530301,
          "rev": 2872,
          "std_bkg": 0.2
         },
         {
          "expo": 77580,
          "mean_bkg": 5.8,
          "mode": " Large Window",
          "obsid": 764670101,
          "rev": 2876,
          "std_bkg": 11.73
         },
         {
          "expo": 50680,
          "mean_bkg": 3.21,
          "mode": " Large Window",
          "obsid": 764420101,
          "rev": 2905,
          "std_bkg": 0.43
         },
         {
          "expo": 75168,
          "mean_bkg": 3.39,
          "mode": " Large Window",
          "obsid": 790180101,
          "rev": 2927,
          "std_bkg": 0.2
         },
         {
          "expo": 99679,
          "mean_bkg": 3.72,
          "mode": " Large Window",
          "obsid": 763480101,
          "rev": 2954,
          "std_bkg": 0.2
         },
         {
          "expo": 131780,
          "mean_bkg": 3.59,
          "mode": " Large Window",
          "obsid": 764530101,
          "rev": 2963,
          "std_bkg": 0.42
         },
         {
          "expo": 53980,
          "mean_bkg": 6.29,
          "mode": " Large Window",
          "obsid": 790180201,
          "rev": 2970,
          "std_bkg": 11.39
         },
         {
          "expo": 55580,
          "mean_bkg": 7.86,
          "mode": " Large Window",
          "obsid": 790180501,
          "rev": 2984,
          "std_bkg": 18.03
         },
         {
          "expo": 127980,
          "mean_bkg": 8.27,
          "mode": " Large Window",
          "obsid": 764620101,
          "rev": 2991,
          "std_bkg": 26.93
         },
         {
          "expo": 86431,
          "mean_bkg": 5.56,
          "mode": " Large Window",
          "obsid": 780560101,
          "rev": 3037,
          "std_bkg": 16.54
         },
         {
          "expo": 134484,
          "mean_bkg": 3.7,
          "mode": " Large Window",
          "obsid": 780561301,
          "rev": 3038,
          "std_bkg": 0.2
         },
         {
          "expo": 129229,
          "mean_bkg": 6.3,
          "mode": " Large Window",
          "obsid": 780561401,
          "rev": 3039,
          "std_bkg": 35.58
         },
         {
          "expo": 137480,
          "mean_bkg": 4.14,
          "mode": " Large Window",
          "obsid": 780561501,
          "rev": 3043,
          "std_bkg": 0.71
         },
         {
          "expo": 137480,
          "mean_bkg": 27.46,
          "mode": " Large Window",
          "obsid": 780561601,
          "rev": 3044,
          "std_bkg": 638.45
         },
         {
          "expo": 137480,
          "mean_bkg": 3.9,
          "mode": " Large Window",
          "obsid": 780561701,
          "rev": 3045,
          "std_bkg": 0.42
         },
         {
          "expo": 137680,
          "mean_bkg": 88.73,
          "mode": " Large Window",
          "obsid": 792180101,
          "rev": 3046,
          "std_bkg": 3144.2
         },
         {
          "expo": 137180,
          "mean_bkg": 667.26,
          "mode": " Large Window",
          "obsid": 792180201,
          "rev": 3048,
          "std_bkg": 23625.46
         },
         {
          "expo": 135126,
          "mean_bkg": 642.69,
          "mode": " Large Window",
          "obsid": 792180301,
          "rev": 3049,
          "std_bkg": 23615.88
         },
         {
          "expo": 137480,
          "mean_bkg": 5.24,
          "mode": " Large Window",
          "obsid": 792180401,
          "rev": 3050,
          "std_bkg": 10.17
         },
         {
          "expo": 131771,
          "mean_bkg": 3.86,
          "mode": " Large Window",
          "obsid": 792180501,
          "rev": 3052,
          "std_bkg": 0.28
         },
         {
          "expo": 132680,
          "mean_bkg": 3.73,
          "mode": " Large Window",
          "obsid": 792180601,
          "rev": 3053,
          "std_bkg": 0.21
         },
         {
          "expo": 81674,
          "mean_bkg": 695.28,
          "mode": " Large Window",
          "obsid": 783230101,
          "rev": 3156,
          "std_bkg": 2974.4
         },
         {
          "expo": 76143,
          "mean_bkg": 188.37,
          "mode": " Large Window",
          "obsid": 780690201,
          "rev": 3166,
          "std_bkg": 829.39
         },
         {
          "expo": 86005,
          "mean_bkg": 4.62,
          "mode": " Large Window",
          "obsid": 780690301,
          "rev": 3167,
          "std_bkg": 0.6
         },
         {
          "expo": 50680,
          "mean_bkg": 440.52,
          "mode": " Large Window",
          "obsid": 802560101,
          "rev": 3204,
          "std_bkg": 9759.46
         },
         {
          "expo": 82680,
          "mean_bkg": 4.61,
          "mode": " Large Window",
          "obsid": 760020401,
          "rev": 3206,
          "std_bkg": 0.23
         },
         {
          "expo": 58680,
          "mean_bkg": 4.18,
          "mode": " Large Window",
          "obsid": 803510201,
          "rev": 3235,
          "std_bkg": 0.2
         },
         {
          "expo": 61380,
          "mean_bkg": 4.1,
          "mode": " Large Window",
          "obsid": 795600101,
          "rev": 3241,
          "std_bkg": 0.2
         },
         {
          "expo": 116580,
          "mean_bkg": 4.5,
          "mode": " Large Window",
          "obsid": 804680101,
          "rev": 3306,
          "std_bkg": 0.3
         },
         {
          "expo": 56180,
          "mean_bkg": 4.78,
          "mode": " Large Window",
          "obsid": 811213301,
          "rev": 3334,
          "std_bkg": 0.25
         },
         {
          "expo": 50624,
          "mean_bkg": 7.51,
          "mode": " Large Window",
          "obsid": 823780201,
          "rev": 3421,
          "std_bkg": 19.01
         },
         {
          "expo": 81574,
          "mean_bkg": 5.03,
          "mode": " Large Window",
          "obsid": 830390101,
          "rev": 3440,
          "std_bkg": 0.98
         },
         {
          "expo": 74474,
          "mean_bkg": 4.8,
          "mode": " Large Window",
          "obsid": 830470101,
          "rev": 3484,
          "std_bkg": 0.22
         }
        ]
       },
       "encoding": {
        "color": {
         "field": "mode",
         "type": "nominal"
        },
        "tooltip": [
         {
          "field": "rev",
          "type": "quantitative"
         },
         {
          "field": "obsid",
          "type": "quantitative"
         },
         {
          "field": "mean_bkg",
          "type": "quantitative"
         },
         {
          "field": "std_bkg",
          "type": "quantitative"
         },
         {
          "field": "mode",
          "type": "nominal"
         }
        ],
        "x": {
         "axis": {
          "title": "Revolution"
         },
         "field": "rev",
         "scale": {
          "domain": [
           2500,
           3500
          ]
         },
         "type": "quantitative"
        },
        "y": {
         "axis": {
          "title": "Mean background"
         },
         "field": "mean_bkg",
         "scale": {
          "domain": [
           1,
           50000
          ],
          "type": "log"
         },
         "type": "quantitative"
        }
       },
       "height": 500,
       "mark": {
        "filled": true,
        "size": 50,
        "type": "point"
       },
       "title": "Mean radiation level per OBS_ID, all modes",
       "width": 800
      },
      "image/png": "[encoded data removed]",
      "text/plain": [
       "<VegaLite 2 object>\n",
       "\n",
       "If you see this message, it means the renderer has not been properly enabled\n",
       "for the frontend that you are using. For more information, see\n",
       "https://altair-viz.github.io/user_guide/troubleshooting.html\n"
      ]
     },
     "execution_count": 9,
     "metadata": {},
     "output_type": "execute_result"
    }
   ],
   "source": [
    "#\n",
    "#\n",
    "#select = \"all\"\n",
    "#if (select == 'all'):\n",
    "#    xtab = trad[trad.mean_bkg >= 1.0]\n",
    "\n",
    "select = \"Large\"\n",
    "xtab = trad[trad['mode'].str.contains(select)]\n",
    "\n",
    "xtab = xtab[xtab.mean_bkg >= 1.0]\n",
    "\n",
    "base = alt.Chart(xtab,title=\"Mean radiation level per OBS_ID, all modes\",width=800,height=500)\n",
    "\n",
    "points = base.mark_point(filled=True, size=50).encode(\n",
    "    x=alt.X(\n",
    "        \"rev\",\n",
    "        scale=alt.Scale(domain=(2500,3500)),\n",
    "        axis=alt.Axis(title='Revolution')\n",
    "    ),\n",
    "    y=alt.Y(\n",
    "        'mean_bkg',\n",
    "        scale=alt.Scale(type='log',domain=(1,50000)),\n",
    "        axis=alt.Axis(title=\"Mean background\")\n",
    "    ),\n",
    "    color='mode',\n",
    "    tooltip=['rev', 'obsid','mean_bkg','std_bkg', 'mode']\n",
    ")\n",
    "\n",
    "# generate the error bars\n",
    "errorbars = base.mark_rule().encode(\n",
    "    x=\"rev\",\n",
    "    y=\"ymin:Q\",\n",
    "    y2=\"ymax:Q\"\n",
    ").transform_calculate(\n",
    "    ymin=\"datum.mean_bkg-datum.std_bkg \",\n",
    "    ymax=\"datum.mean_bkg+datum.std_bkg\"\n",
    ")\n",
    "\n",
    "#points + errorbars\n",
    "\n",
    "points\n",
    "\n",
    "#chart.save(\"test_altair_plot.png\")\n",
    "#.mark_circle(size=60).encode(\n",
    "#    alt.X('rev',scale=alt.Scale(domain=(2500,3500))),\n",
    "#    alt.Y('mean_bkg',scale=alt.Scale(type=\"log\")),\n",
    "#    color='mode',\n",
    "#    tooltip=['rev', 'obsid','mean_bkg', 'mode']\n",
    "#).interactive()"
   ]
  },
  {
   "cell_type": "code",
   "execution_count": null,
   "metadata": {},
   "outputs": [],
   "source": []
  },
  {
   "cell_type": "code",
   "execution_count": null,
   "metadata": {},
   "outputs": [],
   "source": []
  }
 ],
 "metadata": {
  "kernelspec": {
   "display_name": "Python 3",
   "language": "python",
   "name": "python3"
  },
  "language_info": {
   "codemirror_mode": {
    "name": "ipython",
    "version": 3
   },
   "file_extension": ".py",
   "mimetype": "text/x-python",
   "name": "python",
   "nbconvert_exporter": "python",
   "pygments_lexer": "ipython3",
   "version": "3.7.1"
  }
 },
 "nbformat": 4,
 "nbformat_minor": 2
}
