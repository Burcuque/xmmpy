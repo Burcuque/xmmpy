{
 "cells": [
  {
   "cell_type": "markdown",
   "metadata": {},
   "source": [
    "# ARF generation in annuli\n",
    "\n",
    "Fro galaxy clusters analysis, the flux loss in different annuli.\n",
    "\n",
    "Using XMM-SAS 16.1 (2017), before `arfgen` has the `badpixmaptype=dataset` option available."
   ]
  },
  {
   "cell_type": "code",
   "execution_count": 1,
   "metadata": {},
   "outputs": [],
   "source": [
    "import os\n",
    "import subprocess\n",
    "import numpy as np\n",
    "import sys\n",
    "\n",
    "from astropy.io import fits\n",
    "\n",
    "import logging\n",
    "\n",
    "%matplotlib inline\n",
    "import matplotlib.pylab as plt"
   ]
  },
  {
   "cell_type": "code",
   "execution_count": 2,
   "metadata": {},
   "outputs": [],
   "source": [
    "def run_command(command,verbose=True):\n",
    "    #\n",
    "    # Execute a shell command with the stdout and stderr being redirected to a log file \n",
    "    #\n",
    "    try:\n",
    "        result = subprocess.run(command, shell=True,stdout=subprocess.PIPE,stderr=subprocess.STDOUT)\n",
    "        retcode=result.returncode\n",
    "        if retcode < 0:\n",
    "            if (verbose):\n",
    "                print(f\"Execution of {command} was terminated by signal\", -retcode, file=sys.stderr)\n",
    "            logging.warning(\"Execution of {} was terminated by signal: {} \\n {}\".format(command,-retcode,result.stdout.decode()))\n",
    "        else:\n",
    "            if (verbose):\n",
    "                print(f\"Execution of {command} returned\", retcode, file=sys.stderr)\n",
    "            logging.info(\"Execution of {} returned {}, \\n {}\".format(command,retcode,result.stdout.decode()))\n",
    "    except OSError as e:\n",
    "        print(f\"Execution of {command} failed:\", e, file=sys.stderr)\n",
    "        logging.error(\"Execution of {} failed: {}\".format(command,e))\n",
    "    return retcode\n"
   ]
  },
  {
   "cell_type": "code",
   "execution_count": 3,
   "metadata": {},
   "outputs": [
    {
     "name": "stdout",
     "output_type": "stream",
     "text": [
      "sasversion:- Executing (routine): sasversion  -w 1 -V 4\n",
      "sasversion:- sasversion (sasversion-1.2)  [xmmsas_20170719_1539-16.1.0] started:  2019-06-19T12:40:51.000\n",
      "sasversion:- XMM-Newton SAS release and build information:\n",
      "\n",
      "SAS release: xmmsas_20170719_1539-16.1.0\n",
      "Compiled on: Fri Jul 28 01:07:14 CEST 2017\n",
      "Compiled by: sasbuild@sasbld01n.net4.lan\n",
      "Platform   : RHEL6.8 64\n",
      "\n",
      "SAS-related environment variables that are set:\n",
      "\n",
      "SAS_DIR = /sas/Linux/RHEL_6.9Workstation/64/sas16_1_0\n",
      "SAS_PATH = /sas/Linux/RHEL_6.9Workstation/64/sas16_1_0\n",
      "SAS_CCFPATH = /xdata/ccf/pub\n",
      "\n",
      "sasversion:- sasversion (sasversion-1.2)  [xmmsas_20170719_1539-16.1.0] ended:    2019-06-19T12:40:51.000\n"
     ]
    }
   ],
   "source": [
    "#\n",
    "# set up XMM-SAS\n",
    "#\n",
    "# the current one is 18.0 ==> /home/xcaldata/setsas_180.sh\n",
    "# tests with XMM-SAS 16.1 for the arfgen\n",
    "#!. /home/xcaldata/setsas_161.sh\n",
    "#\n",
    "#sas_dir = \"/sas/Linux/RHEL_6.9Workstation/64/sas18_0_0\"\n",
    "sas_dir = \"/sas/Linux/RHEL_6.9Workstation/64/sas16_1_0\"\n",
    "os.environ[\"SAS_DIR\"]= sas_dir\n",
    "os.environ[\"SAS_PATH\"]=os.environ[\"SAS_DIR\"]\n",
    "os.environ[\"SAS_VERBOSITY\"]=\"4\"\n",
    "os.environ[\"SAS_SUPPRESS_WARNING\"]=\"1\"\n",
    "path = os.environ[\"PATH\"]\n",
    "os.environ[\"PATH\"] = f\"{sas_dir}/bin:{sas_dir}/binextra:{path}\"\n",
    "ld_path = os.environ[\"LD_LIBRARY_PATH\"]\n",
    "lib_path = f\"{sas_dir}/lib:{sas_dir}/libextra:{sas_dir}/libsys:{ld_path}\"\n",
    "os.environ[\"LD_LIBRARY_PATH\"] = lib_path\n",
    "#\n",
    "# check\n",
    "#print (\"PATH = \",os.environ[\"PATH\"])\n",
    "#print (\"LF_LIBRARY_PATH = \",os.environ[\"LD_LIBRARY_PATH\"])\n",
    "#for ikey in os.environ.keys():\n",
    "#    if ('SAS' in ikey):\n",
    "#        print (ikey,\" = \",os.environ[ikey])\n",
    "!sasversion"
   ]
  },
  {
   "cell_type": "code",
   "execution_count": 4,
   "metadata": {},
   "outputs": [
    {
     "name": "stdout",
     "output_type": "stream",
     "text": [
      "Found ODF folder: /lhome/ivaltchanov/XMM-clusters//A1795/0097820101.\n",
      "Will use /lhome/ivaltchanov/XMM-clusters//A1795/0097820101/proc_161 for the products.\n"
     ]
    }
   ],
   "source": [
    "#\n",
    "# set up the paths, the target and the OBS_ID\n",
    "#\n",
    "root_dir = \"/lhome/ivaltchanov/XMM-clusters/\"\n",
    "target=\"A1795\"\n",
    "obsid=\"0097820101\"\n",
    "# the output processing will be saved to a folder proc_161\n",
    "pps=\"proc_161\"\n",
    "#pps=\"proc\"\n",
    "odf_dir = f\"{root_dir}/{target}/{obsid}\"\n",
    "#\n",
    "if (not os.path.isdir(odf_dir)):\n",
    "    print (f\"{odf_dir} does not exist. Cannot continue.\")\n",
    "    raise FileNotFoundError\n",
    "else:\n",
    "    print (f\"Found ODF folder: {odf_dir}.\")\n",
    "#\n",
    "pps_dir = f\"{root_dir}/{target}/{obsid}/{pps}\"\n",
    "if (not os.path.isdir(pps_dir)):\n",
    "    print (f\"{pps_dir} does not exist. Will create it.\")\n",
    "    os.mkdir(pps_dir)\n",
    "else:\n",
    "    print (f\"Will use {pps_dir} for the products.\")\n",
    "#\n",
    "# logging to file\n",
    "#\n",
    "logging.basicConfig(level=logging.DEBUG,\n",
    "                    format='%(asctime)s %(levelname)s %(message)s',\n",
    "                    filename=f'{pps_dir}/annuli_work.log',\n",
    "                    filemode='w')\n",
    "#\n",
    "os.environ['SAS_ODF'] = odf_dir\n",
    "os.environ['SAS_CCFPATH'] = '/ccf/pub'"
   ]
  },
  {
   "cell_type": "code",
   "execution_count": 5,
   "metadata": {},
   "outputs": [
    {
     "name": "stderr",
     "output_type": "stream",
     "text": [
      "Execution of sasversion returned 0\n"
     ]
    }
   ],
   "source": [
    "status = run_command('sasversion')\n",
    "if (status != 0):\n",
    "    raise Exception"
   ]
  },
  {
   "cell_type": "code",
   "execution_count": 6,
   "metadata": {},
   "outputs": [
    {
     "name": "stderr",
     "output_type": "stream",
     "text": [
      "Execution of cifbuild calindexset=/lhome/ivaltchanov/XMM-clusters//A1795/0097820101/proc_161/ccf.cif analysisdate=\"2017-07-20T00:00:00\" returned 0\n"
     ]
    }
   ],
   "source": [
    "# **Step 1:** Assuming the ODF is already available in odf_dir, then run cifbuild\n",
    "os.chdir(odf_dir)\n",
    "#\n",
    "# For tests with XMM-SAS v16.1, set the corretc analysis date\n",
    "#\n",
    "cif_file = f\"{pps_dir}/ccf.cif\"\n",
    "comm = f\"cifbuild calindexset={cif_file} analysisdate=\\\"2017-07-20T00:00:00\\\"\"\n",
    "status = run_command(comm)\n",
    "if (status != 0):\n",
    "    raise Exception\n",
    "#\n",
    "os.environ['SAS_CCF'] = cif_file"
   ]
  },
  {
   "cell_type": "code",
   "execution_count": null,
   "metadata": {},
   "outputs": [],
   "source": []
  },
  {
   "cell_type": "markdown",
   "metadata": {},
   "source": [
    "We have all necessary products for extracting spectra in annuli, just have to build the annuli:\n",
    "\n"
   ]
  },
  {
   "cell_type": "code",
   "execution_count": 7,
   "metadata": {},
   "outputs": [
    {
     "name": "stdout",
     "output_type": "stream",
     "text": [
      "circle(26387.8,27801.0,4800)\n"
     ]
    }
   ],
   "source": [
    "regfile = f\"{pps_dir}/{target}_{obsid}_region.reg\"\n",
    "with open(regfile) as reg:\n",
    "    reg_line = reg.readline()\n",
    "src_reg = reg_line.strip().split()[0]\n",
    "#\n",
    "print (src_reg)\n",
    "#"
   ]
  },
  {
   "cell_type": "code",
   "execution_count": 8,
   "metadata": {},
   "outputs": [
    {
     "name": "stdout",
     "output_type": "stream",
     "text": [
      "['CIRCLE(26387.8,27801.0,600.0)', 'ANNULUS(26387.8,27801.0,600.0,1200.0)', 'ANNULUS(26387.8,27801.0,1200.0,1800.0)', 'ANNULUS(26387.8,27801.0,1800.0,2400.0)', 'ANNULUS(26387.8,27801.0,2400.0,3000.0)', 'ANNULUS(26387.8,27801.0,3000.0,3600.0)', 'ANNULUS(26387.8,27801.0,3600.0,4200.0)', 'ANNULUS(26387.8,27801.0,4200.0,4800.0)', 'ANNULUS(26387.8,27801.0,4800.0,5400.0)', 'ANNULUS(26387.8,27801.0,5400.0,6000.0)']\n"
     ]
    }
   ],
   "source": [
    "# in detector coordinates\n",
    "xc = 26387.8\n",
    "yc = 27801.0\n",
    "rout = 6000.0 # in detctor coordinates => 5 arcmin\n",
    "nann = 10\n",
    "rstep = rout/nann # radius of each annulus\n",
    "#\n",
    "reg = []\n",
    "r0 = rstep\n",
    "r1 = r0 + rstep\n",
    "reg.append(f\"CIRCLE({xc},{yc},{r0})\")\n",
    "for j in range(1,nann):\n",
    "    reg.append(f\"ANNULUS({xc},{yc},{r0},{r1})\")\n",
    "    r0 = r0 + rstep\n",
    "    r1 = r1 + rstep    \n",
    "print (reg)\n",
    "#\n",
    "# save to reg file\n",
    "#\n",
    "regfile = open(f'{pps_dir}/annuli_regions.reg','w')\n",
    "for j,ireg in enumerate(reg):\n",
    "    print (\"%s #text={%i}\"%(ireg,j),file=regfile)\n",
    "regfile.close()"
   ]
  },
  {
   "cell_type": "markdown",
   "metadata": {},
   "source": [
    "Extract spectra in each region"
   ]
  },
  {
   "cell_type": "code",
   "execution_count": 12,
   "metadata": {},
   "outputs": [
    {
     "name": "stdout",
     "output_type": "stream",
     "text": [
      "*** Extract the source spectrum in CIRCLE(26387.8,27801.0,600.0)\n"
     ]
    },
    {
     "name": "stderr",
     "output_type": "stream",
     "text": [
      "Execution of evselect table=pn_evlist_clean.fits withspectrumset=yes spectrumset=A1795_0097820101_pn_spectrum_ann0.fits energycolumn=PI spectralbinsize=5 withspecranges=yes specchannelmin=0 specchannelmax=20479 expression='(FLAG==0) && (PATTERN<=4) && ((X,Y) IN CIRCLE(26387.8,27801.0,600.0))' returned 0\n"
     ]
    },
    {
     "name": "stdout",
     "output_type": "stream",
     "text": [
      "*** Backscale the source spectrum\n"
     ]
    },
    {
     "name": "stderr",
     "output_type": "stream",
     "text": [
      "Execution of backscale spectrumset=A1795_0097820101_pn_spectrum_ann0.fits badpixlocation=pn_evlist_clean.fits returned 0\n"
     ]
    },
    {
     "name": "stdout",
     "output_type": "stream",
     "text": [
      "*** Generate ARF with no badpix correction\n",
      "*** Running arfgen spectrumset=A1795_0097820101_pn_spectrum_ann0.fits arfset=A1795_0097820101_pn_test0_ann0.arf withrmfset=yes rmfset=A1795_0097820101_pn_spectrum_src.rmf withbadpixcorr=no extendedsource=yes\n"
     ]
    },
    {
     "name": "stderr",
     "output_type": "stream",
     "text": [
      "Execution of arfgen spectrumset=A1795_0097820101_pn_spectrum_ann0.fits arfset=A1795_0097820101_pn_test0_ann0.arf withrmfset=yes rmfset=A1795_0097820101_pn_spectrum_src.rmf withbadpixcorr=no extendedsource=yes returned 0\n"
     ]
    },
    {
     "name": "stdout",
     "output_type": "stream",
     "text": [
      "*** Generate ARF with badpix correction using flat image\n",
      "*** Running arfgen spectrumset=A1795_0097820101_pn_spectrum_ann0.fits arfset=A1795_0097820101_pn_test1_ann0.arf withrmfset=yes rmfset=A1795_0097820101_pn_spectrum_src.rmf badpixlocation=pn_evlist_clean.fits withbadpixcorr=yes detmaptype=flat extendedsource=yes\n"
     ]
    },
    {
     "name": "stderr",
     "output_type": "stream",
     "text": [
      "Execution of arfgen spectrumset=A1795_0097820101_pn_spectrum_ann0.fits arfset=A1795_0097820101_pn_test1_ann0.arf withrmfset=yes rmfset=A1795_0097820101_pn_spectrum_src.rmf badpixlocation=pn_evlist_clean.fits withbadpixcorr=yes detmaptype=flat extendedsource=yes returned 0\n"
     ]
    },
    {
     "name": "stdout",
     "output_type": "stream",
     "text": [
      "*** Extract the source spectrum in ANNULUS(26387.8,27801.0,600.0,1200.0)\n"
     ]
    },
    {
     "name": "stderr",
     "output_type": "stream",
     "text": [
      "Execution of evselect table=pn_evlist_clean.fits withspectrumset=yes spectrumset=A1795_0097820101_pn_spectrum_ann1.fits energycolumn=PI spectralbinsize=5 withspecranges=yes specchannelmin=0 specchannelmax=20479 expression='(FLAG==0) && (PATTERN<=4) && ((X,Y) IN ANNULUS(26387.8,27801.0,600.0,1200.0))' returned 0\n"
     ]
    },
    {
     "name": "stdout",
     "output_type": "stream",
     "text": [
      "*** Backscale the source spectrum\n"
     ]
    },
    {
     "name": "stderr",
     "output_type": "stream",
     "text": [
      "Execution of backscale spectrumset=A1795_0097820101_pn_spectrum_ann1.fits badpixlocation=pn_evlist_clean.fits returned 0\n"
     ]
    },
    {
     "name": "stdout",
     "output_type": "stream",
     "text": [
      "*** Generate ARF with no badpix correction\n",
      "*** Running arfgen spectrumset=A1795_0097820101_pn_spectrum_ann1.fits arfset=A1795_0097820101_pn_test0_ann1.arf withrmfset=yes rmfset=A1795_0097820101_pn_spectrum_src.rmf withbadpixcorr=no extendedsource=yes\n"
     ]
    },
    {
     "name": "stderr",
     "output_type": "stream",
     "text": [
      "Execution of arfgen spectrumset=A1795_0097820101_pn_spectrum_ann1.fits arfset=A1795_0097820101_pn_test0_ann1.arf withrmfset=yes rmfset=A1795_0097820101_pn_spectrum_src.rmf withbadpixcorr=no extendedsource=yes returned 0\n"
     ]
    },
    {
     "name": "stdout",
     "output_type": "stream",
     "text": [
      "*** Generate ARF with badpix correction using flat image\n",
      "*** Running arfgen spectrumset=A1795_0097820101_pn_spectrum_ann1.fits arfset=A1795_0097820101_pn_test1_ann1.arf withrmfset=yes rmfset=A1795_0097820101_pn_spectrum_src.rmf badpixlocation=pn_evlist_clean.fits withbadpixcorr=yes detmaptype=flat extendedsource=yes\n"
     ]
    },
    {
     "name": "stderr",
     "output_type": "stream",
     "text": [
      "Execution of arfgen spectrumset=A1795_0097820101_pn_spectrum_ann1.fits arfset=A1795_0097820101_pn_test1_ann1.arf withrmfset=yes rmfset=A1795_0097820101_pn_spectrum_src.rmf badpixlocation=pn_evlist_clean.fits withbadpixcorr=yes detmaptype=flat extendedsource=yes returned 0\n"
     ]
    },
    {
     "name": "stdout",
     "output_type": "stream",
     "text": [
      "*** Extract the source spectrum in ANNULUS(26387.8,27801.0,1200.0,1800.0)\n"
     ]
    },
    {
     "name": "stderr",
     "output_type": "stream",
     "text": [
      "Execution of evselect table=pn_evlist_clean.fits withspectrumset=yes spectrumset=A1795_0097820101_pn_spectrum_ann2.fits energycolumn=PI spectralbinsize=5 withspecranges=yes specchannelmin=0 specchannelmax=20479 expression='(FLAG==0) && (PATTERN<=4) && ((X,Y) IN ANNULUS(26387.8,27801.0,1200.0,1800.0))' returned 0\n"
     ]
    },
    {
     "name": "stdout",
     "output_type": "stream",
     "text": [
      "*** Backscale the source spectrum\n"
     ]
    },
    {
     "name": "stderr",
     "output_type": "stream",
     "text": [
      "Execution of backscale spectrumset=A1795_0097820101_pn_spectrum_ann2.fits badpixlocation=pn_evlist_clean.fits returned 0\n"
     ]
    },
    {
     "name": "stdout",
     "output_type": "stream",
     "text": [
      "*** Generate ARF with no badpix correction\n",
      "*** Running arfgen spectrumset=A1795_0097820101_pn_spectrum_ann2.fits arfset=A1795_0097820101_pn_test0_ann2.arf withrmfset=yes rmfset=A1795_0097820101_pn_spectrum_src.rmf withbadpixcorr=no extendedsource=yes\n"
     ]
    },
    {
     "name": "stderr",
     "output_type": "stream",
     "text": [
      "Execution of arfgen spectrumset=A1795_0097820101_pn_spectrum_ann2.fits arfset=A1795_0097820101_pn_test0_ann2.arf withrmfset=yes rmfset=A1795_0097820101_pn_spectrum_src.rmf withbadpixcorr=no extendedsource=yes returned 0\n"
     ]
    },
    {
     "name": "stdout",
     "output_type": "stream",
     "text": [
      "*** Generate ARF with badpix correction using flat image\n",
      "*** Running arfgen spectrumset=A1795_0097820101_pn_spectrum_ann2.fits arfset=A1795_0097820101_pn_test1_ann2.arf withrmfset=yes rmfset=A1795_0097820101_pn_spectrum_src.rmf badpixlocation=pn_evlist_clean.fits withbadpixcorr=yes detmaptype=flat extendedsource=yes\n"
     ]
    },
    {
     "name": "stderr",
     "output_type": "stream",
     "text": [
      "Execution of arfgen spectrumset=A1795_0097820101_pn_spectrum_ann2.fits arfset=A1795_0097820101_pn_test1_ann2.arf withrmfset=yes rmfset=A1795_0097820101_pn_spectrum_src.rmf badpixlocation=pn_evlist_clean.fits withbadpixcorr=yes detmaptype=flat extendedsource=yes returned 0\n"
     ]
    },
    {
     "name": "stdout",
     "output_type": "stream",
     "text": [
      "*** Extract the source spectrum in ANNULUS(26387.8,27801.0,1800.0,2400.0)\n"
     ]
    },
    {
     "name": "stderr",
     "output_type": "stream",
     "text": [
      "Execution of evselect table=pn_evlist_clean.fits withspectrumset=yes spectrumset=A1795_0097820101_pn_spectrum_ann3.fits energycolumn=PI spectralbinsize=5 withspecranges=yes specchannelmin=0 specchannelmax=20479 expression='(FLAG==0) && (PATTERN<=4) && ((X,Y) IN ANNULUS(26387.8,27801.0,1800.0,2400.0))' returned 0\n"
     ]
    },
    {
     "name": "stdout",
     "output_type": "stream",
     "text": [
      "*** Backscale the source spectrum\n"
     ]
    },
    {
     "name": "stderr",
     "output_type": "stream",
     "text": [
      "Execution of backscale spectrumset=A1795_0097820101_pn_spectrum_ann3.fits badpixlocation=pn_evlist_clean.fits returned 0\n"
     ]
    },
    {
     "name": "stdout",
     "output_type": "stream",
     "text": [
      "*** Generate ARF with no badpix correction\n",
      "*** Running arfgen spectrumset=A1795_0097820101_pn_spectrum_ann3.fits arfset=A1795_0097820101_pn_test0_ann3.arf withrmfset=yes rmfset=A1795_0097820101_pn_spectrum_src.rmf withbadpixcorr=no extendedsource=yes\n"
     ]
    },
    {
     "name": "stderr",
     "output_type": "stream",
     "text": [
      "Execution of arfgen spectrumset=A1795_0097820101_pn_spectrum_ann3.fits arfset=A1795_0097820101_pn_test0_ann3.arf withrmfset=yes rmfset=A1795_0097820101_pn_spectrum_src.rmf withbadpixcorr=no extendedsource=yes returned 0\n"
     ]
    },
    {
     "name": "stdout",
     "output_type": "stream",
     "text": [
      "*** Generate ARF with badpix correction using flat image\n",
      "*** Running arfgen spectrumset=A1795_0097820101_pn_spectrum_ann3.fits arfset=A1795_0097820101_pn_test1_ann3.arf withrmfset=yes rmfset=A1795_0097820101_pn_spectrum_src.rmf badpixlocation=pn_evlist_clean.fits withbadpixcorr=yes detmaptype=flat extendedsource=yes\n"
     ]
    },
    {
     "name": "stderr",
     "output_type": "stream",
     "text": [
      "Execution of arfgen spectrumset=A1795_0097820101_pn_spectrum_ann3.fits arfset=A1795_0097820101_pn_test1_ann3.arf withrmfset=yes rmfset=A1795_0097820101_pn_spectrum_src.rmf badpixlocation=pn_evlist_clean.fits withbadpixcorr=yes detmaptype=flat extendedsource=yes returned 0\n"
     ]
    },
    {
     "name": "stdout",
     "output_type": "stream",
     "text": [
      "*** Extract the source spectrum in ANNULUS(26387.8,27801.0,2400.0,3000.0)\n"
     ]
    },
    {
     "name": "stderr",
     "output_type": "stream",
     "text": [
      "Execution of evselect table=pn_evlist_clean.fits withspectrumset=yes spectrumset=A1795_0097820101_pn_spectrum_ann4.fits energycolumn=PI spectralbinsize=5 withspecranges=yes specchannelmin=0 specchannelmax=20479 expression='(FLAG==0) && (PATTERN<=4) && ((X,Y) IN ANNULUS(26387.8,27801.0,2400.0,3000.0))' returned 0\n"
     ]
    },
    {
     "name": "stdout",
     "output_type": "stream",
     "text": [
      "*** Backscale the source spectrum\n"
     ]
    },
    {
     "name": "stderr",
     "output_type": "stream",
     "text": [
      "Execution of backscale spectrumset=A1795_0097820101_pn_spectrum_ann4.fits badpixlocation=pn_evlist_clean.fits returned 0\n"
     ]
    },
    {
     "name": "stdout",
     "output_type": "stream",
     "text": [
      "*** Generate ARF with no badpix correction\n",
      "*** Running arfgen spectrumset=A1795_0097820101_pn_spectrum_ann4.fits arfset=A1795_0097820101_pn_test0_ann4.arf withrmfset=yes rmfset=A1795_0097820101_pn_spectrum_src.rmf withbadpixcorr=no extendedsource=yes\n"
     ]
    },
    {
     "name": "stderr",
     "output_type": "stream",
     "text": [
      "Execution of arfgen spectrumset=A1795_0097820101_pn_spectrum_ann4.fits arfset=A1795_0097820101_pn_test0_ann4.arf withrmfset=yes rmfset=A1795_0097820101_pn_spectrum_src.rmf withbadpixcorr=no extendedsource=yes returned 0\n"
     ]
    },
    {
     "name": "stdout",
     "output_type": "stream",
     "text": [
      "*** Generate ARF with badpix correction using flat image\n",
      "*** Running arfgen spectrumset=A1795_0097820101_pn_spectrum_ann4.fits arfset=A1795_0097820101_pn_test1_ann4.arf withrmfset=yes rmfset=A1795_0097820101_pn_spectrum_src.rmf badpixlocation=pn_evlist_clean.fits withbadpixcorr=yes detmaptype=flat extendedsource=yes\n"
     ]
    },
    {
     "name": "stderr",
     "output_type": "stream",
     "text": [
      "Execution of arfgen spectrumset=A1795_0097820101_pn_spectrum_ann4.fits arfset=A1795_0097820101_pn_test1_ann4.arf withrmfset=yes rmfset=A1795_0097820101_pn_spectrum_src.rmf badpixlocation=pn_evlist_clean.fits withbadpixcorr=yes detmaptype=flat extendedsource=yes returned 0\n"
     ]
    },
    {
     "name": "stdout",
     "output_type": "stream",
     "text": [
      "*** Extract the source spectrum in ANNULUS(26387.8,27801.0,3000.0,3600.0)\n"
     ]
    },
    {
     "name": "stderr",
     "output_type": "stream",
     "text": [
      "Execution of evselect table=pn_evlist_clean.fits withspectrumset=yes spectrumset=A1795_0097820101_pn_spectrum_ann5.fits energycolumn=PI spectralbinsize=5 withspecranges=yes specchannelmin=0 specchannelmax=20479 expression='(FLAG==0) && (PATTERN<=4) && ((X,Y) IN ANNULUS(26387.8,27801.0,3000.0,3600.0))' returned 0\n"
     ]
    },
    {
     "name": "stdout",
     "output_type": "stream",
     "text": [
      "*** Backscale the source spectrum\n"
     ]
    },
    {
     "name": "stderr",
     "output_type": "stream",
     "text": [
      "Execution of backscale spectrumset=A1795_0097820101_pn_spectrum_ann5.fits badpixlocation=pn_evlist_clean.fits returned 0\n"
     ]
    },
    {
     "name": "stdout",
     "output_type": "stream",
     "text": [
      "*** Generate ARF with no badpix correction\n",
      "*** Running arfgen spectrumset=A1795_0097820101_pn_spectrum_ann5.fits arfset=A1795_0097820101_pn_test0_ann5.arf withrmfset=yes rmfset=A1795_0097820101_pn_spectrum_src.rmf withbadpixcorr=no extendedsource=yes\n"
     ]
    },
    {
     "name": "stderr",
     "output_type": "stream",
     "text": [
      "Execution of arfgen spectrumset=A1795_0097820101_pn_spectrum_ann5.fits arfset=A1795_0097820101_pn_test0_ann5.arf withrmfset=yes rmfset=A1795_0097820101_pn_spectrum_src.rmf withbadpixcorr=no extendedsource=yes returned 0\n"
     ]
    },
    {
     "name": "stdout",
     "output_type": "stream",
     "text": [
      "*** Generate ARF with badpix correction using flat image\n",
      "*** Running arfgen spectrumset=A1795_0097820101_pn_spectrum_ann5.fits arfset=A1795_0097820101_pn_test1_ann5.arf withrmfset=yes rmfset=A1795_0097820101_pn_spectrum_src.rmf badpixlocation=pn_evlist_clean.fits withbadpixcorr=yes detmaptype=flat extendedsource=yes\n"
     ]
    },
    {
     "name": "stderr",
     "output_type": "stream",
     "text": [
      "Execution of arfgen spectrumset=A1795_0097820101_pn_spectrum_ann5.fits arfset=A1795_0097820101_pn_test1_ann5.arf withrmfset=yes rmfset=A1795_0097820101_pn_spectrum_src.rmf badpixlocation=pn_evlist_clean.fits withbadpixcorr=yes detmaptype=flat extendedsource=yes returned 0\n"
     ]
    },
    {
     "name": "stdout",
     "output_type": "stream",
     "text": [
      "*** Extract the source spectrum in ANNULUS(26387.8,27801.0,3600.0,4200.0)\n"
     ]
    },
    {
     "name": "stderr",
     "output_type": "stream",
     "text": [
      "Execution of evselect table=pn_evlist_clean.fits withspectrumset=yes spectrumset=A1795_0097820101_pn_spectrum_ann6.fits energycolumn=PI spectralbinsize=5 withspecranges=yes specchannelmin=0 specchannelmax=20479 expression='(FLAG==0) && (PATTERN<=4) && ((X,Y) IN ANNULUS(26387.8,27801.0,3600.0,4200.0))' returned 0\n"
     ]
    },
    {
     "name": "stdout",
     "output_type": "stream",
     "text": [
      "*** Backscale the source spectrum\n"
     ]
    },
    {
     "name": "stderr",
     "output_type": "stream",
     "text": [
      "Execution of backscale spectrumset=A1795_0097820101_pn_spectrum_ann6.fits badpixlocation=pn_evlist_clean.fits returned 0\n"
     ]
    },
    {
     "name": "stdout",
     "output_type": "stream",
     "text": [
      "*** Generate ARF with no badpix correction\n",
      "*** Running arfgen spectrumset=A1795_0097820101_pn_spectrum_ann6.fits arfset=A1795_0097820101_pn_test0_ann6.arf withrmfset=yes rmfset=A1795_0097820101_pn_spectrum_src.rmf withbadpixcorr=no extendedsource=yes\n"
     ]
    },
    {
     "name": "stderr",
     "output_type": "stream",
     "text": [
      "Execution of arfgen spectrumset=A1795_0097820101_pn_spectrum_ann6.fits arfset=A1795_0097820101_pn_test0_ann6.arf withrmfset=yes rmfset=A1795_0097820101_pn_spectrum_src.rmf withbadpixcorr=no extendedsource=yes returned 0\n"
     ]
    },
    {
     "name": "stdout",
     "output_type": "stream",
     "text": [
      "*** Generate ARF with badpix correction using flat image\n",
      "*** Running arfgen spectrumset=A1795_0097820101_pn_spectrum_ann6.fits arfset=A1795_0097820101_pn_test1_ann6.arf withrmfset=yes rmfset=A1795_0097820101_pn_spectrum_src.rmf badpixlocation=pn_evlist_clean.fits withbadpixcorr=yes detmaptype=flat extendedsource=yes\n"
     ]
    },
    {
     "name": "stderr",
     "output_type": "stream",
     "text": [
      "Execution of arfgen spectrumset=A1795_0097820101_pn_spectrum_ann6.fits arfset=A1795_0097820101_pn_test1_ann6.arf withrmfset=yes rmfset=A1795_0097820101_pn_spectrum_src.rmf badpixlocation=pn_evlist_clean.fits withbadpixcorr=yes detmaptype=flat extendedsource=yes returned 0\n"
     ]
    },
    {
     "name": "stdout",
     "output_type": "stream",
     "text": [
      "*** Extract the source spectrum in ANNULUS(26387.8,27801.0,4200.0,4800.0)\n"
     ]
    },
    {
     "name": "stderr",
     "output_type": "stream",
     "text": [
      "Execution of evselect table=pn_evlist_clean.fits withspectrumset=yes spectrumset=A1795_0097820101_pn_spectrum_ann7.fits energycolumn=PI spectralbinsize=5 withspecranges=yes specchannelmin=0 specchannelmax=20479 expression='(FLAG==0) && (PATTERN<=4) && ((X,Y) IN ANNULUS(26387.8,27801.0,4200.0,4800.0))' returned 0\n"
     ]
    },
    {
     "name": "stdout",
     "output_type": "stream",
     "text": [
      "*** Backscale the source spectrum\n"
     ]
    },
    {
     "name": "stderr",
     "output_type": "stream",
     "text": [
      "Execution of backscale spectrumset=A1795_0097820101_pn_spectrum_ann7.fits badpixlocation=pn_evlist_clean.fits returned 0\n"
     ]
    },
    {
     "name": "stdout",
     "output_type": "stream",
     "text": [
      "*** Generate ARF with no badpix correction\n",
      "*** Running arfgen spectrumset=A1795_0097820101_pn_spectrum_ann7.fits arfset=A1795_0097820101_pn_test0_ann7.arf withrmfset=yes rmfset=A1795_0097820101_pn_spectrum_src.rmf withbadpixcorr=no extendedsource=yes\n"
     ]
    },
    {
     "name": "stderr",
     "output_type": "stream",
     "text": [
      "Execution of arfgen spectrumset=A1795_0097820101_pn_spectrum_ann7.fits arfset=A1795_0097820101_pn_test0_ann7.arf withrmfset=yes rmfset=A1795_0097820101_pn_spectrum_src.rmf withbadpixcorr=no extendedsource=yes returned 0\n"
     ]
    },
    {
     "name": "stdout",
     "output_type": "stream",
     "text": [
      "*** Generate ARF with badpix correction using flat image\n",
      "*** Running arfgen spectrumset=A1795_0097820101_pn_spectrum_ann7.fits arfset=A1795_0097820101_pn_test1_ann7.arf withrmfset=yes rmfset=A1795_0097820101_pn_spectrum_src.rmf badpixlocation=pn_evlist_clean.fits withbadpixcorr=yes detmaptype=flat extendedsource=yes\n"
     ]
    },
    {
     "name": "stderr",
     "output_type": "stream",
     "text": [
      "Execution of arfgen spectrumset=A1795_0097820101_pn_spectrum_ann7.fits arfset=A1795_0097820101_pn_test1_ann7.arf withrmfset=yes rmfset=A1795_0097820101_pn_spectrum_src.rmf badpixlocation=pn_evlist_clean.fits withbadpixcorr=yes detmaptype=flat extendedsource=yes returned 0\n"
     ]
    },
    {
     "name": "stdout",
     "output_type": "stream",
     "text": [
      "*** Extract the source spectrum in ANNULUS(26387.8,27801.0,4800.0,5400.0)\n"
     ]
    },
    {
     "name": "stderr",
     "output_type": "stream",
     "text": [
      "Execution of evselect table=pn_evlist_clean.fits withspectrumset=yes spectrumset=A1795_0097820101_pn_spectrum_ann8.fits energycolumn=PI spectralbinsize=5 withspecranges=yes specchannelmin=0 specchannelmax=20479 expression='(FLAG==0) && (PATTERN<=4) && ((X,Y) IN ANNULUS(26387.8,27801.0,4800.0,5400.0))' returned 0\n"
     ]
    },
    {
     "name": "stdout",
     "output_type": "stream",
     "text": [
      "*** Backscale the source spectrum\n"
     ]
    },
    {
     "name": "stderr",
     "output_type": "stream",
     "text": [
      "Execution of backscale spectrumset=A1795_0097820101_pn_spectrum_ann8.fits badpixlocation=pn_evlist_clean.fits returned 0\n"
     ]
    },
    {
     "name": "stdout",
     "output_type": "stream",
     "text": [
      "*** Generate ARF with no badpix correction\n",
      "*** Running arfgen spectrumset=A1795_0097820101_pn_spectrum_ann8.fits arfset=A1795_0097820101_pn_test0_ann8.arf withrmfset=yes rmfset=A1795_0097820101_pn_spectrum_src.rmf withbadpixcorr=no extendedsource=yes\n"
     ]
    },
    {
     "name": "stderr",
     "output_type": "stream",
     "text": [
      "Execution of arfgen spectrumset=A1795_0097820101_pn_spectrum_ann8.fits arfset=A1795_0097820101_pn_test0_ann8.arf withrmfset=yes rmfset=A1795_0097820101_pn_spectrum_src.rmf withbadpixcorr=no extendedsource=yes returned 0\n"
     ]
    },
    {
     "name": "stdout",
     "output_type": "stream",
     "text": [
      "*** Generate ARF with badpix correction using flat image\n",
      "*** Running arfgen spectrumset=A1795_0097820101_pn_spectrum_ann8.fits arfset=A1795_0097820101_pn_test1_ann8.arf withrmfset=yes rmfset=A1795_0097820101_pn_spectrum_src.rmf badpixlocation=pn_evlist_clean.fits withbadpixcorr=yes detmaptype=flat extendedsource=yes\n"
     ]
    },
    {
     "name": "stderr",
     "output_type": "stream",
     "text": [
      "Execution of arfgen spectrumset=A1795_0097820101_pn_spectrum_ann8.fits arfset=A1795_0097820101_pn_test1_ann8.arf withrmfset=yes rmfset=A1795_0097820101_pn_spectrum_src.rmf badpixlocation=pn_evlist_clean.fits withbadpixcorr=yes detmaptype=flat extendedsource=yes returned 0\n"
     ]
    },
    {
     "name": "stdout",
     "output_type": "stream",
     "text": [
      "*** Extract the source spectrum in ANNULUS(26387.8,27801.0,5400.0,6000.0)\n"
     ]
    },
    {
     "name": "stderr",
     "output_type": "stream",
     "text": [
      "Execution of evselect table=pn_evlist_clean.fits withspectrumset=yes spectrumset=A1795_0097820101_pn_spectrum_ann9.fits energycolumn=PI spectralbinsize=5 withspecranges=yes specchannelmin=0 specchannelmax=20479 expression='(FLAG==0) && (PATTERN<=4) && ((X,Y) IN ANNULUS(26387.8,27801.0,5400.0,6000.0))' returned 0\n"
     ]
    },
    {
     "name": "stdout",
     "output_type": "stream",
     "text": [
      "*** Backscale the source spectrum\n"
     ]
    },
    {
     "name": "stderr",
     "output_type": "stream",
     "text": [
      "Execution of backscale spectrumset=A1795_0097820101_pn_spectrum_ann9.fits badpixlocation=pn_evlist_clean.fits returned 0\n"
     ]
    },
    {
     "name": "stdout",
     "output_type": "stream",
     "text": [
      "*** Generate ARF with no badpix correction\n",
      "*** Running arfgen spectrumset=A1795_0097820101_pn_spectrum_ann9.fits arfset=A1795_0097820101_pn_test0_ann9.arf withrmfset=yes rmfset=A1795_0097820101_pn_spectrum_src.rmf withbadpixcorr=no extendedsource=yes\n"
     ]
    },
    {
     "name": "stderr",
     "output_type": "stream",
     "text": [
      "Execution of arfgen spectrumset=A1795_0097820101_pn_spectrum_ann9.fits arfset=A1795_0097820101_pn_test0_ann9.arf withrmfset=yes rmfset=A1795_0097820101_pn_spectrum_src.rmf withbadpixcorr=no extendedsource=yes returned 0\n"
     ]
    },
    {
     "name": "stdout",
     "output_type": "stream",
     "text": [
      "*** Generate ARF with badpix correction using flat image\n",
      "*** Running arfgen spectrumset=A1795_0097820101_pn_spectrum_ann9.fits arfset=A1795_0097820101_pn_test1_ann9.arf withrmfset=yes rmfset=A1795_0097820101_pn_spectrum_src.rmf badpixlocation=pn_evlist_clean.fits withbadpixcorr=yes detmaptype=flat extendedsource=yes\n",
      "*** Done\n"
     ]
    },
    {
     "name": "stderr",
     "output_type": "stream",
     "text": [
      "Execution of arfgen spectrumset=A1795_0097820101_pn_spectrum_ann9.fits arfset=A1795_0097820101_pn_test1_ann9.arf withrmfset=yes rmfset=A1795_0097820101_pn_spectrum_src.rmf badpixlocation=pn_evlist_clean.fits withbadpixcorr=yes detmaptype=flat extendedsource=yes returned 0\n"
     ]
    }
   ],
   "source": [
    "os.chdir(pps_dir)\n",
    "#\n",
    "inst = \"pn\"\n",
    "evlist = f'pn_evlist_clean.fits'\n",
    "expr1 = \"(FLAG==0) && (PATTERN<=4)\"\n",
    "# MOS1 detector map (better for extended sources)\n",
    "simfile = \"pn_image_500_7000_sim_nodet.fits\"\n",
    "rmfset = f'{target}_{obsid}_{inst}_spectrum_src.rmf'\n",
    "# better to have the MOS1 count-rate image, so that the vignetting is not applied twice!\n",
    "#\n",
    "for i,ireg in enumerate(reg):\n",
    "    spec_name = f'{target}_{obsid}_{inst}_spectrum_ann{i}.fits'\n",
    "    #\n",
    "    #\n",
    "    print (f\"*** Extract the source spectrum in {ireg}\")\n",
    "    ev_command = f\"evselect table={evlist} withspectrumset=yes spectrumset={spec_name}\" +  \\\n",
    "    \" energycolumn=PI spectralbinsize=5 withspecranges=yes specchannelmin=0 specchannelmax=20479\" +  \\\n",
    "    f\" expression='{expr1} && ((X,Y) IN {ireg})'\"\n",
    "    #print (ev_command)\n",
    "    status = run_command(ev_command)\n",
    "    if (status != 0):\n",
    "        raise Exception\n",
    "    #\n",
    "    # Now backscale the source spectrum\n",
    "    #\n",
    "    print (\"*** Backscale the source spectrum\")\n",
    "    xcommand = f\"backscale spectrumset={spec_name} badpixlocation={evlist}\"\n",
    "    status = run_command(xcommand)\n",
    "    if (status != 0):\n",
    "        raise Exception\n",
    "    #\n",
    "    # and generate ARF for each annulus\n",
    "    #\n",
    "    #\n",
    "    print (f\"*** Generate ARF with no badpix correction\")\n",
    "    arfset = f'{target}_{obsid}_{inst}_test0_ann{i}.arf'\n",
    "    xcommand = f\"arfgen spectrumset={spec_name} arfset={arfset} withrmfset=yes rmfset={rmfset}\" + \\\n",
    "        f\" withbadpixcorr=no extendedsource=yes\"\n",
    "    print (f\"*** Running {xcommand}\")\n",
    "    status = run_command(xcommand)\n",
    "    if (status != 0):\n",
    "        raise Exception\n",
    "    print (f\"*** Generate ARF with badpix correction using flat image\")\n",
    "    arfset = f'{target}_{obsid}_{inst}_test1_ann{i}.arf'\n",
    "    xcommand = f\"arfgen spectrumset={spec_name} arfset={arfset} withrmfset=yes rmfset={rmfset}\" + \\\n",
    "        f\" badpixlocation={evlist} withbadpixcorr=yes detmaptype=flat extendedsource=yes\"\n",
    "    print (f\"*** Running {xcommand}\")\n",
    "    status = run_command(xcommand)\n",
    "    if (status != 0):\n",
    "        raise Exception\n",
    "#\n",
    "print (\"*** Done\")"
   ]
  },
  {
   "cell_type": "markdown",
   "metadata": {},
   "source": [
    "Now do the ARF ratios. For each region, the baseline is the the ARF with no bad pixel correction (`test0` in name)."
   ]
  },
  {
   "cell_type": "code",
   "execution_count": 13,
   "metadata": {},
   "outputs": [
    {
     "data": {
      "image/png": "[encoded data removed]",
      "text/plain": [
       "<Figure size 1080x720 with 1 Axes>"
      ]
     },
     "metadata": {
      "needs_background": "light"
     },
     "output_type": "display_data"
    }
   ],
   "source": [
    "fig,ax = plt.subplots(figsize=(15,10))\n",
    "#\n",
    "for j in range(1,10):\n",
    "    arfset0 = f'{target}_{obsid}_{inst}_test0_ann{j}.arf'\n",
    "    arfset1 = f'{target}_{obsid}_{inst}_test1_ann{j}.arf'\n",
    "    hdu0 = fits.open(arfset0)\n",
    "    hdu1 = fits.open(arfset1)\n",
    "    #\n",
    "    x0 = hdu0['SPECRESP'].data[\"ENERG_LO\"]\n",
    "    y0 = hdu0['SPECRESP'].data[\"SPECRESP\"]\n",
    "    #\n",
    "    x1 = hdu1['SPECRESP'].data[\"ENERG_LO\"]\n",
    "    y1 = hdu1['SPECRESP'].data[\"SPECRESP\"]\n",
    "    #\n",
    "    ratio10 = y1/y0\n",
    "    #\n",
    "    ax.plot(x0,ratio10,drawstyle='steps',label=f'annulus {j}')\n",
    "ax.set_ylim((0.8,0.94))\n",
    "ax.set_title(\"ARF ratios in annuli using  XMM-SAS v16.1.0\")\n",
    "ax.set_xlabel(\"Energy (keV)\")\n",
    "ax.set_ylabel(\"ARF Ratio10\")\n",
    "ax.grid()\n",
    "ax.legend();\n",
    "    "
   ]
  },
  {
   "cell_type": "code",
   "execution_count": null,
   "metadata": {},
   "outputs": [],
   "source": []
  }
 ],
 "metadata": {
  "kernelspec": {
   "display_name": "Python 3",
   "language": "python",
   "name": "python3"
  },
  "language_info": {
   "codemirror_mode": {
    "name": "ipython",
    "version": 3
   },
   "file_extension": ".py",
   "mimetype": "text/x-python",
   "name": "python",
   "nbconvert_exporter": "python",
   "pygments_lexer": "ipython3",
   "version": "3.6.7"
  }
 },
 "nbformat": 4,
 "nbformat_minor": 2
}
