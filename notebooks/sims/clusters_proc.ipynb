{
 "cells": [
  {
   "cell_type": "markdown",
   "metadata": {},
   "source": [
    "# Processing steps for galaxy clusters ARF analysis"
   ]
  },
  {
   "cell_type": "code",
   "execution_count": 63,
   "metadata": {},
   "outputs": [],
   "source": [
    "import os\n",
    "import subprocess\n",
    "import sys\n",
    "import glob\n",
    "\n",
    "import numpy as np\n",
    "\n",
    "from astropy.io import fits"
   ]
  },
  {
   "cell_type": "code",
   "execution_count": 54,
   "metadata": {},
   "outputs": [],
   "source": [
    "#\n",
    "# utility function\n",
    "#\n",
    "def run_command(command,verbose=True):\n",
    "    #\n",
    "    # Execute a shell command\n",
    "    #\n",
    "    try:\n",
    "        result = subprocess.run(command, shell=True,stdout=subprocess.PIPE,stderr=subprocess.STDOUT)\n",
    "        retcode=result.returncode\n",
    "        if retcode < 0:\n",
    "            if (verbose):\n",
    "                print(f\"Execution of {command} was terminated by signal {-retcode}\", file=sys.stderr)\n",
    "        else:\n",
    "            if (verbose):\n",
    "                print(f\"Execution of {command} returned {retcode}\", file=sys.stderr)\n",
    "    except OSError as e:\n",
    "        print(f\"Execution of {command} failed:\", e, file=sys.stderr)\n",
    "    return retcode"
   ]
  },
  {
   "cell_type": "markdown",
   "metadata": {},
   "source": [
    "## Setting up XMM-SAS\n",
    "\n",
    "For some reason, running the ipython magic command `!. /home/xcaldata/setsas_161.sh`, does not propagate to the session, i.e. although it prints out that SAS is set up, it is not available after the execution of the shell command. So, I have to do it manually, by setting some environment variables.\n",
    "\n",
    "The last line in the next cell, `!sasversion` should work."
   ]
  },
  {
   "cell_type": "code",
   "execution_count": 49,
   "metadata": {},
   "outputs": [],
   "source": [
    "#\n",
    "# set up XMM-SAS\n",
    "#\n",
    "# the current one is 18.0 ==> /home/xcaldata/setsas_180.sh\n",
    "# tests with XMM-SAS 16.1 for the arfgen\n",
    "#!. /home/xcaldata/setsas_161.sh\n",
    "#\n",
    "#sas_dir = \"/sas/Linux/RHEL_6.9Workstation/64/sas18_0_0\"\n",
    "sas_dir = \"/sas/Linux/RHEL_6.9Workstation/64/sas16_1_0\"\n",
    "os.environ[\"SAS_DIR\"]= sas_dir\n",
    "os.environ[\"SAS_PATH\"]=os.environ[\"SAS_DIR\"]\n",
    "os.environ[\"SAS_VERBOSITY\"]=\"4\"\n",
    "os.environ[\"SAS_SUPPRESS_WARNING\"]=\"1\"\n",
    "path = os.environ[\"PATH\"]\n",
    "os.environ[\"PATH\"] = f\"{sas_dir}/bin:{sas_dir}/binextra:{path}\"\n",
    "ld_path = os.environ[\"LD_LIBRARY_PATH\"]\n",
    "lib_path = f\"{sas_dir}/lib:{sas_dir}/libextra:{sas_dir}/libsys:{ld_path}\"\n",
    "os.environ[\"LD_LIBRARY_PATH\"] = lib_path\n",
    "#\n",
    "# check\n",
    "#print (\"PATH = \",os.environ[\"PATH\"])\n",
    "#print (\"LF_LIBRARY_PATH = \",os.environ[\"LD_LIBRARY_PATH\"])\n",
    "#for ikey in os.environ.keys():\n",
    "#    if ('SAS' in ikey):\n",
    "#        print (ikey,\" = \",os.environ[ikey])\n",
    "!sasversion"
   ]
  },
  {
   "cell_type": "code",
   "execution_count": 61,
   "metadata": {},
   "outputs": [
    {
     "name": "stdout",
     "output_type": "stream",
     "text": [
      "Found XMM-SAS.\n"
     ]
    },
    {
     "name": "stderr",
     "output_type": "stream",
     "text": [
      "Execution of sasversion returned 0\n"
     ]
    }
   ],
   "source": [
    "#\n",
    "# check for consistency the SAS version\n",
    "#\n",
    "status = run_command('sasversion')\n",
    "if (status != 0):\n",
    "    print ('XMM-SAS is not available. Cannot continue.')\n",
    "    raise Exception\n",
    "else:\n",
    "    print (\"Found XMM-SAS.\")\n",
    "#"
   ]
  },
  {
   "cell_type": "markdown",
   "metadata": {},
   "source": [
    "## Processing of a target\n",
    "\n",
    "Next cell sets up the target name, the XMM `OBS_ID` and the different paths. I usually keep the following structure in the `root_dir`:\n",
    "```\n",
    "<target>\n",
    "   <OBS_ID 1>\n",
    "       <proc>\n",
    "   <OBS_ID 2>\n",
    "       <proc>\n",
    "   ...\n",
    "```\n",
    "where in folders `<OBS_ID>` I keep the ODF files and the CCF file. While in `<proc>` I keep the processing products, like event lists, images etc. The spectral extraction regions are also kept in `<proc>` folder.\n",
    "\n",
    "For processing with different versions of SAS or calibration, I use different names for the `<proc>` folders."
   ]
  },
  {
   "cell_type": "code",
   "execution_count": 62,
   "metadata": {},
   "outputs": [
    {
     "name": "stdout",
     "output_type": "stream",
     "text": [
      "Found ODF folder: /lhome/ivaltchanov/XMM-clusters//A1795/0097820101.\n",
      "Will use /lhome/ivaltchanov/XMM-clusters//A1795/0097820101/proc_161 for the products.\n"
     ]
    }
   ],
   "source": [
    "#\n",
    "# set up the paths, the target and the OBS_ID\n",
    "#\n",
    "root_dir = \"/lhome/ivaltchanov/XMM-clusters/\"\n",
    "target=\"A1795\"\n",
    "obsid=\"0097820101\"\n",
    "# the output processing will be saved to a folder proc_161\n",
    "pps=\"proc_161\"\n",
    "odf_dir = f\"{root_dir}/{target}/{obsid}\"\n",
    "#\n",
    "if (not os.path.isdir(odf_dir)):\n",
    "    print (f\"{odf_dir} does not exist. Cannot continue.\")\n",
    "    raise FileNotFoundError\n",
    "else:\n",
    "    print (f\"Found ODF folder: {odf_dir}.\")\n",
    "#\n",
    "pps_dir = f\"{root_dir}/{target}/{obsid}/{pps}\"\n",
    "if (not os.path.isdir(pps_dir)):\n",
    "    print (f\"{pps_dir} does not exist. Will create it.\")\n",
    "    os.mkdir(pps_dir)\n",
    "else:\n",
    "    print (f\"Will use {pps_dir} for the products.\")\n",
    "#\n",
    "os.environ['SAS_ODF'] = odf_dir\n",
    "os.environ['SAS_CCFPATH'] = '/ccf/pub'"
   ]
  },
  {
   "cell_type": "markdown",
   "metadata": {},
   "source": [
    "## Generating the current calibration file\n",
    "\n",
    "Presumably the ODF files for the `target` and `OBS_ID` are already downloaded and avalable in the `odf_dir`.\n",
    "\n",
    "Then we regenerate the current calibration files (CCF) and set the environment `SAS_CCF` to point to this file."
   ]
  },
  {
   "cell_type": "code",
   "execution_count": 6,
   "metadata": {},
   "outputs": [],
   "source": [
    "# **Step 1:** Assuming the ODF is already available in odf_dir, then run cifbuild\n",
    "os.chdir(odf_dir)\n",
    "#\n",
    "# For tests with XMM-SAS v16.1, set the corretc analysis date\n",
    "#\n",
    "cif_file = f\"{odf_dir}/ccf_161.cif\"\n",
    "comm = \"cifbuild calindexset=ccf.cif analysisdate=\\\"2017-07-20T00:00:00\\\"\"\n",
    "status = run_command(comm)\n",
    "if (status != 0):\n",
    "    raise Exception\n",
    "#\n",
    "os.environ['SAS_CCF'] = cif_file"
   ]
  },
  {
   "cell_type": "markdown",
   "metadata": {},
   "source": [
    "## Generating lightcurves at high energy\n",
    "\n",
    "Some observations may suffer from periods of high backgrounds. The lightcurves at high energy (10-12 keV) are a good representation of the overall background behaviour during an observation."
   ]
  },
  {
   "cell_type": "code",
   "execution_count": 6,
   "metadata": {},
   "outputs": [],
   "source": [
    "# **Step 2:** Genrerate the lightcurves\n",
    "os.chdir(pps_dir)\n",
    "#\n",
    "evlists = glob.glob(\"*ImagingEvts.ds\")\n",
    "nev = len(evlists)\n",
    "if (nev == 0):\n",
    "    print(f\"No ImagingEvts files found in folder {pps_dir}\")\n",
    "    raise FileNotFoundError\n",
    "else:\n",
    "    print (f\"Found {nev} calibrated event lists\")\n",
    "#\n",
    "for ev in evlists:\n",
    "    iev = os.path.basename(ev)\n",
    "     print (f\"Generating lightcurve for {iev}\")\n",
    "    # the exposure\n",
    "    expo = iev.split('_')[3]\n",
    "    if ('EMOS1' in iev):\n",
    "        rate = f'rate_mos1_{expo}.fits'\n",
    "        expr = '#XMMEA_EM && (PI>10000) && (PATTERN==0)'\n",
    "    elif ('EMOS2' in iev):\n",
    "        rate = f'rate_mos2_{expo}.fits'\n",
    "        expr = '#XMMEA_EM && (PI>10000) && (PATTERN==0)'\n",
    "    elif ('EPN' in iev):\n",
    "        rate = f'rate_pn_{expo}.fits'\n",
    "        expr = ' #XMMEA_EP && (PI>10000&&PI<12000) && (PATTERN==0)'        \n",
    "    #    \n",
    "    command = f'evselect table={iev} withrateset=Y rateset={rate}' + \\\n",
    "    ' maketimecolumn=Y timebinsize=100 makeratecolumn=Y' + \\\n",
    "    f' expression=\\'{expr}\\''\n",
    "    status = run_command(command)\n",
    "    if (status != 0):\n",
    "        print (f\"Command \\\"{command}\\\" failed\")\n",
    "        raise Exception\n",
    "#"
   ]
  },
  {
   "cell_type": "markdown",
   "metadata": {},
   "source": [
    "## Filtering for good time intervals (GTI)\n",
    "\n",
    "Based on the lightcurve count rates, we select the periods where the background is below a certain threshold in counts/s. The suggested default threshold for MOS detectors is 0.35 counts/s, while for pn it's 0.4 counts/s. If the median + 3 times the median absolute deviation of the observed rate is greater than the default values, then this is the new threshold for the filtering.\n",
    "\n",
    "At the end, some diagnostics are printed out, e.g. the fraction of the good-time-interval."
   ]
  },
  {
   "cell_type": "code",
   "execution_count": null,
   "metadata": {},
   "outputs": [],
   "source": [
    "# **Step 3:** use the rate curves and select the GTI, semi-automatic\n",
    "#\n",
    "t = {}\n",
    "time_min = 1.0e10\n",
    "# get the min time, to be used for relative time\n",
    "output = \"\"\n",
    "for inst in ['mos1','mos2','pn']:\n",
    "    #\n",
    "    ratefiles = glob.glob(f\"rate_{inst}*\")\n",
    "    for j in ratefiles:\n",
    "        rate_hdu = fits.open(j)\n",
    "        t = rate_hdu['RATE'].data\n",
    "        ontime0 = rate_hdu['RATE'].header['EXPOSURE']\n",
    "        #time_min = min(np.min(rate_hdu['RATE'].data['TIME']),time_min)\n",
    "        # find the count-rate limit for filtering\n",
    "        # median + 3*MAD\n",
    "        #\n",
    "        medrate = np.median(t[\"RATE\"])\n",
    "        xmad = mad_std(t['RATE'])\n",
    "        ulimit = medrate + 3*xmad\n",
    "        if ('mos' in inst):\n",
    "            rate_lim = 0.35\n",
    "        else:\n",
    "            rate_lim = 0.4\n",
    "        #\n",
    "        use_limit = max(ulimit,rate_lim)\n",
    "        print(f\"{j}: actual rate limit to use for GTI filtering: {use_limit:.2f}\")\n",
    "        #\n",
    "        gtiset = j.replace(\"rate\",\"gti\")\n",
    "        gti_command = f'tabgtigen table={j} expression=\"RATE<={use_limit:.2f}\" gtiset={gtiset}'\n",
    "        #\n",
    "        status = run_command(gti_command)\n",
    "        if (status != 0):\n",
    "            print (f\"Command {gti_command} failed\")\n",
    "            raise Exception\n",
    "        gti_hdu = fits.open(gtiset)\n",
    "        ontime = gti_hdu[1].header['ONTIME']\n",
    "        fraction = ontime/ontime0\n",
    "        output += f\"{j}: filtered GTI {ontime:.1f} from exposure {ontime0:.1f}, GTI fraction {fraction:.3f}\\n\"\n",
    "#\n",
    "print (output)"
   ]
  },
  {
   "cell_type": "code",
   "execution_count": null,
   "metadata": {},
   "outputs": [],
   "source": [
    "# step 3a\n",
    "# plot the lightcurve and the GTI per detector\n",
    "#\n",
    "# TBD"
   ]
  },
  {
   "cell_type": "code",
   "execution_count": null,
   "metadata": {},
   "outputs": [],
   "source": [
    "# step 3b\n",
    "# if needed, merge the three GTI\n",
    "#\n",
    "# TBD"
   ]
  },
  {
   "cell_type": "markdown",
   "metadata": {},
   "source": [
    "## Create filtered event lists\n",
    "\n",
    "The filtering of the event lists is using the standard flags and either the user provided GTI file or the ones generated during the previous step. The GTI files can be per detector or a merged one."
   ]
  },
  {
   "cell_type": "code",
   "execution_count": 6,
   "metadata": {},
   "outputs": [],
   "source": [
    "#**Step 4:** Create GTI filtered event lists, using the GTI file\n",
    "#\n",
    "# GTI file from Jukka Nevalainen\n",
    "gtifile = f\"{root_dir}/{target}/{target}_GTI.fits\"\n",
    "#\n",
    "for jl in evlists:\n",
    "    expo = jl.split('_')[3]\n",
    "    if ('_EMOS1' in jl):\n",
    "        if (gtifile == None):\n",
    "            expr = f\"#XMMEA_EM && gti(gti_mos1_{expo}.fits,TIME) && (PI>150)\"\n",
    "        else:\n",
    "            expr = f\"#XMMEA_EM && gti({gtifile},TIME) && (PI>150)\"\n",
    "        inst = 'mos1'\n",
    "    elif ('_EMOS2' in jl):\n",
    "        if (gtifile == None):\n",
    "            expr = f\"#XMMEA_EM && gti(gti_mos2_{expo}.fits,TIME) && (PI>150)\"\n",
    "        else:\n",
    "            expr = f\"#XMMEA_EM && gti({gtifile},TIME) && (PI>150)\"\n",
    "        inst = 'mos2'\n",
    "    elif ('_EPN' in jl):\n",
    "        if (gtifile == None):\n",
    "            expr = f\"#XMMEA_EP && gti(gti_pn_{expo}.fits,TIME) && (PI>150)\"\n",
    "        else:\n",
    "            expr = f\"#XMMEA_EP && gti({gtifile},TIME) && (PI>150)\"\n",
    "        inst = 'pn'\n",
    "    else:\n",
    "        raise Exception(f'Cannot identify the instrument in {jl}')\n",
    "    #\n",
    "    ev_command = f'evselect table={jl} withfilteredset=Y filteredset={inst}_evlist_clean.fits' +  \\\n",
    "        f' destruct=Y keepfilteroutput=T expression=\\'{expr}\\''\n",
    "    #\n",
    "    print (f\"Filtering {inst} with GTI\")\n",
    "    status = run_command(ev_command)\n",
    "    if (status != 0):\n",
    "        print (f\"Command \\\"{ev_command}\\\" failed.\")\n",
    "        raise Exception\n",
    "#"
   ]
  },
  {
   "cell_type": "markdown",
   "metadata": {},
   "source": [
    "## Generating images\n",
    "\n",
    "Once we have the clean event lists we can use them to generate images in user-provided energy ranges. There is a large flexibility in the choices for the event selection (patterns, flags etc) and the output image properties, e.g. the pixel size. "
   ]
  },
  {
   "cell_type": "code",
   "execution_count": 6,
   "metadata": {},
   "outputs": [],
   "source": [
    "#**Step 5:** Generate images in user-selected energy range\n",
    "pi0 = 500\n",
    "pi1 = 7000\n",
    "# image binning, 80 means 4\" pixel\n",
    "bin_size = 80\n",
    "#\n",
    "print (f\"*** Generating images in band [{pi0},{pi1}] eV\")\n",
    "for inst in ['mos1','mos2','pn']:\n",
    "    evlist = f'{inst}_evlist_clean.fits'\n",
    "    if (not os.path.isfile(evlist)):\n",
    "        print(f\"Cannot find cleaned event lists for {inst}. Image will not be generated.\")\n",
    "        continue\n",
    "    image_name = f'{inst}_image_{pi0}_{pi1}.fits'\n",
    "    #\n",
    "    if ('mos' in inst):\n",
    "        expr = f'PI in [{pi0}:{pi1}] &&  #XMMEA_EM && PATTERN in [0:12]'\n",
    "    else:\n",
    "        expr = f'PI in [{pi0}:{pi1}] &&  FLAG==0 && PATTERN in [0:4]'\n",
    "    #    \n",
    "    ev_command = f'evselect table={evlist} xcolumn=X ycolumn=Y imagebinning=binSize' +  \\\n",
    "         f' ximagebinsize={bin_size} yimagebinsize={bin_size}' + \\\n",
    "         f' expression=\\'{expr}\\'' +  \\\n",
    "         f' withimageset=true imageset={image_name}'\n",
    "    status = run_command(ev_command)\n",
    "    if (status != 0):\n",
    "        raise Exception"
   ]
  },
  {
   "cell_type": "code",
   "execution_count": null,
   "metadata": {},
   "outputs": [],
   "source": [
    "# step 5a\n",
    "# Display the images\n",
    "#\n",
    "# TBD"
   ]
  },
  {
   "cell_type": "markdown",
   "metadata": {},
   "source": [
    "## Generate exposure maps, count-rate and detector mask images(optional)\n",
    "\n",
    "This step is optional but it is needed in some cases, e.g. for combining MOS and pn images into a merged one you need the count-rate image."
   ]
  },
  {
   "cell_type": "code",
   "execution_count": null,
   "metadata": {},
   "outputs": [],
   "source": [
    "# step 5b\n",
    "# generate the exposure image and the detector mask\n",
    "#\n",
    "do_detmask = True\n",
    "do_crimage = True\n",
    "print (\"*** Generating exposure maps\")\n",
    "#\n",
    "# need the attitude file\n",
    "atthk = glob.glob(\"*_AttHk.ds\")\n",
    "if (not os.path.isfile(atthk[0])):\n",
    "    print(\"Cannot find Attitude HK file, cannot continue.\")\n",
    "    raise FileNotFoundError\n",
    "#\n",
    "for inst in ['mos1','mos2','pn']:\n",
    "    evlist = f'{inst}_evlist_clean.fits'\n",
    "    image_name = f'{inst}_image_{pi0}_{pi1}.fits'\n",
    "    if (not os.path.isfile(image_name)):\n",
    "        print(\"Cannot find image {image_name}, cannot produce exposure image and detector mask.\")\n",
    "        continue\n",
    "    #\n",
    "    expfile = f\"{inst}_expimage_{pi0}_{pi1}.fits\"\n",
    "    xcommand = f'eexpmap imageset={image_name} attitudeset={atthk[0]}' + \\\n",
    "    f' eventset={evlist} expimageset={expfile} pimin={pi0} pimax={pi1}'\n",
    "    status = run_command(xcommand)\n",
    "    if (status != 0):\n",
    "        raise Exception\n",
    "    #\n",
    "    # now the detector map\n",
    "    #\n",
    "    if (do_detmask):\n",
    "        detfile = f\"{inst}_detmask_{pi0}_{pi1}.fits\"\n",
    "        xcommand = f'emask expimageset={expfile} detmaskset={detfile}' + \\\n",
    "        ' threshold1=0.3 threshold2=0.5'\n",
    "        status = run_command(xcommand)\n",
    "        if (status != 0):\n",
    "            raise Exception\n",
    "    #\n",
    "    # now the count-rate image\n",
    "    #\n",
    "    if (do_crimage):\n",
    "        crfile = f\"{inst}_crimage_{pi0}_{pi1}.fits\"\n",
    "        hdu0 = fits.open(image_name)\n",
    "        hdu1 = fits.open(expfile)\n",
    "        # avoid division by zero \n",
    "        crdata = np.divide(hdu0[0].data,hdu1[0].data,where=(hdu1[0].data > 0.0))\n",
    "        # the count-rate image will have the same header as the original image\n",
    "        hdu0[0].data = cts\n",
    "        hdu0.writeto(crfile)\n",
    "        hdu1.close()\n",
    "        hdu0.close()\n",
    "#"
   ]
  },
  {
   "cell_type": "markdown",
   "metadata": {},
   "source": [
    "## Instrument specific part, only processing EPIC-pn\n",
    "\n",
    "### Source spectrum extraction\n"
   ]
  },
  {
   "cell_type": "code",
   "execution_count": 6,
   "metadata": {},
   "outputs": [],
   "source": [
    "#**Step 6:** Generate a spectrum from a user provided region file. This also runs `backscale` on the source spectrum.\n",
    "#\n",
    "# this is per instrument and we only process PN at this stage.\n",
    "#\n",
    "inst = \"pn\"\n",
    "regfile = f\"{pps_dir}/{target}_{obsid}_src_region.reg\"\n",
    "with open(regfile) as reg:\n",
    "    reg_line = reg.readline()\n",
    "src_reg = reg_line.strip().split()[0]\n",
    "#\n",
    "print (src_reg)\n",
    "#\n",
    "evlist = f'{inst}_evlist_clean.fits'\n",
    "spec_name = f'{target}_{obsid}_{inst}_spectrum_src.fits'\n",
    "#\n",
    "if ('pn' in inst):\n",
    "    spec_chan_max = 20479\n",
    "    expr1 = \"(FLAG==0) && (PATTERN<=4)\"\n",
    "else:\n",
    "    spec_chan_max = 11999\n",
    "    expr1 = \"#XMMEA_EM && (PATTERN<=12)\"\n",
    "#\n",
    "ev_command = f\"evselect table={evlist} withspectrumset=yes spectrumset={spec_name}\" +  \\\n",
    "f\" energycolumn=PI spectralbinsize=5 withspecranges=yes specchannelmin=0 specchannelmax={spec_chan_max}\" +  \\\n",
    "f\" expression='{expr1} && ((X,Y) IN {src_reg})'\"\n",
    "status = run_command(ev_command)\n",
    "if (status != 0):\n",
    "    raise Exception\n",
    "#\n",
    "# Now backscale the source spectrum\n",
    "#\n",
    "print (\"*** Backscale the source spectrum\")\n",
    "xcommand = f\"backscale spectrumset={spec_name} badpixlocation={evlist}\"\n",
    "status = run_command(xcommand)\n",
    "if (status != 0):\n",
    "    raise Exception"
   ]
  },
  {
   "cell_type": "markdown",
   "metadata": {},
   "source": [
    "### Background spectrum extraction"
   ]
  },
  {
   "cell_type": "code",
   "execution_count": null,
   "metadata": {},
   "outputs": [],
   "source": [
    "#**Step 6b:** Generate the background spectrum from a user provided region file. This also runs `backscale` on the source spectrum.\n",
    "#\n",
    "# this is per instrument and we only process PN at this stage.\n",
    "#\n",
    "inst = \"pn\"\n",
    "regfile = f\"{pps_dir}/{target}_{obsid}_bkg_region.reg\"\n",
    "with open(regfile) as reg:\n",
    "    reg_line = reg.readline()\n",
    "src_reg = reg_line.strip().split()[0]\n",
    "#\n",
    "print (src_reg)\n",
    "#\n",
    "evlist = f'{inst}_evlist_clean.fits'\n",
    "spec_name = f'{target}_{obsid}_{inst}_spectrum_bkg.fits'\n",
    "#\n",
    "if ('pn' in inst):\n",
    "    spec_chan_max = 20479\n",
    "    expr1 = \"(FLAG==0) && (PATTERN<=4)\"\n",
    "else:\n",
    "    spec_chan_max = 11999\n",
    "    expr1 = \"#XMMEA_EM && (PATTERN<=12)\"\n",
    "#\n",
    "ev_command = f\"evselect table={evlist} withspectrumset=yes spectrumset={spec_name}\" +  \\\n",
    "f\" energycolumn=PI spectralbinsize=5 withspecranges=yes specchannelmin=0 specchannelmax={spec_chan_max}\" +  \\\n",
    "f\" expression='{expr1} && ((X,Y) IN {src_reg})'\"\n",
    "status = run_command(ev_command)\n",
    "if (status != 0):\n",
    "    raise Exception\n",
    "#\n",
    "# Now backscale the source spectrum\n",
    "#\n",
    "print (\"*** Backscale the source spectrum\")\n",
    "xcommand = f\"backscale spectrumset={spec_name} badpixlocation={evlist}\"\n",
    "status = run_command(xcommand)\n",
    "if (status != 0):\n",
    "    raise Exception"
   ]
  },
  {
   "cell_type": "markdown",
   "metadata": {},
   "source": [
    "### Generate the RMF for the source spectrum"
   ]
  },
  {
   "cell_type": "code",
   "execution_count": 6,
   "metadata": {},
   "outputs": [],
   "source": [
    "#**Step 7:** Generate an RMF file for the source spectrum\n",
    "evlist = f'{inst}_evlist_clean.fits'\n",
    "if (not os.path.isfile(evlist)):\n",
    "    print(\"Cannot find cleaned event lists\")\n",
    "    raise FileNotFoundError\n",
    "spec_name = f'{target}_{obsid}_{inst}_spectrum_src.fits'\n",
    "if (not os.path.isfile(spec_name)):\n",
    "    print (f\"Cannot find source spectrum {spec_name}\")\n",
    "    raise FileNotFoundError\n",
    "#\n",
    "rmfset = f'{target}_{obsid}_{inst}_spectrum_src.rmf'\n",
    "#\n",
    "xcommand = f\"rmfgen spectrumset={spec_name} rmfset={rmfset}\"\n",
    "print (f\"*** Running {xcommand}\")\n",
    "status = run_command(xcommand)\n",
    "if (status != 0):\n",
    "    raise Exception"
   ]
  },
  {
   "cell_type": "markdown",
   "metadata": {},
   "source": [
    "### Generate the ARF for the source extraction region\n",
    "\n",
    "For extended sources, the parameters should be changed correspondingly."
   ]
  },
  {
   "cell_type": "code",
   "execution_count": 6,
   "metadata": {},
   "outputs": [],
   "source": [
    "#**Step 8:** Generate an RMF file for the source spectrum\n",
    "# now generate the ARF\n",
    "arfset = f'{target}_{obsid}_{inst}_spectrum_src.arf'\n",
    "# flat detector map (not good for extended sources)\n",
    "#xcommand = f\"arfgen spectrumset={spec_name} arfset={arfset} withrmfset=yes rmfset={rmfset}\" + \\\n",
    "#    f\" badpixlocation={evlist} detmaptype=flat\"\n",
    "#\n",
    "# MOS1 detector map (better for extended sources)\n",
    "mos1file = \"mos1_image_500_7000.fits\"\n",
    "# better to have the MOS1 count-rate image, so that the vignetting is not applied twice!\n",
    "#\n",
    "xcommand = f\"arfgen spectrumset={spec_name} arfset={arfset} withrmfset=yes rmfset={rmfset}\" + \\\n",
    "    f\" badpixlocation={evlist} detmaptype=dataset detmaparray={mos1file} extendedsource=yes\"\n",
    "print (f\"*** Running {xcommand}\")\n",
    "status = run_command(xcommand)\n",
    "if (status != 0):\n",
    "    raise Exception"
   ]
  },
  {
   "cell_type": "code",
   "execution_count": null,
   "metadata": {},
   "outputs": [],
   "source": []
  }
 ],
 "metadata": {
  "kernelspec": {
   "display_name": "Python 3",
   "language": "python",
   "name": "python3"
  },
  "language_info": {
   "codemirror_mode": {
    "name": "ipython",
    "version": 3
   },
   "file_extension": ".py",
   "mimetype": "text/x-python",
   "name": "python",
   "nbconvert_exporter": "python",
   "pygments_lexer": "ipython3",
   "version": "3.6.7"
  }
 },
 "nbformat": 4,
 "nbformat_minor": 2
}
