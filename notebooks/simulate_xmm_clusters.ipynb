{
 "cells": [
  {
   "cell_type": "markdown",
   "metadata": {},
   "source": [
    "# Simulate XMM EPIC images with double King profiles\n",
    "\n",
    "Parameters taken from Jukka Nevalainen for Abell 1795\n",
    "\n",
    "**Requirements**: \n",
    "* python 3.7 and the following packages: `astropy`, `photutils`, `APLpy`\n",
    "* XMM EPIC images for each instrument and band\n",
    "* XMM EPIC detector mask images for each instrument and band\n",
    "\n",
    "The detector mask can be created with `XMM-SAS` using the image and the expomap.\n",
    "\n",
    "Author: Ivan Valtchanov, ESAC, Oct 2018"
   ]
  },
  {
   "cell_type": "code",
   "execution_count": 19,
   "metadata": {},
   "outputs": [],
   "source": [
    "from astropy.io import fits\n",
    "from astropy.nddata import Cutout2D\n",
    "from astropy.wcs import WCS\n",
    "from astropy.coordinates import SkyCoord\n",
    "from astropy import units as u\n",
    "\n",
    "import matplotlib.pylab as plt\n",
    "\n",
    "import os\n",
    "import numpy as np\n",
    "\n",
    "import aplpy\n",
    "\n",
    "from photutils import SkyCircularAperture, SkyCircularAnnulus, aperture_photometry"
   ]
  },
  {
   "cell_type": "code",
   "execution_count": 20,
   "metadata": {},
   "outputs": [],
   "source": [
    "import warnings\n",
    "warnings.simplefilter(action='ignore', category=FutureWarning)"
   ]
  },
  {
   "cell_type": "markdown",
   "metadata": {},
   "source": [
    "The radially symmetric doble-$\\beta$ model we use:\n",
    "\n",
    "$S(r) = S_{cool}(0)\\left[ 1 - \\left(r/r_{cool}\\right)^2\\right]^{0.5-3\\beta} + S_{amb}(0)\\left[ 1 - \\left(r/r_{amb}\\right)^2\\right]^{0.5-3\\beta}$ \n",
    "\n",
    "The parameters are explained in the comments to the function."
   ]
  },
  {
   "cell_type": "code",
   "execution_count": 21,
   "metadata": {},
   "outputs": [],
   "source": [
    "def king2betaX(xin,yin,s0_cool,s0_amb,r_cool,r_amb,beta_cool,beta_amb):\n",
    "    #\n",
    "    # (xin, yin) are the input coordinates\n",
    "    # The following prarameters are for the two components: \n",
    "    # `cool` is for the central cool core region, `amb` is for the ambient region\n",
    "    # s0_cool, s0_amb are the normalisations for each component (in cts/s/arcmin^2)\n",
    "    # r_cool,r_amb are the characteristic scales for each component (in arcmin)\n",
    "    # beta_cool,beta_amb are the slopes for each component\n",
    "    #\n",
    "    rx = np.sqrt(xin*xin + yin*yin)\n",
    "    r2_cool = np.power((rx/r_cool),2)\n",
    "    r2_amb = np.power((rx/r_amb),2)\n",
    "    #\n",
    "    bx1 = 0.5 - 3*beta_cool\n",
    "    bx2 = 0.5 - 3.0*beta_amb\n",
    "    scool = s0_cool*np.power((1.0 + r2_cool),bx1)\n",
    "    samb = s0_amb*np.power((1.0 + r2_amb),bx2)\n",
    "    #\n",
    "    total = scool + samb\n",
    "    return total\n"
   ]
  },
  {
   "cell_type": "markdown",
   "metadata": {},
   "source": [
    "## 1. Read the image and the detector mask"
   ]
  },
  {
   "cell_type": "code",
   "execution_count": 22,
   "metadata": {},
   "outputs": [],
   "source": [
    "#\n",
    "# set up the working directory and the instrument to simulate\n",
    "#\n",
    "wdir =  '../data'\n",
    "#\n",
    "# instrument\n",
    "#\n",
    "instrument = \"pn\"\n",
    "#instrument = \"mos1\"\n",
    "#instrument = \"mos2\""
   ]
  },
  {
   "cell_type": "code",
   "execution_count": 23,
   "metadata": {},
   "outputs": [],
   "source": [
    "#\n",
    "# read the image and the detector mask, change the names to match the settings\n",
    "#\n",
    "image = f'{wdir}/{instrument}_image_500_7000.fits.gz'\n",
    "detmask = f'{wdir}/{instrument}_detmask_500_7000.fits.gz'\n",
    "#\n",
    "# read the FITS files\n",
    "hdu1 = fits.open(image)\n",
    "hdu2 = fits.open(detmask)"
   ]
  },
  {
   "cell_type": "markdown",
   "metadata": {},
   "source": [
    "## 2. Generate a grid\n",
    "\n",
    "The grid over which the surface brighness will be calulated. This is in pixels and the clusyer centre will have grid coordinates (0,0)."
   ]
  },
  {
   "cell_type": "code",
   "execution_count": 24,
   "metadata": {},
   "outputs": [
    {
     "name": "stderr",
     "output_type": "stream",
     "text": [
      "WARNING: FITSFixedWarning: RADECSYS= 'FK5 ' / World coord. system for this file \n",
      "the RADECSYS keyword is deprecated, use RADESYSa. [astropy.wcs.wcs]\n"
     ]
    }
   ],
   "source": [
    "#\n",
    "# get the WCS of the image and set up the centre of the cluster\n",
    "#\n",
    "wcs = WCS(hdu1[0].header)\n",
    "center = SkyCoord(207.2208333,26.59027778,unit=(u.deg,u.deg),frame='icrs')"
   ]
  },
  {
   "cell_type": "code",
   "execution_count": 25,
   "metadata": {},
   "outputs": [],
   "source": [
    "nx,ny = hdu1[0].data.shape\n",
    "y, x = np.mgrid[0:ny, 0:nx]\n",
    "xy = wcs.wcs_world2pix(center.ra.value,center.dec.value,1)\n",
    "y = y - xy[1]\n",
    "x = x - xy[0]"
   ]
  },
  {
   "cell_type": "code",
   "execution_count": 26,
   "metadata": {},
   "outputs": [
    {
     "name": "stdout",
     "output_type": "stream",
     "text": [
      "2592 2592\n"
     ]
    }
   ],
   "source": [
    "print (nx,ny)"
   ]
  },
  {
   "cell_type": "markdown",
   "metadata": {},
   "source": [
    "## 3. Evaluate the profile on the grid\n",
    "\n"
   ]
  },
  {
   "cell_type": "code",
   "execution_count": 27,
   "metadata": {},
   "outputs": [],
   "source": [
    "# will have to convert the model parameters from arcmin to pixels\n",
    "arcmin2pix = wcs.pixel_scale_matrix[1,1]*60.0\n",
    "#\n",
    "rcool = 0.65 # arcmin\n",
    "rcore = 2.45 # arcmin\n",
    "rcool_pix = 0.65/arcmin2pix # pixels\n",
    "rcore_pix = 2.45/arcmin2pix # pixels\n",
    "#\n",
    "betac = 0.72\n",
    "betaa = 0.72\n",
    "#\n",
    "s0c = 6.3 # cts/s/arcmin^2\n",
    "s0a = 0.83 # cts/s/arcmin^2\n",
    "s0c_pix = 6.3/(arcmin2pix*arcmin2pix) # cts/s/pix\n",
    "s0a_pix = 0.83/(arcmin2pix*arcmin2pix) # cts/s/pix\n",
    "#\n",
    "profile = king2betaX(x,y,s0c_pix,s0a_pix,rcool_pix,rcore_pix,betac,betaa)\n",
    "#"
   ]
  },
  {
   "cell_type": "markdown",
   "metadata": {},
   "source": [
    "## 4. Save the simulated images\n",
    "\n",
    "The simulated image will replace the image HDU of the original. There are two files on output: one with the ideal profile with no gaps (`simulated_no_mask` in name) and another one, multiplied with the detector mask (only `simulated` in name)."
   ]
  },
  {
   "cell_type": "code",
   "execution_count": 28,
   "metadata": {},
   "outputs": [],
   "source": [
    "# first save without detector mask\n",
    "hdu1[0].data = profile\n",
    "outfile1 = f'{wdir}/{instrument}_500_7000_simulated_nomask.fits'\n",
    "hdu1.writeto(outfile1,overwrite=True)\n",
    "# now with the detmask\n",
    "profile2 = profile*hdu2['MASK'].data\n",
    "hdu1[0].data = profile2\n",
    "outfile2 = f'{wdir}/{instrument}_500_7000_simulated.fits'\n",
    "hdu1.writeto(outfile2,overwrite=True)"
   ]
  },
  {
   "cell_type": "markdown",
   "metadata": {},
   "source": [
    "## 5. Aperture photmetry\n",
    "\n",
    "We use `photutiuls` package to integrate the counts within a used provided aperture. The following 3 quantities are derived:\n",
    "\n",
    "1. The total counts in the ideal (no detector gaps) simulated image.\n",
    "2. The total counts in masked image (with detector gaps) simulated image.\n",
    "3. The total counts in the mask image. This will give the fraction of masked pixels within the aperture.\n"
   ]
  },
  {
   "cell_type": "code",
   "execution_count": 29,
   "metadata": {},
   "outputs": [],
   "source": [
    "# define the aperture\n",
    "aperture = SkyCircularAperture(center, r=4. * u.arcmin)\n",
    "# the aperture radius in pixels\n",
    "aper_pix = aperture.to_pixel(wcs)\n",
    "# the aperture area in pixels\n",
    "aper_area = aperture.to_pixel(wcs).area()"
   ]
  },
  {
   "cell_type": "code",
   "execution_count": 30,
   "metadata": {},
   "outputs": [
    {
     "name": "stdout",
     "output_type": "stream",
     "text": [
      "Total flux in aperture, simulated ideal image: 326473193.6987109, 0.9999924538365333 (center method)\n"
     ]
    }
   ],
   "source": [
    "#\n",
    "# now measure the aperture flux in the ideal image\n",
    "#\n",
    "photo1 = aperture_photometry(profile, aperture,wcs=wcs)\n",
    "photo1q = aperture_photometry(profile, aperture,wcs=wcs,method='center')\n",
    "ap_flux1 = photo1['aperture_sum'][0]\n",
    "ap_flux1q = photo1q['aperture_sum'][0]\n",
    "print (\"Total flux in aperture, simulated ideal image: {}, {} (center method)\".format(ap_flux1,ap_flux1q/ap_flux1))"
   ]
  },
  {
   "cell_type": "code",
   "execution_count": 31,
   "metadata": {},
   "outputs": [
    {
     "name": "stdout",
     "output_type": "stream",
     "text": [
      "Total flux in aperture, simulated image with pn mask: 290804360.70642823, 0.9999958064522175 (center method)\n"
     ]
    }
   ],
   "source": [
    "#\n",
    "# image with detector mask\n",
    "#\n",
    "photo2 = aperture_photometry(profile2, aperture,wcs=wcs)\n",
    "ap_flux2 = photo2['aperture_sum'][0]\n",
    "photo2q = aperture_photometry(profile2, aperture,wcs=wcs,method='center')\n",
    "ap_flux2q = photo2q['aperture_sum'][0]\n",
    "print (\"Total flux in aperture, simulated image with {} mask: {}, {} (center method)\".format(instrument,ap_flux2,ap_flux2q/ap_flux2))"
   ]
  },
  {
   "cell_type": "code",
   "execution_count": 32,
   "metadata": {},
   "outputs": [
    {
     "name": "stdout",
     "output_type": "stream",
     "text": [
      "Total flux in aperture, pn detector mask: 153719.5674526751, 0.9999767924621814 (method center)\n"
     ]
    }
   ],
   "source": [
    "#\n",
    "# the detector mask\n",
    "#\n",
    "photo3 = aperture_photometry(hdu2['MASK'].data, aperture,wcs=wcs)\n",
    "ap_flux3 = photo3['aperture_sum'][0]\n",
    "photo3q = aperture_photometry(hdu2['MASK'].data, aperture,wcs=wcs,method='center')\n",
    "ap_flux3q = photo3q['aperture_sum'][0]\n",
    "print (\"Total flux in aperture, {} detector mask: {}, {} (method center)\".format(instrument,ap_flux3,ap_flux3q/ap_flux3))"
   ]
  },
  {
   "cell_type": "code",
   "execution_count": 33,
   "metadata": {},
   "outputs": [
    {
     "name": "stdout",
     "output_type": "stream",
     "text": [
      "pn Masked/non-masked fraction (%): 15.1\n",
      "pn Masked/non-masked image flux(%): 10.9\n"
     ]
    }
   ],
   "source": [
    "print (\"{} Masked/non-masked fraction (%): {:.1f}\".format(instrument,100*(1-ap_flux3/aper_area)))\n",
    "print (\"{} Masked/non-masked image flux(%): {:.1f}\".format(instrument,100*(1-ap_flux2/ap_flux1)))"
   ]
  },
  {
   "cell_type": "code",
   "execution_count": 34,
   "metadata": {},
   "outputs": [
    {
     "name": "stdout",
     "output_type": "stream",
     "text": [
      "Ratio of predicted flux with image/flat: 4.63 %\n"
     ]
    }
   ],
   "source": [
    "#\n",
    "# corrected fluxes:\n",
    "#\n",
    "flat_corr = ap_flux3/aper_area\n",
    "image_corr = ap_flux2/ap_flux1\n",
    "corr1 = ap_flux1/flat_corr\n",
    "corr2 = ap_flux1/image_corr\n",
    "#\n",
    "# ratio:\n",
    "print (\"Ratio of predicted flux with image/flat: {:.2f} %\".format(100*(1-corr2/corr1)))"
   ]
  },
  {
   "cell_type": "markdown",
   "metadata": {},
   "source": [
    "## 6. Plot the results\n",
    "\n",
    "We show, from left to right:\n",
    "1. The original XMM EPIC image\n",
    "2. The ideal simulated image\n",
    "3. The simulated image with the detector mask\n",
    "4. The detector mask: black is masked (zero value).\n",
    "\n",
    "The aperture is indicated with a black circle, the cluster centre with a small red circle. "
   ]
  },
  {
   "cell_type": "code",
   "execution_count": 35,
   "metadata": {},
   "outputs": [
    {
     "name": "stderr",
     "output_type": "stream",
     "text": [
      "WARNING: FITSFixedWarning: RADECSYS= 'FK5 ' / World coord. system for this file \n",
      "the RADECSYS keyword is deprecated, use RADESYSa. [astropy.wcs.wcs]\n"
     ]
    },
    {
     "name": "stdout",
     "output_type": "stream",
     "text": [
      "INFO: Auto-setting vmin to -1.000e-01 [aplpy.core]\n",
      "INFO: Auto-setting vmax to  1.110e+00 [aplpy.core]\n"
     ]
    },
    {
     "data": {
      "image/png": "[encoded data removed]",
      "text/plain": [
       "<Figure size 1000x1000 with 4 Axes>"
      ]
     },
     "metadata": {
      "needs_background": "light"
     },
     "output_type": "display_data"
    }
   ],
   "source": [
    "fig = plt.figure(figsize=(10,10),dpi=100)\n",
    "f0 = aplpy.FITSFigure(image, figure=fig, subplot=[0.1,0.1,0.2,0.2])\n",
    "f0.show_colorscale(vmin=1,vmax=100,stretch='log')\n",
    "f0.set_title('{} Observed'.format(instrument))\n",
    "f0.add_grid()\n",
    "f0.grid.set_color('cyan')\n",
    "f0.grid.set_alpha(0.5)\n",
    "f0.show_circles(aperture.positions.ra.value,aperture.positions.dec.value,\\\n",
    "                    aperture.r.value/60.0,edgecolor='black')\n",
    "f0.recenter(aperture.positions.ra.value,aperture.positions.dec.value,radius=8.0/60.0)\n",
    "f0.show_markers(aperture.positions.ra.value,aperture.positions.dec.value)\n",
    "f0.tick_labels.set_xformat('hh:mm:ss.s')\n",
    "f0.tick_labels.set_yformat('dd:mm:ss')\n",
    "f0.hide_ytick_labels()\n",
    "f0.hide_xtick_labels()\n",
    "#\n",
    "f1 = aplpy.FITSFigure(outfile1, figure=fig, subplot=[0.31,0.1,0.2,0.2])\n",
    "f1.show_colorscale(vmin=1,vmax=100,stretch='log')\n",
    "f1.set_title('{} Simulated'.format(instrument))\n",
    "f1.add_grid()\n",
    "f1.grid.set_color('cyan')\n",
    "f1.grid.set_alpha(0.5)\n",
    "f1.show_circles(aperture.positions.ra.value,aperture.positions.dec.value,\\\n",
    "                    aperture.r.value/60.0,edgecolor='black')\n",
    "f1.recenter(aperture.positions.ra.value,aperture.positions.dec.value,radius=8.0/60.0)\n",
    "f1.show_markers(aperture.positions.ra.value,aperture.positions.dec.value)\n",
    "f1.tick_labels.set_xformat('hh:mm:ss.s')\n",
    "f1.tick_labels.set_yformat('dd:mm:ss')\n",
    "f1.axis_labels.hide_y()\n",
    "f1.hide_ytick_labels()\n",
    "f1.hide_xtick_labels()\n",
    "#\n",
    "f2 = aplpy.FITSFigure(outfile2, figure=fig, subplot=[0.52,0.1,0.2,0.2])\n",
    "f2.show_colorscale(vmin=1,vmax=100,stretch='log')\n",
    "f2.set_title('{} Simulated + detmask'.format(instrument))\n",
    "f2.add_grid()\n",
    "f2.grid.set_color('cyan')\n",
    "f2.grid.set_alpha(0.5)\n",
    "f2.show_circles(aperture.positions.ra.value,aperture.positions.dec.value,\\\n",
    "                    aperture.r.value/60.0,edgecolor='black')\n",
    "f2.recenter(aperture.positions.ra.value,aperture.positions.dec.value,radius=8.0/60.0)\n",
    "f2.show_markers(aperture.positions.ra.value,aperture.positions.dec.value)\n",
    "f2.tick_labels.set_xformat('hh:mm:ss.s')\n",
    "f2.tick_labels.set_yformat('dd:mm:ss')\n",
    "f2.axis_labels.hide_y()\n",
    "f2.hide_xtick_labels()\n",
    "f2.hide_ytick_labels()\n",
    "#\n",
    "f3 = aplpy.FITSFigure(detmask, hdu=1,figure=fig, subplot=[0.73,0.1,0.2,0.2])\n",
    "f3.show_grayscale()\n",
    "f3.set_title('{} detmask'.format(instrument))\n",
    "f3.add_grid()\n",
    "f3.grid.set_color('cyan')\n",
    "f3.grid.set_alpha(0.5)\n",
    "f3.show_circles(aperture.positions.ra.value,aperture.positions.dec.value,\\\n",
    "                    aperture.r.value/60.0,edgecolor='yellow')\n",
    "f3.recenter(aperture.positions.ra.value,aperture.positions.dec.value,radius=8.0/60.0)\n",
    "f3.show_markers(aperture.positions.ra.value,aperture.positions.dec.value)\n",
    "f3.tick_labels.set_xformat('hh:mm:ss.s')\n",
    "f3.tick_labels.set_yformat('dd:mm:ss')\n",
    "f3.axis_labels.hide_y()\n",
    "f3.hide_xtick_labels()\n",
    "f3.hide_ytick_labels()\n",
    "#\n"
   ]
  },
  {
   "cell_type": "code",
   "execution_count": null,
   "metadata": {},
   "outputs": [],
   "source": []
  }
 ],
 "metadata": {
  "kernelspec": {
   "display_name": "Python 3",
   "language": "python",
   "name": "python3"
  },
  "language_info": {
   "codemirror_mode": {
    "name": "ipython",
    "version": 3
   },
   "file_extension": ".py",
   "mimetype": "text/x-python",
   "name": "python",
   "nbconvert_exporter": "python",
   "pygments_lexer": "ipython3",
   "version": "3.7.0"
  }
 },
 "nbformat": 4,
 "nbformat_minor": 2
}
