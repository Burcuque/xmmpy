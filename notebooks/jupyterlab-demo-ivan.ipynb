{
 "cells": [
  {
   "cell_type": "markdown",
   "metadata": {
    "slideshow": {
     "slide_type": "slide"
    }
   },
   "source": [
    "## <span style=\"font-family:Papyrus; font-size:2em;\">Intro/demonstrating the usefulness of jupyter-lab notebooks</span>\n",
    "\n",
    "\n",
    "<span style=\"font-family:Papyrus; font-size:1.5em;\">Ivan Valtchanov, XMM SOC <br> 20 Mar 2020</span>\n",
    "\n"
   ]
  },
  {
   "cell_type": "markdown",
   "metadata": {
    "slideshow": {
     "slide_type": "slide"
    }
   },
   "source": [
    "## Basics\n",
    "\n",
    "[Jupyter project](https://jupyter.org/)\n",
    "\n",
    ">JupyterLab is a web-based interactive development environment for Jupyter notebooks, code, and data. JupyterLab is flexible: configure and arrange the user interface to support a wide range of workflows in data science, scientific computing, and machine learning. JupyterLab is extensible and modular: write plugins that add new components and integrate with existing ones."
   ]
  },
  {
   "cell_type": "markdown",
   "metadata": {
    "slideshow": {
     "slide_type": "slide"
    }
   },
   "source": [
    "* In browser\n",
    "* Mix of code and text cells\n",
    "   * Text cells are in MarkDown .md format, allow LaTeX formulas too, inline like this: $f(x) = f_0\\times e^{-x^2/2\\sigma^2}$ or on a separate line: \n",
    "   \n",
    "   $$e^x=\\sum_{i=0}^\\infty \\frac{1}{i!}x^i$$\n",
    "   \n",
    "* **Not only python:** there are many kernels available, e.g. C++, IDL, R, JavaScript, Java,...\n",
    "* Jupyterlab extensions: spell check, presentation mode, etc.\n",
    "* Exporting a notebook: many options, _see later with the demo_."
   ]
  },
  {
   "cell_type": "markdown",
   "metadata": {
    "slideshow": {
     "slide_type": "slide"
    }
   },
   "source": [
    "## Considerations\n",
    "\n",
    "### Repeatability, traceability and preservation\n",
    "\n",
    "* Code, notes and results can reside in the same document. \n",
    "\n",
    "E.g. while doing calibration data analysis: the code and the release note can be one and the same document. The release note can be static via PDF export.\n",
    "\n",
    "* Export to PDF/HTML slides (e.g. presentation)"
   ]
  },
  {
   "cell_type": "markdown",
   "metadata": {
    "slideshow": {
     "slide_type": "slide"
    }
   },
   "source": [
    "### Examples\n",
    "\n",
    "* My [recent analysis notebook](../../cti/notebooks/cti54a0_gauss_Feb2020.ipynb) on the PN Large Window mode energy scale, the long-term CTI analysis and implementation of a correction.\n",
    "   * Testing the new `EPN_CTI_0053/0054.CCF` files: [notebook](../../cti/notebooks/check_cti_testing_results_mac.ipynb)\n",
    "* Analysis of 4XMM-DR9 sources with multiple detections, in [this notebook](../../vignetting/notebooks/lusso_sources_work1.ipynb).\n",
    "* [Example](pyxspec_demo1.ipynb) of using [`pyXspec`](https://heasarc.gsfc.nasa.gov/xanadu/xspec/python/html/) to fit spectra."
   ]
  }
 ],
 "metadata": {
  "kernelspec": {
   "display_name": "Python 3",
   "language": "python",
   "name": "python3"
  },
  "language_info": {
   "codemirror_mode": {
    "name": "ipython",
    "version": 3
   },
   "file_extension": ".py",
   "mimetype": "text/x-python",
   "name": "python",
   "nbconvert_exporter": "python",
   "pygments_lexer": "ipython3",
   "version": "3.7.4"
  }
 },
 "nbformat": 4,
 "nbformat_minor": 4
}
