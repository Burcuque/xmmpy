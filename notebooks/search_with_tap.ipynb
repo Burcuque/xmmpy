{
 "cells": [
  {
   "cell_type": "markdown",
   "metadata": {},
   "source": [
    "## Finding Herschel `OBSID` for a sky source\n",
    "\n",
    "Using the TAP interface to the Herschel Science Archive"
   ]
  },
  {
   "cell_type": "code",
   "execution_count": null,
   "metadata": {},
   "outputs": [],
   "source": [
    "from astropy"
   ]
  },
  {
   "cell_type": "code",
   "execution_count": null,
   "metadata": {},
   "outputs": [],
   "source": [
    "#\n",
    "ra = \"12h10m32.5s\"\n",
    "dec= \"+39d24m20.0s\"\n",
    "c = SkyCoord(ra, dec, frame='icrs')"
   ]
  },
  {
   "cell_type": "code",
   "execution_count": null,
   "metadata": {},
   "outputs": [],
   "source": [
    "#\n",
    "#\n",
    "\n",
    "radius = 15.0/60.0 # 15 arcmin circle\n",
    "tap_cat = \"v_public_observations\"\n",
    "circle = f\"circle('ICRS',{c.ra.value:.4f},{c.dec.value:.4f},{radius})\"\n",
    "dist = f\"DISTANCE(POINT('ICRS',t2.ra,t2.dec),POINT('ICRS',{c.ra.value:.4f},{c.dec.value:.4f}))\"\n",
    "# \n",
    "print (f\"Search in {tap_cat} for observations intersecting with {circle}\")\n",
    "#\n",
    "tap_url = \"http://nxsa.esac.esa.int/tap-server/tap/sync?REQUEST=doQuery&LANG=ADQL&FORMAT=csv&\"\n",
    "# now combine two tables to include the observing mode\n",
    "# instrument_mode_oid for EPN is from 60 to 69, will only search for those\n",
    "#\n",
    "query = f\"QUERY=select top 100 t2.observation_id,t2.ra,t2.dec,t2.revolution,t2.duration,t3.mode_friendly_name\" +\\\n",
    "    \" from v_exposure as t1, v_public_observations as t2, v_instrument_mode as t3\" + \\\n",
    "    \" WHERE \" + \\\n",
    "    \"(t1.observation_oid = t2.observation_oid) and \" +\\\n",
    "    \"(t1.instrument_mode_oid BETWEEN 60 and 69) and \" +\\\n",
    "    \"(t1.instrument_mode_oid = t3.instrument_mode_oid) and \" +\\\n",
    "    f\"(1=intersects(observation_fov_scircle,{circle}))\"\n",
    "# this one works\n",
    "#query = f\"QUERY=select top 100 t2.observation_id,t2.ra,t2.dec,t2.revolution,t2.duration,t1.instrument_mode_oid\" +\\\n",
    "#    \" from v_exposure as t1, v_public_observations as t2\" + \\\n",
    "#    \" where t1.observation_oid = t2.observation_oid and (t1.instrument_mode_oid BETWEEN 60 and 69)\" +\\\n",
    "#    f\" and 1=intersects(observation_fov_scircle,{circle})\"\n",
    "\n",
    "#    \" where t1.observation_oid = t2.observation_oid and (t1.instrument_mode_oid >= 60 and t1.instrument_mode_oid <= 69)\" +\\\n",
    "#query = f\"QUERY=SELECT+top+10+ra,dec,observation_id,revolution,duration+FROM+{tap_cat}\" +\\\n",
    "#    f\"+WHERE+1=intersects(observation_fov_scircle,{circle})\"\n",
    "xreq = tap_url + query\n",
    "with requests.get(xreq) as r:\n",
    "    jx = r.content.decode()"
   ]
  }
 ],
 "metadata": {
  "kernelspec": {
   "display_name": "Python 3",
   "language": "python",
   "name": "python3"
  },
  "language_info": {
   "codemirror_mode": {
    "name": "ipython",
    "version": 3
   },
   "file_extension": ".py",
   "mimetype": "text/x-python",
   "name": "python",
   "nbconvert_exporter": "python",
   "pygments_lexer": "ipython3",
   "version": "3.7.1"
  }
 },
 "nbformat": 4,
 "nbformat_minor": 2
}
