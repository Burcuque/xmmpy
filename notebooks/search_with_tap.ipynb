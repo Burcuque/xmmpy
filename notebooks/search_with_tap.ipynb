{
 "cells": [
  {
   "cell_type": "markdown",
   "metadata": {},
   "source": [
    "## Finding XMM `OBSID` for a sky source\n",
    "\n",
    "Using the TAP interface"
   ]
  },
  {
   "cell_type": "code",
   "execution_count": 16,
   "metadata": {},
   "outputs": [],
   "source": [
    "from astropy import units as u\n",
    "from astropy.coordinates import SkyCoord\n",
    "\n",
    "from astroquery.simbad import Simbad\n",
    "from astroquery.utils.tap.core import TapPlus\n"
   ]
  },
  {
   "cell_type": "code",
   "execution_count": 48,
   "metadata": {},
   "outputs": [
    {
     "name": "stdout",
     "output_type": "stream",
     "text": [
      "Created TAP+ (v1.0.1) - Connection:\n",
      "\tHost: nxsa.esac.esa.int\n",
      "\tUse HTTPS: False\n",
      "\tPort: 80\n",
      "\tSSL Port: 443\n",
      "Retrieving tables...\n",
      "Parsing tables...\n",
      "Done.\n",
      "TAP Table name: public.public.v_public_observations\n",
      "Description: \n",
      "Num. columns: 29\n"
     ]
    }
   ],
   "source": [
    "nxsa = TapPlus(url=\"http://nxsa.esac.esa.int/tap-server/tap\")\n",
    "tables = nxsa.load_tables(only_names=False)\n",
    "for table in (tables):\n",
    "  #print(table.get_qualified_name())\n",
    "  if (\"public_observations\" in table.get_qualified_name()):\n",
    "  #if (\"all_observations\" in table.get_qualified_name()):\n",
    "        print (table)\n",
    "        break"
   ]
  },
  {
   "cell_type": "code",
   "execution_count": 49,
   "metadata": {},
   "outputs": [
    {
     "name": "stdout",
     "output_type": "stream",
     "text": [
      "bii,Galactic Latitude [degrees],None\n",
      "dec,Declination J2000 [degrees] ,None\n",
      "duration,Exposure on time,None\n",
      "end_utc,End date of the observation in UTC,None\n",
      "footprint_fov,,None\n",
      "heasarc_code,HEASARC Object Classification,None\n",
      "lii,Galactic Longitude [degrees],None\n",
      "moving_target,If the observation contains a moving target,None\n",
      "observation_equatorial_spoint,,None\n",
      "observation_fov_scircle,,None\n",
      "observation_galactic_spoint,,None\n",
      "observation_id,The XMM-Newton observation identification.,None\n",
      "observation_oid,Internal identifier for the observation,None\n",
      "odf_proc_date,,None\n",
      "odf_version,,None\n",
      "position_angle,Position Angle [degrees] ,None\n",
      "pps_proc_date,,None\n",
      "pps_version,,None\n",
      "proposal_id,,None\n",
      "proposal_oid,Internal proposal identifier,None\n",
      "proprietary_end_date,Propietary period expiry date,None\n",
      "ra,Right Ascension [degrees],None\n",
      "ra_nom,Right Ascension ,None\n",
      "revolution,The XMM-Newton revolution number.,None\n",
      "sas_version,,None\n",
      "start_utc,Start date of the observation in UTC,None\n",
      "stc_s,,None\n",
      "target,Target name,None\n",
      "with_science,Processed observation with science products,None\n"
     ]
    }
   ],
   "source": [
    "for col in table.columns:\n",
    "    print (f\"{col.name},{col.description},{col.datatype}\")"
   ]
  },
  {
   "cell_type": "code",
   "execution_count": 22,
   "metadata": {},
   "outputs": [],
   "source": [
    "def resolve_name(name,verbose=True):\n",
    "    t = Simbad.query_object(name)\n",
    "    if (len(t) < 1):\n",
    "        print (f\"Target name {name} not found in Simbad. Please with anither name.\")\n",
    "        return None\n",
    "    #\n",
    "    if (verbose):\n",
    "        print (t)\n",
    "    return SkyCoord(t['RA'][0],t['DEC'][0],unit=(u.hour,u.deg))"
   ]
  },
  {
   "cell_type": "code",
   "execution_count": 23,
   "metadata": {},
   "outputs": [
    {
     "name": "stdout",
     "output_type": "stream",
     "text": [
      "MAIN_ID        RA           DEC      ... COO_WAVELENGTH     COO_BIBCODE    \n",
      "            \"h:m:s\"       \"d:m:s\"    ...                                   \n",
      "-------- ------------- ------------- ... -------------- -------------------\n",
      "Mrk 1044 02 30 05.5224 -08 59 53.208 ...              O 2018yCat.1345....0G\n"
     ]
    }
   ],
   "source": [
    "# search target\n",
    "target = 'Mrk1044'\n",
    "c = resolve_name(target)\n",
    "#ra = \"12h10m32.5s\"\n",
    "#dec= \"+39d24m20.0s\"\n",
    "#c = SkyCoord(ra, dec, frame='icrs')"
   ]
  },
  {
   "cell_type": "code",
   "execution_count": 21,
   "metadata": {},
   "outputs": [
    {
     "data": {
      "text/plain": [
       "<SkyCoord (ICRS): (ra, dec) in deg\n",
       "    (37.52301, -8.99811333)>"
      ]
     },
     "execution_count": 21,
     "metadata": {},
     "output_type": "execute_result"
    }
   ],
   "source": [
    "c"
   ]
  },
  {
   "cell_type": "code",
   "execution_count": 78,
   "metadata": {},
   "outputs": [
    {
     "name": "stdout",
     "output_type": "stream",
     "text": [
      "SELECT t2.observation_id,t2.ra,t2.dec,t2.revolution,t2.duration,t3.mode_friendly_name,t1.filter,t2.with_science FROM v_exposure AS t1, v_public_observations AS t2, v_instrument_mode AS t3 WHERE (1=INTERSECTS(t2.observation_fov_scircle,circle('ICRS',37.5230,-8.9981,0.0017))) AND (t1.observation_oid = t2.observation_oid) AND (t1.instrument_mode_oid = t3.instrument_mode_oid)\n"
     ]
    }
   ],
   "source": [
    "#\n",
    "# construct the query\n",
    "#\n",
    "radius = 6.0/3600.0 # \n",
    "# table to use\n",
    "tap_cat = \"v_public_observations\"\n",
    "#\n",
    "circle = f\"circle('ICRS',{c.ra.value:.4f},{c.dec.value:.4f},{radius:.4f})\"\n",
    "#dist = f\"DISTANCE(POINT('ICRS',t2.ra,t2.dec),POINT('ICRS',{c.ra.value:.4f},{c.dec.value:.4f}))\"\n",
    "# \n",
    "# now combine two tables to include the observing mode\n",
    "# instrument_mode_oid for EPN is from 60 to 69, will only search for those\n",
    "#\n",
    "my_query = f\"SELECT t2.observation_id,t2.ra,t2.dec,t2.revolution,t2.duration,t3.mode_friendly_name,t1.filter,t2.with_science\" + \\\n",
    "\" FROM v_exposure AS t1, v_public_observations AS t2, v_instrument_mode AS t3\" + \\\n",
    "\" WHERE \" + \\\n",
    "f\"(1=INTERSECTS(t2.observation_fov_scircle,{circle})) AND \" + \\\n",
    "\"(t1.observation_oid = t2.observation_oid) AND \" + \\\n",
    "\"(t1.instrument_mode_oid = t3.instrument_mode_oid)\"\n",
    "#\"(t1.instrument_mode_oid BETWEEN 60 and 69) and \" + \\\n",
    "print (my_query)"
   ]
  },
  {
   "cell_type": "code",
   "execution_count": 79,
   "metadata": {},
   "outputs": [],
   "source": [
    "#\n",
    "# run the query\n",
    "#\n",
    "job = nxsa.launch_job(my_query)\n"
   ]
  },
  {
   "cell_type": "code",
   "execution_count": 72,
   "metadata": {},
   "outputs": [
    {
     "data": {
      "text/html": [
       "<i>Table masked=True length=194</i>\n",
       "<table id=\"table4716638160\" class=\"table-striped table-bordered table-condensed\">\n",
       "<thead><tr><th>observation_id</th><th>ra</th><th>dec</th><th>revolution</th><th>duration</th><th>mode_friendly_name</th><th>filter</th><th>with_science</th></tr></thead>\n",
       "<thead><tr><th></th><th>deg</th><th>deg</th><th></th><th></th><th></th><th></th><th></th></tr></thead>\n",
       "<thead><tr><th>object</th><th>float64</th><th>float64</th><th>int32</th><th>int64</th><th>object</th><th>object</th><th>bool</th></tr></thead>\n",
       "<tr><td>0112600301</td><td>37.520835</td><td>-8.998055</td><td>480</td><td>8375</td><td>Small Window</td><td>MEDIUM</td><td>True</td></tr>\n",
       "<tr><td>0112600301</td><td>37.520835</td><td>-8.998055</td><td>480</td><td>8375</td><td>Spectroscopy HER + SES</td><td>7</td><td>True</td></tr>\n",
       "<tr><td>0112600301</td><td>37.520835</td><td>-8.998055</td><td>480</td><td>8375</td><td>Image</td><td>V</td><td>True</td></tr>\n",
       "<tr><td>0112600301</td><td>37.520835</td><td>-8.998055</td><td>480</td><td>8375</td><td>Image</td><td>V</td><td>True</td></tr>\n",
       "<tr><td>0112600301</td><td>37.520835</td><td>-8.998055</td><td>480</td><td>8375</td><td>Small Window</td><td>MEDIUM</td><td>True</td></tr>\n",
       "<tr><td>0112600301</td><td>37.520835</td><td>-8.998055</td><td>480</td><td>8375</td><td>Image</td><td>V</td><td>True</td></tr>\n",
       "<tr><td>0112600301</td><td>37.520835</td><td>-8.998055</td><td>480</td><td>8375</td><td>Image</td><td>V</td><td>True</td></tr>\n",
       "<tr><td>0112600301</td><td>37.520835</td><td>-8.998055</td><td>480</td><td>8375</td><td>Small Window</td><td>MEDIUM</td><td>True</td></tr>\n",
       "<tr><td>0112600301</td><td>37.520835</td><td>-8.998055</td><td>480</td><td>8375</td><td>Image</td><td>V</td><td>True</td></tr>\n",
       "<tr><td>...</td><td>...</td><td>...</td><td>...</td><td>...</td><td>...</td><td>...</td><td>...</td></tr>\n",
       "<tr><td>0695290201</td><td>37.52292</td><td>-8.998055</td><td>2406</td><td>4194</td><td>Diagnostic</td><td></td><td>False</td></tr>\n",
       "<tr><td>0695290201</td><td>37.52292</td><td>-8.998055</td><td>2406</td><td>4194</td><td>Diagnostic</td><td></td><td>False</td></tr>\n",
       "<tr><td>0695290201</td><td>37.52292</td><td>-8.998055</td><td>2406</td><td>4194</td><td>Diagnostic</td><td></td><td>False</td></tr>\n",
       "<tr><td>0695290201</td><td>37.52292</td><td>-8.998055</td><td>2406</td><td>4194</td><td>Diagnostic</td><td></td><td>False</td></tr>\n",
       "<tr><td>0695290201</td><td>37.52292</td><td>-8.998055</td><td>2406</td><td>4194</td><td>Diagnostic</td><td></td><td>False</td></tr>\n",
       "<tr><td>0695290201</td><td>37.52292</td><td>-8.998055</td><td>2406</td><td>4194</td><td>Diagnostic</td><td></td><td>False</td></tr>\n",
       "<tr><td>0695290201</td><td>37.52292</td><td>-8.998055</td><td>2406</td><td>4194</td><td>Diagnostic</td><td></td><td>False</td></tr>\n",
       "<tr><td>0695290201</td><td>37.52292</td><td>-8.998055</td><td>2406</td><td>4194</td><td>Diagnostic</td><td></td><td>False</td></tr>\n",
       "<tr><td>0695290201</td><td>37.52292</td><td>-8.998055</td><td>2406</td><td>4194</td><td>Diagnostic</td><td></td><td>False</td></tr>\n",
       "<tr><td>0695290201</td><td>37.52292</td><td>-8.998055</td><td>2406</td><td>4194</td><td>Offset</td><td></td><td>False</td></tr>\n",
       "</table>"
      ],
      "text/plain": [
       "<Table masked=True length=194>\n",
       "observation_id     ra       dec    ... filter with_science\n",
       "                  deg       deg    ...                    \n",
       "    object      float64   float64  ... object     bool    \n",
       "-------------- --------- --------- ... ------ ------------\n",
       "    0112600301 37.520835 -8.998055 ... MEDIUM         True\n",
       "    0112600301 37.520835 -8.998055 ...      7         True\n",
       "    0112600301 37.520835 -8.998055 ...      V         True\n",
       "    0112600301 37.520835 -8.998055 ...      V         True\n",
       "    0112600301 37.520835 -8.998055 ... MEDIUM         True\n",
       "    0112600301 37.520835 -8.998055 ...      V         True\n",
       "    0112600301 37.520835 -8.998055 ...      V         True\n",
       "    0112600301 37.520835 -8.998055 ... MEDIUM         True\n",
       "    0112600301 37.520835 -8.998055 ...      V         True\n",
       "           ...       ...       ... ...    ...          ...\n",
       "    0695290201  37.52292 -8.998055 ...               False\n",
       "    0695290201  37.52292 -8.998055 ...               False\n",
       "    0695290201  37.52292 -8.998055 ...               False\n",
       "    0695290201  37.52292 -8.998055 ...               False\n",
       "    0695290201  37.52292 -8.998055 ...               False\n",
       "    0695290201  37.52292 -8.998055 ...               False\n",
       "    0695290201  37.52292 -8.998055 ...               False\n",
       "    0695290201  37.52292 -8.998055 ...               False\n",
       "    0695290201  37.52292 -8.998055 ...               False\n",
       "    0695290201  37.52292 -8.998055 ...               False"
      ]
     },
     "execution_count": 72,
     "metadata": {},
     "output_type": "execute_result"
    }
   ],
   "source": [
    "job.results"
   ]
  },
  {
   "cell_type": "code",
   "execution_count": null,
   "metadata": {},
   "outputs": [],
   "source": []
  }
 ],
 "metadata": {
  "kernelspec": {
   "display_name": "Python 3",
   "language": "python",
   "name": "python3"
  },
  "language_info": {
   "codemirror_mode": {
    "name": "ipython",
    "version": 3
   },
   "file_extension": ".py",
   "mimetype": "text/x-python",
   "name": "python",
   "nbconvert_exporter": "python",
   "pygments_lexer": "ipython3",
   "version": "3.7.1"
  }
 },
 "nbformat": 4,
 "nbformat_minor": 2
}
